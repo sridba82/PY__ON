{
 "cells": [
  {
   "cell_type": "code",
   "execution_count": 2,
   "id": "9fb5c1b4-7ac8-4c6f-bf21-8ea20c61895e",
   "metadata": {},
   "outputs": [
    {
     "name": "stdin",
     "output_type": "stream",
     "text": [
      "Enter limit of Natural No's to calculate sum of it:  5\n"
     ]
    },
    {
     "name": "stdout",
     "output_type": "stream",
     "text": [
      "Sum of first 5 natural numbers is: 15\n"
     ]
    }
   ],
   "source": [
    "# Write a Python program to find the sum of the first N natural numbers using a for loop.\n",
    "limit = eval(input('Enter limit of Natural No\\'s to calculate sum of it: '))\n",
    "sum=0\n",
    "for i in range(1, limit+1):\n",
    "    sum=sum+i\n",
    "print(f'Sum of first {limit} natural numbers is: {sum}') "
   ]
  },
  {
   "cell_type": "code",
   "execution_count": 3,
   "id": "0336054b-22d5-4ff8-b02e-c3ca06b01e81",
   "metadata": {},
   "outputs": [
    {
     "name": "stdin",
     "output_type": "stream",
     "text": [
      "Enter any number to calculate factorial:  5\n"
     ]
    },
    {
     "name": "stdout",
     "output_type": "stream",
     "text": [
      "Factorial of 5 is: 120\n"
     ]
    }
   ],
   "source": [
    "# Write a Python program to calculate the factorial of a given number using a for loop.\n",
    "fact_num = eval(input('Enter any number to calculate factorial: '))\n",
    "fact=1\n",
    "for i in range(1, fact_num+1):\n",
    "    fact=fact*i\n",
    "print(f'Factorial of {fact_num} is: {fact}')"
   ]
  },
  {
   "cell_type": "code",
   "execution_count": 4,
   "id": "7dec31b0-0b1a-43ab-b74c-cb7bcdc7ade5",
   "metadata": {},
   "outputs": [
    {
     "name": "stdin",
     "output_type": "stream",
     "text": [
      "Enter any number to create Multiplication table:  7\n"
     ]
    },
    {
     "name": "stdout",
     "output_type": "stream",
     "text": [
      "Multiplication table for 7 is:\n",
      "7 x 1 = 7\n",
      "7 x 2 = 14\n",
      "7 x 3 = 21\n",
      "7 x 4 = 28\n",
      "7 x 5 = 35\n",
      "7 x 6 = 42\n",
      "7 x 7 = 49\n",
      "7 x 8 = 56\n",
      "7 x 9 = 63\n",
      "7 x 10 = 70\n"
     ]
    }
   ],
   "source": [
    "# Write a Python program to print the multiplication table of a given number up to 10 using a for loop. \n",
    "table = eval(input('Enter any number to create Multiplication table: '))\n",
    "print(f'Multiplication table for {table} is:')\n",
    "for i in range(1, 11):\n",
    "    print(f'{table} x {i} = {table*i}')"
   ]
  },
  {
   "cell_type": "code",
   "execution_count": 5,
   "id": "87595491-4120-455c-a381-5d9bbef9fbed",
   "metadata": {},
   "outputs": [
    {
     "name": "stdin",
     "output_type": "stream",
     "text": [
      "Enter any number to print series numbers in reverse:  10\n"
     ]
    },
    {
     "name": "stdout",
     "output_type": "stream",
     "text": [
      "10\n",
      "9\n",
      "8\n",
      "7\n",
      "6\n",
      "5\n",
      "4\n",
      "3\n",
      "2\n",
      "1\n"
     ]
    }
   ],
   "source": [
    "# Write a Python program to print numbers from N down to 1 using a for loop.\n",
    "no = eval(input('Enter any number to print series numbers in reverse: '))\n",
    "for i in range(0, no):\n",
    "    print(f'{no-i}')"
   ]
  },
  {
   "cell_type": "code",
   "execution_count": 6,
   "id": "83b4cad9-81df-4d40-a5f3-b4990f247ad2",
   "metadata": {},
   "outputs": [
    {
     "name": "stdin",
     "output_type": "stream",
     "text": [
      "Enter any number to calculate sum of event numbers:  8\n"
     ]
    },
    {
     "name": "stdout",
     "output_type": "stream",
     "text": [
      "sum of all even numbers between 1 and 8 is: 20\n"
     ]
    }
   ],
   "source": [
    "# Write a Python program to find the sum of all even numbers between 1 and N using a for loop.\n",
    "nat_num = eval(input('Enter any number to calculate sum of event numbers: '))\n",
    "e_sum=0\n",
    "for i in range(1, nat_num+1):\n",
    "    if i%2==0:\n",
    "        e_sum=e_sum+i\n",
    "print(f'sum of all even numbers between 1 and {nat_num} is: {e_sum}')"
   ]
  },
  {
   "cell_type": "code",
   "execution_count": null,
   "id": "0a9d78c4-cbd1-4560-99de-e3e5f3da3c4a",
   "metadata": {},
   "outputs": [],
   "source": []
  }
 ],
 "metadata": {
  "kernelspec": {
   "display_name": "Python 3 (ipykernel)",
   "language": "python",
   "name": "python3"
  },
  "language_info": {
   "codemirror_mode": {
    "name": "ipython",
    "version": 3
   },
   "file_extension": ".py",
   "mimetype": "text/x-python",
   "name": "python",
   "nbconvert_exporter": "python",
   "pygments_lexer": "ipython3",
   "version": "3.11.7"
  }
 },
 "nbformat": 4,
 "nbformat_minor": 5
}
