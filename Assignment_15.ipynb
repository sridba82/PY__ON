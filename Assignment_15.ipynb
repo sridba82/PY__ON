{
 "cells": [
  {
   "cell_type": "code",
   "execution_count": 1,
   "id": "db23a218-d317-4bf3-b647-cef59869998a",
   "metadata": {},
   "outputs": [
    {
     "name": "stdout",
     "output_type": "stream",
     "text": [
      "['Mumbai', 'Chennai']\n"
     ]
    }
   ],
   "source": [
    "# Q2)l1=['Hyd','Mumbai','Chennai','blr']\n",
    "#  ans=['Mumbai','Chennai']  \n",
    "#  we want lements which are len of element >4\n",
    "l1=['Hyd', 'Mumbai', 'Chennai', 'blr']\n",
    "greater_4=[]\n",
    "for i in range(len(l1)):\n",
    "    if len(l1[i]) > 4:\n",
    "        greater_4.append(l1[i])\n",
    "print(greater_4)"
   ]
  },
  {
   "cell_type": "code",
   "execution_count": 2,
   "id": "79d07498-9e8c-4462-9bce-13b04805b151",
   "metadata": {},
   "outputs": [
    {
     "name": "stdout",
     "output_type": "stream",
     "text": [
      "['Mum#bai', 'Chen#nai']\n"
     ]
    }
   ],
   "source": [
    "# Q3)l1=['Hyd','Mum#bai','Chen#nai','blr']\n",
    "#  ans=['Mum#bai'',Chen#nai']  \n",
    "#  we want lements which are having '#'\n",
    "l1=['Hyd','Mum#bai','Chen#nai','blr']\n",
    "l1_hash=[]\n",
    "for i in range(len(l1)):\n",
    "    if '#' in l1[i]:\n",
    "        l1_hash.append(l1[i])\n",
    "print(l1_hash)"
   ]
  },
  {
   "cell_type": "code",
   "execution_count": 3,
   "id": "d30e5c61-b39c-435f-98c9-c24b56fb7f2e",
   "metadata": {},
   "outputs": [
    {
     "name": "stdout",
     "output_type": "stream",
     "text": [
      "['Hyd', 'Mumbai', 'Chennai', 'Blr']\n"
     ]
    }
   ],
   "source": [
    "# Q4)l1=['hyd','mumbai','chennai','blr']\n",
    "#  ans= ['Hyd','Mumbai','Chennai','Blr']\n",
    "#  we want lements which are len of element >4\n",
    "l2=['hyd','mumbai','chennai','blr']\n",
    "for i in range(len(l2)):\n",
    "    l2[i]=l2[i].capitalize()\n",
    "print(l2)"
   ]
  },
  {
   "cell_type": "code",
   "execution_count": 4,
   "id": "abf5559a-f312-444a-8fec-cd19dcdade3f",
   "metadata": {},
   "outputs": [
    {
     "name": "stdout",
     "output_type": "stream",
     "text": [
      "['Hyd', 'Mumbai']\n",
      "['Hyd', 'Mumbai']\n"
     ]
    }
   ],
   "source": [
    "# Q5)l1=['Hyd','Mumbai','chennai','blr']\n",
    "#  ans= ['Hyd','Mumbai']\n",
    "#  we want lements which are having first letter capital\n",
    "\n",
    "l3a=['Hyd','Mumbai','chennai','blr']   # For method 1\n",
    "l3b=['Hyd','Mumbai','chennai','blr']   # For method 2\n",
    "\n",
    "## Method 1: copying matching elements into empty list and print copied elements from empty list\n",
    "l3a_list=[]\n",
    "for i in range(len(l3a)):\n",
    "    if l3a[i]==l3a[i].capitalize():\n",
    "        l3a_list.append(l3a[i])\n",
    "        \n",
    "## Method 2: copying non-match elements into empty list and remove non-match elements from the main list and print original list.\n",
    "l3b_list=[]\n",
    "for j in range(len(l3b)):\n",
    "    if l3b[j]!=l3b[j].capitalize():\n",
    "        l3b_list.append(l3b[j])\n",
    "for k in range(len(l3b_list)):\n",
    "    l3b.remove(l3b_list[k])\n",
    "        \n",
    "print(l3a_list)\n",
    "print(l3b)"
   ]
  },
  {
   "cell_type": "code",
   "execution_count": 5,
   "id": "22b6d0a6-47ef-4050-9b8c-f5f61758c8fe",
   "metadata": {},
   "outputs": [
    {
     "name": "stdout",
     "output_type": "stream",
     "text": [
      "['Mum#bai', 'Chen#nai']\n",
      "['Hyd', 'blr']\n"
     ]
    }
   ],
   "source": [
    "# Q6)l1=['Hyd','Mum#bai','Chen#nai','blr']\n",
    "#  ans_#=['Mum#bai'',Chen#nai']  \n",
    "#  ans_without_#=['Hyd'','blr']\n",
    "#  we want lements which are having '#'\n",
    "l4=['Hyd','Mum#bai','Chen#nai','blr']\n",
    "ans_hash=[]\n",
    "ans_without_hash=[]\n",
    "for i in range(len(l4)):\n",
    "    if '#' in l4[i]:\n",
    "        ans_hash.append(l4[i])\n",
    "    else:\n",
    "        ans_without_hash.append(l4[i])\n",
    "print(ans_hash)\n",
    "print(ans_without_hash)"
   ]
  },
  {
   "cell_type": "code",
   "execution_count": 6,
   "id": "06249612-3677-4e8e-9126-eaeedcb4a1f6",
   "metadata": {},
   "outputs": [
    {
     "name": "stdout",
     "output_type": "stream",
     "text": [
      "Random No. List:  [83, 37, 187, 73, 126]\n",
      "Even No. List:  [126]\n",
      "Odd No. List:  [83, 37, 187, 73]\n"
     ]
    }
   ],
   "source": [
    "# Q7) ask the user get 5 numbers randomly\n",
    "#     even_list and odd_list\n",
    "#     even numbers should append at even_list\n",
    "#     odd number should append at odd_list\n",
    "import random\n",
    "num_list=[]\n",
    "e_list=[]\n",
    "o_list=[]\n",
    "suffix=''\n",
    "for i in range(0, 5):\n",
    "#    if i==0:\n",
    "#        suffix='st'\n",
    "#    elif i==1:\n",
    "#        suffix='nd'\n",
    "#    elif i==2:\n",
    "#        suffix='rd'\n",
    "#    else:\n",
    "#        suffix='th'\n",
    "    # num_list.append(eval(input(f'Enter {i+1}{suffix} No.')))\n",
    "    num_list.append(random.randint(10, 200))\n",
    "for j in range(len(num_list)):\n",
    "    if num_list[j]%2==0:\n",
    "        e_list.append(num_list[j])\n",
    "    else:\n",
    "         o_list.append(num_list[j])\n",
    "print('Random No. List: ',num_list)\n",
    "print('Even No. List: ',e_list)\n",
    "print('Odd No. List: ',o_list)"
   ]
  },
  {
   "cell_type": "code",
   "execution_count": 7,
   "id": "79b14759-59c7-4711-850a-56de5f49bbee",
   "metadata": {},
   "outputs": [
    {
     "name": "stdout",
     "output_type": "stream",
     "text": [
      "Maximum length of the word is: hello\n",
      "Sum of all indexes of maximum word is: 10\n"
     ]
    }
   ],
   "source": [
    "# Q8) str='hello hai how are you'\n",
    "# Maximum len of word using split and max method\n",
    "# sum of all the indexes of the maximum len of word using append\n",
    "str='hello hai how are you'\n",
    "str_split=str_sp=str.split(' ')\n",
    "split_len=len(str_split)\n",
    "idx_val=[]\n",
    "idx_sum=0\n",
    "for i in range(split_len):\n",
    "    idx_val.append(len(str_split[i]))\n",
    "for j in range(split_len):\n",
    "    if max(idx_val) == len(str_split[j]):    \n",
    "        for k in range(max(idx_val)):\n",
    "            idx_sum+=k\n",
    "        print(f'Maximum length of the word is: {str_split[j]}')\n",
    "        print(f'Sum of all indexes of maximum word is: {idx_sum}')"
   ]
  },
  {
   "cell_type": "code",
   "execution_count": 8,
   "id": "5bd2e65e-9f8b-47d0-8052-80f5f328e06b",
   "metadata": {},
   "outputs": [
    {
     "name": "stdout",
     "output_type": "stream",
     "text": [
      "First Names:  ['virat', 'Rohit', 'KL']\n",
      "Second Names:  ['kohli', 'sharma', 'Rahul']\n",
      "Company Names:  ['rcb', 'mi', 'lucknow']\n"
     ]
    }
   ],
   "source": [
    "# Q9) str1='virat.kohli@rcb.com, Rohit.sharma@mi.co, KL.Rahul@lucknow.com'\n",
    "# Firstname=[]  second name=[]  cname =[]\n",
    "# append first name should be in first name list\n",
    "#        second name shoul be in second name list\n",
    "#        thirs name will be in thirs name list\n",
    "str1='virat.kohli@rcb.com, Rohit.sharma@mi.co, KL.Rahul@lucknow.com'\n",
    "cricket=str1.split(',')\n",
    "firstname, second_name, cname=[],[],[]\n",
    "for i in range(len(cricket)):\n",
    "    firstname.append((cricket[i].strip())[0:(cricket[i].strip()).index('.',1)])\n",
    "    second_name.append((cricket[i].strip())[(cricket[i].strip()).index('.',1)+1:(cricket[i].strip()).index('@',1)])\n",
    "    cname.append((cricket[i].strip())[(cricket[i].strip()).index('@',1)+1:(cricket[i].strip()).index('.',(cricket[i].strip()).index('.',1)+1)])\n",
    "print('First Names: ',firstname)\n",
    "print('Second Names: ',second_name)\n",
    "print('Company Names: ',cname)"
   ]
  },
  {
   "cell_type": "code",
   "execution_count": 9,
   "id": "72b90abf-fa5c-40e2-8e5a-513e94afc56d",
   "metadata": {},
   "outputs": [
    {
     "name": "stdout",
     "output_type": "stream",
     "text": [
      "What is capital of India\n"
     ]
    },
    {
     "name": "stdin",
     "output_type": "stream",
     "text": [
      " Delhi\n"
     ]
    },
    {
     "name": "stdout",
     "output_type": "stream",
     "text": [
      "Who is PM of india\n"
     ]
    },
    {
     "name": "stdin",
     "output_type": "stream",
     "text": [
      " Modi\n"
     ]
    },
    {
     "name": "stdout",
     "output_type": "stream",
     "text": [
      "Who is ICT ODI captian\n"
     ]
    },
    {
     "name": "stdin",
     "output_type": "stream",
     "text": [
      " Rohit\n"
     ]
    },
    {
     "name": "stdout",
     "output_type": "stream",
     "text": [
      "Total Marks: 3\n"
     ]
    }
   ],
   "source": [
    "# Q10 You have two lists\n",
    "qns, ans =['What is capital of India', 'Who is PM of india', 'Who is ICT ODI captian'], ['Delhi','Modi','Rohit']\n",
    "marks=0\n",
    "for i in range(len(qns)):\n",
    "    print(qns[i])\n",
    "    in_ans=input()\n",
    "    if ans[i]==in_ans:\n",
    "        marks+=1\n",
    "print('Total Marks:',marks)"
   ]
  },
  {
   "cell_type": "code",
   "execution_count": null,
   "id": "385e53af-70b9-4298-826b-8b3209533fe1",
   "metadata": {},
   "outputs": [],
   "source": []
  }
 ],
 "metadata": {
  "kernelspec": {
   "display_name": "Python 3 (ipykernel)",
   "language": "python",
   "name": "python3"
  },
  "language_info": {
   "codemirror_mode": {
    "name": "ipython",
    "version": 3
   },
   "file_extension": ".py",
   "mimetype": "text/x-python",
   "name": "python",
   "nbconvert_exporter": "python",
   "pygments_lexer": "ipython3",
   "version": "3.11.7"
  }
 },
 "nbformat": 4,
 "nbformat_minor": 5
}
