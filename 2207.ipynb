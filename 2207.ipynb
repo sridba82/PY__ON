{
 "cells": [
  {
   "cell_type": "code",
   "execution_count": 3,
   "id": "c304778b-3cd2-465d-9614-7b358d4e1fff",
   "metadata": {},
   "outputs": [
    {
     "name": "stdin",
     "output_type": "stream",
     "text": [
      "What is the capital of Indis delhi\n",
      "who is PM of india Modi\n",
      "Who is ICT ODI captain rohit\n"
     ]
    },
    {
     "name": "stdout",
     "output_type": "stream",
     "text": [
      "3\n"
     ]
    }
   ],
   "source": [
    "qns_list=['What is the capital of Indis', 'who is PM of india', 'Who is ICT ODI captain']\n",
    "ans_list=['Delhi', 'Modi', 'Rohit']\n",
    "marks=0\n",
    "for i in range(len(qns_list)):\n",
    "    ans=input(qns_list[i])\n",
    "    if ans.lower()==ans_list[i].lower():\n",
    "       marks=marks+1\n",
    "print(marks)\n"
   ]
  },
  {
   "cell_type": "code",
   "execution_count": null,
   "id": "694e05f9-caa7-4457-b94e-991dc51897c3",
   "metadata": {},
   "outputs": [],
   "source": []
  },
  {
   "cell_type": "code",
   "execution_count": 5,
   "id": "01331ce5-f0a5-4906-8cd4-400d45f10066",
   "metadata": {},
   "outputs": [
    {
     "data": {
      "text/plain": [
       "['__add__',\n",
       " '__class__',\n",
       " '__class_getitem__',\n",
       " '__contains__',\n",
       " '__delattr__',\n",
       " '__delitem__',\n",
       " '__dir__',\n",
       " '__doc__',\n",
       " '__eq__',\n",
       " '__format__',\n",
       " '__ge__',\n",
       " '__getattribute__',\n",
       " '__getitem__',\n",
       " '__getstate__',\n",
       " '__gt__',\n",
       " '__hash__',\n",
       " '__iadd__',\n",
       " '__imul__',\n",
       " '__init__',\n",
       " '__init_subclass__',\n",
       " '__iter__',\n",
       " '__le__',\n",
       " '__len__',\n",
       " '__lt__',\n",
       " '__mul__',\n",
       " '__ne__',\n",
       " '__new__',\n",
       " '__reduce__',\n",
       " '__reduce_ex__',\n",
       " '__repr__',\n",
       " '__reversed__',\n",
       " '__rmul__',\n",
       " '__setattr__',\n",
       " '__setitem__',\n",
       " '__sizeof__',\n",
       " '__str__',\n",
       " '__subclasshook__',\n",
       " 'append',\n",
       " 'clear',\n",
       " 'copy',\n",
       " 'count',\n",
       " 'extend',\n",
       " 'index',\n",
       " 'insert',\n",
       " 'pop',\n",
       " 'remove',\n",
       " 'reverse',\n",
       " 'sort']"
      ]
     },
     "execution_count": 5,
     "metadata": {},
     "output_type": "execute_result"
    }
   ],
   "source": [
    "dir([])"
   ]
  },
  {
   "cell_type": "code",
   "execution_count": null,
   "id": "739e0ee6-2c73-4d80-89af-c803fd700feb",
   "metadata": {},
   "outputs": [],
   "source": [
    "'clear',\n",
    " 'copy',\n",
    " 'count',\n",
    " 'extend',\n",
    " 'index',\n",
    " 'insert',\n",
    " 'pop',\n",
    " 'remove',\n",
    " 'reverse',\n",
    " 'sort']"
   ]
  },
  {
   "cell_type": "code",
   "execution_count": 8,
   "id": "349fb0f5-d25b-462b-9592-40a1c21bacfe",
   "metadata": {},
   "outputs": [
    {
     "name": "stdout",
     "output_type": "stream",
     "text": [
      "None\n"
     ]
    }
   ],
   "source": [
    "ans_o=['Delhi', 'Modi', 'Rohit']\n",
    "ans_op=ans_o.clear()\n",
    "print(ans_op)"
   ]
  },
  {
   "cell_type": "code",
   "execution_count": 14,
   "id": "391be5d8-8a55-410d-be9e-04f1e02f0138",
   "metadata": {},
   "outputs": [
    {
     "name": "stdout",
     "output_type": "stream",
     "text": [
      "0\n"
     ]
    }
   ],
   "source": [
    "ans_o=['Delhi', 'Modi', 'Rohit']\n",
    "ans_op=ans_o.count(' ')\n",
    "print(ans_op)"
   ]
  },
  {
   "cell_type": "code",
   "execution_count": 15,
   "id": "e769c1fb-2c8d-4bf6-8668-9af0d56176cd",
   "metadata": {},
   "outputs": [
    {
     "name": "stdout",
     "output_type": "stream",
     "text": [
      "['Delhi', 'Modi', 'Rohit']\n"
     ]
    }
   ],
   "source": [
    "ans_o=['Delhi', 'Modi', 'Rohit']\n",
    "ans_op=ans_o.copy()\n",
    "print(ans_op)"
   ]
  },
  {
   "cell_type": "code",
   "execution_count": 19,
   "id": "90c1749a-e671-48e5-80bd-3596a45a18e4",
   "metadata": {},
   "outputs": [
    {
     "name": "stdout",
     "output_type": "stream",
     "text": [
      "None\n"
     ]
    }
   ],
   "source": [
    "num=5\n",
    "ans_o=['Delhi', 'Modi', 'Rohit']\n",
    "ans_op=ans_o.extend('M')\n",
    "print(ans_op)"
   ]
  },
  {
   "cell_type": "code",
   "execution_count": 21,
   "id": "44176469-601e-45d9-87f5-700e72a08f86",
   "metadata": {},
   "outputs": [
    {
     "name": "stdout",
     "output_type": "stream",
     "text": [
      "[1, 2, 3, 100, 200, 300] [1, 2, 3, 100, 200, 300]\n",
      "2214452281088 2214452348416\n"
     ]
    }
   ],
   "source": [
    "l1=[1, 2, 3, 100, 200, 300]\n",
    "l2=l1.copy()\n",
    "print(l1, l2)\n",
    "print(id(l1), id(l2)) # Memory locations different."
   ]
  },
  {
   "cell_type": "code",
   "execution_count": 22,
   "id": "493a0945-c9be-4967-b114-70eaa698b7b7",
   "metadata": {},
   "outputs": [
    {
     "name": "stdout",
     "output_type": "stream",
     "text": [
      "[] [1, 2, 3, 100, 200, 300]\n",
      "2214452281088 2214452348416\n"
     ]
    }
   ],
   "source": [
    "l1.clear()\n",
    "print(l1, l2)\n",
    "print(id(l1), id(l2))"
   ]
  },
  {
   "cell_type": "code",
   "execution_count": 24,
   "id": "2b9194c4-c205-417f-88ae-e7bf99f61436",
   "metadata": {},
   "outputs": [
    {
     "name": "stdout",
     "output_type": "stream",
     "text": [
      "[1, 2, 3, 4, ['A', 'B', 'C', 'D']]\n",
      "['A', 'B', 'C', 'D']\n",
      "[1, 2, 3, 4, 'A', 'B', 'C', 'D']\n"
     ]
    }
   ],
   "source": [
    "l1=[1,2,3,4]\n",
    "l2=['A', 'B', 'C', 'D']\n",
    "l3=l1 + l2\n",
    "l1.append(l2)\n",
    "print(l1)\n",
    "print(l2)\n",
    "print(l3)"
   ]
  },
  {
   "cell_type": "code",
   "execution_count": 27,
   "id": "7b036b75-e514-4133-8636-b291cf27f955",
   "metadata": {},
   "outputs": [
    {
     "name": "stdout",
     "output_type": "stream",
     "text": [
      "[1, 2, 3, 4]\n",
      "['A', 'B', 'C', 'D']\n",
      "[1, 2, 3, 4, 'A', 'B', 'C', 'D']\n",
      "['A', 'B', 'C', 'D']\n",
      "[1, 2, 3, 4, 'A', 'B', 'C', 'D']\n"
     ]
    }
   ],
   "source": [
    "l1=[1,2,3,4]\n",
    "l2=['A', 'B', 'C', 'D']\n",
    "l3=l1 + l2\n",
    "print(l1)\n",
    "print(l2)\n",
    "l1.extend(l2)\n",
    "print(l1)\n",
    "print(l2)\n",
    "print(l3)"
   ]
  },
  {
   "cell_type": "code",
   "execution_count": 28,
   "id": "3f8c7a8f-a9d3-4365-af16-0932e814b06f",
   "metadata": {},
   "outputs": [
    {
     "name": "stdout",
     "output_type": "stream",
     "text": [
      "[1, 2, 3, 4]\n",
      "['A', 'B', 'C', 'D']\n",
      "[1, 2, 3, 4]\n",
      "['A', 'B', 'C', 'D', 1, 2, 3, 4]\n",
      "[1, 2, 3, 4, 'A', 'B', 'C', 'D']\n"
     ]
    }
   ],
   "source": [
    "l1=[1,2,3,4]\n",
    "l2=['A', 'B', 'C', 'D']\n",
    "l3=l1 + l2\n",
    "print(l1)\n",
    "print(l2)\n",
    "l2.extend(l1)\n",
    "print(l1)\n",
    "print(l2)\n",
    "print(l3)"
   ]
  },
  {
   "cell_type": "code",
   "execution_count": 32,
   "id": "e7743a82-a428-47c5-83b8-d9ae4be26a27",
   "metadata": {},
   "outputs": [
    {
     "data": {
      "text/plain": [
       "[1, 2, 3, 4, 'a', 'p', 'p', 'l', 'e']"
      ]
     },
     "execution_count": 32,
     "metadata": {},
     "output_type": "execute_result"
    }
   ],
   "source": [
    "lx=[1,2,3,4]\n",
    "lx.extend('apple')\n",
    "lx"
   ]
  },
  {
   "cell_type": "code",
   "execution_count": 33,
   "id": "f3ab299d-b045-4008-a295-41c17475767d",
   "metadata": {},
   "outputs": [
    {
     "ename": "TypeError",
     "evalue": "list.extend() takes exactly one argument (2 given)",
     "output_type": "error",
     "traceback": [
      "\u001b[1;31m---------------------------------------------------------------------------\u001b[0m",
      "\u001b[1;31mTypeError\u001b[0m                                 Traceback (most recent call last)",
      "Cell \u001b[1;32mIn[33], line 2\u001b[0m\n\u001b[0;32m      1\u001b[0m lx\u001b[38;5;241m=\u001b[39m[\u001b[38;5;241m1\u001b[39m,\u001b[38;5;241m2\u001b[39m,\u001b[38;5;241m3\u001b[39m,\u001b[38;5;241m4\u001b[39m]\n\u001b[1;32m----> 2\u001b[0m lx\u001b[38;5;241m.\u001b[39mextend(\u001b[38;5;241m10\u001b[39m, \u001b[38;5;241m20\u001b[39m)\n\u001b[0;32m      3\u001b[0m lx\n",
      "\u001b[1;31mTypeError\u001b[0m: list.extend() takes exactly one argument (2 given)"
     ]
    }
   ],
   "source": [
    "lx=[1,2,3,4]\n",
    "lx.extend(10, 20)\n",
    "lx"
   ]
  },
  {
   "cell_type": "code",
   "execution_count": 34,
   "id": "51c23100-618a-40f1-b28f-114d0c069407",
   "metadata": {},
   "outputs": [
    {
     "data": {
      "text/plain": [
       "[1, 2, 3, 4, 10, 20]"
      ]
     },
     "execution_count": 34,
     "metadata": {},
     "output_type": "execute_result"
    }
   ],
   "source": [
    "lx=[1,2,3,4]\n",
    "lx.extend((10, 20))\n",
    "lx"
   ]
  },
  {
   "cell_type": "code",
   "execution_count": 35,
   "id": "9cff11a4-0025-4e16-bc45-1f87251680e8",
   "metadata": {},
   "outputs": [
    {
     "data": {
      "text/plain": [
       "[1, 2, 3, 4, 10, 20]"
      ]
     },
     "execution_count": 35,
     "metadata": {},
     "output_type": "execute_result"
    }
   ],
   "source": [
    "lx=[1,2,3,4]\n",
    "lx.extend([10, 20])\n",
    "lx"
   ]
  },
  {
   "cell_type": "code",
   "execution_count": 45,
   "id": "fdb22701-c220-4171-a94f-114d0578ecae",
   "metadata": {},
   "outputs": [
    {
     "data": {
      "text/plain": [
       "(4, 6)"
      ]
     },
     "execution_count": 45,
     "metadata": {},
     "output_type": "execute_result"
    }
   ],
   "source": [
    "ly=[1,2,3,4,'Apple', 3.3, 'Apple']\n",
    "i1=ly.index('Apple')\n",
    "i2=ly.index('Apple', i1+1)\n",
    "i1, i2"
   ]
  },
  {
   "cell_type": "code",
   "execution_count": 47,
   "id": "64208989-b603-44d6-a19e-235cf9263cf7",
   "metadata": {},
   "outputs": [
    {
     "ename": "ValueError",
     "evalue": "'Apple' is not in list",
     "output_type": "error",
     "traceback": [
      "\u001b[1;31m---------------------------------------------------------------------------\u001b[0m",
      "\u001b[1;31mValueError\u001b[0m                                Traceback (most recent call last)",
      "Cell \u001b[1;32mIn[47], line 3\u001b[0m\n\u001b[0;32m      1\u001b[0m ly\u001b[38;5;241m=\u001b[39m[\u001b[38;5;241m1\u001b[39m,\u001b[38;5;241m2\u001b[39m,\u001b[38;5;241m3\u001b[39m,\u001b[38;5;241m4\u001b[39m,\u001b[38;5;124m'\u001b[39m\u001b[38;5;124mApple\u001b[39m\u001b[38;5;124m'\u001b[39m, \u001b[38;5;241m3.3\u001b[39m]\n\u001b[0;32m      2\u001b[0m i1\u001b[38;5;241m=\u001b[39mly\u001b[38;5;241m.\u001b[39mindex(\u001b[38;5;124m'\u001b[39m\u001b[38;5;124mApple\u001b[39m\u001b[38;5;124m'\u001b[39m)\n\u001b[1;32m----> 3\u001b[0m i2\u001b[38;5;241m=\u001b[39mly\u001b[38;5;241m.\u001b[39mindex(\u001b[38;5;124m'\u001b[39m\u001b[38;5;124mApple\u001b[39m\u001b[38;5;124m'\u001b[39m, i1\u001b[38;5;241m+\u001b[39m\u001b[38;5;241m1\u001b[39m)\n\u001b[0;32m      4\u001b[0m i1, i2\n",
      "\u001b[1;31mValueError\u001b[0m: 'Apple' is not in list"
     ]
    }
   ],
   "source": [
    "ly=[1,2,3,4,'Apple', 3.3]\n",
    "i1=ly.index('Apple')\n",
    "i2=ly.index('Apple', i1+1)\n",
    "i1, i2"
   ]
  },
  {
   "cell_type": "code",
   "execution_count": null,
   "id": "6cf90068-a84e-4b8c-8054-65a4c3857371",
   "metadata": {},
   "outputs": [],
   "source": []
  }
 ],
 "metadata": {
  "kernelspec": {
   "display_name": "Python 3 (ipykernel)",
   "language": "python",
   "name": "python3"
  },
  "language_info": {
   "codemirror_mode": {
    "name": "ipython",
    "version": 3
   },
   "file_extension": ".py",
   "mimetype": "text/x-python",
   "name": "python",
   "nbconvert_exporter": "python",
   "pygments_lexer": "ipython3",
   "version": "3.11.7"
  }
 },
 "nbformat": 4,
 "nbformat_minor": 5
}
