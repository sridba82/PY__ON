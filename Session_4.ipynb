{
 "cells": [
  {
   "cell_type": "code",
   "execution_count": 6,
   "id": "3770b6d2-cc40-49a3-b24b-c2393b215fd3",
   "metadata": {},
   "outputs": [
    {
     "name": "stdout",
     "output_type": "stream",
     "text": [
      "The average of 100 and 200 is: 150.0\n"
     ]
    }
   ],
   "source": [
    "num1 = 100\n",
    "num2 = 200\n",
    "average = (num1+num2) / 2\n",
    "print(f'The average of {num1} and {num2} is: {average}')"
   ]
  },
  {
   "cell_type": "code",
   "execution_count": 7,
   "id": "5be25283-544d-4285-a4aa-3747a23fde42",
   "metadata": {},
   "outputs": [
    {
     "name": "stdout",
     "output_type": "stream",
     "text": [
      "The area of circle:5 and pi: 3.15 is: 78.75\n"
     ]
    }
   ],
   "source": [
    "cradius = 5\n",
    "pi = 3.15\n",
    "area = (cradius*cradius*pi)\n",
    "print(f'The area of circle:{cradius} and pi: {pi} is: {area}')"
   ]
  },
  {
   "cell_type": "code",
   "execution_count": 9,
   "id": "7a0ed498-fd9c-451b-a3b8-6f56e0a13990",
   "metadata": {},
   "outputs": [
    {
     "name": "stdout",
     "output_type": "stream",
     "text": [
      "The area of circle:5 and pi: 3.15 is: 78.75\n"
     ]
    }
   ],
   "source": [
    "cradius = 5\n",
    "pi = 3.15\n",
    "area = (cradius*cradius*pi)\n",
    "print('The area of circle:{} and pi: {} is: {}'. format(cradius, pi, area))"
   ]
  },
  {
   "cell_type": "code",
   "execution_count": 11,
   "id": "053cbbdb-8e0a-4edc-8426-586a9827a7c7",
   "metadata": {},
   "outputs": [
    {
     "name": "stdout",
     "output_type": "stream",
     "text": [
      "The area of Triangle:2 x: 3 is: 3.0\n"
     ]
    }
   ],
   "source": [
    "base = 2\n",
    "height = 3\n",
    "area = (base * height) / 2\n",
    "print(f'The area of Triangle:{base} x: {height} is: {area}')"
   ]
  },
  {
   "cell_type": "code",
   "execution_count": 12,
   "id": "ab4c4c39-d036-4dc8-a8a3-9ca20e054940",
   "metadata": {},
   "outputs": [
    {
     "name": "stdin",
     "output_type": "stream",
     "text": [
      " 100\n"
     ]
    },
    {
     "data": {
      "text/plain": [
       "'100'"
      ]
     },
     "execution_count": 12,
     "metadata": {},
     "output_type": "execute_result"
    }
   ],
   "source": [
    "input()"
   ]
  },
  {
   "cell_type": "code",
   "execution_count": 17,
   "id": "9e2a6cd6-2238-42c3-a5fd-7e1ce7d663a3",
   "metadata": {},
   "outputs": [
    {
     "name": "stdin",
     "output_type": "stream",
     "text": [
      "Enter 1st No. to add:  1\n",
      "Enter 2nd No. to add:  2\n"
     ]
    },
    {
     "name": "stdout",
     "output_type": "stream",
     "text": [
      "Addition 1 and 2 is: 3\n"
     ]
    }
   ],
   "source": [
    "num1 =int(input('Enter 1st No. to add: '))\n",
    "num2 = int(input('Enter 2nd No. to add: '))\n",
    "add = num1 + num2\n",
    "print(f'Addition {num1} and {num2} is: {add}')\n",
    "            "
   ]
  },
  {
   "cell_type": "code",
   "execution_count": 19,
   "id": "16d63370-4848-4940-9154-66805dfa6bb1",
   "metadata": {},
   "outputs": [
    {
     "name": "stdout",
     "output_type": "stream",
     "text": [
      "Addition 10 and 100 is: 110\n"
     ]
    }
   ],
   "source": [
    "num1 =int('10')\n",
    "num2 = int('100')\n",
    "add = num1 + num2\n",
    "print(f'Addition {num1} and {num2} is: {add}')"
   ]
  },
  {
   "cell_type": "code",
   "execution_count": 20,
   "id": "3566639a-d9ee-4a8a-8032-f119100366fe",
   "metadata": {},
   "outputs": [
    {
     "name": "stdout",
     "output_type": "stream",
     "text": [
      "Addition 1 and 2 is: 12\n"
     ]
    }
   ],
   "source": [
    "num1 ='1'\n",
    "num2 = '2'\n",
    "add = num1 + num2\n",
    "print(f'Addition {num1} and {num2} is: {add}')"
   ]
  },
  {
   "cell_type": "code",
   "execution_count": 21,
   "id": "0b74484e-cb18-4c68-bdba-f74cdfd200a7",
   "metadata": {},
   "outputs": [
    {
     "name": "stdin",
     "output_type": "stream",
     "text": [
      "Enter 1st No. to add:  10.5\n"
     ]
    },
    {
     "ename": "ValueError",
     "evalue": "invalid literal for int() with base 10: '10.5'",
     "output_type": "error",
     "traceback": [
      "\u001b[1;31m---------------------------------------------------------------------------\u001b[0m",
      "\u001b[1;31mValueError\u001b[0m                                Traceback (most recent call last)",
      "Cell \u001b[1;32mIn[21], line 1\u001b[0m\n\u001b[1;32m----> 1\u001b[0m num1 \u001b[38;5;241m=\u001b[39m\u001b[38;5;28mint\u001b[39m(\u001b[38;5;28minput\u001b[39m(\u001b[38;5;124m'\u001b[39m\u001b[38;5;124mEnter 1st No. to add: \u001b[39m\u001b[38;5;124m'\u001b[39m))\n\u001b[0;32m      2\u001b[0m num2 \u001b[38;5;241m=\u001b[39m \u001b[38;5;28mint\u001b[39m(\u001b[38;5;28minput\u001b[39m(\u001b[38;5;124m'\u001b[39m\u001b[38;5;124mEnter 2nd No. to add: \u001b[39m\u001b[38;5;124m'\u001b[39m))\n\u001b[0;32m      3\u001b[0m add \u001b[38;5;241m=\u001b[39m num1 \u001b[38;5;241m+\u001b[39m num2\n",
      "\u001b[1;31mValueError\u001b[0m: invalid literal for int() with base 10: '10.5'"
     ]
    }
   ],
   "source": [
    "num1 =int(input('Enter 1st No. to add: '))\n",
    "num2 = int(input('Enter 2nd No. to add: '))\n",
    "add = num1 + num2\n",
    "print(f'Addition {num1} and {num2} is: {add}')"
   ]
  },
  {
   "cell_type": "code",
   "execution_count": 22,
   "id": "92b8a596-dd67-45a8-986b-0054cbfb5cd5",
   "metadata": {},
   "outputs": [
    {
     "name": "stdin",
     "output_type": "stream",
     "text": [
      "Enter 1st No. to add:  10.5\n",
      "Enter 2nd No. to add:  10.5\n"
     ]
    },
    {
     "name": "stdout",
     "output_type": "stream",
     "text": [
      "Addition 10.5 and 10.5 is: 21.0\n"
     ]
    }
   ],
   "source": [
    "num1 =eval(input('Enter 1st No. to add: '))\n",
    "num2 = eval(input('Enter 2nd No. to add: '))\n",
    "add = num1 + num2\n",
    "print(f'Addition {num1} and {num2} is: {add}')"
   ]
  },
  {
   "cell_type": "code",
   "execution_count": 24,
   "id": "e008c846-43bc-463f-a6d0-bc8a3b7cb567",
   "metadata": {},
   "outputs": [
    {
     "name": "stdin",
     "output_type": "stream",
     "text": [
      "Enter 1st No. to add, sub, mul:  2\n",
      "Enter 2nd No. to add, sub, mul:  1\n"
     ]
    },
    {
     "name": "stdout",
     "output_type": "stream",
     "text": [
      "Addition of 2, 1 is: 3\n",
      "Subtraction of 2, 1 is: 1\n",
      "Multiplication of 2, 1 is: 2\n"
     ]
    }
   ],
   "source": [
    "num1 =eval(input('Enter 1st No. to add, sub, mul: '))\n",
    "num2 = eval(input('Enter 2nd No. to add, sub, mul: '))\n",
    "add = num1 + num2\n",
    "sub = num1 - num2\n",
    "mul = num1 * num2\n",
    "print(f'Addition of {num1}, {num2} is: {add}')\n",
    "print(f'Subtraction of {num1}, {num2} is: {sub}')\n",
    "print(f'Multiplication of {num1}, {num2} is: {mul}')"
   ]
  },
  {
   "cell_type": "code",
   "execution_count": 27,
   "id": "11d8f419-03e8-4ca6-a36a-45d6cd10b3a0",
   "metadata": {},
   "outputs": [
    {
     "name": "stdin",
     "output_type": "stream",
     "text": [
      "Enter radius to find area of circle:  6\n"
     ]
    },
    {
     "name": "stdout",
     "output_type": "stream",
     "text": [
      "Radius of circle 6 and area of circle is: 113.04\n"
     ]
    }
   ],
   "source": [
    "rad =eval(input('Enter radius to find area of circle: '))\n",
    "pi=3.14\n",
    "area = rad*rad*pi\n",
    "print(f'Radius of circle {rad} and area of circle is: {area}')"
   ]
  },
  {
   "cell_type": "code",
   "execution_count": 28,
   "id": "e1ac4f75-cb28-423b-a0b9-ac6849b0ef6c",
   "metadata": {},
   "outputs": [
    {
     "name": "stdin",
     "output_type": "stream",
     "text": [
      "Enter total bill amount ?:  100\n",
      "Enter tip on total bill in % ?:  10\n"
     ]
    },
    {
     "name": "stdout",
     "output_type": "stream",
     "text": [
      "Bill amount: 100, Tip amount: 10.0, total bill including tip: 110.0\n"
     ]
    }
   ],
   "source": [
    "bill =eval(input('Enter total bill amount ?: '))\n",
    "tip =eval(input('Enter tip on total bill in % ?: '))\n",
    "tbill = (bill*tip) / 100\n",
    "total = bill + tbill\n",
    "area = rad*rad*pi\n",
    "print(f'Bill amount: {bill}, Tip amount: {tbill}, total bill including tip: {total}')"
   ]
  },
  {
   "cell_type": "code",
   "execution_count": 29,
   "id": "0ff6cdcb-47ed-4ee8-854a-68de4b687df8",
   "metadata": {},
   "outputs": [
    {
     "name": "stdin",
     "output_type": "stream",
     "text": [
      "Enter dolers ?:  2\n",
      "Enter doller in rupees ?:  80.5\n"
     ]
    },
    {
     "name": "stdout",
     "output_type": "stream",
     "text": [
      "Total Dollers: 2, per doller rupees: 80.5, total amount: 161.0\n"
     ]
    }
   ],
   "source": [
    "dol =eval(input('Enter dolers ?: '))\n",
    "rup =eval(input('Enter doller in rupees ?: '))\n",
    "totrup = dol * rup\n",
    "print(f'Total Dollers: {dol}, per doller rupees: {rup}, total amount: {totrup}')"
   ]
  },
  {
   "cell_type": "code",
   "execution_count": null,
   "id": "8513bbd0-3829-445f-801e-fe835a73cdb1",
   "metadata": {},
   "outputs": [],
   "source": []
  }
 ],
 "metadata": {
  "kernelspec": {
   "display_name": "Python 3 (ipykernel)",
   "language": "python",
   "name": "python3"
  },
  "language_info": {
   "codemirror_mode": {
    "name": "ipython",
    "version": 3
   },
   "file_extension": ".py",
   "mimetype": "text/x-python",
   "name": "python",
   "nbconvert_exporter": "python",
   "pygments_lexer": "ipython3",
   "version": "3.11.7"
  }
 },
 "nbformat": 4,
 "nbformat_minor": 5
}
