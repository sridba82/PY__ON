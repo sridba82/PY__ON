{
 "cells": [
  {
   "cell_type": "markdown",
   "id": "b33c3f89-8f59-4d8c-a32d-42595d6d3965",
   "metadata": {},
   "source": [
    "**Index-Find**\n",
    "- Index says that it will give the index of any letter in a given string.\n",
    "- We already seen count: count will give how many letters are there:\n",
    "  - At what index you want to count.\n",
    "  - Between indexes also we can count the letters\n",
    "- Index meaning it will provide the index\n",
    "- Imagine that there same letters repeated.\n",
    "- How can we find the next Index."
   ]
  },
  {
   "cell_type": "code",
   "execution_count": null,
   "id": "ed1f3e5a-dccc-4ee2-bebc-9e723b97e3d8",
   "metadata": {},
   "outputs": [],
   "source": [
    "# hai   hai   hai\n",
    "# 012 3 456 7 8910\n",
    "str1 = 'hai hai hai'\n",
    "str1.index('a')"
   ]
  },
  {
   "cell_type": "code",
   "execution_count": null,
   "id": "b7e6196b-b33f-46f2-9086-3c0b4e973931",
   "metadata": {},
   "outputs": [],
   "source": [
    "# hai   hai   hai\n",
    "# 012 3 456 7 8910\n",
    "str1 = 'hai hai hai'\n",
    "str1.index('a', 3)"
   ]
  },
  {
   "cell_type": "code",
   "execution_count": null,
   "id": "278de38c-d6da-48fd-bd48-88c64789887c",
   "metadata": {},
   "outputs": [],
   "source": [
    "# hai   hai   hai\n",
    "# 012 3 456 7 8910\n",
    "str1 = 'hai hai hai'\n",
    "str1.index('a', 3, 7)"
   ]
  },
  {
   "cell_type": "code",
   "execution_count": null,
   "id": "72b25985-570a-43b9-81b5-0ac28750aef3",
   "metadata": {},
   "outputs": [],
   "source": [
    "# hai   hai   hai\n",
    "# 012 3 456 7 8910\n",
    "str1 = 'hai hai hai'\n",
    "str1.index('a', 3, 10)"
   ]
  },
  {
   "cell_type": "code",
   "execution_count": null,
   "id": "1ec39225-c3ee-453a-85b1-98b94ed00e1b",
   "metadata": {},
   "outputs": [],
   "source": [
    "# hai   hai   hai\n",
    "# 012 3 456 7 8910\n",
    "str1 = 'hai hai hai'\n",
    "str1.index('a')\n",
    "str1.index('a', 3)\n",
    "str1.index('a', 3, 10)"
   ]
  },
  {
   "cell_type": "code",
   "execution_count": null,
   "id": "1f166f15-c7c5-43e0-8823-a78a757e0786",
   "metadata": {},
   "outputs": [],
   "source": [
    "# -11- 10 -9 -8 -7 -6 -5 -4 -3 -2 -1\n",
    "#  h    a  i     h  a  i     h  a  i\n",
    "# 0     1  2  3  4  5   6  7 8  9  10\n",
    "str1 = 'hai hai hai'\n",
    "print(str1.index('a'))\n",
    "print(str1.index('a', -3))\n",
    "print(str1.index('a', -8, 8))\n",
    "print(str1.index('a', -11, -8))"
   ]
  },
  {
   "cell_type": "code",
   "execution_count": null,
   "id": "bd4432a0-c14c-4c95-92dd-abf1cdab1ea6",
   "metadata": {},
   "outputs": [],
   "source": [
    "# -11- 10 -9 -8 -7 -6 -5 -4 -3 -2 -1\n",
    "#  h    a  i     h  a  i     h  a  i\n",
    "# 0     1  2  3  4  5   6  7 8  9  10\n",
    "str1 = 'hai hai hai'\n",
    "print(str1.count('a'))\n",
    "print(str1.count('a', -3))\n",
    "print(str1.count('a', -8, 8))\n",
    "print(str1.count('a', -11, -8))"
   ]
  },
  {
   "cell_type": "code",
   "execution_count": null,
   "id": "c1e7bf2a-3b7f-462e-8426-71fefbd60226",
   "metadata": {},
   "outputs": [],
   "source": [
    "# -11- 10 -9 -8 -7 -6 -5 -4 -3 -2 -1\n",
    "#  h    a  i     h  a  i     h  a  i\n",
    "# 0     1  2  3  4  5   6  7 8  9  10\n",
    "a1=str1.index('a')\n",
    "print(a1)\n",
    "a2=str1.index('a', a1+1)\n",
    "print(a2)\n",
    "a3=str1.index('a', a2+1)\n",
    "print(a3)\n",
    "a4=str1.index('a', a3+1)\n",
    "print(a4) # need to write try block"
   ]
  },
  {
   "cell_type": "code",
   "execution_count": null,
   "id": "3001bfaa-1ac1-4da4-96a0-d398118f778b",
   "metadata": {},
   "outputs": [],
   "source": [
    "# -11- 10 -9 -8 -7 -6 -5 -4 -3 -2 -1\n",
    "#  h    a  i     h  a  i     h  a  i\n",
    "# 0     1  2  3  4  5   6  7 8  9  10\n",
    "a1=str1.find('a')\n",
    "print(a1)\n",
    "a2=str1.find('a', a1+1)\n",
    "print(a2)\n",
    "a3=str1.find('a', a2+1)\n",
    "print(a3)\n",
    "a4=str1.find('a', a3+1)\n",
    "print(a4) # no need to write try block\n",
    "a5=str1.find('a', a4+1)\n",
    "print(a5)\n",
    "a6=str1.find('a', a5+1)\n",
    "print(a6)\n",
    "a7=str1.find('a', a6+1)\n",
    "print(a7)"
   ]
  },
  {
   "cell_type": "markdown",
   "id": "31f9b06b-1193-4e0c-8922-7fcb46e5fe5d",
   "metadata": {},
   "source": [
    "## If substring not found \n",
    "- count() will give give Zero\n",
    "- replcace() method will give original string\n",
    "- index() will give substring not found error\n",
    "- And find() will give -1"
   ]
  },
  {
   "cell_type": "code",
   "execution_count": null,
   "id": "749d5d48-3626-411e-967e-b386f3482dd6",
   "metadata": {},
   "outputs": [],
   "source": [
    "string = 'omkar.nallagoni@cognizant.com'\n",
    "# first_name=omkar\n",
    "# last_name=nallagoni\n",
    "# company_name=cognizant\n",
    "# first_name=str(:find(string,'.'))\n",
    "first_name=string[0:string.find('.')]\n",
    "print('first_name: ',first_name)\n",
    "last_name=string[string.find('.')+1:string.find('@')]\n",
    "print('last_name: ',last_name)\n",
    "company_name=string[string.find('@')+1:string.find('.com')]\n",
    "print('company_name: ',company_name)"
   ]
  },
  {
   "cell_type": "code",
   "execution_count": null,
   "id": "9901cc04-3ce7-4906-b372-751c5b245b83",
   "metadata": {},
   "outputs": [],
   "source": [
    "string[1:5]"
   ]
  },
  {
   "cell_type": "code",
   "execution_count": null,
   "id": "40d63424-de36-4fb1-b8d1-81b68bb824b4",
   "metadata": {},
   "outputs": [],
   "source": [
    "string = 'omkar.nallagoni@cognizant.com'\n",
    "first_name=string[0:string.find('.')]\n",
    "print('first_name: ',first_name)\n",
    "last_name=string[first_name+1:string.find('@')]\n",
    "print('last_name: ',last_name)\n",
    "company_name=string[last_name+1:string.find('.com')]\n",
    "print('company_name: ',company_name)"
   ]
  },
  {
   "cell_type": "code",
   "execution_count": null,
   "id": "c31201a3-bc04-4c5a-a94c-a9f0cba90223",
   "metadata": {},
   "outputs": [],
   "source": [
    "# strip/lstrip/rstrip\n",
    "string = '   omkar.nallagoni@cognizant.com     '\n",
    "st=string.strip()\n",
    "print('abcd:',st,'efgh')"
   ]
  },
  {
   "cell_type": "code",
   "execution_count": null,
   "id": "189f6b0e-da3a-43a6-908b-2e2ec6e2350c",
   "metadata": {},
   "outputs": [],
   "source": [
    "# strip/lstrip/rstrip\n",
    "string = '   omkar.nallagoni@cognizant.com     '\n",
    "stl=string.lstrip()\n",
    "print('abcd:',stl,'efgh')"
   ]
  },
  {
   "cell_type": "code",
   "execution_count": null,
   "id": "a3551035-5f18-4643-bdb3-4410a59de5bc",
   "metadata": {},
   "outputs": [],
   "source": [
    "# strip/lstrip/rstrip\n",
    "string = '   omkar.nallagoni@cognizant.com     '\n",
    "str=string.rstrip()\n",
    "print('abcd:',str,'efgh')"
   ]
  },
  {
   "cell_type": "code",
   "execution_count": 1,
   "id": "9cc23090-2d4d-4396-a422-866f053a4895",
   "metadata": {},
   "outputs": [
    {
     "name": "stdout",
     "output_type": "stream",
     "text": [
      "True\n"
     ]
    }
   ],
   "source": [
    "# startswith/endswith\n",
    "string1='*wap ask the user to get count of number' \n",
    "x=string1.startswith('*')\n",
    "print(x)"
   ]
  },
  {
   "cell_type": "code",
   "execution_count": 2,
   "id": "4e6d17f8-6668-4e3c-918f-ec77b6cc2c77",
   "metadata": {},
   "outputs": [
    {
     "name": "stdout",
     "output_type": "stream",
     "text": [
      "True\n"
     ]
    }
   ],
   "source": [
    "# startswith/endswith\n",
    "# string = 'omkar.nallagoni@cognizant.com '\n",
    "string='*wap ask the user to get count of number#'\n",
    "x=string.endswith('#')\n",
    "print(x)"
   ]
  },
  {
   "cell_type": "code",
   "execution_count": 6,
   "id": "98e94108-1477-4e35-86e1-02015d464f93",
   "metadata": {},
   "outputs": [
    {
     "name": "stdout",
     "output_type": "stream",
     "text": [
      "wap ask the user to get count [of] number of 'a' in a given string\n"
     ]
    }
   ],
   "source": [
    "# replace\n",
    "rep='wap ask the user to get count of number of \\'a\\' in a given string'\n",
    "update_rep=rep.replace('of', '[of]', 1)\n",
    "print(update_rep)"
   ]
  },
  {
   "cell_type": "code",
   "execution_count": 7,
   "id": "5c1ce6e2-05e8-4a86-b442-629e4dc94015",
   "metadata": {},
   "outputs": [
    {
     "name": "stdout",
     "output_type": "stream",
     "text": [
      "True\n"
     ]
    }
   ],
   "source": [
    "txtz = \"Hello, welcome to my world.\"\n",
    "x = txtz.startswith(\"wel\", 7, 20)\n",
    "print(x)"
   ]
  },
  {
   "cell_type": "code",
   "execution_count": null,
   "id": "626eb5c2-a91f-4736-902f-0a95a51befe2",
   "metadata": {},
   "outputs": [],
   "source": []
  }
 ],
 "metadata": {
  "kernelspec": {
   "display_name": "Python 3 (ipykernel)",
   "language": "python",
   "name": "python3"
  },
  "language_info": {
   "codemirror_mode": {
    "name": "ipython",
    "version": 3
   },
   "file_extension": ".py",
   "mimetype": "text/x-python",
   "name": "python",
   "nbconvert_exporter": "python",
   "pygments_lexer": "ipython3",
   "version": "3.11.7"
  }
 },
 "nbformat": 4,
 "nbformat_minor": 5
}
