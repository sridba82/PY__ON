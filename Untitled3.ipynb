{
 "cells": [
  {
   "cell_type": "code",
   "execution_count": null,
   "id": "8bc5c1b8-35e6-4020-8ac8-7cec92bb3bef",
   "metadata": {},
   "outputs": [],
   "source": [
    "# Sample program to check customer account details, withdrawl, deposit...\n",
    "\n",
    "import random\n",
    "\n",
    "acc_no1, acc_no1 = '1', '2'\n",
    "pwd1 = '1'\n",
    "balance = random.randint(5000, 10000)\n",
    "\n",
    "print('\\n\\t\\t\\t\\t\\t========================')\n",
    "print('\\t\\t\\t\\t\\t$ Welcome to STAR BANK $')\n",
    "print('\\t\\t\\t\\t\\t========================\\n')\n",
    "chk_acc_no = input('Please Enter Your Account No.')\n",
    "chk_pwd = input('Please Enter Your Password.')\n",
    "if acc_no == chk_acc_no and pwd == chk_pwd:\n",
    "    number = input('\\n\\tHello Srinivas !!.\\n\\n\\t1 ==> To Check your balance.\\n\\t2 ==> To Withdrawl amount.\\n\\t3 ==> To Diposit amount.\\n\\n\\tOr enter any digit above 3 to quit.\\n\\n\\t')\n",
    "    if number == '1':\n",
    "        print('\\n\\t=====================')\n",
    "        print(f'\\tYour Balance Rs.{balance}')\n",
    "        print('\\t=====================')\n",
    "        if '2' == input('\\n\\t2 ==> To Withdrawl amount (OR) enter any digit other than 2 to quit.\\n\\n\\t'):\n",
    "            with_amt = eval(input('\\n\\tPlease enter amount to withdrawl:'))\n",
    "            if with_amt <= balance:\n",
    "                balance = balance - with_amt\n",
    "                print(f'\\nYou withdrawl Rs.{with_amt} and available balance Rs.{balance} \\n\\nSee You Bye!!!')\n",
    "            else:\n",
    "                print('\\nYou Enterd more than the limit.\\nBye!!!! Try again....')\n",
    "    elif number == '2':\n",
    "        with_amt = eval(input('\\n\\tPlease Enter amount to withdrawl:'))\n",
    "        if with_amt <= balance:\n",
    "            balance = balance - with_amt\n",
    "            print(f'\\nYou withdrawl Rs.{with_amt} and available balance Rs.{balance} \\n\\nSee You Bye!!!')\n",
    "        else:\n",
    "            print('\\nYou Enterd morethan the limit.\\nBye Bye!!!! Thank You')\n",
    "    elif number == '3':\n",
    "        print(f'Your current balance Rs.{balance}')\n",
    "        diposit = eval(input('Please enter Diposit amount: '))\n",
    "        balance = balance + diposit\n",
    "        print(f'Your balance increased to Rs.{balance}')\n",
    "        print('Bye Bye!!! Thank You')\n",
    "    else:\n",
    "        print('\\nWelcome back, Bye!!!')\n",
    "else:        \n",
    "    print('\\n***Incorrect Credentials')"
   ]
  }
 ],
 "metadata": {
  "kernelspec": {
   "display_name": "Python 3 (ipykernel)",
   "language": "python",
   "name": "python3"
  },
  "language_info": {
   "codemirror_mode": {
    "name": "ipython",
    "version": 3
   },
   "file_extension": ".py",
   "mimetype": "text/x-python",
   "name": "python",
   "nbconvert_exporter": "python",
   "pygments_lexer": "ipython3",
   "version": "3.11.7"
  }
 },
 "nbformat": 4,
 "nbformat_minor": 5
}
