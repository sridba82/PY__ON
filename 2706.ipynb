{
 "cells": [
  {
   "cell_type": "code",
   "execution_count": 4,
   "id": "96664ae0-4c4e-46db-87de-8084b1c237a5",
   "metadata": {},
   "outputs": [
    {
     "name": "stdin",
     "output_type": "stream",
     "text": [
      "Enter Starting number:  1\n",
      "Enter Ending number:  10\n"
     ]
    },
    {
     "name": "stdout",
     "output_type": "stream",
     "text": [
      "Number is: 7 Odd\n"
     ]
    }
   ],
   "source": [
    "import random\n",
    "start = eval(input('Enter Starting number: '))\n",
    "end = eval(input('Enter Ending number: '))\n",
    "num = random.randint(start, end)\n",
    "if num%2 ==0:\n",
    "    print(f'Number is: {num} Even')\n",
    "else:\n",
    "    print(f'Number is: {num} Odd')"
   ]
  },
  {
   "cell_type": "code",
   "execution_count": 8,
   "id": "3dc7c367-edd3-4974-a48a-8327d29f9b41",
   "metadata": {},
   "outputs": [
    {
     "name": "stdin",
     "output_type": "stream",
     "text": [
      "Enter Distance travelled:  26\n"
     ]
    },
    {
     "name": "stdout",
     "output_type": "stream",
     "text": [
      "You crossed 26 kilometers, you havebeen charges\n"
     ]
    }
   ],
   "source": [
    "dist = eval(input('Enter Distance travelled: '))\n",
    "\n",
    "if dist > 25:\n",
    "    print(f'You crossed {dist} kilometers, you have been charges')\n",
    "else:\n",
    "    print(f'You have a free ride because you travelled below {dist} kilometers')"
   ]
  },
  {
   "cell_type": "code",
   "execution_count": 11,
   "id": "09702dd6-6629-4a60-a63d-23d8a568921a",
   "metadata": {},
   "outputs": [
    {
     "name": "stdin",
     "output_type": "stream",
     "text": [
      "Enter Distance travelled:  27\n"
     ]
    },
    {
     "name": "stdout",
     "output_type": "stream",
     "text": [
      "Good News your charge is applicable for only remaining of 25\n",
      " Charge amount 10 rupees\n"
     ]
    }
   ],
   "source": [
    "dist = eval(input('Enter Distance travelled: '))\n",
    "\n",
    "if dist > 25:\n",
    "    print('Good News your charge is applicable for only remaining of 25')\n",
    "    charge = dist - 25\n",
    "    cmaount = charge * 5\n",
    "    print(f' Charge amount {cmaount} rupees')\n",
    "else:\n",
    "    print(f'You have a free ride because you travelled below {dist} kilometers')"
   ]
  },
  {
   "cell_type": "code",
   "execution_count": 13,
   "id": "e1fb2dcd-8ac5-44fb-aee5-d137fdf2e8c8",
   "metadata": {},
   "outputs": [
    {
     "name": "stdin",
     "output_type": "stream",
     "text": [
      "Enter the Course:  ds\n",
      "Enter the Institute:  naresh\n"
     ]
    },
    {
     "name": "stdout",
     "output_type": "stream",
     "text": [
      "You are bad!!!!!!.\n"
     ]
    }
   ],
   "source": [
    "course = input('Enter the Course: ')\n",
    "ins = input('Enter the Institute: ')\n",
    "if course == 'DS':\n",
    "    if ins == 'NARESH':\n",
    "        print(f'You you are good !!')\n",
    "else:\n",
    "    print('You are bad!!!!!!.')"
   ]
  },
  {
   "cell_type": "code",
   "execution_count": 16,
   "id": "2d4bf407-ada0-446f-bf24-5fa05bcfa0dd",
   "metadata": {},
   "outputs": [
    {
     "name": "stdin",
     "output_type": "stream",
     "text": [
      "Enter value to play game:  3\n"
     ]
    },
    {
     "name": "stdout",
     "output_type": "stream",
     "text": [
      "You Lost\n"
     ]
    }
   ],
   "source": [
    "import random\n",
    "value = random.randint(1,10)\n",
    "game = eval(input('Enter value to play game: '))\n",
    "\n",
    "if value == game:\n",
    "    print('You Won!!')\n",
    "else:\n",
    "    print('You Lost')"
   ]
  },
  {
   "cell_type": "code",
   "execution_count": 19,
   "id": "e02643a2-f244-4986-bbdb-0d3846c1379e",
   "metadata": {},
   "outputs": [
    {
     "name": "stdin",
     "output_type": "stream",
     "text": [
      "Enter a value to check lessthan 0 or greaterthan 0 or equal 0:  0\n"
     ]
    },
    {
     "name": "stdout",
     "output_type": "stream",
     "text": [
      "Zero\n"
     ]
    }
   ],
   "source": [
    "value = eval(input('Enter a value to check lessthan 0 or greaterthan 0 or equal 0: '))\n",
    "\n",
    "if value > 0:\n",
    "    print('Greaterthan Zero')\n",
    "elif value < 0:\n",
    "    print('Lessthan Zero')\n",
    "else:\n",
    "    print('Zero')"
   ]
  },
  {
   "cell_type": "code",
   "execution_count": 29,
   "id": "eedf34f4-53ef-480e-b885-199f57c36bf0",
   "metadata": {},
   "outputs": [
    {
     "name": "stdin",
     "output_type": "stream",
     "text": [
      "Enter Percentage to print grade:  34\n"
     ]
    },
    {
     "name": "stdout",
     "output_type": "stream",
     "text": [
      "Fail\n"
     ]
    }
   ],
   "source": [
    "percent = eval(input('Enter Percentage to print grade: '))\n",
    "\n",
    "if percent >= 90:\n",
    "    print('Grade A')\n",
    "elif percent >= 75 # and percent < 90:\n",
    "    print('Grade B')\n",
    "elif percent >= 50 # and percent < 75:\n",
    "    print('Grade C')\n",
    "elif percent >= 35 # and percent < 50:\n",
    "    print('Grade D')\n",
    "else:\n",
    "    print('Fail')"
   ]
  },
  {
   "cell_type": "code",
   "execution_count": 37,
   "id": "4a867ea2-b24b-492c-b867-2f2acdc6a69f",
   "metadata": {},
   "outputs": [
    {
     "name": "stdin",
     "output_type": "stream",
     "text": [
      "Enter Age:  14\n"
     ]
    },
    {
     "name": "stdout",
     "output_type": "stream",
     "text": [
      "kid\n"
     ]
    }
   ],
   "source": [
    "age = eval(input('Enter Age: '))\n",
    "\n",
    "if age >= 100:\n",
    "    print('You are Lucky')\n",
    "elif age >= 75: \n",
    "    print('Old Age')\n",
    "elif age >= 50:\n",
    "    print('Senior Citizen')\n",
    "elif age >= 30:\n",
    "    print('Middle Age')\n",
    "elif age >= 15:\n",
    "    print('Young Age')\n",
    "else:\n",
    "    print('kid')"
   ]
  },
  {
   "cell_type": "code",
   "execution_count": null,
   "id": "f690a843-5fda-4cf4-94c0-8303a541ef8f",
   "metadata": {},
   "outputs": [],
   "source": []
  }
 ],
 "metadata": {
  "kernelspec": {
   "display_name": "Python 3 (ipykernel)",
   "language": "python",
   "name": "python3"
  },
  "language_info": {
   "codemirror_mode": {
    "name": "ipython",
    "version": 3
   },
   "file_extension": ".py",
   "mimetype": "text/x-python",
   "name": "python",
   "nbconvert_exporter": "python",
   "pygments_lexer": "ipython3",
   "version": "3.11.7"
  }
 },
 "nbformat": 4,
 "nbformat_minor": 5
}
