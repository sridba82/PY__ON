{
 "cells": [
  {
   "cell_type": "code",
   "execution_count": 9,
   "id": "bd3067c7-d774-4880-b499-fa4a744835be",
   "metadata": {},
   "outputs": [
    {
     "name": "stdout",
     "output_type": "stream",
     "text": [
      "425\n",
      "16\n",
      "24\n",
      "24 25\n",
      "DELL5490I58TH/8/256QTY58\n"
     ]
    }
   ],
   "source": [
    "# Computers brand, generation, ram and harddisk wise stock \n",
    "\n",
    "mixed_stock= 'DELL5490I58TH/8/256QTY58\tDELL7470i56th/8/256QTY25\tDELL7480I56TH/8/256QTY26\tDELL7480i57TH/8/256QTY20\tDELL7400i58TH/16/512QTY10\tDELL5470i57th/8/256QTY50\tDELL5480I76TH/16/256QTY9\tDELL7490TSI57TH/8/256QTY82\tDELL7490i5TH/8/256QTY25\tDELL7490i58TH/8/512QTY73\tDELL7490TSI78TH/8/256QTY3\tDELL5490i57TH_8/256QTY32\tDELL5400TSi58TH/8/256QTY11\tHP640G2I56TH/8/256QTY50\tHP650G2i56TH/8/256QTY54\tHP840G5i58TH/8/256QTY35\tHP840G4I57TH/8/256QTY44'\n",
    "print(len(mixed_stock))\n",
    "print(mixed_stock.count('\\t'))\n",
    "print(mixed_stock.index('\\t'))\n",
    "print(mixed_stock.index('\\t'), mixed_stock.index('\\t')+1)\n",
    "print(mixed_stock[:mixed_stock.index('\\t')])"
   ]
  },
  {
   "cell_type": "code",
   "execution_count": 12,
   "id": "38a3488d-22e0-4f5c-b1f6-6d4d107eb460",
   "metadata": {},
   "outputs": [
    {
     "name": "stdout",
     "output_type": "stream",
     "text": [
      "Before addiging element into List\n",
      "Address:  2452573602752  and Data: [1, 2, 3, 4]\n",
      "\n",
      "After addiging element into List\n",
      "Address:  2452573602752  and Data: [11, 2, 3, 4]\n"
     ]
    }
   ],
   "source": [
    "# Mutable object value can be changed after creation, mutable objects allow changes to their internal state.\n",
    "list=[1,2,3,4]\n",
    "print('Before addiging element into List')\n",
    "print('Address: ', id(list), ' and Data:', list)\n",
    "print('\\nAfter addiging element into List')\n",
    "list[0]=11\n",
    "print('Address: ', id(list), ' and Data:', list)"
   ]
  },
  {
   "cell_type": "code",
   "execution_count": null,
   "id": "e6befa11-d469-41ad-8e00-c80e8376bda4",
   "metadata": {},
   "outputs": [],
   "source": [
    "# Mutable object value can be changed after creation, mutable objects allow changes to their internal state.\n"
   ]
  }
 ],
 "metadata": {
  "kernelspec": {
   "display_name": "Python 3 (ipykernel)",
   "language": "python",
   "name": "python3"
  },
  "language_info": {
   "codemirror_mode": {
    "name": "ipython",
    "version": 3
   },
   "file_extension": ".py",
   "mimetype": "text/x-python",
   "name": "python",
   "nbconvert_exporter": "python",
   "pygments_lexer": "ipython3",
   "version": "3.11.7"
  }
 },
 "nbformat": 4,
 "nbformat_minor": 5
}
