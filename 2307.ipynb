{
 "cells": [
  {
   "cell_type": "markdown",
   "id": "27055950-2e30-4515-82ed-eadb0392cfd8",
   "metadata": {},
   "source": [
    "**insert**"
   ]
  },
  {
   "cell_type": "code",
   "execution_count": null,
   "id": "b003cb19-fba1-45f3-a0d8-00ce8e93ddbe",
   "metadata": {},
   "outputs": [],
   "source": [
    "l1=[1,2,3,4,10, 20, 'Apple', 'A']\n",
    "i1=l1.index('Apple')  # Apple index = 6\n",
    "l1.insert(i1, 'Banana') # Insert banana before index i1(6)\n",
    "l1"
   ]
  },
  {
   "cell_type": "code",
   "execution_count": null,
   "id": "0398e48d-b973-4cf4-b5c3-56768423536f",
   "metadata": {},
   "outputs": [],
   "source": [
    "l1=[1,2,3,4,10, 20, 'Apple', 'A']\n",
    "i1=l1.index('A')  # Apple index = 8\n",
    "l1.insert(i1, 'Cherry') # Insert banana before index i1(8)\n",
    "l1"
   ]
  },
  {
   "cell_type": "code",
   "execution_count": null,
   "id": "9bfb48ca-e5be-4dd0-a5d5-6c414760b070",
   "metadata": {},
   "outputs": [],
   "source": [
    "l1=[1,2,3,'Apple',10, 20, 'Apple', 'A', 30, 40]\n",
    "i1=l1.index('Apple')\n",
    "i2=l1.index('Apple', i1+1) \n",
    "i2"
   ]
  },
  {
   "cell_type": "code",
   "execution_count": null,
   "id": "ffc7d9cd-8efc-416a-8d0b-8aa3a3dae8fe",
   "metadata": {},
   "outputs": [],
   "source": [
    "l1=[1,2,3,'Apple',10, 20, 'Apple', 'A', 30, 40]\n",
    "i1=l1.index('Apple')\n",
    "i2=l1.index('Apple', i1+1) \n",
    "l1.insert(i2, 'Cherry')\n",
    "l1"
   ]
  },
  {
   "cell_type": "code",
   "execution_count": null,
   "id": "9b1103a9-153a-41ba-8704-970256224f09",
   "metadata": {},
   "outputs": [],
   "source": [
    "l1=[1,2,3,'Apple',10, 20, 'Apple', 'A', 30, 40]\n",
    "i1=l1.index('Apple')\n",
    "l1.pop(i1)\n",
    "i2=l1.index('Apple', i1+1)\n",
    "l1.pop(i2)\n",
    "l1"
   ]
  },
  {
   "cell_type": "code",
   "execution_count": null,
   "id": "f2b1293b-c279-435c-88d4-53ee6b027391",
   "metadata": {},
   "outputs": [],
   "source": [
    "l2=[1,2,3,'Apple',10, 20, 'Apple', 'A', 30, 40]\n",
    "i1=l2.index('Apple')\n",
    "l2.pop(i1)\n",
    "i2=l2.index('Apple')\n",
    "l2.pop(i2)\n",
    "l2"
   ]
  },
  {
   "cell_type": "code",
   "execution_count": 2,
   "id": "e0b483d8-d1af-4f1f-b436-f960579ef53b",
   "metadata": {},
   "outputs": [
    {
     "name": "stdout",
     "output_type": "stream",
     "text": [
      "[1, 2, 3, 10, 20, 'Apple', 'A', 30, 40]\n",
      "[1, 2, 3, 10, 20, 'A', 30, 40]\n"
     ]
    }
   ],
   "source": [
    "l1=[1,2,3,'Apple',10, 20, 'Apple', 'A', 30, 40]\n",
    "i1=l1.index('Apple')\n",
    "l1.pop(i1)\n",
    "print(l1)\n",
    "i1=l1.index('Apple')\n",
    "l1.pop(i1)\n",
    "print(l1)"
   ]
  },
  {
   "cell_type": "code",
   "execution_count": 62,
   "id": "b97588bc-12af-402b-9722-510b3f29b450",
   "metadata": {},
   "outputs": [
    {
     "data": {
      "text/plain": [
       "'hai how are you iam good thank you'"
      ]
     },
     "execution_count": 62,
     "metadata": {},
     "output_type": "execute_result"
    }
   ],
   "source": [
    "str=\"hai apple how are you apple iam good apple thank you apple\"\n",
    "list_str=str.split()\n",
    "cnt=list_str.count('apple')\n",
    "for i in range(cnt):\n",
    "    i1=list_str.index('apple')\n",
    "    list_str.pop(i1)\n",
    "' '.join(list_str)"
   ]
  },
  {
   "cell_type": "code",
   "execution_count": 63,
   "id": "0b1c1fd6-7902-4076-b97b-250d968aae66",
   "metadata": {},
   "outputs": [
    {
     "name": "stdout",
     "output_type": "stream",
     "text": [
      "P\n"
     ]
    }
   ],
   "source": [
    "word = \"Python\"\n",
    "print(word[0])"
   ]
  },
  {
   "cell_type": "code",
   "execution_count": 78,
   "id": "f3ce66ff-9ab9-4d56-b938-14c957ace214",
   "metadata": {},
   "outputs": [
    {
     "ename": "TypeError",
     "evalue": "'str' object is not callable",
     "output_type": "error",
     "traceback": [
      "\u001b[1;31m---------------------------------------------------------------------------\u001b[0m",
      "\u001b[1;31mTypeError\u001b[0m                                 Traceback (most recent call last)",
      "Cell \u001b[1;32mIn[78], line 5\u001b[0m\n\u001b[0;32m      3\u001b[0m c \u001b[38;5;241m=\u001b[39m \u001b[38;5;124m'\u001b[39m\u001b[38;5;124mHello\u001b[39m\u001b[38;5;124m'\u001b[39m\n\u001b[0;32m      4\u001b[0m result \u001b[38;5;241m=\u001b[39m a \u001b[38;5;241m*\u001b[39m b\n\u001b[1;32m----> 5\u001b[0m \u001b[38;5;28mprint\u001b[39m(c \u001b[38;5;241m+\u001b[39m \u001b[38;5;28mstr\u001b[39m(result))\n",
      "\u001b[1;31mTypeError\u001b[0m: 'str' object is not callable"
     ]
    }
   ],
   "source": [
    "a = 5\n",
    "b = 2.5\n",
    "c = 'Hello'\n",
    "result = a * b\n",
    "print(c + str(result))"
   ]
  },
  {
   "cell_type": "code",
   "execution_count": 80,
   "id": "81d10700-5888-47af-8e3a-c3510625c749",
   "metadata": {},
   "outputs": [
    {
     "name": "stdout",
     "output_type": "stream",
     "text": [
      "PythonPythonPython is amazing!\n"
     ]
    }
   ],
   "source": [
    "S1 = 'Python'\n",
    "S2 = ' is amazing!'\n",
    "result = S1*3 + S2\n",
    "print(result)"
   ]
  },
  {
   "cell_type": "code",
   "execution_count": 81,
   "id": "4c24c239-0bcf-4cf5-a8aa-78db99e04ced",
   "metadata": {},
   "outputs": [
    {
     "name": "stdout",
     "output_type": "stream",
     "text": [
      "8\n"
     ]
    }
   ],
   "source": [
    "x = 5\n",
    "y = 2\n",
    "result = x ** y // 3\n",
    "print(result)"
   ]
  },
  {
   "cell_type": "code",
   "execution_count": 83,
   "id": "c0d7ef1c-b66a-4e8c-89ad-b5a1a79e650f",
   "metadata": {},
   "outputs": [
    {
     "name": "stdout",
     "output_type": "stream",
     "text": [
      "4\n"
     ]
    }
   ],
   "source": [
    "fruits = ['apple', 'orange', 'banana']\n",
    "fruits.append('grapes')\n",
    "print(len(fruits))"
   ]
  },
  {
   "cell_type": "code",
   "execution_count": 85,
   "id": "c817b935-6bdf-476c-9b1e-85afa82cdada",
   "metadata": {},
   "outputs": [
    {
     "name": "stdout",
     "output_type": "stream",
     "text": [
      "[1, 2, 4, 5]\n"
     ]
    }
   ],
   "source": [
    "n = [1,2,3,4,5]\n",
    "n.pop(2)\n",
    "print(n)"
   ]
  },
  {
   "cell_type": "code",
   "execution_count": 86,
   "id": "2cdb6db6-4a07-4bd9-9626-71da5ba565c9",
   "metadata": {},
   "outputs": [
    {
     "ename": "SyntaxError",
     "evalue": "invalid syntax (2527321898.py, line 1)",
     "output_type": "error",
     "traceback": [
      "\u001b[1;36m  Cell \u001b[1;32mIn[86], line 1\u001b[1;36m\u001b[0m\n\u001b[1;33m    person = ['name':'John','age':30,'city':'NewYork']\u001b[0m\n\u001b[1;37m                    ^\u001b[0m\n\u001b[1;31mSyntaxError\u001b[0m\u001b[1;31m:\u001b[0m invalid syntax\n"
     ]
    }
   ],
   "source": [
    "person = ['name':'John','age':30,'city':'NewYork']\n",
    "print(person['age'])"
   ]
  },
  {
   "cell_type": "code",
   "execution_count": 87,
   "id": "ca5d0beb-732e-496e-b704-9b7922e8643e",
   "metadata": {},
   "outputs": [
    {
     "name": "stdout",
     "output_type": "stream",
     "text": [
      "5.0 0\n"
     ]
    }
   ],
   "source": [
    "N1 = 25/5\n",
    "N2 =25%5\n",
    "print(N1,N2)"
   ]
  },
  {
   "cell_type": "code",
   "execution_count": null,
   "id": "2c5fb455-8c6f-4cfc-abe1-f5a0c535bb38",
   "metadata": {},
   "outputs": [],
   "source": []
  }
 ],
 "metadata": {
  "kernelspec": {
   "display_name": "Python 3 (ipykernel)",
   "language": "python",
   "name": "python3"
  },
  "language_info": {
   "codemirror_mode": {
    "name": "ipython",
    "version": 3
   },
   "file_extension": ".py",
   "mimetype": "text/x-python",
   "name": "python",
   "nbconvert_exporter": "python",
   "pygments_lexer": "ipython3",
   "version": "3.11.7"
  }
 },
 "nbformat": 4,
 "nbformat_minor": 5
}
