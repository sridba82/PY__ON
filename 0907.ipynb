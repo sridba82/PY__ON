{
 "cells": [
  {
   "cell_type": "code",
   "execution_count": 5,
   "id": "c31a418d-fda8-4769-a2ec-35739f52f6af",
   "metadata": {},
   "outputs": [
    {
     "name": "stdout",
     "output_type": "stream",
     "text": [
      "0 1 2 3 4 5 6 7 8 9 "
     ]
    }
   ],
   "source": [
    "i=0\n",
    "while i<10:\n",
    "    print(i, end=' ')\n",
    "    i=i+1"
   ]
  },
  {
   "cell_type": "code",
   "execution_count": 7,
   "id": "5c3e4774-86f5-4056-9065-6872dc374d24",
   "metadata": {},
   "outputs": [
    {
     "name": "stdout",
     "output_type": "stream",
     "text": [
      "1 0 -1 -2 -3 -4 -5 -6 -7 -8 -9 "
     ]
    }
   ],
   "source": [
    "i = 1\n",
    "while i < 11:\n",
    "    print(i, end=' ')\n",
    "    i = i-1\n",
    "    if i == -10:\n",
    "        break"
   ]
  },
  {
   "cell_type": "code",
   "execution_count": 8,
   "id": "6c6873aa-1254-4fe0-b4fb-61b8063d06f7",
   "metadata": {},
   "outputs": [
    {
     "name": "stdout",
     "output_type": "stream",
     "text": [
      "20 19 18 17 16 15 14 13 12 11 10 9 8 7 6 5 4 3 2 1 "
     ]
    }
   ],
   "source": [
    "i = 20\n",
    "while i > 0:\n",
    "    print(i,  end=' ')\n",
    "    i=i-1"
   ]
  },
  {
   "cell_type": "code",
   "execution_count": 10,
   "id": "094a900c-d726-4918-9eb1-56ea9d066f95",
   "metadata": {},
   "outputs": [
    {
     "name": "stdout",
     "output_type": "stream",
     "text": [
      "-20 -19 -18 -17 -16 -15 -14 -13 -12 -11 -10 -9 -8 -7 -6 -5 -4 -3 -2 -1 0 "
     ]
    }
   ],
   "source": [
    "i = -20\n",
    "while i < 1:\n",
    "    print(i,  end=' ')\n",
    "    i=i+1"
   ]
  },
  {
   "cell_type": "code",
   "execution_count": 12,
   "id": "7f22ffdb-11b7-4b7f-9c0b-de0f5d9a9b81",
   "metadata": {},
   "outputs": [
    {
     "name": "stdout",
     "output_type": "stream",
     "text": [
      "-20 -19 -18 -17 -16 -15 -14 -13 -12 -11 -10 -9 -8 -7 -6 -5 -4 -3 -2 -1 0 "
     ]
    }
   ],
   "source": [
    "i = -20\n",
    "while True:\n",
    "    print(i,  end=' ')\n",
    "    i=i+1\n",
    "    if i == 1:\n",
    "        break"
   ]
  },
  {
   "cell_type": "code",
   "execution_count": 15,
   "id": "66161db9-7034-4dad-857f-af3abe537db7",
   "metadata": {},
   "outputs": [
    {
     "name": "stdout",
     "output_type": "stream",
     "text": [
      "15 is Odd\n",
      "58 is Even\n",
      "33 is Odd\n"
     ]
    }
   ],
   "source": [
    "import random\n",
    "i=0\n",
    "while i < 3:\n",
    "    num = random.randint(1, 100)\n",
    "    if num%2==0:\n",
    "        print(f'{num} is Even')\n",
    "    else:\n",
    "        print(f'{num} is Odd')\n",
    "    i=i+1"
   ]
  },
  {
   "cell_type": "code",
   "execution_count": 23,
   "id": "daf85924-4e4d-4497-a0c2-f3cf37a02bdf",
   "metadata": {},
   "outputs": [
    {
     "name": "stdin",
     "output_type": "stream",
     "text": [
      "Enter Random 1-5 toss value to Won: 3\n"
     ]
    },
    {
     "name": "stdout",
     "output_type": "stream",
     "text": [
      "Fail\n"
     ]
    },
    {
     "name": "stdin",
     "output_type": "stream",
     "text": [
      "Enter Random 1-5 toss value to Won: 3\n"
     ]
    },
    {
     "name": "stdout",
     "output_type": "stream",
     "text": [
      "Won\n"
     ]
    }
   ],
   "source": [
    "import random\n",
    "i=0\n",
    "while i < 3:\n",
    "    num = random.randint(1, 5)\n",
    "    toss = eval(input('Enter Random 1-5 toss value to Won:'))\n",
    "    if toss==num:\n",
    "        print('Won')\n",
    "    else:\n",
    "        print('Fail')\n",
    "    i=i+1"
   ]
  },
  {
   "cell_type": "code",
   "execution_count": null,
   "id": "b36122b4-0315-4cab-833b-52aa0d507dff",
   "metadata": {},
   "outputs": [],
   "source": [
    "import random\n",
    "i=0\n",
    "while i < 3:\n",
    "    num = random.randint(1, 5)\n",
    "    toss = eval(input('Enter Random 1-5 toss value to Won:'))\n",
    "    if toss==num:\n",
    "        print('Won')\n",
    "        break # Used to come out If won\n",
    "    else:\n",
    "        print('Fail')\n",
    "    i=i+1"
   ]
  },
  {
   "cell_type": "code",
   "execution_count": 29,
   "id": "8f591b15-e31b-438e-8651-69fb008c4b1e",
   "metadata": {},
   "outputs": [
    {
     "name": "stdout",
     "output_type": "stream",
     "text": [
      "You are at 1 chances out of 3\n"
     ]
    },
    {
     "name": "stdin",
     "output_type": "stream",
     "text": [
      "Enter Random 1-5 toss value to Won: 3\n"
     ]
    },
    {
     "name": "stdout",
     "output_type": "stream",
     "text": [
      "Fail\n",
      "You are at 2 chances out of 3\n"
     ]
    },
    {
     "name": "stdin",
     "output_type": "stream",
     "text": [
      "Enter Random 1-5 toss value to Won: 3\n"
     ]
    },
    {
     "name": "stdout",
     "output_type": "stream",
     "text": [
      "Fail\n",
      "You are at 3 chances out of 3\n"
     ]
    },
    {
     "name": "stdin",
     "output_type": "stream",
     "text": [
      "Enter Random 1-5 toss value to Won: 3\n"
     ]
    },
    {
     "name": "stdout",
     "output_type": "stream",
     "text": [
      "Won\n"
     ]
    }
   ],
   "source": [
    "import random\n",
    "i=0\n",
    "count=0\n",
    "while i < 3:\n",
    "    print(f'You are at {count+1} chances out of 3')\n",
    "    num = random.randint(1, 5)\n",
    "    toss = eval(input('Enter Random 1-5 toss value to Won:'))\n",
    "    if toss==num:\n",
    "        print('Won')\n",
    "        break # Used to come out If won\n",
    "    else:\n",
    "        print('Fail')\n",
    "    count = count+1\n",
    "    i=i+1"
   ]
  },
  {
   "cell_type": "code",
   "execution_count": 43,
   "id": "3fed6ada-199f-4545-b25a-963644be95a9",
   "metadata": {},
   "outputs": [
    {
     "name": "stdin",
     "output_type": "stream",
     "text": [
      "Enter No. of the chances:  3\n"
     ]
    },
    {
     "name": "stdout",
     "output_type": "stream",
     "text": [
      "\n",
      "===> You are at 1 chances out of \n"
     ]
    },
    {
     "name": "stdin",
     "output_type": "stream",
     "text": [
      "Enter Random 1-5 toss value to Won: 4\n"
     ]
    },
    {
     "name": "stdout",
     "output_type": "stream",
     "text": [
      "Fail\n",
      "\n",
      "===> You are at 2 chances out of \n"
     ]
    },
    {
     "name": "stdin",
     "output_type": "stream",
     "text": [
      "Enter Random 1-5 toss value to Won: 4\n"
     ]
    },
    {
     "name": "stdout",
     "output_type": "stream",
     "text": [
      "Fail\n",
      "\n",
      "===> You are at 3 chances out of \n"
     ]
    },
    {
     "name": "stdin",
     "output_type": "stream",
     "text": [
      "Enter Random 1-5 toss value to Won: 4\n"
     ]
    },
    {
     "name": "stdout",
     "output_type": "stream",
     "text": [
      "Fail\n"
     ]
    }
   ],
   "source": [
    "import random\n",
    "i=0\n",
    "count=0\n",
    "chances = eval(input('Enter No. of the chances: '))\n",
    "while i < 3:\n",
    "    print(f'\\n===> You are at {count+1} chances out of ')\n",
    "    num = random.randint(1, 5)\n",
    "    toss = eval(input('Enter Random 1-5 toss value to Won:'))\n",
    "    if toss==num:\n",
    "        print('Won')\n",
    "        break # Used to come out If won\n",
    "    else:\n",
    "        print('Fail')\n",
    "    count = count+1\n",
    "    i=i+1"
   ]
  },
  {
   "cell_type": "code",
   "execution_count": 40,
   "id": "5a31ae59-650a-4259-a1a8-eb684058f4c4",
   "metadata": {},
   "outputs": [
    {
     "name": "stdin",
     "output_type": "stream",
     "text": [
      "Enter your name to print each letter of it:  Sri\n"
     ]
    },
    {
     "ename": "TypeError",
     "evalue": "'str' object is not callable",
     "output_type": "error",
     "traceback": [
      "\u001b[1;31m---------------------------------------------------------------------------\u001b[0m",
      "\u001b[1;31mTypeError\u001b[0m                                 Traceback (most recent call last)",
      "Cell \u001b[1;32mIn[40], line 4\u001b[0m\n\u001b[0;32m      2\u001b[0m i\u001b[38;5;241m=\u001b[39m\u001b[38;5;241m0\u001b[39m\n\u001b[0;32m      3\u001b[0m \u001b[38;5;28;01mwhile\u001b[39;00m i \u001b[38;5;241m<\u001b[39m \u001b[38;5;28mlen\u001b[39m(name):\n\u001b[1;32m----> 4\u001b[0m     name(i)\n\u001b[0;32m      5\u001b[0m     i \u001b[38;5;241m=\u001b[39m i\u001b[38;5;241m+\u001b[39m\u001b[38;5;241m1\u001b[39m\n",
      "\u001b[1;31mTypeError\u001b[0m: 'str' object is not callable"
     ]
    }
   ],
   "source": [
    "name = input('Enter your name to print each letter of it: ')\n",
    "i=0\n",
    "while i < len(name):\n",
    "    name(i)\n",
    "    i = i+1"
   ]
  },
  {
   "cell_type": "code",
   "execution_count": null,
   "id": "f8f73f1e-37b8-4215-9080-afb8f60471fa",
   "metadata": {},
   "outputs": [],
   "source": []
  }
 ],
 "metadata": {
  "kernelspec": {
   "display_name": "Python 3 (ipykernel)",
   "language": "python",
   "name": "python3"
  },
  "language_info": {
   "codemirror_mode": {
    "name": "ipython",
    "version": 3
   },
   "file_extension": ".py",
   "mimetype": "text/x-python",
   "name": "python",
   "nbconvert_exporter": "python",
   "pygments_lexer": "ipython3",
   "version": "3.11.7"
  }
 },
 "nbformat": 4,
 "nbformat_minor": 5
}
