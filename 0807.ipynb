{
 "cells": [
  {
   "cell_type": "code",
   "execution_count": 7,
   "id": "ea9ee303-b692-4be9-95ea-24a81ddbec2b",
   "metadata": {},
   "outputs": [
    {
     "name": "stdin",
     "output_type": "stream",
     "text": [
      "Enter random to check even or odd and count: 20\n"
     ]
    },
    {
     "name": "stdout",
     "output_type": "stream",
     "text": [
      "Number 20 is Even\n"
     ]
    },
    {
     "name": "stdin",
     "output_type": "stream",
     "text": [
      "Enter random to check even or odd and count: 1\n"
     ]
    },
    {
     "name": "stdout",
     "output_type": "stream",
     "text": [
      "Number is 1 Odd\n"
     ]
    },
    {
     "name": "stdin",
     "output_type": "stream",
     "text": [
      "Enter random to check even or odd and count: 4\n"
     ]
    },
    {
     "name": "stdout",
     "output_type": "stream",
     "text": [
      "Number 4 is Even\n"
     ]
    },
    {
     "name": "stdin",
     "output_type": "stream",
     "text": [
      "Enter random to check even or odd and count: 7\n"
     ]
    },
    {
     "name": "stdout",
     "output_type": "stream",
     "text": [
      "Number is 7 Odd\n"
     ]
    }
   ],
   "source": [
    "#WAP ask the user get 5 random numbers\n",
    "#get it is an even numbes or odd numbers\n",
    "# also count how many even and odd numbers are there\n",
    "import random \n",
    "ecount = 0\n",
    "ocount = 0\n",
    "for i in range(1, 5):\n",
    "    num = eval(input('Enter random to check even or odd and count:'))\n",
    "    # num=random.randint(1, 20)\n",
    "    if num%2==0:\n",
    "        ecount=ecount+1\n",
    "        print(f'Number {num} is Even')\n",
    "    else:\n",
    "        ocount=ocount+1\n",
    "        print(f'Number is {num} Odd')"
   ]
  },
  {
   "cell_type": "code",
   "execution_count": 14,
   "id": "5efe08eb-1e18-4619-822f-f590eac20259",
   "metadata": {},
   "outputs": [
    {
     "name": "stdout",
     "output_type": "stream",
     "text": [
      "Total Event Number count is: 59 and sum is: 2800\n",
      "Total Odd Number count is: 41 and sum is: 2801\n"
     ]
    }
   ],
   "source": [
    "#WAP ask the user get 5 random numbers\n",
    "#get it is an even numbes or odd numbers\n",
    "# also count how many even and odd numbers are there and sum of it\n",
    "import random \n",
    "ecount, ocount = 0, 0\n",
    "esum, osum = 0,0\n",
    "for i in range(1, 101):\n",
    "    num=random.randint(1, 100)\n",
    "    if num%2==0:\n",
    "        ecount=ecount+1\n",
    "        esum = esum+num\n",
    "    else:\n",
    "        ocount=ocount+1\n",
    "        osum = esum+num\n",
    "print(f'Total Event Number count is: {ecount} and sum is: {esum}')\n",
    "print(f'Total Odd Number count is: {ocount} and sum is: {osum}')"
   ]
  },
  {
   "cell_type": "code",
   "execution_count": 15,
   "id": "fe6fe92d-509c-4324-a54e-509af64f4d8e",
   "metadata": {},
   "outputs": [
    {
     "name": "stdout",
     "output_type": "stream",
     "text": [
      "Total Event Number count is: 4 and sum is: 164\n",
      "Total Odd Number count is: 1 and sum is: 123\n"
     ]
    }
   ],
   "source": [
    "#WAP ask the user get 5 random numbers\n",
    "#get it is an even numbes or odd numbers\n",
    "# also count how many even and odd numbers are there and sum of it\n",
    "import random \n",
    "ecount, ocount = 0, 0\n",
    "esum, osum = 0,0\n",
    "for i in range(5):\n",
    "    num=random.randint(1, 100)\n",
    "    if num%2==0:\n",
    "        ecount=ecount+1\n",
    "        esum = esum+num\n",
    "    else:\n",
    "        ocount=ocount+1\n",
    "        osum = esum+num\n",
    "print(f'Total Event Number count is: {ecount} and sum is: {esum}')\n",
    "print(f'Total Odd Number count is: {ocount} and sum is: {osum}')"
   ]
  },
  {
   "cell_type": "code",
   "execution_count": 28,
   "id": "1a35b4b9-86d1-4320-b965-c70e6c107ea5",
   "metadata": {},
   "outputs": [
    {
     "name": "stdout",
     "output_type": "stream",
     "text": [
      "Total Event Number count is: 2 and sum is: 78\n",
      "Total Odd Number count is: 3 and sum is: 137\n"
     ]
    }
   ],
   "source": [
    "import random \n",
    "def even_odd():\n",
    "    ecount, ocount = 0, 0\n",
    "    esum, osum = 0,0\n",
    "    for i in range(5):\n",
    "        num=random.randint(1, 100)\n",
    "        if num%2==0:\n",
    "            ecount=ecount+1\n",
    "            esum = esum+num\n",
    "        else:\n",
    "            ocount=ocount+1\n",
    "            osum = esum+num\n",
    "    return (ecount, esum, ocount, osum)\n",
    "ecount1, esum1, ocount1, osum1 = even_odd()\n",
    "print(f'Total Event Number count is: {ecount1} and sum is: {esum1}')\n",
    "print(f'Total Odd Number count is: {ocount1} and sum is: {osum1}')\n"
   ]
  },
  {
   "cell_type": "code",
   "execution_count": 31,
   "id": "b4492979-906d-4379-913c-a54a18502d2d",
   "metadata": {},
   "outputs": [
    {
     "ename": "UnboundLocalError",
     "evalue": "cannot access local variable 'ocount' where it is not associated with a value",
     "output_type": "error",
     "traceback": [
      "\u001b[1;31m---------------------------------------------------------------------------\u001b[0m",
      "\u001b[1;31mUnboundLocalError\u001b[0m                         Traceback (most recent call last)",
      "Cell \u001b[1;32mIn[31], line 16\u001b[0m\n\u001b[0;32m     14\u001b[0m             osum \u001b[38;5;241m=\u001b[39m esum\u001b[38;5;241m+\u001b[39mnum\n\u001b[0;32m     15\u001b[0m     \u001b[38;5;28;01mreturn\u001b[39;00m (ecount, esum, ocount, osum)\n\u001b[1;32m---> 16\u001b[0m ecount1, esum1, ocount1, osum1 \u001b[38;5;241m=\u001b[39m even_odd()\n\u001b[0;32m     17\u001b[0m \u001b[38;5;28mprint\u001b[39m(\u001b[38;5;124mf\u001b[39m\u001b[38;5;124m'\u001b[39m\u001b[38;5;124mTotal Event Number count is: \u001b[39m\u001b[38;5;132;01m{\u001b[39;00mecount1\u001b[38;5;132;01m}\u001b[39;00m\u001b[38;5;124m and sum is: \u001b[39m\u001b[38;5;132;01m{\u001b[39;00mesum1\u001b[38;5;132;01m}\u001b[39;00m\u001b[38;5;124m'\u001b[39m)\n\u001b[0;32m     18\u001b[0m \u001b[38;5;28mprint\u001b[39m(\u001b[38;5;124mf\u001b[39m\u001b[38;5;124m'\u001b[39m\u001b[38;5;124mTotal Odd Number count is: \u001b[39m\u001b[38;5;132;01m{\u001b[39;00mocount1\u001b[38;5;132;01m}\u001b[39;00m\u001b[38;5;124m and sum is: \u001b[39m\u001b[38;5;132;01m{\u001b[39;00mosum1\u001b[38;5;132;01m}\u001b[39;00m\u001b[38;5;124m'\u001b[39m)\n",
      "Cell \u001b[1;32mIn[31], line 13\u001b[0m, in \u001b[0;36meven_odd\u001b[1;34m()\u001b[0m\n\u001b[0;32m     11\u001b[0m         esum \u001b[38;5;241m=\u001b[39m esum\u001b[38;5;241m+\u001b[39mnum\n\u001b[0;32m     12\u001b[0m     \u001b[38;5;28;01melse\u001b[39;00m:\n\u001b[1;32m---> 13\u001b[0m         ocount\u001b[38;5;241m=\u001b[39mocount\u001b[38;5;241m+\u001b[39m\u001b[38;5;241m1\u001b[39m\n\u001b[0;32m     14\u001b[0m         osum \u001b[38;5;241m=\u001b[39m esum\u001b[38;5;241m+\u001b[39mnum\n\u001b[0;32m     15\u001b[0m \u001b[38;5;28;01mreturn\u001b[39;00m (ecount, esum, ocount, osum)\n",
      "\u001b[1;31mUnboundLocalError\u001b[0m: cannot access local variable 'ocount' where it is not associated with a value"
     ]
    }
   ],
   "source": [
    "import random\n",
    "ecount, ocount = 0, 0 # Unbound Error if we declare global variable\n",
    "esum, osum = 0,0 # Unbound Error if we declare global variable\n",
    "def even_odd():\n",
    "    # ecount, ocount = 0, 0\n",
    "    # esum, osum = 0,0\n",
    "    for i in range(5):\n",
    "        num=random.randint(1, 100)\n",
    "        if num%2==0:\n",
    "            ecount=ecount+1\n",
    "            esum = esum+num\n",
    "        else:\n",
    "            ocount=ocount+1\n",
    "            osum = esum+num\n",
    "    return (ecount, esum, ocount, osum)\n",
    "ecount1, esum1, ocount1, osum1 = even_odd()\n",
    "print(f'Total Event Number count is: {ecount1} and sum is: {esum1}')\n",
    "print(f'Total Odd Number count is: {ocount1} and sum is: {osum1}')\n"
   ]
  },
  {
   "cell_type": "markdown",
   "id": "109b9773-f4ff-4166-b31d-5d86ca822ec7",
   "metadata": {},
   "source": [
    "**In Operator**"
   ]
  },
  {
   "cell_type": "code",
   "execution_count": 32,
   "id": "f92c2a89-353e-41bb-9683-2128410988e3",
   "metadata": {},
   "outputs": [
    {
     "name": "stdout",
     "output_type": "stream",
     "text": [
      "The ASCII number for p is 112\n",
      "The ASCII number for y is 121\n",
      "The ASCII number for t is 116\n",
      "The ASCII number for h is 104\n",
      "The ASCII number for o is 111\n",
      "The ASCII number for n is 110\n"
     ]
    }
   ],
   "source": [
    "# I want string1: 'python'\n",
    "# print all ascii number for 'python'\n",
    "for i in 'python':\n",
    "    print(f'The ASCII number for {i} is {ord(i)}')\n"
   ]
  },
  {
   "cell_type": "code",
   "execution_count": 34,
   "id": "1e6fde23-f2c4-4fb2-aefd-055b9811a2f2",
   "metadata": {},
   "outputs": [
    {
     "name": "stdout",
     "output_type": "stream",
     "text": [
      "SUM of all ASCII numbers for \"python\" is 674\n"
     ]
    }
   ],
   "source": [
    "# I want string1: 'python'\n",
    "# sum of all ascii number for 'python'\n",
    "sum = 0\n",
    "for i in 'python':\n",
    "    sum=sum+ord(i)\n",
    "print(f'SUM of all ASCII numbers for \"python\" is {sum}')"
   ]
  },
  {
   "cell_type": "code",
   "execution_count": 47,
   "id": "29591843-b5fc-4bf8-926a-dd4929f82b46",
   "metadata": {},
   "outputs": [
    {
     "name": "stdout",
     "output_type": "stream",
     "text": [
      "ASCII value for A is: 65\n",
      "ASCII value for B is: 66\n",
      "ASCII value for C is: 67\n",
      "ASCII value for D is: 68\n",
      "ASCII value for E is: 69\n",
      "ASCII value for F is: 70\n",
      "ASCII value for G is: 71\n",
      "ASCII value for H is: 72\n",
      "ASCII value for I is: 73\n",
      "ASCII value for J is: 74\n",
      "ASCII value for K is: 75\n",
      "ASCII value for L is: 76\n",
      "ASCII value for M is: 77\n",
      "ASCII value for N is: 78\n",
      "ASCII value for O is: 79\n",
      "ASCII value for P is: 80\n",
      "ASCII value for Q is: 81\n",
      "ASCII value for R is: 82\n",
      "ASCII value for S is: 83\n",
      "ASCII value for T is: 84\n",
      "ASCII value for U is: 85\n",
      "ASCII value for V is: 86\n",
      "ASCII value for W is: 87\n",
      "ASCII value for X is: 88\n",
      "ASCII value for Y is: 89\n",
      "ASCII value for Z is: 90\n"
     ]
    }
   ],
   "source": [
    "# ASCI numbers for A-Z\n",
    "stringalfa = ('ABCDEFGHIJKLMNOPQRSTUVWXYZ')\n",
    "for i in stringalfa:\n",
    "    print(f'ASCII value for {i} is: {ord(i)}')"
   ]
  },
  {
   "cell_type": "code",
   "execution_count": 38,
   "id": "9ffa4e72-86e4-43e8-babe-a693ae689fc0",
   "metadata": {},
   "outputs": [
    {
     "data": {
      "text/plain": [
       "['Formatter',\n",
       " 'Template',\n",
       " '_ChainMap',\n",
       " '__all__',\n",
       " '__builtins__',\n",
       " '__cached__',\n",
       " '__doc__',\n",
       " '__file__',\n",
       " '__loader__',\n",
       " '__name__',\n",
       " '__package__',\n",
       " '__spec__',\n",
       " '_re',\n",
       " '_sentinel_dict',\n",
       " '_string',\n",
       " 'ascii_letters',\n",
       " 'ascii_lowercase',\n",
       " 'ascii_uppercase',\n",
       " 'capwords',\n",
       " 'digits',\n",
       " 'hexdigits',\n",
       " 'octdigits',\n",
       " 'printable',\n",
       " 'punctuation',\n",
       " 'whitespace']"
      ]
     },
     "execution_count": 38,
     "metadata": {},
     "output_type": "execute_result"
    }
   ],
   "source": [
    "import string\n",
    "dir(string)"
   ]
  },
  {
   "cell_type": "code",
   "execution_count": 44,
   "id": "cb8ad3e4-9287-4276-9388-c5e5c3792530",
   "metadata": {},
   "outputs": [
    {
     "name": "stdout",
     "output_type": "stream",
     "text": [
      "Alphabet: A ASCII value is: 65\n",
      "Alphabet: B ASCII value is: 66\n",
      "Alphabet: C ASCII value is: 67\n",
      "Alphabet: D ASCII value is: 68\n",
      "Alphabet: E ASCII value is: 69\n",
      "Alphabet: F ASCII value is: 70\n",
      "Alphabet: G ASCII value is: 71\n",
      "Alphabet: H ASCII value is: 72\n",
      "Alphabet: I ASCII value is: 73\n",
      "Alphabet: J ASCII value is: 74\n",
      "Alphabet: K ASCII value is: 75\n",
      "Alphabet: L ASCII value is: 76\n",
      "Alphabet: M ASCII value is: 77\n",
      "Alphabet: N ASCII value is: 78\n",
      "Alphabet: O ASCII value is: 79\n",
      "Alphabet: P ASCII value is: 80\n",
      "Alphabet: Q ASCII value is: 81\n",
      "Alphabet: R ASCII value is: 82\n",
      "Alphabet: S ASCII value is: 83\n",
      "Alphabet: T ASCII value is: 84\n",
      "Alphabet: U ASCII value is: 85\n",
      "Alphabet: V ASCII value is: 86\n",
      "Alphabet: W ASCII value is: 87\n",
      "Alphabet: X ASCII value is: 88\n",
      "Alphabet: Y ASCII value is: 89\n",
      "Alphabet: Z ASCII value is: 90\n"
     ]
    }
   ],
   "source": [
    "import string\n",
    "for i in string.ascii_uppercase:\n",
    "    print(f'Alphabet: {i} ASCII value is: {ord(i)}')"
   ]
  },
  {
   "cell_type": "code",
   "execution_count": 45,
   "id": "b40d7b46-db25-4742-b856-4a979709dfda",
   "metadata": {},
   "outputs": [
    {
     "name": "stdout",
     "output_type": "stream",
     "text": [
      "Alphabet: a ASCII value is: 97\n",
      "Alphabet: b ASCII value is: 98\n",
      "Alphabet: c ASCII value is: 99\n",
      "Alphabet: d ASCII value is: 100\n",
      "Alphabet: e ASCII value is: 101\n",
      "Alphabet: f ASCII value is: 102\n",
      "Alphabet: g ASCII value is: 103\n",
      "Alphabet: h ASCII value is: 104\n",
      "Alphabet: i ASCII value is: 105\n",
      "Alphabet: j ASCII value is: 106\n",
      "Alphabet: k ASCII value is: 107\n",
      "Alphabet: l ASCII value is: 108\n",
      "Alphabet: m ASCII value is: 109\n",
      "Alphabet: n ASCII value is: 110\n",
      "Alphabet: o ASCII value is: 111\n",
      "Alphabet: p ASCII value is: 112\n",
      "Alphabet: q ASCII value is: 113\n",
      "Alphabet: r ASCII value is: 114\n",
      "Alphabet: s ASCII value is: 115\n",
      "Alphabet: t ASCII value is: 116\n",
      "Alphabet: u ASCII value is: 117\n",
      "Alphabet: v ASCII value is: 118\n",
      "Alphabet: w ASCII value is: 119\n",
      "Alphabet: x ASCII value is: 120\n",
      "Alphabet: y ASCII value is: 121\n",
      "Alphabet: z ASCII value is: 122\n"
     ]
    }
   ],
   "source": [
    "import string\n",
    "for i in string.ascii_lowercase:\n",
    "    print(f'Alphabet: {i} ASCII value is: {ord(i)}')"
   ]
  },
  {
   "cell_type": "code",
   "execution_count": 48,
   "id": "0b4f2ca6-76f2-4677-9f9c-c837e40db998",
   "metadata": {},
   "outputs": [
    {
     "name": "stdout",
     "output_type": "stream",
     "text": [
      "Punctuation of: ! ASCII value is: 33\n",
      "Punctuation of: \" ASCII value is: 34\n",
      "Punctuation of: # ASCII value is: 35\n",
      "Punctuation of: $ ASCII value is: 36\n",
      "Punctuation of: % ASCII value is: 37\n",
      "Punctuation of: & ASCII value is: 38\n",
      "Punctuation of: ' ASCII value is: 39\n",
      "Punctuation of: ( ASCII value is: 40\n",
      "Punctuation of: ) ASCII value is: 41\n",
      "Punctuation of: * ASCII value is: 42\n",
      "Punctuation of: + ASCII value is: 43\n",
      "Punctuation of: , ASCII value is: 44\n",
      "Punctuation of: - ASCII value is: 45\n",
      "Punctuation of: . ASCII value is: 46\n",
      "Punctuation of: / ASCII value is: 47\n",
      "Punctuation of: : ASCII value is: 58\n",
      "Punctuation of: ; ASCII value is: 59\n",
      "Punctuation of: < ASCII value is: 60\n",
      "Punctuation of: = ASCII value is: 61\n",
      "Punctuation of: > ASCII value is: 62\n",
      "Punctuation of: ? ASCII value is: 63\n",
      "Punctuation of: @ ASCII value is: 64\n",
      "Punctuation of: [ ASCII value is: 91\n",
      "Punctuation of: \\ ASCII value is: 92\n",
      "Punctuation of: ] ASCII value is: 93\n",
      "Punctuation of: ^ ASCII value is: 94\n",
      "Punctuation of: _ ASCII value is: 95\n",
      "Punctuation of: ` ASCII value is: 96\n",
      "Punctuation of: { ASCII value is: 123\n",
      "Punctuation of: | ASCII value is: 124\n",
      "Punctuation of: } ASCII value is: 125\n",
      "Punctuation of: ~ ASCII value is: 126\n"
     ]
    }
   ],
   "source": [
    "import string\n",
    "for i in string.punctuation:\n",
    "    print(f'Punctuation of: {i} ASCII value is: {ord(i)}')"
   ]
  },
  {
   "cell_type": "code",
   "execution_count": 50,
   "id": "81eecad8-4d50-43b6-a0e9-fc69505892a5",
   "metadata": {},
   "outputs": [
    {
     "name": "stdout",
     "output_type": "stream",
     "text": [
      "33 !==>34 \"==>35 #==>36 $==>37 %==>38 &==>39 '==>40 (==>41 )==>42 *==>43 +==>44 ,==>45 -==>46 .==>47 /==>48 0==>49 1==>50 2==>51 3==>52 4==>53 5==>54 6==>55 7==>56 8==>57 9==>58 :==>59 ;==>60 <==>61 ===>62 >==>63 ?==>64 @==>65 A==>66 B==>67 C==>68 D==>69 E==>70 F==>71 G==>72 H==>73 I==>74 J==>75 K==>76 L==>77 M==>78 N==>79 O==>80 P==>81 Q==>82 R==>83 S==>84 T==>85 U==>86 V==>87 W==>88 X==>89 Y==>90 Z==>91 [==>92 \\==>93 ]==>94 ^==>95 _==>96 `==>97 a==>98 b==>99 c==>100 d==>101 e==>102 f==>103 g==>104 h==>105 i==>106 j==>107 k==>108 l==>109 m==>110 n==>111 o==>112 p==>113 q==>114 r==>115 s==>116 t==>117 u==>118 v==>119 w==>120 x==>121 y==>122 z==>123 {==>124 |==>125 }==>"
     ]
    }
   ],
   "source": [
    "for i in range(33, 126):\n",
    "    print(i, chr(i), end='==>')"
   ]
  },
  {
   "cell_type": "code",
   "execution_count": 51,
   "id": "cfdbaad0-ee0d-401c-96fe-18a1d7a1576e",
   "metadata": {},
   "outputs": [
    {
     "name": "stdout",
     "output_type": "stream",
     "text": [
      "900 ΄==>901 ΅==>902 Ά==>903 ·==>904 Έ==>905 Ή==>906 Ί==>907 ΋==>908 Ό==>909 ΍==>910 Ύ==>911 Ώ==>912 ΐ==>913 Α==>914 Β==>915 Γ==>916 Δ==>917 Ε==>918 Ζ==>919 Η==>920 Θ==>921 Ι==>922 Κ==>923 Λ==>924 Μ==>925 Ν==>926 Ξ==>927 Ο==>928 Π==>929 Ρ==>930 ΢==>931 Σ==>932 Τ==>933 Υ==>934 Φ==>935 Χ==>936 Ψ==>937 Ω==>938 Ϊ==>939 Ϋ==>940 ά==>941 έ==>942 ή==>943 ί==>944 ΰ==>945 α==>946 β==>947 γ==>948 δ==>949 ε==>950 ζ==>951 η==>952 θ==>953 ι==>954 κ==>955 λ==>956 μ==>957 ν==>958 ξ==>959 ο==>960 π==>961 ρ==>962 ς==>963 σ==>964 τ==>965 υ==>966 φ==>967 χ==>968 ψ==>969 ω==>970 ϊ==>971 ϋ==>972 ό==>973 ύ==>974 ώ==>975 Ϗ==>976 ϐ==>977 ϑ==>978 ϒ==>979 ϓ==>980 ϔ==>981 ϕ==>982 ϖ==>983 ϗ==>984 Ϙ==>985 ϙ==>986 Ϛ==>987 ϛ==>988 Ϝ==>989 ϝ==>990 Ϟ==>991 ϟ==>992 Ϡ==>993 ϡ==>994 Ϣ==>995 ϣ==>996 Ϥ==>997 ϥ==>998 Ϧ==>999 ϧ==>"
     ]
    }
   ],
   "source": [
    "for i in range(900, 1000):\n",
    "    print(i, chr(i), end='==>')"
   ]
  },
  {
   "cell_type": "code",
   "execution_count": 54,
   "id": "ba40f91f-7c2c-421b-b473-278e99f57bc4",
   "metadata": {},
   "outputs": [
    {
     "name": "stdout",
     "output_type": "stream",
     "text": [
      "3077 అ==>3078 ఆ==>3079 ఇ==>3080 ఈ==>3081 ఉ==>3082 ఊ==>3083 ఋ==>3084 ఌ==>3085 ఍==>3086 ఎ==>3087 ఏ==>3088 ఐ==>3089 ఑==>3090 ఒ==>3091 ఓ==>3092 ఔ==>3093 క==>3094 ఖ==>3095 గ==>3096 ఘ==>3097 ఙ==>3098 చ==>3099 ఛ==>3100 జ==>3101 ఝ==>3102 ఞ==>3103 ట==>3104 ఠ==>3105 డ==>3106 ఢ==>3107 ణ==>3108 త==>3109 థ==>3110 ద==>3111 ధ==>3112 న==>3113 ఩==>3114 ప==>3115 ఫ==>3116 బ==>3117 భ==>3118 మ==>3119 య==>3120 ర==>3121 ఱ==>3122 ల==>3123 ళ==>3124 ఴ==>3125 వ==>3126 శ==>3127 ష==>3128 స==>3129 హ==>3130 ఺==>3131 ఻==>3132 ఼==>3133 ఽ==>3134 ా==>3135 ి==>3136 ీ==>3137 ు==>3138 ూ==>3139 ృ==>3140 ౄ==>3141 ౅==>3142 ె==>3143 ే==>3144 ై==>3145 ౉==>3146 ొ==>3147 ో==>3148 ౌ==>3149 ్==>3150 ౎==>3151 ౏==>3152 ౐==>3153 ౑==>3154 ౒==>3155 ౓==>3156 ౔==>3157 ౕ==>3158 ౖ==>3159 ౗==>3160 ౘ==>3161 ౙ==>3162 ౚ==>3163 ౛==>3164 ౜==>3165 ౝ==>3166 ౞==>3167 ౟==>3168 ౠ==>3169 ౡ==>3170 ౢ==>3171 ౣ==>3172 ౤==>3173 ౥==>3174 ౦==>3175 ౧==>3176 ౨==>3177 ౩==>3178 ౪==>3179 ౫==>3180 ౬==>3181 ౭==>3182 ౮==>3183 ౯==>3184 ౰==>3185 ౱==>3186 ౲==>3187 ౳==>3188 ౴==>3189 ౵==>3190 ౶==>3191 ౷==>3192 ౸==>3193 ౹==>3194 ౺==>3195 ౻==>3196 ౼==>3197 ౽==>3198 ౾==>3199 ౿==>3200 ಀ==>3201 ಁ==>3202 ಂ==>3203 ಃ==>3204 ಄==>3205 ಅ==>3206 ಆ==>3207 ಇ==>3208 ಈ==>3209 ಉ==>3210 ಊ==>3211 ಋ==>3212 ಌ==>3213 ಍==>3214 ಎ==>3215 ಏ==>3216 ಐ==>3217 ಑==>3218 ಒ==>3219 ಓ==>3220 ಔ==>3221 ಕ==>3222 ಖ==>3223 ಗ==>3224 ಘ==>3225 ಙ==>3226 ಚ==>3227 ಛ==>3228 ಜ==>3229 ಝ==>3230 ಞ==>3231 ಟ==>3232 ಠ==>3233 ಡ==>3234 ಢ==>3235 ಣ==>3236 ತ==>3237 ಥ==>3238 ದ==>3239 ಧ==>3240 ನ==>3241 ಩==>3242 ಪ==>3243 ಫ==>3244 ಬ==>3245 ಭ==>3246 ಮ==>3247 ಯ==>3248 ರ==>3249 ಱ==>3250 ಲ==>3251 ಳ==>3252 ಴==>3253 ವ==>3254 ಶ==>3255 ಷ==>3256 ಸ==>3257 ಹ==>3258 ಺==>3259 ಻==>3260 ಼==>3261 ಽ==>3262 ಾ==>3263 ಿ==>3264 ೀ==>3265 ು==>3266 ೂ==>3267 ೃ==>3268 ೄ==>3269 ೅==>3270 ೆ==>3271 ೇ==>3272 ೈ==>3273 ೉==>3274 ೊ==>3275 ೋ==>3276 ೌ==>3277 ್==>3278 ೎==>3279 ೏==>3280 ೐==>3281 ೑==>3282 ೒==>3283 ೓==>3284 ೔==>3285 ೕ==>3286 ೖ==>3287 ೗==>3288 ೘==>3289 ೙==>3290 ೚==>3291 ೛==>3292 ೜==>3293 ೝ==>3294 ೞ==>3295 ೟==>3296 ೠ==>3297 ೡ==>3298 ೢ==>3299 ೣ==>"
     ]
    }
   ],
   "source": [
    "for i in range(3077, 3300):\n",
    "    print(i, chr(i), end='==>')"
   ]
  },
  {
   "cell_type": "code",
   "execution_count": null,
   "id": "179efbb3-e7da-4ba1-b6ff-4d5917a8103e",
   "metadata": {},
   "outputs": [],
   "source": []
  }
 ],
 "metadata": {
  "kernelspec": {
   "display_name": "Python 3 (ipykernel)",
   "language": "python",
   "name": "python3"
  },
  "language_info": {
   "codemirror_mode": {
    "name": "ipython",
    "version": 3
   },
   "file_extension": ".py",
   "mimetype": "text/x-python",
   "name": "python",
   "nbconvert_exporter": "python",
   "pygments_lexer": "ipython3",
   "version": "3.11.7"
  }
 },
 "nbformat": 4,
 "nbformat_minor": 5
}
