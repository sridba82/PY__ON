{
 "cells": [
  {
   "cell_type": "markdown",
   "id": "e4ce566e-0300-4f55-be98-99945064bf64",
   "metadata": {},
   "source": [
    "**Dictionary**\n",
    "- We already seen many data types\n",
    "- String\n",
    "- List\n",
    "- Tuple\n",
    "- Set\n",
    "- Dictionary\n",
    "- int float bool complex\n",
    "- eval is not a data type\n",
    "- range is datatype"
   ]
  },
  {
   "cell_type": "markdown",
   "id": "06cf962f-b02a-42c5-9ce7-affbd7dde0c3",
   "metadata": {},
   "source": [
    "**Zip**\n"
   ]
  },
  {
   "cell_type": "code",
   "execution_count": null,
   "id": "0e501b9f-1a8f-40fe-a509-6b1615e83a4b",
   "metadata": {},
   "outputs": [],
   "source": [
    "names=['Amar', 'Babu', 'Chinnu']\n",
    "age=[11, 12, 13]\n",
    "for i, j in zip(names, age):\n",
    "    print(i,': ', j)"
   ]
  },
  {
   "cell_type": "code",
   "execution_count": null,
   "id": "ebf2f027-ed85-4f61-8ba4-c4a1d1d8c6d3",
   "metadata": {},
   "outputs": [],
   "source": [
    "zip(names, age)"
   ]
  },
  {
   "cell_type": "code",
   "execution_count": null,
   "id": "871c66bf-ee29-49d8-b225-f81931754f55",
   "metadata": {},
   "outputs": [],
   "source": [
    "list(zip(names, age))"
   ]
  },
  {
   "cell_type": "code",
   "execution_count": null,
   "id": "8af803dc-b32f-465b-add6-00f2163cf662",
   "metadata": {},
   "outputs": [],
   "source": [
    "dict1= {'Amar':11, 'Babu':12, 'Chinnu':13}\n",
    "type(dict1)"
   ]
  },
  {
   "cell_type": "code",
   "execution_count": null,
   "id": "360feb05-cb29-459d-a5e8-0aac472fc24e",
   "metadata": {},
   "outputs": [],
   "source": [
    "d1={'Amar':11, 'Babu':12, 'Chinnu':13}\n",
    "max(d1)"
   ]
  },
  {
   "cell_type": "code",
   "execution_count": null,
   "id": "5fc026b0-990b-4b9c-8939-e85009d47e9f",
   "metadata": {},
   "outputs": [],
   "source": [
    "d2={'Amar':'11', 'Babu':'12', 'Chinnu':'13'}\n",
    "max(d2)"
   ]
  },
  {
   "cell_type": "code",
   "execution_count": null,
   "id": "1d00dd6f-4a16-4b73-b7fd-b81cdf783362",
   "metadata": {},
   "outputs": [],
   "source": [
    "d1={'Amar':11, 'Babu':12, 'Chinnu':13}\n",
    "d2={'Amar':'11', 'Babu':'12', 'Chinnu':'13'}\n",
    "d3={25:'Amar', 30:'Babu', 11:'Chinnu'}\n",
    "d4={'Amar':30, '30':'Babu', 'bablu':33}\n",
    "d5={25:'Amar', '30':'Babu', 11:'Chinnu'}\n",
    "d6={25:'Amar', 25:'Babu', 25:'Chinnu'}\n"
   ]
  },
  {
   "cell_type": "code",
   "execution_count": 9,
   "id": "bbf4db3e-1683-47e2-b6b3-1059a59e3327",
   "metadata": {},
   "outputs": [
    {
     "data": {
      "text/plain": [
       "(<dict_reversekeyiterator at 0x128161cd2b0>, [11, 30, 25])"
      ]
     },
     "execution_count": 9,
     "metadata": {},
     "output_type": "execute_result"
    }
   ],
   "source": [
    "d1={'Amar':11, 'Babu':12, 'Chinnu':13}\n",
    "d2={'Amar':'11', 'Babu':'12', 'Chinnu':'13'}\n",
    "d3={25:'Amar', 30:'Babu', 11:'Chinnu'}\n",
    "d4={'Amar':30, '30':'Babu', 'bablu':33}\n",
    "d5={25:'Amar', '30':'Babu', 11:'Chinnu'}\n",
    "d6={25:'Amar', 25:'Babu', 25:'Chinnu'}\n",
    "reversed(d3), list(reversed(d3))"
   ]
  },
  {
   "cell_type": "code",
   "execution_count": 10,
   "id": "62233614-fc85-4c8c-9c12-74fbc9f1d3bd",
   "metadata": {},
   "outputs": [
    {
     "data": {
      "text/plain": [
       "12"
      ]
     },
     "execution_count": 10,
     "metadata": {},
     "output_type": "execute_result"
    }
   ],
   "source": [
    "d1['Babu']"
   ]
  },
  {
   "cell_type": "code",
   "execution_count": null,
   "id": "ba1373c5-ef52-4f5d-9e7c-fa8ed221abf2",
   "metadata": {},
   "outputs": [],
   "source": []
  }
 ],
 "metadata": {
  "kernelspec": {
   "display_name": "Python 3 (ipykernel)",
   "language": "python",
   "name": "python3"
  },
  "language_info": {
   "codemirror_mode": {
    "name": "ipython",
    "version": 3
   },
   "file_extension": ".py",
   "mimetype": "text/x-python",
   "name": "python",
   "nbconvert_exporter": "python",
   "pygments_lexer": "ipython3",
   "version": "3.11.7"
  }
 },
 "nbformat": 4,
 "nbformat_minor": 5
}
