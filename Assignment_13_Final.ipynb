{
 "cells": [
  {
   "cell_type": "code",
   "execution_count": null,
   "id": "199dfef3-605c-4781-a36d-e9017b612176",
   "metadata": {},
   "outputs": [],
   "source": [
    "# strip\n",
    "string = '    omkar.nallagoni@cognizant.com    '\n",
    "st=string.strip()               # Removed left, right spaces from the main string\n",
    "st2=string.strip('    omkar.')  # Removed matching text (left) from the main string\n",
    "st3=string.strip('.com    ')    # Space+om removed left, on right matching text removed (om and space exist in left and right)\n",
    "st4=string.strip('cognizant')   # No changes in O/P.\n",
    "print('****:',st,'@@@@')\n",
    "print('****:',st2,'@@@@')\n",
    "print('****:',st3,'@@@@')\n",
    "print('****:',st4,'@@@@')"
   ]
  },
  {
   "cell_type": "code",
   "execution_count": 1,
   "id": "3c312604-5ccf-4a15-87ef-0bc47281f1a4",
   "metadata": {},
   "outputs": [
    {
     "name": "stdout",
     "output_type": "stream",
     "text": [
      "****: omkar.nallagoni@cognizant.com      @@@@\n",
      "****:    omkar.nallagoni@cognizant.com      @@@@\n",
      "****: nallagoni@cognizant.com      @@@@\n",
      "****: kar.nallagoni@cognizant.com      @@@@\n"
     ]
    }
   ],
   "source": [
    "# lstrip\n",
    "string = '   omkar.nallagoni@cognizant.com     '\n",
    "sta=string.lstrip()            # Removing left spaces from the main string\n",
    "stb=string.lstrip('om')        # Nothing removed\n",
    "stc=string.lstrip('   omkar.') # Matching text removed on left\n",
    "std=string.lstrip('.com    ')  # Space+om removed left\n",
    "print('****:',sta,'@@@@')\n",
    "print('****:',stb,'@@@@')\n",
    "print('****:',stc,'@@@@')\n",
    "print('****:',std,'@@@@')"
   ]
  },
  {
   "cell_type": "code",
   "execution_count": 2,
   "id": "8094fb98-46af-46ac-a3c0-b33952441f73",
   "metadata": {},
   "outputs": [
    {
     "name": "stdout",
     "output_type": "stream",
     "text": [
      "****:    omkar.nallagoni@cognizant.com @@@@\n",
      "****:    omkar.nallagoni@cognizant.com      @@@@\n",
      "****:    omkar.nallagoni@cognizant @@@@\n",
      "****:    omkar.nallagoni@cognizant.c @@@@\n"
     ]
    }
   ],
   "source": [
    "# rstrip\n",
    "string = '   omkar.nallagoni@cognizant.com     '\n",
    "stp=string.rstrip()            # Removed left spaces from the main string\n",
    "stq=string.rstrip('om')        # Nothing removed\n",
    "str=string.rstrip('.com    ') # Matching text removed on right\n",
    "sts=string.rstrip('om     ')  # Space+om removed right\n",
    "print('****:',stp,'@@@@')\n",
    "print('****:',stq,'@@@@')\n",
    "print('****:',str,'@@@@')\n",
    "print('****:',sts,'@@@@')"
   ]
  },
  {
   "cell_type": "code",
   "execution_count": 4,
   "id": "81fa52f8-cd4a-4998-9bd0-755b13978658",
   "metadata": {},
   "outputs": [
    {
     "name": "stdout",
     "output_type": "stream",
     "text": [
      "True\n",
      "False\n",
      "True\n"
     ]
    }
   ],
   "source": [
    "# startswith\n",
    "string1='*wap ask the user to get count of number' \n",
    "stringx = '   omkar.nallagoni@cognizant.com     '\n",
    "x1=string1.startswith('*')\n",
    "x2=string1.startswith('* ')\n",
    "x3=string1.startswith('*wap')\n",
    "print(x1)\n",
    "print(x2)\n",
    "print(x3)"
   ]
  },
  {
   "cell_type": "code",
   "execution_count": 5,
   "id": "78e2422c-7a0e-43d7-8351-7987cf66b8e7",
   "metadata": {},
   "outputs": [
    {
     "name": "stdout",
     "output_type": "stream",
     "text": [
      "True\n",
      "False\n",
      "True\n"
     ]
    }
   ],
   "source": [
    "# endswith\n",
    "# string = 'omkar.nallagoni@cognizant.com '\n",
    "string2='*wap ask the user to get count of number#'\n",
    "y1=string2.endswith('#')\n",
    "y2=string2.endswith('# ')\n",
    "y3=string2.endswith('ber#')\n",
    "print(y1)\n",
    "print(y2)\n",
    "print(y3)"
   ]
  },
  {
   "cell_type": "code",
   "execution_count": 6,
   "id": "fec2b254-ff92-41f8-8d39-cf4ebc61609f",
   "metadata": {},
   "outputs": [
    {
     "name": "stdout",
     "output_type": "stream",
     "text": [
      "wap ask the user to get count[of]number of 'a' in a given string\n",
      "wap ask the user to get count[of]number[of]'a' in a given string\n",
      "wap ask the user to get count[of]number[of]'a' in a given string\n",
      "wap ask the user to get count of number of \\n in a given string\n"
     ]
    }
   ],
   "source": [
    "# replace\n",
    "rep='wap ask the user to get count of number of \\'a\\' in a given string'\n",
    "update_rep1=rep.replace(' of ', '[of]', 1)\n",
    "update_rep2=rep.replace(' of ', '[of]')\n",
    "update_rep3=rep.replace(' of ', '[of]', 2)    # number '2' is the occurance, not the location\n",
    "update_rep4=rep.replace('\\'a\\'', '\\\\n')\n",
    "print(update_rep1)\n",
    "print(update_rep2)\n",
    "print(update_rep3)\n",
    "print(update_rep4)"
   ]
  },
  {
   "cell_type": "code",
   "execution_count": null,
   "id": "eee66604-4b1d-48ad-a293-66720a157965",
   "metadata": {},
   "outputs": [],
   "source": []
  }
 ],
 "metadata": {
  "kernelspec": {
   "display_name": "Python 3 (ipykernel)",
   "language": "python",
   "name": "python3"
  },
  "language_info": {
   "codemirror_mode": {
    "name": "ipython",
    "version": 3
   },
   "file_extension": ".py",
   "mimetype": "text/x-python",
   "name": "python",
   "nbconvert_exporter": "python",
   "pygments_lexer": "ipython3",
   "version": "3.11.7"
  }
 },
 "nbformat": 4,
 "nbformat_minor": 5
}
