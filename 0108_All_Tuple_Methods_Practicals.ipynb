{
 "cells": [
  {
   "cell_type": "markdown",
   "id": "6ff17f9e-42d4-45d4-8546-b29ca34f312b",
   "metadata": {},
   "source": [
    "## <ins>Tuple Methods</ins>"
   ]
  },
  {
   "cell_type": "code",
   "execution_count": 2,
   "id": "b0ba10f5-8818-4370-9de2-d6406b924dcc",
   "metadata": {},
   "outputs": [
    {
     "name": "stdout",
     "output_type": "stream",
     "text": [
      "33 : count()\n",
      "34 : index()\n"
     ]
    }
   ],
   "source": [
    "for st in range(len(dir(()))):\n",
    "    if dir(())[st][0:2] != '__':\n",
    "        print(st, ':', dir(())[st],end='')\n",
    "        print('()')"
   ]
  },
  {
   "cell_type": "code",
   "execution_count": 3,
   "id": "8675603b-ea72-45e7-bab9-6b309ea7c550",
   "metadata": {},
   "outputs": [
    {
     "data": {
      "text/plain": [
       "['__add__',\n",
       " '__class__',\n",
       " '__class_getitem__',\n",
       " '__contains__',\n",
       " '__delattr__',\n",
       " '__dir__',\n",
       " '__doc__',\n",
       " '__eq__',\n",
       " '__format__',\n",
       " '__ge__',\n",
       " '__getattribute__',\n",
       " '__getitem__',\n",
       " '__getnewargs__',\n",
       " '__getstate__',\n",
       " '__gt__',\n",
       " '__hash__',\n",
       " '__init__',\n",
       " '__init_subclass__',\n",
       " '__iter__',\n",
       " '__le__',\n",
       " '__len__',\n",
       " '__lt__',\n",
       " '__mul__',\n",
       " '__ne__',\n",
       " '__new__',\n",
       " '__reduce__',\n",
       " '__reduce_ex__',\n",
       " '__repr__',\n",
       " '__rmul__',\n",
       " '__setattr__',\n",
       " '__sizeof__',\n",
       " '__str__',\n",
       " '__subclasshook__',\n",
       " 'count',\n",
       " 'index']"
      ]
     },
     "execution_count": 3,
     "metadata": {},
     "output_type": "execute_result"
    }
   ],
   "source": [
    "dir(())"
   ]
  },
  {
   "cell_type": "code",
   "execution_count": 70,
   "id": "e551dd2f-27c4-4478-b8ff-63108569eb29",
   "metadata": {},
   "outputs": [
    {
     "name": "stdout",
     "output_type": "stream",
     "text": [
      "3\n",
      "3\n"
     ]
    }
   ],
   "source": [
    "# Creating tuples \n",
    "tuple = ({'A':(['A1', 'A2'],('A12', 'A21'), [10, 20]), 'B':(['B1', 'B2'], ('B12','B21'), [11, 21])})\n",
    "t_key=[]\n",
    "for t in tuple:\n",
    "    t_key.append(t)\n",
    "for tk in t_key:\n",
    "    print(len(tuple[tk]))"
   ]
  },
  {
   "cell_type": "code",
   "execution_count": 49,
   "id": "b67a9e49-0447-4552-b9e8-4f1014425428",
   "metadata": {},
   "outputs": [
    {
     "name": "stdout",
     "output_type": "stream",
     "text": [
      "Int:  99\n",
      "String:  geeks\n",
      "Float:  22.023\n",
      "Tuple:  (2, 3)\n",
      "List:  [3, 2]\n",
      "Dictionary:  {1: 2}\n"
     ]
    }
   ],
   "source": [
    "# Data Types wise displaying \n",
    "Tuple = (99, 'geeks', 22.023, (2, 3), [3, 2], {1:2}) \n",
    "for t in Tuple:\n",
    "    if str(type(t))[8:][:-2] == 'dict':\n",
    "        print('Dictionary: ', t)\n",
    "    elif str(type(t))[8:][:-2] == 'list':\n",
    "        print('List: ',t)\n",
    "    elif str(type(t))[8:][:-2] == 'tuple':\n",
    "        print('Tuple: ',t)\n",
    "    elif str(type(t))[8:][:-2] == 'float':\n",
    "        print('Float: ',t)\n",
    "    elif str(type(t))[8:][:-2] == 'str':\n",
    "        print('String: ',t)\n",
    "    else:\n",
    "        print('Int: ',t)"
   ]
  },
  {
   "cell_type": "code",
   "execution_count": null,
   "id": "6efd88ba-5ce1-40d8-86fd-dbc727b32772",
   "metadata": {},
   "outputs": [],
   "source": []
  }
 ],
 "metadata": {
  "kernelspec": {
   "display_name": "Python 3 (ipykernel)",
   "language": "python",
   "name": "python3"
  },
  "language_info": {
   "codemirror_mode": {
    "name": "ipython",
    "version": 3
   },
   "file_extension": ".py",
   "mimetype": "text/x-python",
   "name": "python",
   "nbconvert_exporter": "python",
   "pygments_lexer": "ipython3",
   "version": "3.11.7"
  }
 },
 "nbformat": 4,
 "nbformat_minor": 5
}
