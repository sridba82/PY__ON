{
 "cells": [
  {
   "cell_type": "code",
   "execution_count": 1,
   "id": "e50e6c31-db36-47a8-b2da-01cae72c1488",
   "metadata": {},
   "outputs": [
    {
     "name": "stdout",
     "output_type": "stream",
     "text": [
      "Total count of 'a' in string: hai naresh how are you is: 3\n"
     ]
    }
   ],
   "source": [
    "#Q1) WAP ask the user count how many 'a' are present in a given string\n",
    "# str1='hai naresh how are you'\n",
    "# Idea: counter wrapper\n",
    "# step-1: count=0\n",
    "# step-2: using for loop in operator iterate through given string\n",
    "# step-3: apply the if condition, whenever the letter equal to 'a'\n",
    "# step-4: count=count+1\n",
    "str1='hai naresh how are you'\n",
    "counter=0\n",
    "for i in str1:\n",
    "    if i=='a':\n",
    "        counter=counter+1\n",
    "print(f'Total count of \\'a\\' in string: {str1} is: {counter}')"
   ]
  },
  {
   "cell_type": "code",
   "execution_count": 3,
   "id": "68bc2c69-5319-4b6b-bfcb-508464ad968a",
   "metadata": {},
   "outputs": [
    {
     "name": "stdout",
     "output_type": "stream",
     "text": [
      "Total vovels in string: 'hai naresh how are you' is: 9\n"
     ]
    }
   ],
   "source": [
    "# Q2) WAP ask the find how many vowels are there in a given string\n",
    "# str1='hai naresh how are you'\n",
    "# ans=9\n",
    "str1='hai naresh how are you'\n",
    "vovels = 'aeiou'\n",
    "counter=0\n",
    "for i in str1:\n",
    "    for j in vovels:\n",
    "        if i==j:\n",
    "            counter=counter+1\n",
    "print(f'Total vovels in string: \\'{str1}\\' is: {counter}')"
   ]
  },
  {
   "cell_type": "code",
   "execution_count": 4,
   "id": "dbd77253-2bba-44b0-8afe-517c5769036c",
   "metadata": {},
   "outputs": [
    {
     "name": "stdout",
     "output_type": "stream",
     "text": [
      "Total unique vovels in string: 'hai naresh how are you' is: 5\n"
     ]
    }
   ],
   "source": [
    "# Q3) Home work qn\n",
    "# str1='hai naresh how are you'\n",
    "# Repetaed vowels are there\n",
    "# We dont want repetaed vowels\n",
    "# Count the vowels avoid the repeatition: Unique vowels\n",
    "# Q2) WAP ask the find how many vowels are there in a given string\n",
    "# str1='hai naresh how are you'\n",
    "# ans=9\n",
    "str1='hai naresh how are you'\n",
    "vovels = 'aeiou'\n",
    "counter=0\n",
    "for i in vovels:\n",
    "    for j in str1:\n",
    "        if j==i:\n",
    "            counter=counter+1\n",
    "            break\n",
    "print(f'Total unique vovels in string: \\'{str1}\\' is: {counter}')"
   ]
  },
  {
   "cell_type": "code",
   "execution_count": 5,
   "id": "18b2317a-273a-4b72-a900-efef6adda153",
   "metadata": {},
   "outputs": [
    {
     "name": "stdout",
     "output_type": "stream",
     "text": [
      "h a i   n a r e s h   h o w   a r e   y o u "
     ]
    }
   ],
   "source": [
    "# Q4) print each letter using for loop range\n",
    "str1='hai naresh how are you'\n",
    "for i in str1:\n",
    "    print(i, end=' ')"
   ]
  },
  {
   "cell_type": "code",
   "execution_count": 6,
   "id": "3816c7f5-5a68-4961-a96f-c611604271fe",
   "metadata": {},
   "outputs": [
    {
     "name": "stdout",
     "output_type": "stream",
     "text": [
      "the postive index of w is 0\n",
      "the postive index of e is 1\n",
      "the postive index of l is 2\n",
      "the postive index of c is 3\n",
      "the postive index of o is 4\n",
      "the postive index of m is 5\n",
      "the postive index of e is 6\n"
     ]
    }
   ],
   "source": [
    "# Q5) wap ask the user iterate using a string\n",
    "# string='welcome'\n",
    "# print the postive index of w is 0\n",
    "#       the positive index of e is 1\n",
    "#       the positive index of l is 1\n",
    "str='welcome'\n",
    "for i in range(len(str)):\n",
    "    print(f'the postive index of {str[i]} is {i}')"
   ]
  },
  {
   "cell_type": "code",
   "execution_count": 7,
   "id": "f27d2bca-7657-4b9f-859c-fae9e7570ad9",
   "metadata": {},
   "outputs": [
    {
     "name": "stdout",
     "output_type": "stream",
     "text": [
      "the negative index of w is -7\n",
      "the negative index of e is -6\n",
      "the negative index of l is -5\n",
      "the negative index of c is -4\n",
      "the negative index of o is -3\n",
      "the negative index of m is -2\n",
      "the negative index of e is -1\n"
     ]
    }
   ],
   "source": [
    "# Q6) wap ask the user iterate using a string\n",
    "# string='welcome'\n",
    "# print the negative index of w is -7\n",
    "#       the negative index of e is -6\n",
    "#       the negative index of l is -5\n",
    "# the positive index is 0 and the negtaive index -7 for w\n",
    "str='welcome'\n",
    "for i in range(len(str)):\n",
    "    print(f'the negative index of {str[i-len(str)]} is {i-len(str)}')"
   ]
  },
  {
   "cell_type": "code",
   "execution_count": 9,
   "id": "c9b784a2-1a01-4e10-b5aa-fc5b6a624861",
   "metadata": {},
   "outputs": [
    {
     "name": "stdout",
     "output_type": "stream",
     "text": [
      "positive index is 0 and the negtaive index -7 for w\n"
     ]
    }
   ],
   "source": [
    "# Q7) wap ask the user iterate using a string\n",
    "# string='welcome'\n",
    "# # the positive index is 0 and the negtaive index -7 for w\n",
    "str='welcome'\n",
    "char='w'\n",
    "for i in range(0, len(str)):\n",
    "    if str[i]==char and str[i-len(str)] == char:\n",
    "        print(f'positive index is {i} and the negtaive index {i-len(str)} for {char}')"
   ]
  },
  {
   "cell_type": "code",
   "execution_count": 10,
   "id": "ae7479c0-3278-4c1a-9cff-97b21b395646",
   "metadata": {},
   "outputs": [
    {
     "name": "stdout",
     "output_type": "stream",
     "text": [
      "1 8 18 "
     ]
    }
   ],
   "source": [
    "#Q8) wap ask the user get the index of each 'a' in a given string\n",
    "# s='hai how are you i am good'\n",
    "# a=1  8  18\n",
    "s='hai how are you i am good'\n",
    "for i in range(len(s)):\n",
    "    if s[i]=='a':\n",
    "        print(i, end=' ')"
   ]
  },
  {
   "cell_type": "code",
   "execution_count": 11,
   "id": "3ad29963-de64-4eb4-a3fd-ddef181ed332",
   "metadata": {},
   "outputs": [
    {
     "name": "stdout",
     "output_type": "stream",
     "text": [
      "Total No. of 'a' is: 3\n"
     ]
    }
   ],
   "source": [
    "#Q9) wap ask the user to get count of number of 'a' in a given string\n",
    "#     using for-range\n",
    "s='hai how are you i am good'\n",
    "count=0\n",
    "for i in range(len(s)):\n",
    "    if s[i]=='a':\n",
    "        count=count+1\n",
    "print(f'Total No. of \\'a\\' is: {count}')"
   ]
  },
  {
   "cell_type": "code",
   "execution_count": 12,
   "id": "e4806e95-e2fc-40a3-9f31-f3492dc26e2d",
   "metadata": {},
   "outputs": [
    {
     "name": "stdout",
     "output_type": "stream",
     "text": [
      "The sum of all index numbers of 'a' is: 27\n"
     ]
    }
   ],
   "source": [
    "#Q10) wap ask the user get the sum of all index numbers of 'a'\n",
    "# 1+8+18= 27\n",
    "s='hai how are you i am good'\n",
    "sum=0\n",
    "for i in range(len(s)):\n",
    "    if s[i]=='a':\n",
    "        sum=sum+i\n",
    "print(f'The sum of all index numbers of \\'a\\' is: {sum}')"
   ]
  },
  {
   "cell_type": "code",
   "execution_count": 13,
   "id": "9311630d-dbb0-4e4e-8cc2-e0b8c67f3be5",
   "metadata": {},
   "outputs": [
    {
     "name": "stdin",
     "output_type": "stream",
     "text": [
      "Ente any text to count vovels:  Hello world\n"
     ]
    },
    {
     "name": "stdout",
     "output_type": "stream",
     "text": [
      "Total count of the vovels in given string: Hello world is 3\n"
     ]
    }
   ],
   "source": [
    "#Q11) wap ask the user get the vowels from a given string using for-range\n",
    "text = input('Ente any text to count vovels: ')\n",
    "vovels='aeiou'\n",
    "count=0\n",
    "for i in range(len(text)):\n",
    "    for j in range(len(vovels)):\n",
    "        if text[i]==vovels[j]:\n",
    "            count=count+1\n",
    "print(f'Total count of the vovels in given string: {text} is {count}')"
   ]
  },
  {
   "cell_type": "code",
   "execution_count": null,
   "id": "1d30ec8c-bac4-4aff-a48e-ad5d2d71b999",
   "metadata": {},
   "outputs": [],
   "source": []
  }
 ],
 "metadata": {
  "kernelspec": {
   "display_name": "Python 3 (ipykernel)",
   "language": "python",
   "name": "python3"
  },
  "language_info": {
   "codemirror_mode": {
    "name": "ipython",
    "version": 3
   },
   "file_extension": ".py",
   "mimetype": "text/x-python",
   "name": "python",
   "nbconvert_exporter": "python",
   "pygments_lexer": "ipython3",
   "version": "3.11.7"
  }
 },
 "nbformat": 4,
 "nbformat_minor": 5
}
