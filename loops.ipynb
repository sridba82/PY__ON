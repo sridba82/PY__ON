{
 "cells": [
  {
   "cell_type": "code",
   "execution_count": 1,
   "id": "db30a9e5-f723-4d2f-8906-724dadcb3a13",
   "metadata": {},
   "outputs": [
    {
     "name": "stdout",
     "output_type": "stream",
     "text": [
      "10\n",
      "11\n",
      "12\n",
      "13\n",
      "14\n",
      "15\n",
      "16\n",
      "17\n",
      "18\n",
      "19\n"
     ]
    }
   ],
   "source": [
    "for i in range (10, 20):\n",
    "    print(i)"
   ]
  },
  {
   "cell_type": "code",
   "execution_count": 3,
   "id": "55d74564-9e60-432b-bec8-4704c2c3ad24",
   "metadata": {},
   "outputs": [
    {
     "name": "stdout",
     "output_type": "stream",
     "text": [
      "0\n",
      "1\n",
      "2\n",
      "3\n",
      "4\n"
     ]
    }
   ],
   "source": [
    "for i in range (5):\n",
    "    print(i)"
   ]
  },
  {
   "cell_type": "code",
   "execution_count": 14,
   "id": "1b5b653d-4af2-4e7c-b8ec-44d96ea74223",
   "metadata": {},
   "outputs": [
    {
     "name": "stdout",
     "output_type": "stream",
     "text": [
      "1 2 3 4 5 6 7 8 9 "
     ]
    }
   ],
   "source": [
    "for i in range(1, 10):\n",
    "    print(i, end=' ')"
   ]
  },
  {
   "cell_type": "code",
   "execution_count": 11,
   "id": "ef56eba9-0eb8-450f-b0d4-524faae5e041",
   "metadata": {},
   "outputs": [
    {
     "name": "stdout",
     "output_type": "stream",
     "text": [
      "Square of 20 is:  400\n",
      "Square of 21 is:  441\n",
      "Square of 22 is:  484\n",
      "Square of 23 is:  529\n",
      "Square of 24 is:  576\n",
      "Square of 25 is:  625\n"
     ]
    }
   ],
   "source": [
    "for i in range(20, 26):\n",
    "    print(f'Square of {i} is: ',i*i)"
   ]
  },
  {
   "cell_type": "code",
   "execution_count": 15,
   "id": "c4b4b438-cf41-46ee-b6ff-62c69336dd90",
   "metadata": {},
   "outputs": [
    {
     "name": "stdout",
     "output_type": "stream",
     "text": [
      "10 is Even\n",
      "11 is Odd\n",
      "12 is Even\n",
      "13 is Odd\n",
      "14 is Even\n",
      "15 is Odd\n",
      "16 is Even\n",
      "17 is Odd\n",
      "18 is Even\n",
      "19 is Odd\n"
     ]
    }
   ],
   "source": [
    "for i in range(10, 20):\n",
    "    if i%2==0:\n",
    "        print(f'{i} is Even')\n",
    "    else:\n",
    "        print(f'{i} is Odd')"
   ]
  },
  {
   "cell_type": "code",
   "execution_count": 16,
   "id": "6e9eb944-9dbb-4dc5-b65d-91940dfdfd3d",
   "metadata": {},
   "outputs": [
    {
     "name": "stdout",
     "output_type": "stream",
     "text": [
      "Square of 20 is: 400\n",
      "Square of 21 is: 441\n",
      "Square of 22 is: 484\n",
      "Square of 23 is: 529\n",
      "Square of 24 is: 576\n",
      "Square of 25 is: 625\n"
     ]
    }
   ],
   "source": [
    "for i in range(20, 26):\n",
    "    print(f'Square of {i} is: {i*i}')"
   ]
  },
  {
   "cell_type": "code",
   "execution_count": 19,
   "id": "61f0f6c6-38fc-45f5-89b7-ad449c75f5bf",
   "metadata": {},
   "outputs": [
    {
     "name": "stdout",
     "output_type": "stream",
     "text": [
      "54 is Even\n",
      "65 is Odd\n",
      "57 is Odd\n"
     ]
    }
   ],
   "source": [
    "import random\n",
    "for i in range(100, 103):\n",
    "    num=random.randint(1, 100)\n",
    "    if num%2==0:\n",
    "        print(f'{num} is Even')\n",
    "    else:\n",
    "        print(f'{num} is Odd')"
   ]
  },
  {
   "cell_type": "code",
   "execution_count": 23,
   "id": "cf38c5fa-6a93-42a8-b934-c790bff4fd42",
   "metadata": {},
   "outputs": [
    {
     "name": "stdout",
     "output_type": "stream",
     "text": [
      "100 103 106 109 112 115 118 "
     ]
    }
   ],
   "source": [
    "for i in range(100, 120, 3):\n",
    "    print(i, end=' ')"
   ]
  },
  {
   "cell_type": "code",
   "execution_count": 24,
   "id": "d7c7d931-ff61-40cf-8f5a-807523b33f15",
   "metadata": {},
   "outputs": [
    {
     "name": "stdout",
     "output_type": "stream",
     "text": [
      "120 117 114 111 108 105 102 "
     ]
    }
   ],
   "source": [
    "for i in range(120, 100, -3):\n",
    "    print(i, end=' ')"
   ]
  },
  {
   "cell_type": "code",
   "execution_count": null,
   "id": "99024fd5-d479-4b06-9d98-9ec6f5684984",
   "metadata": {},
   "outputs": [],
   "source": []
  }
 ],
 "metadata": {
  "kernelspec": {
   "display_name": "Python 3 (ipykernel)",
   "language": "python",
   "name": "python3"
  },
  "language_info": {
   "codemirror_mode": {
    "name": "ipython",
    "version": 3
   },
   "file_extension": ".py",
   "mimetype": "text/x-python",
   "name": "python",
   "nbconvert_exporter": "python",
   "pygments_lexer": "ipython3",
   "version": "3.11.7"
  }
 },
 "nbformat": 4,
 "nbformat_minor": 5
}
