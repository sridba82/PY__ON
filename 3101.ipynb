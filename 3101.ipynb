{
 "cells": [
  {
   "cell_type": "code",
   "execution_count": 6,
   "id": "3ae06c96-168e-4e71-87c0-98c640610842",
   "metadata": {},
   "outputs": [
    {
     "data": {
      "text/plain": [
       "15"
      ]
     },
     "execution_count": 6,
     "metadata": {},
     "output_type": "execute_result"
    }
   ],
   "source": [
    "d1={'Bittu':7, 'Chinnu': 15, 'Bappi': 11}\n",
    "# Dictionary is a key: value pair\n",
    "# We cannot use index number directly\n",
    "# whenever you want to call a value, we will use key\n",
    "d1['Chinnu']"
   ]
  },
  {
   "cell_type": "code",
   "execution_count": 7,
   "id": "10223b89-38d8-4c47-aea8-a4864ca3231f",
   "metadata": {},
   "outputs": [
    {
     "name": "stdout",
     "output_type": "stream",
     "text": [
      "Bittu age is: 7\n",
      "Chinnu age is: 15\n",
      "Bappi age is: 11\n"
     ]
    }
   ],
   "source": [
    "for i in d1:\n",
    "    print(f'{i} age is: {d1[i]}')"
   ]
  },
  {
   "cell_type": "code",
   "execution_count": 8,
   "id": "d373252e-716c-44a7-a27e-99dba775bcf8",
   "metadata": {},
   "outputs": [
    {
     "name": "stdout",
     "output_type": "stream",
     "text": [
      "Chinnu age is: 15\n",
      "Bittu age is: 7\n",
      "Bappi age is: 11\n"
     ]
    }
   ],
   "source": [
    "names=['Chinnu', 'Bittu', 'Bappi']\n",
    "ages=[15, 7, 11]\n",
    "for i, j in zip(names, ages):\n",
    "    print(f'{i} age is: {j}')"
   ]
  },
  {
   "cell_type": "code",
   "execution_count": 13,
   "id": "1c7fedad-d016-4dee-8fc6-77bb459b1958",
   "metadata": {},
   "outputs": [
    {
     "data": {
      "text/plain": [
       "(['Bittu', 'Chinnu', 'Bappi'], [7, 15, 11])"
      ]
     },
     "execution_count": 13,
     "metadata": {},
     "output_type": "execute_result"
    }
   ],
   "source": [
    "# Dictionary to List\n",
    "keys, values=[],[]\n",
    "for i in d1:\n",
    "    keys.append(i)\n",
    "    values.append(d1[i])\n",
    "keys, values"
   ]
  },
  {
   "cell_type": "code",
   "execution_count": 72,
   "id": "3512e044-4dc2-4515-ae68-f4997d475499",
   "metadata": {},
   "outputs": [
    {
     "name": "stdout",
     "output_type": "stream",
     "text": [
      "{'Data': 68, 'science': 115, 'interdisciplinary': 105, 'academic': 97, 'field': 102, 'that': 116, 'uses': 117, 'statistics,': 115, 'scientific': 115, 'computing,': 99, 'methods,': 109, 'processes,': 112, 'visualization,': 118, 'algorithms': 97, 'and': 97, 'systems': 115, 'to': 116, 'extract': 101, 'or': 111, 'extrapolate': 101, 'knowledge': 107, 'insights': 105, 'from': 102, 'potentially': 112, 'noisy,': 110, 'structured,': 115, 'unstructured': 117, 'data.': 100, 'also': 97, 'integrates': 105, 'domain': 100, 'underlying': 117, 'applicatin.Data': 97, 'multifaceted': 109, 'can': 99, 'be': 98, 'described': 100, 'as': 97, 'science,': 115, 'research': 114, 'paradigm,': 112, 'method,': 109, 'discipline,': 100, 'workflow,': 119, 'profession.': 112}\n"
     ]
    }
   ],
   "source": [
    "string1=\"\"\"Data science is an interdisciplinary academic field that uses statistics,\n",
    "          scientific computing, scientific methods, processes, scientific visualization,\n",
    "          algorithms and systems to extract or extrapolate knowledge and insights from potentially noisy, structured, or unstructured data.\n",
    "         Data science also integrates domain knowledge from the underlying applicatin.Data science is multifaceted and can be described as a science,\n",
    "         a research paradigm, a research method, a discipline, a workflow, and a profession.\"\"\"\n",
    "\n",
    "#task -1: in the above sentence you need to remove a,an,is,the\n",
    "# task-2: Data first letter Ascii value: 68\n",
    "#         scince first letter Ascii value : 115\n",
    "\n",
    "# {'Data science':68,'science':115}\n",
    "clean_str1=((string1.replace(' the ', ' ')).replace(' a ', ' ')).replace(' an ', ' ').replace(' is ', ' ')\n",
    "list_keys = clean_str1.split()\n",
    "list_values=[]\n",
    "for al in range(len(list_keys)):\n",
    "    list_values.append(ord(list_keys[al][0]))\n",
    "\n",
    "# dict(zip(list_keys, list_values))\n",
    "dict = {}\n",
    "for key in list_keys:\n",
    "    for value in list_values:\n",
    "        dict[key] = value\n",
    "        list_values.remove(value)\n",
    "        break\n",
    "print(dict)"
   ]
  },
  {
   "cell_type": "markdown",
   "id": "b6833f10-e6d0-41dc-adb2-a233158bf73b",
   "metadata": {},
   "source": [
    "**Mutable-Immutable**\n",
    "- Change the elements in index\n",
    "- But i dictionary there is no index\n",
    "- In dictionay we will change the value based on key only\n",
    "- Instead of using index, change the values using key\n",
    "- If it is change it is Mutable\n",
    "- If it is not change it is Immutable"
   ]
  },
  {
   "cell_type": "markdown",
   "id": "012f8068-6c1c-4c69-9842-9f400dceab4e",
   "metadata": {},
   "source": [
    "- List and Dictionary are Mutable\n",
    "- Tuple and String are Immutable\n",
    "- Diffrence between list and tuple ? is Mutable and Immutable"
   ]
  },
  {
   "cell_type": "code",
   "execution_count": 18,
   "id": "cc306869-54ef-491b-9635-202b5741e4cc",
   "metadata": {},
   "outputs": [
    {
     "name": "stdout",
     "output_type": "stream",
     "text": [
      "{'Bittu': 7, 'Chinnu': 14, 'Bappi': 11}\n"
     ]
    }
   ],
   "source": [
    "d2={'Bittu':7, 'Chinnu': 15, 'Bappi': 11}\n",
    "d2['Chinnu'] = 14\n",
    "print(d2)"
   ]
  },
  {
   "cell_type": "code",
   "execution_count": 19,
   "id": "2e10fd6a-7e4f-450b-b379-56d064fe8917",
   "metadata": {},
   "outputs": [
    {
     "data": {
      "text/plain": [
       "'Mango'"
      ]
     },
     "execution_count": 19,
     "metadata": {},
     "output_type": "execute_result"
    }
   ],
   "source": [
    "dd={'Fruits': ['Mango']}\n",
    "dd['Fruits'][0]"
   ]
  },
  {
   "cell_type": "code",
   "execution_count": 23,
   "id": "b5af99a6-1bb6-4e37-9393-5384bc13293c",
   "metadata": {},
   "outputs": [
    {
     "data": {
      "text/plain": [
       "'Kashmir'"
      ]
     },
     "execution_count": 23,
     "metadata": {},
     "output_type": "execute_result"
    }
   ],
   "source": [
    "d2={'Fruits': [{'Apple':'Kashmir'}]}\n",
    "d2['Fruits'][0]['Apple']"
   ]
  },
  {
   "cell_type": "code",
   "execution_count": 31,
   "id": "4a96de09-683a-45b2-b016-bb250d09ce3b",
   "metadata": {},
   "outputs": [
    {
     "data": {
      "text/plain": [
       "['India']"
      ]
     },
     "execution_count": 31,
     "metadata": {},
     "output_type": "execute_result"
    }
   ],
   "source": [
    "d3={'Fruits': [\n",
    "    {'Apple':\n",
    "     {'Kashmir':\n",
    "     ['India']\n",
    "     }\n",
    "    }\n",
    "    ]\n",
    "}\n",
    "\n",
    "d3['Fruits'][0]['Apple']['Kashmir']# [0]"
   ]
  },
  {
   "cell_type": "code",
   "execution_count": 40,
   "id": "40b04b74-15ea-4fc2-854b-e06f01a3a20c",
   "metadata": {},
   "outputs": [
    {
     "data": {
      "text/plain": [
       "{'Shambaji'}"
      ]
     },
     "execution_count": 40,
     "metadata": {},
     "output_type": "execute_result"
    }
   ],
   "source": [
    "d={'Fruites':{'Benganapalli':{'Mango':{'Nagpur':{'MH':{'Shivaji':{'Shambaji'}}}}}}}\n",
    "d['Fruites']['Benganapalli']['Mango']['Nagpur']['MH']['Shivaji']"
   ]
  },
  {
   "cell_type": "markdown",
   "id": "d415ccb8-3b3d-4ae2-91c9-8d6340c012e5",
   "metadata": {},
   "source": [
    "**Items-Keys-Values**"
   ]
  },
  {
   "cell_type": "code",
   "execution_count": 74,
   "id": "9fe6a880-12de-4c0e-9d5c-83bb218a5de1",
   "metadata": {},
   "outputs": [
    {
     "data": {
      "text/plain": [
       "{'Bittu': 7, 'Chinnu': 15, 'Bappi': 11}"
      ]
     },
     "execution_count": 74,
     "metadata": {},
     "output_type": "execute_result"
    }
   ],
   "source": [
    "d2={'Bittu':7, 'Chinnu': 15, 'Bappi': 11}\n",
    "d2"
   ]
  },
  {
   "cell_type": "code",
   "execution_count": 75,
   "id": "add10f6f-d971-4d03-a9c4-f320afc8b83a",
   "metadata": {},
   "outputs": [
    {
     "data": {
      "text/plain": [
       "dict_keys(['Bittu', 'Chinnu', 'Bappi'])"
      ]
     },
     "execution_count": 75,
     "metadata": {},
     "output_type": "execute_result"
    }
   ],
   "source": [
    "d2.keys()"
   ]
  },
  {
   "cell_type": "code",
   "execution_count": 76,
   "id": "36c82e20-8a36-4a73-b19e-6a364869d40b",
   "metadata": {},
   "outputs": [
    {
     "data": {
      "text/plain": [
       "dict_values([7, 15, 11])"
      ]
     },
     "execution_count": 76,
     "metadata": {},
     "output_type": "execute_result"
    }
   ],
   "source": [
    "d2.values()"
   ]
  },
  {
   "cell_type": "code",
   "execution_count": 77,
   "id": "7c0193d0-39ef-48fd-b9da-198d5396ff51",
   "metadata": {},
   "outputs": [
    {
     "data": {
      "text/plain": [
       "dict_items([('Bittu', 7), ('Chinnu', 15), ('Bappi', 11)])"
      ]
     },
     "execution_count": 77,
     "metadata": {},
     "output_type": "execute_result"
    }
   ],
   "source": [
    "d2.items()"
   ]
  },
  {
   "cell_type": "code",
   "execution_count": 78,
   "id": "0b45d426-ca11-462d-95b8-6d1cbd6c4080",
   "metadata": {},
   "outputs": [
    {
     "name": "stdout",
     "output_type": "stream",
     "text": [
      "('Bittu', 7)\n",
      "('Chinnu', 15)\n",
      "('Bappi', 11)\n"
     ]
    }
   ],
   "source": [
    "for i in d2.items():\n",
    "    print(i)"
   ]
  },
  {
   "cell_type": "code",
   "execution_count": 80,
   "id": "7d004401-7b9d-4466-93e2-4de59a1bb8f9",
   "metadata": {},
   "outputs": [
    {
     "name": "stdout",
     "output_type": "stream",
     "text": [
      "7\n",
      "15\n",
      "11\n"
     ]
    }
   ],
   "source": [
    "for i, j in d2.items():\n",
    "    print(j)"
   ]
  },
  {
   "cell_type": "code",
   "execution_count": 81,
   "id": "4f88e6ab-6064-4872-8bc8-4cbd772e7dd2",
   "metadata": {},
   "outputs": [
    {
     "name": "stdout",
     "output_type": "stream",
     "text": [
      "Bittu\n",
      "Chinnu\n",
      "Bappi\n"
     ]
    }
   ],
   "source": [
    "for i, j in d2.items():\n",
    "    print(i)"
   ]
  },
  {
   "cell_type": "code",
   "execution_count": 82,
   "id": "85f58465-b8ea-43a2-a8fc-cbe1b9ceec32",
   "metadata": {},
   "outputs": [
    {
     "name": "stdout",
     "output_type": "stream",
     "text": [
      "Bittu 7\n",
      "Chinnu 15\n",
      "Bappi 11\n"
     ]
    }
   ],
   "source": [
    "for i, j in d2.items():\n",
    "    print(i, j)"
   ]
  },
  {
   "cell_type": "code",
   "execution_count": 89,
   "id": "a8f57b35-8939-48d1-88ff-096311818411",
   "metadata": {},
   "outputs": [
    {
     "data": {
      "text/plain": [
       "['__add__',\n",
       " '__class__',\n",
       " '__contains__',\n",
       " '__delattr__',\n",
       " '__dir__',\n",
       " '__doc__',\n",
       " '__eq__',\n",
       " '__format__',\n",
       " '__ge__',\n",
       " '__getattribute__',\n",
       " '__getitem__',\n",
       " '__getnewargs__',\n",
       " '__getstate__',\n",
       " '__gt__',\n",
       " '__hash__',\n",
       " '__init__',\n",
       " '__init_subclass__',\n",
       " '__iter__',\n",
       " '__le__',\n",
       " '__len__',\n",
       " '__lt__',\n",
       " '__mod__',\n",
       " '__mul__',\n",
       " '__ne__',\n",
       " '__new__',\n",
       " '__reduce__',\n",
       " '__reduce_ex__',\n",
       " '__repr__',\n",
       " '__rmod__',\n",
       " '__rmul__',\n",
       " '__setattr__',\n",
       " '__sizeof__',\n",
       " '__str__',\n",
       " '__subclasshook__',\n",
       " 'capitalize',\n",
       " 'casefold',\n",
       " 'center',\n",
       " 'count',\n",
       " 'encode',\n",
       " 'endswith',\n",
       " 'expandtabs',\n",
       " 'find',\n",
       " 'format',\n",
       " 'format_map',\n",
       " 'index',\n",
       " 'isalnum',\n",
       " 'isalpha',\n",
       " 'isascii',\n",
       " 'isdecimal',\n",
       " 'isdigit',\n",
       " 'isidentifier',\n",
       " 'islower',\n",
       " 'isnumeric',\n",
       " 'isprintable',\n",
       " 'isspace',\n",
       " 'istitle',\n",
       " 'isupper',\n",
       " 'join',\n",
       " 'ljust',\n",
       " 'lower',\n",
       " 'lstrip',\n",
       " 'maketrans',\n",
       " 'partition',\n",
       " 'removeprefix',\n",
       " 'removesuffix',\n",
       " 'replace',\n",
       " 'rfind',\n",
       " 'rindex',\n",
       " 'rjust',\n",
       " 'rpartition',\n",
       " 'rsplit',\n",
       " 'rstrip',\n",
       " 'split',\n",
       " 'splitlines',\n",
       " 'startswith',\n",
       " 'strip',\n",
       " 'swapcase',\n",
       " 'title',\n",
       " 'translate',\n",
       " 'upper',\n",
       " 'zfill']"
      ]
     },
     "execution_count": 89,
     "metadata": {},
     "output_type": "execute_result"
    }
   ],
   "source": [
    "dir('')"
   ]
  },
  {
   "cell_type": "code",
   "execution_count": null,
   "id": "28c21d3d-3281-46bb-9d84-18de12855a66",
   "metadata": {},
   "outputs": [],
   "source": []
  }
 ],
 "metadata": {
  "kernelspec": {
   "display_name": "Python 3 (ipykernel)",
   "language": "python",
   "name": "python3"
  },
  "language_info": {
   "codemirror_mode": {
    "name": "ipython",
    "version": 3
   },
   "file_extension": ".py",
   "mimetype": "text/x-python",
   "name": "python",
   "nbconvert_exporter": "python",
   "pygments_lexer": "ipython3",
   "version": "3.11.7"
  }
 },
 "nbformat": 4,
 "nbformat_minor": 5
}
