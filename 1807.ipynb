{
 "cells": [
  {
   "cell_type": "markdown",
   "id": "227cd3a4-0dbc-48fd-9d80-f22a83c0812b",
   "metadata": {},
   "source": [
    "**Representations**\n",
    "- String representation with quotes.\n",
    "- List represent with square bracket[]"
   ]
  },
  {
   "cell_type": "code",
   "execution_count": 1,
   "id": "0d60f695-561b-482b-bdff-08063ad059e4",
   "metadata": {},
   "outputs": [
    {
     "data": {
      "text/plain": [
       "[1, 2, 3, 4]"
      ]
     },
     "execution_count": 1,
     "metadata": {},
     "output_type": "execute_result"
    }
   ],
   "source": [
    "l1=[1, 2, 3, 4]\n",
    "l1"
   ]
  },
  {
   "cell_type": "code",
   "execution_count": 2,
   "id": "728b3214-3eb4-4ec0-9a22-0863fdb39a97",
   "metadata": {},
   "outputs": [
    {
     "data": {
      "text/plain": [
       "list"
      ]
     },
     "execution_count": 2,
     "metadata": {},
     "output_type": "execute_result"
    }
   ],
   "source": [
    "type(l1)"
   ]
  },
  {
   "cell_type": "code",
   "execution_count": 4,
   "id": "3930730a-dea8-4d85-a75f-0d473b38566a",
   "metadata": {},
   "outputs": [
    {
     "data": {
      "text/plain": [
       "['A', 'B', 'C', 'D']"
      ]
     },
     "execution_count": 4,
     "metadata": {},
     "output_type": "execute_result"
    }
   ],
   "source": [
    "l2=['A', 'B', 'C', 'D']\n",
    "l2"
   ]
  },
  {
   "cell_type": "code",
   "execution_count": 5,
   "id": "25b45e95-5b95-4945-98b3-6797e1d4a328",
   "metadata": {},
   "outputs": [
    {
     "data": {
      "text/plain": [
       "[1, 2, 3, 4, 'A', 'B', 'C', 'D']"
      ]
     },
     "execution_count": 5,
     "metadata": {},
     "output_type": "execute_result"
    }
   ],
   "source": [
    "l3=[1, 2, 3, 4, 'A', 'B', 'C', 'D']\n",
    "l3"
   ]
  },
  {
   "cell_type": "code",
   "execution_count": 6,
   "id": "aadc859f-4724-4c41-8bbf-65095a6a2c9c",
   "metadata": {},
   "outputs": [
    {
     "data": {
      "text/plain": [
       "[1, 2, 3, 4, 'Apple', 'B', 'C', 'D', True, False]"
      ]
     },
     "execution_count": 6,
     "metadata": {},
     "output_type": "execute_result"
    }
   ],
   "source": [
    "l4=[1, 2, 3, 4, 'Apple', 'B', 'C', 'D', True, False]\n",
    "l4"
   ]
  },
  {
   "cell_type": "code",
   "execution_count": 8,
   "id": "478eeb4c-9cda-46ca-8608-7810438172c6",
   "metadata": {},
   "outputs": [
    {
     "data": {
      "text/plain": [
       "['Shree R']"
      ]
     },
     "execution_count": 8,
     "metadata": {},
     "output_type": "execute_result"
    }
   ],
   "source": [
    "name='Shree R'\n",
    "l5=[name]\n",
    "l5"
   ]
  },
  {
   "cell_type": "code",
   "execution_count": 9,
   "id": "9d8692ad-febb-4c3c-ad75-f0de0b38ce58",
   "metadata": {},
   "outputs": [
    {
     "data": {
      "text/plain": [
       "[100, 200, 100]"
      ]
     },
     "execution_count": 9,
     "metadata": {},
     "output_type": "execute_result"
    }
   ],
   "source": [
    "l6=[100, 200, 100]\n",
    "l6"
   ]
  },
  {
   "cell_type": "code",
   "execution_count": 10,
   "id": "19487718-5ff9-43d9-902a-08e778fa62bb",
   "metadata": {},
   "outputs": [
    {
     "data": {
      "text/plain": [
       "[[1, 2, 3, 4], ['A', 'B', 'C', 'D'], 'Kaka']"
      ]
     },
     "execution_count": 10,
     "metadata": {},
     "output_type": "execute_result"
    }
   ],
   "source": [
    "l7=[l1, l2, 'Kaka']\n",
    "l7"
   ]
  },
  {
   "cell_type": "code",
   "execution_count": 17,
   "id": "10ce5819-5a0f-4ecb-8269-28563024b4f2",
   "metadata": {},
   "outputs": [
    {
     "name": "stdout",
     "output_type": "stream",
     "text": [
      "1\n",
      "4\n",
      "4\n",
      "[1, 2, 3, 4]\n",
      "[4, 3, 2, 1]\n"
     ]
    }
   ],
   "source": [
    "print(min(l1))\n",
    "print(max(l1))\n",
    "print(len(l1))\n",
    "print(sorted(list(reversed(l1))))\n",
    "print(list(reversed(l1)))"
   ]
  },
  {
   "cell_type": "code",
   "execution_count": 18,
   "id": "089f6d9d-f689-496e-af38-2752afed9323",
   "metadata": {},
   "outputs": [
    {
     "name": "stdout",
     "output_type": "stream",
     "text": [
      "A\n",
      "D\n",
      "4\n",
      "['A', 'B', 'C', 'D']\n",
      "['D', 'C', 'B', 'A']\n"
     ]
    }
   ],
   "source": [
    "print(min(l2))\n",
    "print(max(l2))\n",
    "print(len(l2))\n",
    "print(sorted(list(reversed(l2))))\n",
    "print(list(reversed(l2)))"
   ]
  },
  {
   "cell_type": "code",
   "execution_count": 22,
   "id": "4b550ed0-7470-4792-9283-08b0c56c1d2c",
   "metadata": {},
   "outputs": [
    {
     "name": "stdout",
     "output_type": "stream",
     "text": [
      "[False, True, 'D', 'C', 'B', 'Apple', 4, 3, 2, 1]\n"
     ]
    }
   ],
   "source": [
    "# print(min(l4))\n",
    "# print(max(l4))\n",
    "# print(len(l4))\n",
    "# print(sorted(list(reversed(l4))))\n",
    "print(list(reversed(l4)))"
   ]
  },
  {
   "cell_type": "code",
   "execution_count": 23,
   "id": "cb8ff776-887c-4b77-ba0a-e05578d1fe05",
   "metadata": {},
   "outputs": [
    {
     "name": "stdout",
     "output_type": "stream",
     "text": [
      "[[1, 2, 3, 4], ['A', 'B', 'C', 'D'], 'Kaka']\n"
     ]
    }
   ],
   "source": [
    "print(l7)"
   ]
  },
  {
   "cell_type": "code",
   "execution_count": 24,
   "id": "e3f71160-a0fd-4bd7-af25-767bbaf23d2f",
   "metadata": {},
   "outputs": [
    {
     "data": {
      "text/plain": [
       "list"
      ]
     },
     "execution_count": 24,
     "metadata": {},
     "output_type": "execute_result"
    }
   ],
   "source": [
    "type(l7)"
   ]
  },
  {
   "cell_type": "code",
   "execution_count": 25,
   "id": "984cfa64-644a-44b7-8452-8c5280f31831",
   "metadata": {},
   "outputs": [
    {
     "data": {
      "text/plain": [
       "3"
      ]
     },
     "execution_count": 25,
     "metadata": {},
     "output_type": "execute_result"
    }
   ],
   "source": [
    "len(l7)"
   ]
  },
  {
   "cell_type": "code",
   "execution_count": null,
   "id": "f6504cf0-d699-49d6-ac1f-93cc6cd9c4ea",
   "metadata": {},
   "outputs": [],
   "source": []
  }
 ],
 "metadata": {
  "kernelspec": {
   "display_name": "Python 3 (ipykernel)",
   "language": "python",
   "name": "python3"
  },
  "language_info": {
   "codemirror_mode": {
    "name": "ipython",
    "version": 3
   },
   "file_extension": ".py",
   "mimetype": "text/x-python",
   "name": "python",
   "nbconvert_exporter": "python",
   "pygments_lexer": "ipython3",
   "version": "3.11.7"
  }
 },
 "nbformat": 4,
 "nbformat_minor": 5
}
