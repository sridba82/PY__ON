{
 "cells": [
  {
   "cell_type": "code",
   "execution_count": 1,
   "id": "c6e5e4c8-9935-45cd-96c0-7359f1930e15",
   "metadata": {},
   "outputs": [],
   "source": [
    "a=3"
   ]
  },
  {
   "cell_type": "code",
   "execution_count": 2,
   "id": "8ecedeb2-7e76-4215-a5de-adbe7aeaf0a6",
   "metadata": {},
   "outputs": [
    {
     "name": "stdout",
     "output_type": "stream",
     "text": [
      "3\n"
     ]
    }
   ],
   "source": [
    "print(a)"
   ]
  },
  {
   "cell_type": "code",
   "execution_count": 3,
   "id": "528b8aef-bc81-4bcd-928c-c9b595882c73",
   "metadata": {},
   "outputs": [
    {
     "data": {
      "text/plain": [
       "3"
      ]
     },
     "execution_count": 3,
     "metadata": {},
     "output_type": "execute_result"
    }
   ],
   "source": [
    "a"
   ]
  },
  {
   "cell_type": "code",
   "execution_count": 4,
   "id": "c793c9b1-18a5-4a62-bbfd-ceb07e30b60c",
   "metadata": {},
   "outputs": [],
   "source": [
    "true = 'True'"
   ]
  },
  {
   "cell_type": "code",
   "execution_count": 5,
   "id": "9b50f850-b69f-43a7-986f-2fd73e7a334b",
   "metadata": {},
   "outputs": [
    {
     "data": {
      "text/plain": [
       "'True'"
      ]
     },
     "execution_count": 5,
     "metadata": {},
     "output_type": "execute_result"
    }
   ],
   "source": [
    "true"
   ]
  },
  {
   "cell_type": "code",
   "execution_count": 8,
   "id": "64206a98-35a0-4d59-81eb-90c9b7e0bd7f",
   "metadata": {},
   "outputs": [],
   "source": [
    "hello = False"
   ]
  },
  {
   "cell_type": "code",
   "execution_count": 7,
   "id": "5441933d-ccd0-44fe-8c94-2880956d45d4",
   "metadata": {},
   "outputs": [
    {
     "data": {
      "text/plain": [
       "False"
      ]
     },
     "execution_count": 7,
     "metadata": {},
     "output_type": "execute_result"
    }
   ],
   "source": [
    "hello"
   ]
  },
  {
   "cell_type": "markdown",
   "id": "2b33c536-ca21-4389-b51f-e48d411b712c",
   "metadata": {},
   "source": [
    "- Type Casting"
   ]
  },
  {
   "cell_type": "markdown",
   "id": "92c4e08e-70bd-4a9a-a492-2018876cd25c",
   "metadata": {},
   "source": [
    "**Type Casting**"
   ]
  },
  {
   "cell_type": "code",
   "execution_count": 11,
   "id": "f4508bd1-0ffe-4d96-96ec-85ff1e3b491a",
   "metadata": {},
   "outputs": [
    {
     "ename": "SyntaxError",
     "evalue": "invalid syntax (1661210154.py, line 1)",
     "output_type": "error",
     "traceback": [
      "\u001b[1;36m  Cell \u001b[1;32mIn[11], line 1\u001b[1;36m\u001b[0m\n\u001b[1;33m    **Integet Other Datatypes**\u001b[0m\n\u001b[1;37m    ^\u001b[0m\n\u001b[1;31mSyntaxError\u001b[0m\u001b[1;31m:\u001b[0m invalid syntax\n"
     ]
    }
   ],
   "source": [
    "**Integet Other Datatypes**"
   ]
  },
  {
   "cell_type": "markdown",
   "id": "f08af9ce-c20b-4dfc-9bc7-257c8680005d",
   "metadata": {},
   "source": [
    "$int-float$"
   ]
  },
  {
   "cell_type": "code",
   "execution_count": 12,
   "id": "63fa02b8-4f20-43a0-8efe-181c8dc8dfb2",
   "metadata": {},
   "outputs": [
    {
     "data": {
      "text/plain": [
       "int"
      ]
     },
     "execution_count": 12,
     "metadata": {},
     "output_type": "execute_result"
    }
   ],
   "source": [
    "num=100\n",
    "type(num)"
   ]
  },
  {
   "cell_type": "code",
   "execution_count": 13,
   "id": "3b8ae406-d60c-4c2b-a184-d1fd6873ca9c",
   "metadata": {},
   "outputs": [
    {
     "data": {
      "text/plain": [
       "100.0"
      ]
     },
     "execution_count": 13,
     "metadata": {},
     "output_type": "execute_result"
    }
   ],
   "source": [
    "float(num)"
   ]
  },
  {
   "cell_type": "code",
   "execution_count": 14,
   "id": "2c1f831f-dab3-4e5d-8362-2687446de110",
   "metadata": {},
   "outputs": [
    {
     "data": {
      "text/plain": [
       "'100'"
      ]
     },
     "execution_count": 14,
     "metadata": {},
     "output_type": "execute_result"
    }
   ],
   "source": [
    "str(num)"
   ]
  },
  {
   "cell_type": "code",
   "execution_count": 15,
   "id": "9ae9b5c7-a6b4-4e88-8255-01079b205935",
   "metadata": {},
   "outputs": [
    {
     "data": {
      "text/plain": [
       "str"
      ]
     },
     "execution_count": 15,
     "metadata": {},
     "output_type": "execute_result"
    }
   ],
   "source": [
    "strr=str(num)\n",
    "type(strr)"
   ]
  },
  {
   "cell_type": "code",
   "execution_count": 17,
   "id": "7eff00d3-9f34-47cf-b74e-7531df0fb748",
   "metadata": {},
   "outputs": [
    {
     "data": {
      "text/plain": [
       "bool"
      ]
     },
     "execution_count": 17,
     "metadata": {},
     "output_type": "execute_result"
    }
   ],
   "source": [
    "boolean=bool(num)\n",
    "type(boolean)"
   ]
  },
  {
   "cell_type": "code",
   "execution_count": 18,
   "id": "21191cf1-da2c-4b0a-b456-e21262007a3e",
   "metadata": {},
   "outputs": [
    {
     "data": {
      "text/plain": [
       "(200.0, 100, False)"
      ]
     },
     "execution_count": 18,
     "metadata": {},
     "output_type": "execute_result"
    }
   ],
   "source": [
    "float(200), int(100.20), bool(0)"
   ]
  },
  {
   "cell_type": "code",
   "execution_count": 19,
   "id": "d94f95cc-f5c5-4f2d-8938-e96c38de8e3a",
   "metadata": {},
   "outputs": [
    {
     "ename": "ValueError",
     "evalue": "invalid literal for int() with base 10: 'apple'",
     "output_type": "error",
     "traceback": [
      "\u001b[1;31m---------------------------------------------------------------------------\u001b[0m",
      "\u001b[1;31mValueError\u001b[0m                                Traceback (most recent call last)",
      "Cell \u001b[1;32mIn[19], line 1\u001b[0m\n\u001b[1;32m----> 1\u001b[0m \u001b[38;5;28mint\u001b[39m(\u001b[38;5;124m'\u001b[39m\u001b[38;5;124mapple\u001b[39m\u001b[38;5;124m'\u001b[39m)\n",
      "\u001b[1;31mValueError\u001b[0m: invalid literal for int() with base 10: 'apple'"
     ]
    }
   ],
   "source": [
    "int('apple')"
   ]
  },
  {
   "cell_type": "code",
   "execution_count": 20,
   "id": "1631ec1e-11be-4baf-b0ec-d56247871b91",
   "metadata": {},
   "outputs": [
    {
     "ename": "ValueError",
     "evalue": "could not convert string to float: 'apple'",
     "output_type": "error",
     "traceback": [
      "\u001b[1;31m---------------------------------------------------------------------------\u001b[0m",
      "\u001b[1;31mValueError\u001b[0m                                Traceback (most recent call last)",
      "Cell \u001b[1;32mIn[20], line 1\u001b[0m\n\u001b[1;32m----> 1\u001b[0m \u001b[38;5;28mfloat\u001b[39m(\u001b[38;5;124m'\u001b[39m\u001b[38;5;124mapple\u001b[39m\u001b[38;5;124m'\u001b[39m)\n",
      "\u001b[1;31mValueError\u001b[0m: could not convert string to float: 'apple'"
     ]
    }
   ],
   "source": [
    "float('apple')"
   ]
  },
  {
   "cell_type": "code",
   "execution_count": 21,
   "id": "9fe4ab94-7418-4b92-a529-64af3f15dc91",
   "metadata": {},
   "outputs": [
    {
     "data": {
      "text/plain": [
       "True"
      ]
     },
     "execution_count": 21,
     "metadata": {},
     "output_type": "execute_result"
    }
   ],
   "source": [
    "bool('apple')"
   ]
  },
  {
   "cell_type": "code",
   "execution_count": 22,
   "id": "c5e6bcf7-e3fd-4d07-ac6b-eb3694dde990",
   "metadata": {},
   "outputs": [
    {
     "data": {
      "text/plain": [
       "10"
      ]
     },
     "execution_count": 22,
     "metadata": {},
     "output_type": "execute_result"
    }
   ],
   "source": [
    "int('10')"
   ]
  },
  {
   "cell_type": "code",
   "execution_count": 23,
   "id": "36bc71b6-e2be-4ca0-a7d4-53555a87d837",
   "metadata": {},
   "outputs": [
    {
     "data": {
      "text/plain": [
       "10.0"
      ]
     },
     "execution_count": 23,
     "metadata": {},
     "output_type": "execute_result"
    }
   ],
   "source": [
    "float('10')"
   ]
  },
  {
   "cell_type": "code",
   "execution_count": 24,
   "id": "20c5edd9-9745-4f61-8c06-ed479cd1a837",
   "metadata": {},
   "outputs": [
    {
     "data": {
      "text/plain": [
       "True"
      ]
     },
     "execution_count": 24,
     "metadata": {},
     "output_type": "execute_result"
    }
   ],
   "source": [
    "bool('10')"
   ]
  },
  {
   "cell_type": "code",
   "execution_count": 25,
   "id": "6fb600ed-952e-42d8-baa7-a8f8ee4c32ed",
   "metadata": {},
   "outputs": [
    {
     "name": "stdout",
     "output_type": "stream",
     "text": [
      "10\n",
      "None\n"
     ]
    }
   ],
   "source": [
    "print(print(10))"
   ]
  },
  {
   "cell_type": "code",
   "execution_count": 28,
   "id": "06ed453c-59c5-4a24-a196-0bbbb71a3ea7",
   "metadata": {},
   "outputs": [
    {
     "name": "stdout",
     "output_type": "stream",
     "text": [
      "Addition of 10  and  20  is  30\n",
      "Addition of 10 and 20 is 30\n"
     ]
    }
   ],
   "source": [
    "a = 10\n",
    "b = 20\n",
    "c = a+b\n",
    "print('Addition of', a, ' and ', b, ' is ', c)\n",
    "print('Addition of {} and {} is {}'.format(a, b, c))"
   ]
  },
  {
   "cell_type": "code",
   "execution_count": 30,
   "id": "434b0746-9629-4fde-a229-f931dc26e90e",
   "metadata": {},
   "outputs": [
    {
     "name": "stdout",
     "output_type": "stream",
     "text": [
      "My name is Srinivas, Im 40 years old Im from Hyderabad\n"
     ]
    }
   ],
   "source": [
    "name = 'Srinivas'\n",
    "age = 40\n",
    "city = 'Hyderabad'\n",
    "print('My name is {}, Im {} years old Im from {}'.format(name, age, city))"
   ]
  },
  {
   "cell_type": "code",
   "execution_count": 2,
   "id": "5844cdf7-8b6c-4bd2-b03c-4869a13fd0e0",
   "metadata": {},
   "outputs": [
    {
     "name": "stdout",
     "output_type": "stream",
     "text": [
      "Emaployee name: is Srinivas, Employee role: ETL Developer, Company Carnow\n"
     ]
    }
   ],
   "source": [
    "import string\n",
    "ename = 'Srinivas'\n",
    "erole = 'ETL Developer'\n",
    "company = 'carNow'\n",
    "print('Emaployee name: is {}, Employee role: {}, Company: {}'.format(ename, erole, string.capwords(company)))"
   ]
  },
  {
   "cell_type": "code",
   "execution_count": 36,
   "id": "ca1415a9-d75d-46c5-a1df-30bebee1b768",
   "metadata": {},
   "outputs": [
    {
     "name": "stdout",
     "output_type": "stream",
     "text": [
      "Emaployee name: is Srinivas, Employee role: ETL Developer, Company CarNow\n"
     ]
    }
   ],
   "source": [
    "print(f'Emaployee name: is {ename}, Employee role: {erole}, Company {company}')"
   ]
  },
  {
   "cell_type": "code",
   "execution_count": null,
   "id": "0b5ace79-937b-4823-8ab1-eeb4f06a17b7",
   "metadata": {},
   "outputs": [],
   "source": []
  }
 ],
 "metadata": {
  "kernelspec": {
   "display_name": "Python 3 (ipykernel)",
   "language": "python",
   "name": "python3"
  },
  "language_info": {
   "codemirror_mode": {
    "name": "ipython",
    "version": 3
   },
   "file_extension": ".py",
   "mimetype": "text/x-python",
   "name": "python",
   "nbconvert_exporter": "python",
   "pygments_lexer": "ipython3",
   "version": "3.11.7"
  }
 },
 "nbformat": 4,
 "nbformat_minor": 5
}
