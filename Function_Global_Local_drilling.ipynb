{
 "cells": [
  {
   "cell_type": "code",
   "execution_count": 2,
   "id": "82673fd2-f17b-4b00-9400-3c20835f13c6",
   "metadata": {},
   "outputs": [
    {
     "name": "stdout",
     "output_type": "stream",
     "text": [
      "300\n"
     ]
    }
   ],
   "source": [
    "a1 = 100\n",
    "b1 = 200\n",
    "def add11():\n",
    "    add1 = a1+b1\n",
    "    print(add1)\n",
    "add11()"
   ]
  },
  {
   "cell_type": "code",
   "execution_count": 8,
   "id": "e584a80f-aa12-4e9b-80e3-718cc7d01a02",
   "metadata": {},
   "outputs": [
    {
     "name": "stdout",
     "output_type": "stream",
     "text": [
      "1000\n"
     ]
    }
   ],
   "source": [
    "a1 = 100\n",
    "b1 = 200\n",
    "def add12():\n",
    "    a1 = 400\n",
    "    b1 = 600\n",
    "    add1 = a1+b1\n",
    "    print(add1)\n",
    "add12()"
   ]
  },
  {
   "cell_type": "code",
   "execution_count": 5,
   "id": "9ad90d06-3804-4a79-981c-20b9cda66646",
   "metadata": {},
   "outputs": [
    {
     "ename": "UnboundLocalError",
     "evalue": "cannot access local variable 'a1' where it is not associated with a value",
     "output_type": "error",
     "traceback": [
      "\u001b[1;31m---------------------------------------------------------------------------\u001b[0m",
      "\u001b[1;31mUnboundLocalError\u001b[0m                         Traceback (most recent call last)",
      "Cell \u001b[1;32mIn[5], line 8\u001b[0m\n\u001b[0;32m      6\u001b[0m     b1 \u001b[38;5;241m=\u001b[39m \u001b[38;5;241m600\u001b[39m\n\u001b[0;32m      7\u001b[0m     \u001b[38;5;28mprint\u001b[39m(add1)\n\u001b[1;32m----> 8\u001b[0m add13()\n",
      "Cell \u001b[1;32mIn[5], line 4\u001b[0m, in \u001b[0;36madd13\u001b[1;34m()\u001b[0m\n\u001b[0;32m      3\u001b[0m \u001b[38;5;28;01mdef\u001b[39;00m \u001b[38;5;21madd13\u001b[39m():\n\u001b[1;32m----> 4\u001b[0m     add1 \u001b[38;5;241m=\u001b[39m a1\u001b[38;5;241m+\u001b[39mb1\n\u001b[0;32m      5\u001b[0m     a1 \u001b[38;5;241m=\u001b[39m \u001b[38;5;241m400\u001b[39m\n\u001b[0;32m      6\u001b[0m     b1 \u001b[38;5;241m=\u001b[39m \u001b[38;5;241m600\u001b[39m\n",
      "\u001b[1;31mUnboundLocalError\u001b[0m: cannot access local variable 'a1' where it is not associated with a value"
     ]
    }
   ],
   "source": [
    "a1 = 100\n",
    "b1 = 200\n",
    "def add13():\n",
    "    add1 = a1+b1\n",
    "    a1 = 400\n",
    "    b1 = 600\n",
    "    print(add1)\n",
    "add13()"
   ]
  },
  {
   "cell_type": "code",
   "execution_count": 12,
   "id": "8c1f771b-1845-406b-b629-f540242a3df1",
   "metadata": {},
   "outputs": [
    {
     "name": "stdout",
     "output_type": "stream",
     "text": [
      "Hello Good Morning\n",
      "Good Night\n"
     ]
    }
   ],
   "source": [
    "def greet1():\n",
    "    print('Hello Good Morning')\n",
    "def greet2():\n",
    "    print('Good Night')\n",
    "greet1()\n",
    "greet2()\n"
   ]
  },
  {
   "cell_type": "code",
   "execution_count": 13,
   "id": "d453fc68-00f7-42d6-9bd0-37b73824e16d",
   "metadata": {},
   "outputs": [
    {
     "name": "stdout",
     "output_type": "stream",
     "text": [
      "Hello Good Morning\n",
      "Good Night\n"
     ]
    }
   ],
   "source": [
    "def greet1():\n",
    "    print('Hello Good Morning')\n",
    "    greet2()\n",
    "def greet2():\n",
    "    print('Good Night')\n",
    "greet1()"
   ]
  },
  {
   "cell_type": "code",
   "execution_count": null,
   "id": "edb10888-9b41-4b22-8e64-a8fe153545e8",
   "metadata": {},
   "outputs": [],
   "source": [
    "# Infinite Loop\n",
    "def greet2():\n",
    "    print('Good Night')\n",
    "    greet1()\n",
    "def greet1():\n",
    "    print('Hello Good Morning')\n",
    "    greet2()\n",
    "greet1()\n",
    "# Infinite Loop"
   ]
  },
  {
   "cell_type": "code",
   "execution_count": null,
   "id": "b122c796-271f-4ed0-8698-11eb1396dc7e",
   "metadata": {},
   "outputs": [],
   "source": []
  },
  {
   "cell_type": "code",
   "execution_count": 14,
   "id": "afec7deb-14dd-496e-8b53-17c6ed9efca5",
   "metadata": {},
   "outputs": [
    {
     "name": "stdin",
     "output_type": "stream",
     "text": [
      "Enter Distance Travelled:  26\n",
      "Enter cutoff charges:  25\n"
     ]
    },
    {
     "name": "stdout",
     "output_type": "stream",
     "text": [
      "Chargable distance is:  1\n",
      "Total Charge is: 5\n"
     ]
    }
   ],
   "source": [
    "def dist_cut():\n",
    "    distance = eval(input('Enter Distance Travelled: '))\n",
    "    cutoff = eval(input('Enter cutoff charges: '))\n",
    "    if distance > cutoff:\n",
    "        charge_dist = distance - cutoff\n",
    "        print('Chargable distance is: ', charge_dist)\n",
    "        charge = charge_dist * 5\n",
    "        print('Total Charge is:',charge)\n",
    "    else:\n",
    "        print('Enjoy Its Free Ride')\n",
    "dist_cut()"
   ]
  },
  {
   "cell_type": "code",
   "execution_count": 16,
   "id": "f4f497d2-3701-49bb-baba-cbecccd76564",
   "metadata": {},
   "outputs": [
    {
     "name": "stdin",
     "output_type": "stream",
     "text": [
      "Enter Distance Travelled:  27\n",
      "Enter cutoff charges:  25\n"
     ]
    },
    {
     "name": "stdout",
     "output_type": "stream",
     "text": [
      "Chargable distance is:  2\n",
      "Total Charge is: 10\n"
     ]
    }
   ],
   "source": [
    "def dist_cut(distance, cutoff):\n",
    "    if distance > cutoff:\n",
    "        charge_dist = distance - cutoff\n",
    "        print('Chargable distance is: ', charge_dist)\n",
    "        charge = charge_dist * 5\n",
    "        print('Total Charge is:',charge)\n",
    "    else:\n",
    "        print('Enjoy Its Free Ride')\n",
    "distance = eval(input('Enter Distance Travelled: '))\n",
    "cutoff = eval(input('Enter cutoff charges: '))\n",
    "dist_cut(distance, cutoff)"
   ]
  },
  {
   "cell_type": "code",
   "execution_count": 17,
   "id": "c44696be-a7fa-402c-8268-490888d81495",
   "metadata": {},
   "outputs": [
    {
     "name": "stdin",
     "output_type": "stream",
     "text": [
      "Enter Distance Travelled:  27\n"
     ]
    },
    {
     "name": "stdout",
     "output_type": "stream",
     "text": [
      "Chargable distance is:  7\n",
      "Total Charge is: 35\n"
     ]
    }
   ],
   "source": [
    "def dist_cut(distance, cutoff=20):\n",
    "    if distance > cutoff:\n",
    "        charge_dist = distance - cutoff\n",
    "        print('Chargable distance is: ', charge_dist)\n",
    "        charge = charge_dist * 5\n",
    "        print('Total Charge is:',charge)\n",
    "    else:\n",
    "        print('Enjoy Its Free Ride')\n",
    "distance = eval(input('Enter Distance Travelled: '))\n",
    "dist_cut(distance)"
   ]
  },
  {
   "cell_type": "code",
   "execution_count": 20,
   "id": "548850c2-3520-4d9a-a105-729bc4c858e4",
   "metadata": {},
   "outputs": [
    {
     "name": "stdin",
     "output_type": "stream",
     "text": [
      "Enter Distance Travelled:  28\n",
      "Enter cutoff charges:  20\n"
     ]
    },
    {
     "name": "stdout",
     "output_type": "stream",
     "text": [
      "Chargable distance is:  8\n",
      "Total Charge is: 40\n"
     ]
    }
   ],
   "source": [
    "distance = eval(input('Enter Distance Travelled: '))\n",
    "cutoff = eval(input('Enter cutoff charges: '))\n",
    "def dist_cut():\n",
    "    if distance > cutoff:\n",
    "        charge_dist = distance - cutoff\n",
    "        print('Chargable distance is: ', charge_dist)\n",
    "        global charge\n",
    "        charge = charge_dist * 5      \n",
    "    else:\n",
    "        print('Enjoy Its Free Ride')\n",
    "dist_cut()\n",
    "print('Total Charge is:',charge)"
   ]
  },
  {
   "cell_type": "code",
   "execution_count": 21,
   "id": "66b77361-66b4-4703-b2c3-93e685309222",
   "metadata": {},
   "outputs": [
    {
     "name": "stdin",
     "output_type": "stream",
     "text": [
      "Enter Distance Travelled:  29\n",
      "Enter cutoff charges:  10\n"
     ]
    },
    {
     "name": "stdout",
     "output_type": "stream",
     "text": [
      "Chargable distance is:  19\n",
      "Total Charge is: 95\n"
     ]
    }
   ],
   "source": [
    "distance = eval(input('Enter Distance Travelled: '))\n",
    "cutoff = eval(input('Enter cutoff charges: '))\n",
    "def dist_cut():\n",
    "    global charge\n",
    "    if distance > cutoff:\n",
    "        charge_dist = distance - cutoff\n",
    "        print('Chargable distance is: ', charge_dist)\n",
    "        charge = charge_dist * 5      \n",
    "    else:\n",
    "        print('Enjoy Its Free Ride')\n",
    "dist_cut()\n",
    "print('Total Charge is:',charge)"
   ]
  },
  {
   "cell_type": "code",
   "execution_count": 23,
   "id": "3d36f66d-9492-465c-9c66-557b08272482",
   "metadata": {},
   "outputs": [
    {
     "name": "stdin",
     "output_type": "stream",
     "text": [
      "Enter Distance Travelled:  20\n",
      "Enter cutoff charges:  10\n"
     ]
    },
    {
     "name": "stdout",
     "output_type": "stream",
     "text": [
      "Chargable distance is:  10\n",
      "Total Charge is: 95\n"
     ]
    }
   ],
   "source": [
    "distance = eval(input('Enter Distance Travelled: '))\n",
    "cutoff = eval(input('Enter cutoff charges: '))\n",
    "def dist_cut():\n",
    "    # global charge\n",
    "    if distance > cutoff:\n",
    "        charge_dist = distance - cutoff\n",
    "        print('Chargable distance is: ', charge_dist)\n",
    "        charge = charge_dist * 5 \n",
    "        return charge\n",
    "    else:\n",
    "        print('Enjoy Its Free Ride')\n",
    "dist_cut()\n",
    "print('Total Charge is:',charge)"
   ]
  },
  {
   "cell_type": "code",
   "execution_count": null,
   "id": "103b27bd-a049-48b8-9347-7ce5d8fde3d9",
   "metadata": {},
   "outputs": [],
   "source": [
    "distance = eval(input('Enter Distance Travelled: '))\n",
    "cutoff = eval(input('Enter cutoff charges: '))\n",
    "def dist_cut():\n",
    "    # global charge\n",
    "    if distance > cutoff:\n",
    "        charge_dist = distance - cutoff\n",
    "        print('Chargable distance is: ', charge_dist)\n",
    "        charge = charge_dist * 5 \n",
    "        return charge\n",
    "    else:\n",
    "        print('Enjoy Its Free Ride')\n",
    "dist_cut()\n",
    "print('Total Charge is:',charge)"
   ]
  },
  {
   "cell_type": "code",
   "execution_count": 29,
   "id": "a0366c19-ac49-4e16-938f-7edb772ca794",
   "metadata": {},
   "outputs": [
    {
     "name": "stdin",
     "output_type": "stream",
     "text": [
      "Enter Distance Travelled:  10\n",
      "Enter cutoff charges:  20\n"
     ]
    },
    {
     "name": "stdout",
     "output_type": "stream",
     "text": [
      "Total Charge is: 10\n"
     ]
    }
   ],
   "source": [
    "distance = eval(input('Enter Distance Travelled: '))\n",
    "cutoff = eval(input('Enter cutoff charges: '))\n",
    "def dist_cut2():\n",
    "    # global charge\n",
    "    if distance > cutoff:\n",
    "        charge_dist = distance - cutoff\n",
    "        print('Chargable distance is: ', charge_dist)\n",
    "        charge1 = charge_dist * 5 \n",
    "    else:\n",
    "        charge1 = 10\n",
    "    return charge1\n",
    "charge1 = dist_cut2()\n",
    "print('Total Charge is:',charge1)"
   ]
  },
  {
   "cell_type": "code",
   "execution_count": 35,
   "id": "291307a0-c598-486b-ab97-c0256e677379",
   "metadata": {},
   "outputs": [
    {
     "name": "stdin",
     "output_type": "stream",
     "text": [
      "Enter 1st No. for operation:  30\n",
      "Enter 2nd No. for operation:  30\n"
     ]
    },
    {
     "name": "stdout",
     "output_type": "stream",
     "text": [
      "\n",
      "=================================\n",
      "Enter below options for operation\n",
      "=================================\n"
     ]
    },
    {
     "name": "stdin",
     "output_type": "stream",
     "text": [
      "Option 1: Addition\n",
      "Option 2: Subtraction\n",
      "Option 3: Multiplication \n",
      "Option 4: Division \n",
      " 2\n"
     ]
    },
    {
     "name": "stdout",
     "output_type": "stream",
     "text": [
      "Suntraction is:  0\n"
     ]
    }
   ],
   "source": [
    "num1 = eval(input(('Enter 1st No. for operation: ')))\n",
    "num2 = eval(input(('Enter 2nd No. for operation: ')))\n",
    "\n",
    "def addition():\n",
    "    cal = num1 + num2\n",
    "    print('Addition is: ', cal)\n",
    "def subtraction():\n",
    "    cal = num1 - num2\n",
    "    print('Suntraction is: ', cal)\n",
    "def multiplication():\n",
    "    cal = num1 * num2\n",
    "    print('Multiplication is: ', cal)\n",
    "\n",
    "def division():\n",
    "    cal = num1 / num2\n",
    "    print('Division is: ', cal)\n",
    "    \n",
    "def calculator():\n",
    "    print('\\n=================================')\n",
    "    print('Enter below options for operation')\n",
    "    print('=================================')\n",
    "    option = eval(input(('Option 1: Addition\\nOption 2: Subtraction\\nOption 3: Multiplication \\nOption 4: Division \\n')))\n",
    "    if option == 1:\n",
    "        addition()\n",
    "    elif option == 2:\n",
    "        subtraction()\n",
    "    elif option == 3:\n",
    "        multiplication()\n",
    "    elif option == 4:\n",
    "        division()\n",
    "    else:\n",
    "        print('Invalid Function')\n",
    "\n",
    "calculator()\n",
    "\n"
   ]
  },
  {
   "cell_type": "code",
   "execution_count": null,
   "id": "2ca2c7c2-d925-4439-9b01-b56b6bd69a4c",
   "metadata": {},
   "outputs": [],
   "source": []
  }
 ],
 "metadata": {
  "kernelspec": {
   "display_name": "Python 3 (ipykernel)",
   "language": "python",
   "name": "python3"
  },
  "language_info": {
   "codemirror_mode": {
    "name": "ipython",
    "version": 3
   },
   "file_extension": ".py",
   "mimetype": "text/x-python",
   "name": "python",
   "nbconvert_exporter": "python",
   "pygments_lexer": "ipython3",
   "version": "3.11.7"
  }
 },
 "nbformat": 4,
 "nbformat_minor": 5
}
