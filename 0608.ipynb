{
 "cells": [
  {
   "cell_type": "code",
   "execution_count": null,
   "id": "d527e165-e8f6-48df-a278-18a92e21d1c1",
   "metadata": {},
   "outputs": [],
   "source": [
    "# You want to save outputs in a different folder but in a same root directory.\n",
    "# Which means, get your python location folder"
   ]
  },
  {
   "cell_type": "code",
   "execution_count": 6,
   "id": "3d185b63-64da-45c4-8a02-760775df3ecc",
   "metadata": {},
   "outputs": [],
   "source": [
    "import os\n",
    "path=os.getcwd()+'\\\\outputs\\write_file.txt'\n",
    "with open(path, mode='w') as file:\n",
    "    file.write('Hello how are you')"
   ]
  },
  {
   "cell_type": "markdown",
   "id": "7ae64c31-ddbf-4d68-b5de-babad335ac03",
   "metadata": {},
   "source": [
    "- Here we created manually the folder name: outputs\n",
    "- This folder in same python root directory\n",
    "- python root directory is:\n",
    "  - \\Srinivas Rao\\outputs\n",
    "- out puts root directory is:\n",
    "  -\n",
    "- Whenever in this situation we no need to create a folder manually\n",
    "- we will create a folder by using os package."
   ]
  },
  {
   "cell_type": "markdown",
   "id": "6a56ccfe-ef9a-4731-80ef-cee2e578527b",
   "metadata": {},
   "source": [
    "### Creating folder\n",
    "- **os.makedirs**: This is the method to create folder  "
   ]
  },
  {
   "cell_type": "code",
   "execution_count": 13,
   "id": "340406d1-b3b3-4cfb-9a61-809e18cfe2c7",
   "metadata": {},
   "outputs": [],
   "source": [
    "current_path=os.getcwd()\n",
    "folder_name='\\\\outputs'\n",
    "os.makedirs(current_path+folder_name)"
   ]
  },
  {
   "cell_type": "code",
   "execution_count": 14,
   "id": "1192ae68-6ae1-435a-b2a2-a2f5ca0497fc",
   "metadata": {},
   "outputs": [
    {
     "name": "stdout",
     "output_type": "stream",
     "text": [
      "[WinError 183] Cannot create a file when that file already exists: 'C:\\\\Users\\\\Srinivas Rao\\\\outputs'\n"
     ]
    }
   ],
   "source": [
    "try:\n",
    "    current_path=os.getcwd()\n",
    "    folder_name='outputs'\n",
    "    work_path=os.path.join(current_path,folder_name)\n",
    "    os.makedirs(work_path)\n",
    "except Exception as e:\n",
    "    print(e)"
   ]
  },
  {
   "cell_type": "code",
   "execution_count": 16,
   "id": "753c6e07-7ee9-464f-8168-369887e95c55",
   "metadata": {},
   "outputs": [],
   "source": [
    "file_name='first.txt'\n",
    "path=os.path.join(work_path, file_name)\n",
    "with open(path, mode='w') as file:\n",
    "    file.write('Hello how are you')"
   ]
  },
  {
   "cell_type": "code",
   "execution_count": null,
   "id": "6b918ad1-d411-4a46-b4d5-81ef04285eb2",
   "metadata": {},
   "outputs": [],
   "source": []
  }
 ],
 "metadata": {
  "kernelspec": {
   "display_name": "Python 3 (ipykernel)",
   "language": "python",
   "name": "python3"
  },
  "language_info": {
   "codemirror_mode": {
    "name": "ipython",
    "version": 3
   },
   "file_extension": ".py",
   "mimetype": "text/x-python",
   "name": "python",
   "nbconvert_exporter": "python",
   "pygments_lexer": "ipython3",
   "version": "3.11.7"
  }
 },
 "nbformat": 4,
 "nbformat_minor": 5
}
