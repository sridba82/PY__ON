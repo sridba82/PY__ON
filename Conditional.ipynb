{
 "cells": [
  {
   "cell_type": "markdown",
   "id": "92fe4a3a-7778-4732-833b-7f73ddd76b1e",
   "metadata": {},
   "source": [
    "**Conditional Statements**"
   ]
  },
  {
   "cell_type": "code",
   "execution_count": 23,
   "id": "6687d184-b20b-48df-8578-547bf3dcb9de",
   "metadata": {},
   "outputs": [
    {
     "name": "stdout",
     "output_type": "stream",
     "text": [
      "\n",
      "===========================================================\n",
      "Program to accept students Marks and to display PASS / FAIL\n",
      "===========================================================\n",
      "\n",
      "\n",
      "*** Student Max Marks Should be \"100\"\n",
      "\n",
      "\n",
      "Enter Student Marks \n",
      "============================\n"
     ]
    },
    {
     "name": "stdin",
     "output_type": "stream",
     "text": [
      "\n",
      "Student Name:  Srinivas Rao\n",
      "\n",
      "1st Language:  55\n",
      "\n",
      "2nd Language:  66\n",
      "\n",
      "3rd Language:  77\n",
      "\n",
      "Mathematics:  99\n",
      "\n",
      "Physical Science:  45\n",
      "\n",
      "Social Studies:  67\n"
     ]
    },
    {
     "name": "stdout",
     "output_type": "stream",
     "text": [
      "============================\n",
      "\n",
      "\n",
      "*** If Student marks less than 40 then the result will be \"Fail\"\n",
      "\n",
      "Student Results\n",
      "============================\n",
      "Student ID: 1246\n",
      "Student Name: Srinivas Rao\n",
      "Student First language: 55\n",
      "Student Second language: 66\n",
      "Student Third language: 77\n",
      "Student Mathematics: 99\n",
      "Student Physical Science: 45\n",
      "Student Social Studies: 67\n",
      "\n",
      "\n",
      "Total marks is: 409\n",
      "Percentage is: 68.17\n",
      "Result is: Pass\n"
     ]
    }
   ],
   "source": [
    "import random\n",
    "\n",
    "print(\"\\n===========================================================\")\n",
    "print(\"Program to accept students Marks and to display PASS / FAIL\")\n",
    "print(\"===========================================================\\n\\n\")\n",
    "\n",
    "print('*** Student Max Marks Should be \"100\"')\n",
    "print('\\n\\nEnter Student Marks ')\n",
    "print(\"============================\")\n",
    "std_idno = random.randint(1000, 1500)\n",
    "std_name = input('\\nStudent Name: ')\n",
    "std_1st_lan = eval(input(\"\\n1st Language: \"))\n",
    "std_2nd_lan = eval(input(\"\\n2nd Language: \"))\n",
    "std_3rd_lan = eval(input(\"\\n3rd Language: \"))\n",
    "std_maths = eval(input(\"\\nMathematics: \"))\n",
    "std_sci = eval(input(\"\\nPhysical Science: \"))\n",
    "std_soc = eval(input(\"\\nSocial Studies: \"))\n",
    "print(\"============================\")\n",
    "\n",
    "print('\\n\\n*** If Student marks less than 40 then the result will be \"Fail\"')\n",
    "print('\\nStudent Results')\n",
    "print(\"============================\")\n",
    "print(f'Student ID: {std_idno}')\n",
    "print(f'Student Name: {std_name}')\n",
    "print(f'Student First language: {std_1st_lan}')\n",
    "print(f'Student Second language: {std_2nd_lan}')\n",
    "print(f'Student Third language: {std_3rd_lan}')\n",
    "print(f'Student Mathematics: {std_maths}')\n",
    "print(f'Student Physical Science: {std_sci}')\n",
    "print(f'Student Social Studies: {std_soc}')\n",
    "\n",
    "tot_marks = std_1st_lan + std_2nd_lan + std_3rd_lan + std_maths + std_sci + std_soc \n",
    "\n",
    "result = 'Pass'\n",
    "\n",
    "if std_1st_lan < 40:\n",
    "    result = 'Fail'\n",
    "if std_2nd_lan < 40:\n",
    "    result = 'Fail'\n",
    "if std_3rd_lan < 40:\n",
    "    result = 'Fail'\n",
    "if std_maths < 40:\n",
    "    result = 'Fail'\n",
    "if std_sci < 40:\n",
    "    result = 'Fail'\n",
    "if std_soc < 40:\n",
    "    result = 'Fail'\n",
    "\n",
    "percentage =  round(((tot_marks / 600) * 100), 2)\n",
    "\n",
    "\n",
    "print(\"\\n\")\n",
    "\n",
    "print(f'Total Marks is: {tot_marks}')\n",
    "print(f'Percentage is: {percentage}')\n",
    "print(f'Result is: {result}')\n"
   ]
  },
  {
   "cell_type": "code",
   "execution_count": null,
   "id": "31cb1aeb-705a-46af-8bb5-945be5e85fc4",
   "metadata": {},
   "outputs": [],
   "source": []
  }
 ],
 "metadata": {
  "kernelspec": {
   "display_name": "Python 3 (ipykernel)",
   "language": "python",
   "name": "python3"
  },
  "language_info": {
   "codemirror_mode": {
    "name": "ipython",
    "version": 3
   },
   "file_extension": ".py",
   "mimetype": "text/x-python",
   "name": "python",
   "nbconvert_exporter": "python",
   "pygments_lexer": "ipython3",
   "version": "3.11.7"
  }
 },
 "nbformat": 4,
 "nbformat_minor": 5
}
