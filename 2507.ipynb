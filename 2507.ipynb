{
 "cells": [
  {
   "cell_type": "markdown",
   "id": "87134be8-4a3f-4354-aa01-d889acdb68b1",
   "metadata": {},
   "source": [
    "**Pattersn-3**\n",
    "- If-Else"
   ]
  },
  {
   "cell_type": "code",
   "execution_count": null,
   "id": "619f1d30-365c-4050-9af8-9f8c4864585d",
   "metadata": {},
   "outputs": [],
   "source": [
    "[output> <forloo>] : for loop\n",
    "[output> <forloo>] : <if condition>]: for-if\n",
    "[if_output> <if_con> <else> <else output> <for_loop]: for-if"
   ]
  },
  {
   "cell_type": "markdown",
   "id": "83803890-bc63-48ce-9142-a0a172ee1e4d",
   "metadata": {},
   "source": [
    "**Lambda Functions**\n",
    "- Lambda functions represents function concepts only.\n",
    "- But we can write in a single line.\n",
    "- Like list comprehension, lambda functions similar only.\n",
    "- It will decrease the time complexity\n",
    "- Always remember if we use many for loops or many conditions using multiple line, time complexity will increase."
   ]
  },
  {
   "cell_type": "markdown",
   "id": "492ac9b2-a5c2-473d-ba3f-ef51d55112e9",
   "metadata": {},
   "source": [
    "**SYntax: It will use a keyword lambda**\n",
    "\n",
    "# lambda <arguments>:<expression>    "
   ]
  },
  {
   "cell_type": "code",
   "execution_count": 2,
   "id": "3d316f89-16d0-44c0-bafe-5467d42b6fc2",
   "metadata": {},
   "outputs": [
    {
     "data": {
      "text/plain": [
       "20"
      ]
     },
     "execution_count": 2,
     "metadata": {},
     "output_type": "execute_result"
    }
   ],
   "source": [
    "def summ(n):\n",
    "    return(n+10)\n",
    "summ(10)"
   ]
  },
  {
   "cell_type": "markdown",
   "id": "b893db2e-5e2d-4135-b6d7-b0f9a8480029",
   "metadata": {},
   "source": [
    "$Pattersn-1$\n",
    "\n",
    "**Function with only one argument**\n",
    "- Function Name\n",
    "- Argument Name\n",
    "- Retrun Output\n",
    "    "
   ]
  },
  {
   "cell_type": "code",
   "execution_count": 11,
   "id": "a55702d8-b1d4-4718-a1e5-cd6a162fca3e",
   "metadata": {},
   "outputs": [
    {
     "data": {
      "text/plain": [
       "20"
      ]
     },
     "execution_count": 11,
     "metadata": {},
     "output_type": "execute_result"
    }
   ],
   "source": [
    "# syntax: <function name> = lambda <argument name> : <return output>\n",
    "\n",
    "summ=lambda n:(n+10)\n",
    "summ(10)"
   ]
  },
  {
   "cell_type": "code",
   "execution_count": 10,
   "id": "e13cc22f-f637-4157-9fe1-9e0b789a8ea4",
   "metadata": {},
   "outputs": [
    {
     "data": {
      "text/plain": [
       "8"
      ]
     },
     "execution_count": 10,
     "metadata": {},
     "output_type": "execute_result"
    }
   ],
   "source": [
    "cube=lambda m:(m**3)\n",
    "cube(2)"
   ]
  },
  {
   "cell_type": "markdown",
   "id": "c523cac7-11a3-4632-b86c-8b44ae4b352e",
   "metadata": {},
   "source": [
    "**Pattern No-2** \n",
    "- 2 Arguments"
   ]
  },
  {
   "cell_type": "code",
   "execution_count": 13,
   "id": "1c1f8375-f6ba-4ec2-981a-11671e4369bc",
   "metadata": {},
   "outputs": [
    {
     "data": {
      "text/plain": [
       "5"
      ]
     },
     "execution_count": 13,
     "metadata": {},
     "output_type": "execute_result"
    }
   ],
   "source": [
    "# syntax: <function name>= lambda <arg1>, <arg2> : <return output>\n",
    "add=lambda a, b: (a+b)\n",
    "add(2,3)\n"
   ]
  },
  {
   "cell_type": "code",
   "execution_count": 14,
   "id": "738df626-d7f6-4742-b823-9238054d40ba",
   "metadata": {},
   "outputs": [
    {
     "data": {
      "text/plain": [
       "'omkar nallagoni'"
      ]
     },
     "execution_count": 14,
     "metadata": {},
     "output_type": "execute_result"
    }
   ],
   "source": [
    "emp=lambda fname, lname: (fname+' '+lname)\n",
    "emp('omkar','nallagoni')"
   ]
  },
  {
   "cell_type": "code",
   "execution_count": 23,
   "id": "064a13d9-20b7-479c-8f2a-97bbd9a4770d",
   "metadata": {},
   "outputs": [
    {
     "data": {
      "text/plain": [
       "'First Name: omkar Last Name: nallagoni Company: cognizant.com'"
      ]
     },
     "execution_count": 23,
     "metadata": {},
     "output_type": "execute_result"
    }
   ],
   "source": [
    "emp=lambda fname, lname, email: ('First Name: '+fname+' Last Name: '+lname + ' Company: '+ email)\n",
    "emp('omkar','nallagoni', 'cognizant.com')"
   ]
  },
  {
   "cell_type": "code",
   "execution_count": 17,
   "id": "5cf1aed8-361a-4f53-8828-50ff619549a0",
   "metadata": {},
   "outputs": [
    {
     "data": {
      "text/plain": [
       "204.0"
      ]
     },
     "execution_count": 17,
     "metadata": {},
     "output_type": "execute_result"
    }
   ],
   "source": [
    "average=lambda a,b,c=500:round((a+b+c)/3,3)\n",
    "average(10, 102)"
   ]
  },
  {
   "cell_type": "code",
   "execution_count": 25,
   "id": "75856893-2ee4-4bb9-983c-cb83ac0fec13",
   "metadata": {},
   "outputs": [
    {
     "data": {
      "text/plain": [
       "20"
      ]
     },
     "execution_count": 25,
     "metadata": {},
     "output_type": "execute_result"
    }
   ],
   "source": [
    "maxx=lambda a,b: a if a>b else b\n",
    "maxx(10, 20)"
   ]
  },
  {
   "cell_type": "markdown",
   "id": "db65e2e8-b897-4932-9ebd-f90549d2f0fd",
   "metadata": {},
   "source": [
    "**Patterrn-5**\n",
    "- Using List\n",
    "- Need to map"
   ]
  },
  {
   "cell_type": "code",
   "execution_count": 29,
   "id": "db8a677e-4790-4735-a0e9-1ffd3fd11627",
   "metadata": {},
   "outputs": [
    {
     "data": {
      "text/plain": [
       "(<function __main__.<lambda>(i)>, ['hyd', 'chennai', 'madras'])"
      ]
     },
     "execution_count": 29,
     "metadata": {},
     "output_type": "execute_result"
    }
   ],
   "source": [
    "# syntax lambda <variable>:<op>,<iterator>\n",
    "l=['hyd', 'chennai', 'madras']\n",
    "lambda i:i.capitalize(), l"
   ]
  },
  {
   "cell_type": "code",
   "execution_count": 30,
   "id": "543775d7-20b8-4eec-807c-df4f5a284357",
   "metadata": {},
   "outputs": [
    {
     "data": {
      "text/plain": [
       "<map at 0x266602ae620>"
      ]
     },
     "execution_count": 30,
     "metadata": {},
     "output_type": "execute_result"
    }
   ],
   "source": [
    "# syntax lambda <variable>:<op>,<iterator>\n",
    "l=['hyd', 'chennai', 'madras']\n",
    "map(lambda i:i.capitalize(), l)"
   ]
  },
  {
   "cell_type": "code",
   "execution_count": 31,
   "id": "00e82949-3960-47b0-95f9-a2f5ca145814",
   "metadata": {},
   "outputs": [
    {
     "data": {
      "text/plain": [
       "['Hyd', 'Chennai', 'Madras']"
      ]
     },
     "execution_count": 31,
     "metadata": {},
     "output_type": "execute_result"
    }
   ],
   "source": [
    "# syntax lambda <variable>:<op>,<iterator>\n",
    "l=['hyd', 'chennai', 'madras']\n",
    "list(map(lambda i:i.capitalize(), l))"
   ]
  },
  {
   "cell_type": "code",
   "execution_count": 32,
   "id": "b00d29df-80d6-4305-a006-d5d76b4375ee",
   "metadata": {},
   "outputs": [
    {
     "data": {
      "text/plain": [
       "('Hyd', 'Chennai', 'Madras')"
      ]
     },
     "execution_count": 32,
     "metadata": {},
     "output_type": "execute_result"
    }
   ],
   "source": [
    "# syntax lambda <variable>:<op>,<iterator>\n",
    "l=['hyd', 'chennai', 'madras']\n",
    "tuple(map(lambda i:i.capitalize(), l))"
   ]
  },
  {
   "cell_type": "code",
   "execution_count": null,
   "id": "ba56537e-81ec-4cb8-9d48-f1e12f8dbc44",
   "metadata": {},
   "outputs": [],
   "source": []
  }
 ],
 "metadata": {
  "kernelspec": {
   "display_name": "Python 3 (ipykernel)",
   "language": "python",
   "name": "python3"
  },
  "language_info": {
   "codemirror_mode": {
    "name": "ipython",
    "version": 3
   },
   "file_extension": ".py",
   "mimetype": "text/x-python",
   "name": "python",
   "nbconvert_exporter": "python",
   "pygments_lexer": "ipython3",
   "version": "3.11.7"
  }
 },
 "nbformat": 4,
 "nbformat_minor": 5
}
