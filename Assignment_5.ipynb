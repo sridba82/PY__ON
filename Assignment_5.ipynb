{
 "cells": [
  {
   "cell_type": "markdown",
   "id": "9432e8ac-2830-4a3c-91d0-81e4525e4250",
   "metadata": {},
   "source": [
    "# Assignment 5"
   ]
  },
  {
   "cell_type": "code",
   "execution_count": 1,
   "id": "3191992e-c703-4c69-a904-d7018cab65e2",
   "metadata": {},
   "outputs": [
    {
     "name": "stdin",
     "output_type": "stream",
     "text": [
      "Enter 1st No. for Average:  30\n",
      "Enter 2nd No. for Average:  40\n",
      "Enter 3rd No. for Average:  50\n"
     ]
    },
    {
     "name": "stdout",
     "output_type": "stream",
     "text": [
      "Average of 30, 40, 50 is: 40.0\n"
     ]
    }
   ],
   "source": [
    "# wap ask the user enter 3 numbers calculate average\n",
    "#------------------------------------------------------------------------\n",
    "def average(num1, num2, num3):\n",
    "    avg = (num1+num2+num3) / 3\n",
    "    print(f'Average of {num1}, {num2}, {num3} is: {avg}')\n",
    "    \n",
    "# a = int(input('Enter 1st No. for Average: ').strip())\n",
    "# b = int(input('Enter 2nd No. for Average: ').strip())\n",
    "# c = int(input('Enter 3rd No. for Average: ').strip())\n",
    "# average(a, b, c)\n",
    "\n",
    "average(int(input('Enter 1st No. for Average: ').strip()), int(input('Enter 2nd No. for Average: ').strip()), int(input('Enter 3rd No. for Average: ').strip()))"
   ]
  },
  {
   "cell_type": "code",
   "execution_count": 3,
   "id": "4925bfca-3ec5-4a7f-8271-7e77c77e2992",
   "metadata": {},
   "outputs": [
    {
     "name": "stdin",
     "output_type": "stream",
     "text": [
      "Enter radius of a circle to find area:  2\n"
     ]
    },
    {
     "name": "stdout",
     "output_type": "stream",
     "text": [
      "The Area of a circle for radius: 2 is: 12.57\n"
     ]
    }
   ],
   "source": [
    "# wap ask the uer enter radius values find the area of the circle\n",
    "#-------------------------------------------------------------------------\n",
    "import math\n",
    "def area_circle(radius):\n",
    "    area = round(math.pi*radius*radius, 2)\n",
    "    print(f'The Area of a circle for radius: {radius} is: {area}')\n",
    "\n",
    "area_circle(int(input('Enter radius of a circle to find area: ').strip()))"
   ]
  },
  {
   "cell_type": "code",
   "execution_count": 4,
   "id": "84e7384b-937b-4850-9484-42e45db7857f",
   "metadata": {},
   "outputs": [
    {
     "name": "stdin",
     "output_type": "stream",
     "text": [
      "Enter price of the Meal: 1000\n",
      "Enter Tip (percentage on the Meal amount):  5\n"
     ]
    },
    {
     "name": "stdout",
     "output_type": "stream",
     "text": [
      "=============================================\n",
      "Tip:5 % on Meal amount\n",
      "Meal amount: 1000\n",
      "Tip amount:50.0 \n",
      "=======================\n",
      "Total Bill is: 1050.0\n",
      "=======================\n"
     ]
    }
   ],
   "source": [
    "\n",
    "# wap ask the user bill amount,\n",
    "#     ask the user how much tip you want pay in percentage\n",
    "#     calculate totalbill\n",
    "#-----------------------------------------------------------------------------\n",
    "def hotel(meal_amt, tip):\n",
    "\n",
    "    tip_amount = (meal_amt*tip) / 100\n",
    "    total_bill = tip_amount + meal_amt\n",
    "    print('=============================================')\n",
    "    print(f'Tip:{tip} % on Meal amount\\nMeal amount: {meal_amt}\\nTip amount:{tip_amount} \\n=======================\\nTotal Bill is: {total_bill}\\n=======================');\n",
    "\n",
    "meal_amt = int(input('Enter price of the Meal:').strip())\n",
    "tip = int(input('Enter Tip (percentage on the Meal amount): ').strip())\n",
    "\n",
    "hotel(meal_amt, tip)"
   ]
  },
  {
   "cell_type": "code",
   "execution_count": 5,
   "id": "ac4a4efb-5e69-4a03-805d-437c9f60c61e",
   "metadata": {},
   "outputs": [
    {
     "name": "stdout",
     "output_type": "stream",
     "text": [
      "Program to find area of a triangle\n"
     ]
    },
    {
     "name": "stdin",
     "output_type": "stream",
     "text": [
      "Enter height of a triangle: 2\n",
      "Enter breadth of a triangle: 4\n"
     ]
    },
    {
     "name": "stdout",
     "output_type": "stream",
     "text": [
      "Area of a Triangle is:4.0\n"
     ]
    }
   ],
   "source": [
    "#wap ask the user enter base height calculate area of the traingle\n",
    "#-------------------------------------------------------------------------------\n",
    "\n",
    "def area_triangle(_h,_b):\n",
    "    area = 0.5 * _h * _b\n",
    "    print(f'Area of a Triangle is:{area}')\n",
    "\n",
    "print('Program to find area of a triangle')\n",
    "h= int(input('Enter height of a triangle:').strip())\n",
    "b= int(input('Enter breadth of a triangle:').strip())\n",
    "\n",
    "area_triangle(h, b)"
   ]
  },
  {
   "cell_type": "code",
   "execution_count": 6,
   "id": "2df85d3c-b8bf-4188-bba0-6fbe0eb3b481",
   "metadata": {},
   "outputs": [
    {
     "name": "stdout",
     "output_type": "stream",
     "text": [
      "Program to find area of a rectangle\n"
     ]
    },
    {
     "name": "stdin",
     "output_type": "stream",
     "text": [
      "Enter height of a rectangle: 4\n",
      "Enter breadth of a rectangle: 8\n"
     ]
    },
    {
     "name": "stdout",
     "output_type": "stream",
     "text": [
      "Area of a Rectangle is:32\n"
     ]
    }
   ],
   "source": [
    "#wap ask the user enter base height calculate area of the rectangle\n",
    "#-------------------------------------------------------------------------------\n",
    "\n",
    "def area_rectangle(_h,_b):\n",
    "    area = _h * _b\n",
    "    print(f'Area of a Rectangle is:{area}')\n",
    "\n",
    "print('Program to find area of a rectangle')\n",
    "h= int(input('Enter height of a rectangle:').strip())\n",
    "b= int(input('Enter breadth of a rectangle:').strip())\n",
    "\n",
    "area_rectangle(h, b)"
   ]
  },
  {
   "cell_type": "code",
   "execution_count": 7,
   "id": "1ef7af59-89e7-4590-a0f2-f6930a50605b",
   "metadata": {},
   "outputs": [
    {
     "name": "stdin",
     "output_type": "stream",
     "text": [
      "Enter number to check even/odd:  11\n"
     ]
    },
    {
     "name": "stdout",
     "output_type": "stream",
     "text": [
      "Odd\n"
     ]
    }
   ],
   "source": [
    "## wap ask the user enter a number\n",
    "# find it is a even number or odd number\n",
    "\n",
    "def even_odd(num):\n",
    "    if num%2==0:\n",
    "        print('Even')\n",
    "    else:\n",
    "        print('Odd')\n",
    "\n",
    "even_odd(int(input('Enter number to check even/odd: ').strip()))"
   ]
  },
  {
   "cell_type": "code",
   "execution_count": 8,
   "id": "81c981c8-f736-4b20-8dab-bb4adb7cf5d4",
   "metadata": {},
   "outputs": [
    {
     "name": "stdin",
     "output_type": "stream",
     "text": [
      "Enter Distance travelled:  27\n"
     ]
    },
    {
     "name": "stdout",
     "output_type": "stream",
     "text": [
      "Charge amount 135 rupees\n"
     ]
    }
   ],
   "source": [
    "## wap ask the user enter the distance\n",
    "# if distance greater than 25km\n",
    "#      then enter the charge\n",
    "#      print the total cost\n",
    "#otherwise\n",
    "#      print free ride\n",
    "def charge_ride(distance):\n",
    "    if distance > 25:\n",
    "        cmount = distance * 5\n",
    "        print(f'Charge amount {cmount} rupees')\n",
    "    else:\n",
    "        print(f'You have a free ride')\n",
    "        \n",
    "dist = int(input('Enter Distance travelled: ').strip())\n",
    "\n",
    "charge_ride(dist)"
   ]
  },
  {
   "cell_type": "code",
   "execution_count": 9,
   "id": "595930e2-6a8f-4691-bb2e-bc98deb8a651",
   "metadata": {},
   "outputs": [
    {
     "name": "stdout",
     "output_type": "stream",
     "text": [
      "Charge amount 475 rupees\n"
     ]
    }
   ],
   "source": [
    "# Implement the above problem by taking a random input  between  1, 100\n",
    "import random\n",
    "def charge_ride_randint(distance):\n",
    "    if distance > 25:\n",
    "        cmount = distance * 5\n",
    "        print(f'Charge amount {cmount} rupees')\n",
    "    else:\n",
    "        print(f'You have a free ride')\n",
    "\n",
    "charge_ride_randint(random.randint(1, 100))"
   ]
  },
  {
   "cell_type": "code",
   "execution_count": 10,
   "id": "4ecf4de6-bb0d-43d0-ba96-437769246572",
   "metadata": {},
   "outputs": [
    {
     "name": "stdin",
     "output_type": "stream",
     "text": [
      "Enter Distance travelled:  27\n"
     ]
    },
    {
     "name": "stdout",
     "output_type": "stream",
     "text": [
      "Good News your charge is applicable for only remaining of 25\n",
      "Charge amount 10 rupees\n"
     ]
    }
   ],
   "source": [
    "## wap ask the user enter the distance\n",
    "# if distance greater than 25km\n",
    "#      then enter the charge\n",
    "#      print the total cost\n",
    "#otherwise\n",
    "#      print free ride\n",
    "\n",
    "def offer_ride(distance):\n",
    "    if distance > 25:\n",
    "        print('Good News your charge is applicable for only remaining of 25')\n",
    "        charge = distance - 25\n",
    "        cmount = charge * 5\n",
    "        print(f'Charge amount {cmount} rupees')\n",
    "    else:\n",
    "        print(f'You have a free ride because you travelled below {distance} kilometers')\n",
    "        \n",
    "dist = int(input('Enter Distance travelled: ').strip())\n",
    "\n",
    "offer_ride(dist)"
   ]
  },
  {
   "cell_type": "code",
   "execution_count": 11,
   "id": "911ed3c3-f233-485f-810e-2b236b2b9c72",
   "metadata": {},
   "outputs": [
    {
     "name": "stdin",
     "output_type": "stream",
     "text": [
      "Enter Course:  DS\n",
      "Enter Institute:  NARESH IT\n"
     ]
    },
    {
     "name": "stdout",
     "output_type": "stream",
     "text": [
      "You are Good !!\n"
     ]
    }
   ],
   "source": [
    "# wap ask the user enter the course\n",
    "# ask the user enter the Institute\n",
    "# if the course equal to data science and institute equal to naresh it\n",
    "#     then you are good\n",
    "# otherwise\n",
    "#     you are bad\n",
    "\n",
    "default_course = 'DS'\n",
    "default_inst = 'NARESH IT'\n",
    "\n",
    "def ins_course(course, institute):\n",
    "    if course == default_course and institute == default_inst:\n",
    "        print('You are Good !!')\n",
    "    else:\n",
    "        print('You are bad!!')\n",
    "\n",
    "\n",
    "# ins_course('DS', 'NARESH IT')\n",
    "ins_course(input('Enter Course: ').strip(), input('Enter Institute: ').strip())"
   ]
  },
  {
   "cell_type": "code",
   "execution_count": 12,
   "id": "f7dfd83a-156b-45ed-b07d-411763c8eef8",
   "metadata": {},
   "outputs": [
    {
     "name": "stdin",
     "output_type": "stream",
     "text": [
      "Enter Number between 1-10 to check toss winning: 2\n"
     ]
    },
    {
     "name": "stdout",
     "output_type": "stream",
     "text": [
      "You Lost !!\n"
     ]
    }
   ],
   "source": [
    "# wap ask the user enter a random number between 1 to 10, treat this as number1\n",
    "# ask the user enter another number from keyboard, treat this as number2\n",
    "# if number1 equal to number2\n",
    "#     print you won\n",
    "# otherwise\n",
    "#     print you lost\n",
    "import random\n",
    "def toss(toss_num):\n",
    "    auto_toss = random.randint(1, 10)\n",
    "    if toss_num == auto_toss:\n",
    "        print('You Won !!')\n",
    "    else:\n",
    "        print('You Lost !!')\n",
    "\n",
    "toss(int(input('Enter Number between 1-10 to check toss winning:').strip()))"
   ]
  },
  {
   "cell_type": "code",
   "execution_count": 15,
   "id": "fa86e14c-c6e0-446f-ba8f-bf3d52aa37d9",
   "metadata": {},
   "outputs": [
    {
     "name": "stdin",
     "output_type": "stream",
     "text": [
      "Enter Number from 1-3 to check output: 4\n"
     ]
    },
    {
     "name": "stdout",
     "output_type": "stream",
     "text": [
      "Enter valid number\n"
     ]
    }
   ],
   "source": [
    "# wap ask the user enter number\n",
    "# if number equal to 1 then print one\n",
    "# if number equal to 2 then print two\n",
    "# if number equal to 3 then print three\n",
    "# otherwise  print enter a valid number\n",
    "def serial(num):\n",
    "    if num == 1:\n",
    "        print('One')\n",
    "    elif num == 2:\n",
    "        print('Two')\n",
    "    elif num == 3:\n",
    "        print('Three')\n",
    "    else:\n",
    "        print('Enter valid number')\n",
    "\n",
    "serial(int(input('Enter Number from 1-3 to check output:').strip()))"
   ]
  },
  {
   "cell_type": "code",
   "execution_count": 17,
   "id": "7cd6ddbf-4db1-4742-a8f1-47dfc84ac94c",
   "metadata": {},
   "outputs": [
    {
     "name": "stdin",
     "output_type": "stream",
     "text": [
      "Enter Number to check +Ve or _Ve or Zero: -1\n"
     ]
    },
    {
     "name": "stdout",
     "output_type": "stream",
     "text": [
      "Negative\n"
     ]
    }
   ],
   "source": [
    "#wap ask the user enter a number\n",
    "# if that number greater than zero print postive\n",
    "# if that number less than zero print negative\n",
    "# otherwise print zero\n",
    "def post_neg(num):\n",
    "    if num > 0:\n",
    "        print('Positive')\n",
    "    elif num < 0:\n",
    "        print('Negative')\n",
    "    else:\n",
    "        print('Zero')\n",
    "\n",
    "post_neg(int(input('Enter Number to check +Ve or _Ve or Zero:').strip()))\n"
   ]
  },
  {
   "cell_type": "code",
   "execution_count": 18,
   "id": "be808358-fd3f-4541-b33f-ff55ce839259",
   "metadata": {},
   "outputs": [
    {
     "name": "stdin",
     "output_type": "stream",
     "text": [
      "Enter Percentage to print grade:  91\n"
     ]
    },
    {
     "name": "stdout",
     "output_type": "stream",
     "text": [
      "Grade A\n"
     ]
    }
   ],
   "source": [
    "# WAP ask the user enter the percentage of marks 0 to 100\n",
    "# if percentagw gretaer than 90  print A garde\n",
    "# if percentage between 75 to 90 print B garde\n",
    "# if percentage between 50 to 75 print C grade\n",
    "# if percentage between 35 to 50 print D grade\n",
    "# if percentage less than 35 print Fail\n",
    "def grade(percent):\n",
    "    if percent >= 90:\n",
    "        print('Grade A')\n",
    "    elif percent >= 75:\n",
    "        print('Grade B')\n",
    "    elif percent >= 50:\n",
    "        print('Grade C')\n",
    "    elif percent >= 35:\n",
    "        print('Grade D')\n",
    "    else:\n",
    "        print('Fail')\n",
    "grade(int(input('Enter Percentage to print grade: ').strip()))"
   ]
  },
  {
   "cell_type": "code",
   "execution_count": 19,
   "id": "82ce54f8-18b3-4e77-a71c-8d81279c00d4",
   "metadata": {},
   "outputs": [
    {
     "name": "stdin",
     "output_type": "stream",
     "text": [
      "Enter age to check status:  40\n"
     ]
    },
    {
     "name": "stdout",
     "output_type": "stream",
     "text": [
      "Middle Age\n"
     ]
    }
   ],
   "source": [
    "#--------------------------------------------------------------------------------------------------------------------------------------------------------------------\n",
    "# WAP ask the user enter the age\n",
    "# if the age greater tahn 100 print you are lucky\n",
    "# if the age gretaer than 75 print old age\n",
    "# if the age  between 50 to 75 print ss\n",
    "# if the age between  30 tp 50 print MA\n",
    "# if the age between  15 to 30 print young age\n",
    "# if the afe between less than 15 print kid\n",
    "def age_status(age):\n",
    "    if age >= 100:\n",
    "        print('You are Lucky')\n",
    "    elif age >= 75:\n",
    "        print('Old Age')\n",
    "    elif age >= 50:\n",
    "        print('Senior Citizen')\n",
    "    elif age >= 30:\n",
    "        print('Middle Age')\n",
    "    elif age >= 15:\n",
    "        print('Young Age')\n",
    "    else:\n",
    "        print('kid')\n",
    "\n",
    "age_status(int(input('Enter age to check status: ').strip()))"
   ]
  },
  {
   "cell_type": "code",
   "execution_count": null,
   "id": "201c11d2-ca4b-40ee-8f36-919be7625375",
   "metadata": {},
   "outputs": [],
   "source": []
  }
 ],
 "metadata": {
  "kernelspec": {
   "display_name": "Python 3 (ipykernel)",
   "language": "python",
   "name": "python3"
  },
  "language_info": {
   "codemirror_mode": {
    "name": "ipython",
    "version": 3
   },
   "file_extension": ".py",
   "mimetype": "text/x-python",
   "name": "python",
   "nbconvert_exporter": "python",
   "pygments_lexer": "ipython3",
   "version": "3.11.7"
  }
 },
 "nbformat": 4,
 "nbformat_minor": 5
}
