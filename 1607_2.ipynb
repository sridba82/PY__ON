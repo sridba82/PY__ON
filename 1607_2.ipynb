{
 "cells": [
  {
   "cell_type": "code",
   "execution_count": 18,
   "id": "754337a8-9f8e-4192-845a-b1383bd57501",
   "metadata": {},
   "outputs": [
    {
     "name": "stdout",
     "output_type": "stream",
     "text": [
      "\n",
      "Search words are 2, total words count in a string: 4\n"
     ]
    }
   ],
   "source": [
    "text='bits bytes bitsnbytes bytesbits bitsbytesbits bytes bitsnbytes bytesbits bitsbytesbits bytes bitsnbytes bytesbits bitsbytesbits bytes bitsnbytes bytesbits bitsbytesbits bytes bitsnbytes bytesbits bitsbytes'+' '\n",
    "search_txt = 'bytesbits bitsbytesbits'\n",
    "\n",
    "# Search section\n",
    "min2=0\n",
    "max2=len(search_txt)\n",
    "sp_count2=0\n",
    "# wd_counter2=1\n",
    "# f4m2=0\n",
    "# to22=0\n",
    "# buffer2=''\n",
    "gsp_count=1\n",
    "\n",
    "# Text section\n",
    "min=0\n",
    "max=len(text)\n",
    "sp_count=0\n",
    "wd_counter=1 \n",
    "f4m=0\n",
    "to2=0\n",
    "buffer=''\n",
    "xbuffer=''\n",
    "count=0\n",
    "\n",
    "# Search section\n",
    "for k in range(min2, max2):\n",
    "    if ord(search_txt[k]) == 32:\n",
    "        sp_count2=sp_count2+1\n",
    "        gsp_count=gsp_count+sp_count2\n",
    "        to22=k\n",
    "    #    for l in range(f4m2, to22):\n",
    "    #        buffer2=buffer2+search_txt[l]\n",
    "    #    f4m2=k+1\n",
    "    #    wd_counter2=wd_counter2+1\n",
    "    # print(buffer2)\n",
    "    # buffer2=''\n",
    "\n",
    "# Text section\n",
    "if gsp_count < 3:\n",
    "    for i in range(min, max):\n",
    "        if ord(text[i]) == 32:\n",
    "            sp_count=sp_count+1\n",
    "            to2=i\n",
    "            for j in range(f4m, to2):\n",
    "                buffer=buffer+text[j]\n",
    "            f4m=i+1\n",
    "            wd_counter=wd_counter+1\n",
    "            # print(buffer, sp_count, xbuffer+buffer)\n",
    "            if gsp_count==1:\n",
    "                if buffer == search_txt:\n",
    "                    count=count+1\n",
    "            if gsp_count==2:\n",
    "                if xbuffer+buffer == search_txt:\n",
    "                    count=count+1\n",
    "                xbuffer = buffer+ ' '\n",
    "        buffer=''\n",
    "    print(f'\\nSearch words are {gsp_count}, total words count in a string: {count}') \n",
    "else:\n",
    "    print('Search words should not be morethan 2')"
   ]
  },
  {
   "cell_type": "code",
   "execution_count": null,
   "id": "a178d32e-efcc-43bd-a8ed-7dc30d224ec6",
   "metadata": {},
   "outputs": [],
   "source": []
  }
 ],
 "metadata": {
  "kernelspec": {
   "display_name": "Python 3 (ipykernel)",
   "language": "python",
   "name": "python3"
  },
  "language_info": {
   "codemirror_mode": {
    "name": "ipython",
    "version": 3
   },
   "file_extension": ".py",
   "mimetype": "text/x-python",
   "name": "python",
   "nbconvert_exporter": "python",
   "pygments_lexer": "ipython3",
   "version": "3.11.7"
  }
 },
 "nbformat": 4,
 "nbformat_minor": 5
}
