{
 "cells": [
  {
   "cell_type": "markdown",
   "id": "56abba30-5d4a-4c30-b500-4322a425d2ba",
   "metadata": {},
   "source": [
    "**Default Arguments**"
   ]
  },
  {
   "cell_type": "code",
   "execution_count": 3,
   "id": "28227ce5-e940-46f4-8ba1-b7904d993538",
   "metadata": {},
   "outputs": [
    {
     "name": "stdin",
     "output_type": "stream",
     "text": [
      "Enter the bill amount: 1000\n",
      "Enter the tip percentage: 5\n"
     ]
    },
    {
     "name": "stdout",
     "output_type": "stream",
     "text": [
      "Total Bill amount:  1050.0\n"
     ]
    }
   ],
   "source": [
    "bill = eval(input('Enter the bill amount:'))\n",
    "tip_per = eval(input('Enter the tip percentage:'))\n",
    "tip_amt = (bill*tip_per)/100\n",
    "total_bill = bill + tip_amt\n",
    "print('Total Bill amount: ',total_bill)"
   ]
  },
  {
   "cell_type": "code",
   "execution_count": 4,
   "id": "1f81c156-698c-40dc-b1bb-74765db289fe",
   "metadata": {},
   "outputs": [
    {
     "name": "stdin",
     "output_type": "stream",
     "text": [
      "Enter the bill amount: 1000\n",
      "Enter the tip percentage: 10\n"
     ]
    },
    {
     "name": "stdout",
     "output_type": "stream",
     "text": [
      "Total Bill amount:  1100.0\n"
     ]
    }
   ],
   "source": [
    "def bill_pay(): \n",
    "    bill = eval(input('Enter the bill amount:'))\n",
    "    tip_per = eval(input('Enter the tip percentage:'))\n",
    "    tip_amt = (bill*tip_per)/100\n",
    "    total_bill = bill + tip_amt\n",
    "    print('Total Bill amount: ',total_bill)\n",
    "bill_pay()"
   ]
  },
  {
   "cell_type": "code",
   "execution_count": 8,
   "id": "385b5777-cfb6-4289-90e4-6272ead9b189",
   "metadata": {},
   "outputs": [
    {
     "name": "stdin",
     "output_type": "stream",
     "text": [
      "Enter the bill amount: 1000\n",
      "Enter the tip percentage: \n"
     ]
    },
    {
     "ename": "SyntaxError",
     "evalue": "invalid syntax (<string>, line 0)",
     "output_type": "error",
     "traceback": [
      "Traceback \u001b[1;36m(most recent call last)\u001b[0m:\n",
      "\u001b[0m  File \u001b[0;32mC:\\Anaconda\\Lib\\site-packages\\IPython\\core\\interactiveshell.py:3553\u001b[0m in \u001b[0;35mrun_code\u001b[0m\n    exec(code_obj, self.user_global_ns, self.user_ns)\u001b[0m\n",
      "\u001b[1;36m  Cell \u001b[1;32mIn[8], line 7\u001b[1;36m\n\u001b[1;33m    tip_per1 = eval(input('Enter the tip percentage:'))\u001b[1;36m\n",
      "\u001b[1;36m  File \u001b[1;32m<string>\u001b[1;36m\u001b[0m\n\u001b[1;33m    \u001b[0m\n\u001b[1;37m    ^\u001b[0m\n\u001b[1;31mSyntaxError\u001b[0m\u001b[1;31m:\u001b[0m invalid syntax\n"
     ]
    }
   ],
   "source": [
    "tip_per1=20\n",
    "def bill_pay(bill, tip_per=1\n",
    "             0): \n",
    "    tip_amt = (bill*tip_per)/100\n",
    "    total_bill = bill + tip_amt\n",
    "    print('Total Bill amount: ',total_b\n",
    "          ill)\n",
    "bill1 = eval(input('Enter the bill amount:'))\n",
    "tip_per1 = eval(input('Enter the tip percentage:'))\n",
    "bill_pay(bill1, tip_per1)"
   ]
  },
  {
   "cell_type": "code",
   "execution_count": 13,
   "id": "13abc869-c333-4415-8c2e-b95ea429af9b",
   "metadata": {},
   "outputs": [
    {
     "name": "stdout",
     "output_type": "stream",
     "text": [
      "1300\n"
     ]
    }
   ],
   "source": [
    "a1 = 100\n",
    "b=200\n",
    "def a1():\n",
    "    # a=200\n",
    "    b=600\n",
    "    c=a+b\n",
    "    print(c)\n",
    "a=700\n",
    "a1()"
   ]
  },
  {
   "cell_type": "code",
   "execution_count": 2,
   "id": "a0d85223-23e0-4d6f-8049-7b09edd5c5db",
   "metadata": {},
   "outputs": [
    {
     "name": "stdout",
     "output_type": "stream",
     "text": [
      "20 10\n"
     ]
    }
   ],
   "source": [
    "a=10\n",
    "b=20\n",
    "c=a\n",
    "a=b\n",
    "b=c\n",
    "print(a, b)"
   ]
  },
  {
   "cell_type": "code",
   "execution_count": null,
   "id": "8c259fcb-b678-4411-ba1a-5f1b745c8968",
   "metadata": {},
   "outputs": [],
   "source": []
  }
 ],
 "metadata": {
  "kernelspec": {
   "display_name": "Python 3 (ipykernel)",
   "language": "python",
   "name": "python3"
  },
  "language_info": {
   "codemirror_mode": {
    "name": "ipython",
    "version": 3
   },
   "file_extension": ".py",
   "mimetype": "text/x-python",
   "name": "python",
   "nbconvert_exporter": "python",
   "pygments_lexer": "ipython3",
   "version": "3.11.7"
  }
 },
 "nbformat": 4,
 "nbformat_minor": 5
}
