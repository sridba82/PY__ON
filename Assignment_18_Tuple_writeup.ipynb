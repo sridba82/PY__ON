{
 "cells": [
  {
   "cell_type": "markdown",
   "id": "21579904-4d51-49cb-b92b-46272fe0cb90",
   "metadata": {},
   "source": [
    "**Representation**\n",
    "        Tuple is one of the datatype in Python, and it is immutable. It is collection of data as a single variable. \n",
    "        The order is unchanged, each set of data is separated with comma and complete data enclosed in open/close paranthesis.\n",
    "\n",
    "- type: Shaows which class type => tuple\n",
    "\n",
    "- len: Shows the lenght of the tuple size (Total elements in the tuple)\n",
    "\n",
    "- max: Shows maximum value in the tuple.\n",
    "\n",
    "- min: Shows minimum value in the tuple.\n",
    "\n",
    "- sum: It will do the summation of all the tuple elements, supports Numeric, Float, Boolean\n",
    "\n",
    "- sorted: It sorts the elements in the tuple but o/p will be LIST, again we have to use \"tuple()\" method to convert into tuple.\n",
    "\n",
    "- reversed: It revers the order of the elements in the tuple (not sorting).\n",
    "\n",
    "- in: While checking value with IN operator with tuple, it will check the value in the tuple. If exist it will prints \"True\" else \"False\" as shown in the example.\n",
    "\n",
    "- for loop with in: Supports tuple elements wise.\n",
    "\n",
    "- index: Supports tuple elements wise.\n",
    "\n",
    "- for loop with index\n",
    "\n",
    "- mutable and immutable: Tuple is immutable, the order the elements cannot change and values cannot change.\n",
    "\n",
    "- slicing: Slicing supports in tuple. But element wise we can slice as shown in example\n",
    "\n",
    "- concatenation: concatination supports in tuple, the 2nd tuple after the \"+\" operator the 2nd tuple elements will suffix to the first tuple  \n",
    "\n",
    "- Methods"
   ]
  },
  {
   "cell_type": "code",
   "execution_count": 1,
   "id": "6da80fbf-7632-41bc-ab07-11243a4626b6",
   "metadata": {},
   "outputs": [
    {
     "name": "stdout",
     "output_type": "stream",
     "text": [
      "\n",
      "==> Tuple 'Type' with  Number: <class 'tuple'>\n",
      "==> Tuple 'Length' with  Number: 3\n",
      "==> Tuple 'Max' with  Number: 300\n",
      "==> Tuple 'Min' with  Number: 20\n",
      "==> Tuple 'Sum' with  Number: 420\n",
      "==> Tuple 'Sorted' with  Number: (20, 100, 300)\n",
      "\n",
      "----------------------------\n",
      "Tuple 'Reversed' with Number \n",
      "----------------------------\n",
      " (300, 20, 100)\n",
      "\n",
      "==> Tuple  'In' with  Num: False\n",
      "\n",
      "==> Tuple 'For-In' with  Number:\n",
      "100\n",
      "20\n",
      "300\n",
      "\n",
      "==> Tuple  'index' with  Number:  1\n",
      "\n",
      "==> Tuple  'Concat using + ' with  Number:  (100, 20, 300, 4, 6)\n"
     ]
    }
   ],
   "source": [
    "# NUMERIC\n",
    "\n",
    "tup = (100,20,300)\n",
    "tup2 = (4, 6)\n",
    "\n",
    "t= type(tup)\n",
    "l = len(tup)\n",
    "m = max(tup)\n",
    "mi = min(tup)\n",
    "s = sum(tup)\n",
    "so=tuple(sorted(tup))     # after sorting became list, again converted into tuple\n",
    "\n",
    "print('\\n==> Tuple \\'Type\\' with  Number:', t)\n",
    "print('==> Tuple \\'Length\\' with  Number:', l)\n",
    "print('==> Tuple \\'Max\\' with  Number:', m)\n",
    "print('==> Tuple \\'Min\\' with  Number:', mi)\n",
    "print('==> Tuple \\'Sum\\' with  Number:', s)\n",
    "print('==> Tuple \\'Sorted\\' with  Number:', so)\n",
    "\n",
    "print('\\n----------------------------\\nTuple \\'Reversed\\' with Number \\n----------------------------\\n', tuple(reversed(tup)))\n",
    "\n",
    "print('\\n==> Tuple  \\'In\\' with  Num:', 2 in tup)    # Display True or false if value checking with IN operator\n",
    "print('\\n==> Tuple \\'For-In\\' with  Number:')\n",
    "for i in range(len(tup)):\n",
    "    print(tup[i])\n",
    "\n",
    "print('\\n==> Tuple  \\'index\\' with  Number: ', tup.index(20))\n",
    "\n",
    "print('\\n==> Tuple  \\'Concat using + \\' with  Number: ',tup+tup2)"
   ]
  },
  {
   "cell_type": "code",
   "execution_count": 2,
   "id": "d1b4f790-4f4f-4f31-a3c0-b0245d8de869",
   "metadata": {},
   "outputs": [
    {
     "ename": "TypeError",
     "evalue": "'tuple' object does not support item assignment",
     "output_type": "error",
     "traceback": [
      "\u001b[1;31m---------------------------------------------------------------------------\u001b[0m",
      "\u001b[1;31mTypeError\u001b[0m                                 Traceback (most recent call last)",
      "Cell \u001b[1;32mIn[2], line 3\u001b[0m\n\u001b[0;32m      1\u001b[0m \u001b[38;5;66;03m# NUMERIC: Tuples are Immutable in Numeric\u001b[39;00m\n\u001b[0;32m      2\u001b[0m tup \u001b[38;5;241m=\u001b[39m (\u001b[38;5;241m100\u001b[39m,\u001b[38;5;241m20\u001b[39m,\u001b[38;5;241m300\u001b[39m)\n\u001b[1;32m----> 3\u001b[0m tup[\u001b[38;5;241m0\u001b[39m] \u001b[38;5;241m=\u001b[39m \u001b[38;5;241m440\u001b[39m\n\u001b[0;32m      4\u001b[0m \u001b[38;5;28mprint\u001b[39m(tup)\n",
      "\u001b[1;31mTypeError\u001b[0m: 'tuple' object does not support item assignment"
     ]
    }
   ],
   "source": [
    "# NUMERIC: Tuples are Immutable in Numeric\n",
    "tup = (100,20,300)\n",
    "tup[0] = 440\n",
    "print(tup) "
   ]
  },
  {
   "cell_type": "code",
   "execution_count": 3,
   "id": "4e5d15ad-5966-4795-bf46-428295658a30",
   "metadata": {},
   "outputs": [
    {
     "name": "stdout",
     "output_type": "stream",
     "text": [
      "(100, 20, 300, 500)\n"
     ]
    }
   ],
   "source": [
    "# NUMERIC: Tuples slicing in Numeric \n",
    "tup = (100,20,300, 500, 700, 800, 1000)\n",
    "tup_sil = tup[:4]\n",
    "print(tup_sil)"
   ]
  },
  {
   "cell_type": "code",
   "execution_count": 4,
   "id": "dd1435a9-ccc5-4be6-a122-91cb0cf6a897",
   "metadata": {},
   "outputs": [
    {
     "name": "stdout",
     "output_type": "stream",
     "text": [
      "\n",
      "==> Tuple 'Type' with  String: <class 'tuple'>\n",
      "==> Tuple 'Length' with  String: 8\n",
      "==> Tuple 'Max' with  String: pandu\n",
      "==> Tuple 'Min' with  String: Apple\n",
      "==> Tuple 'Sorting' with  String: ['Apple', 'Banana', 'Cat', 'alexa', 'all', 'boll', 'cat', 'pandu']\n",
      "\n",
      "----------------------------\n",
      "Tuple 'Reversed' with String \n",
      "----------------------------\n",
      " ('all', 'alexa', 'pandu', 'Cat', 'boll', 'Apple', 'cat', 'Banana')\n",
      "\n",
      "==> Tuple  'In' with  String: True\n",
      "\n",
      "==> Tuple 'For-In' with  String:\n",
      "Banana\n",
      "cat\n",
      "Apple\n",
      "boll\n",
      "Cat\n",
      "pandu\n",
      "alexa\n",
      "all\n",
      "\n",
      "==> Tuple  'index' with  String:  2\n",
      "\n",
      "==> Tuple  'Concat using + ' with String:  ('Banana', 'cat', 'Apple', 'boll', 'Cat', 'pandu', 'alexa', 'all', 'Bombay', 'Delhi')\n"
     ]
    }
   ],
   "source": [
    "# STRING\n",
    "\n",
    "tupt = ('Banana', 'cat','Apple','boll','Cat', 'pandu', 'alexa', 'all')\n",
    "tupt2 = ('Bombay', 'Delhi')\n",
    "tt= type(tupt)\n",
    "lt = len(tupt)\n",
    "mt = max(tupt)\n",
    "mit = min(tupt)\n",
    "# st = sum(tupt) cannot sum() tuple if it contain string: TypeError: unsupported operand type(s) for +: 'int' and 'str'\n",
    "sot=sorted(tupt)    # Sorting tuple from Capital first then Lower letters, and tuple converted in to LIST\n",
    "\n",
    "\n",
    "print('\\n==> Tuple \\'Type\\' with  String:', tt)\n",
    "print('==> Tuple \\'Length\\' with  String:', lt)\n",
    "print('==> Tuple \\'Max\\' with  String:', mt)\n",
    "print('==> Tuple \\'Min\\' with  String:', mit)\n",
    "# print('Sum String:', st)\n",
    "print('==> Tuple \\'Sorting\\' with  String:', sot)\n",
    "\n",
    "print('\\n----------------------------\\nTuple \\'Reversed\\' with String \\n----------------------------\\n', tuple(reversed(tupt)))\n",
    "\n",
    "print('\\n==> Tuple  \\'In\\' with  String:', 'boll' in tupt)    # Display True or false if value checking with IN operator\n",
    "print('\\n==> Tuple \\'For-In\\' with  String:')\n",
    "for i in range(len(tupt)):\n",
    "    print(tupt[i])\n",
    "\n",
    "print('\\n==> Tuple  \\'index\\' with  String: ', tupt.index('Apple')) # If index string is not there error raises\n",
    "\n",
    "print('\\n==> Tuple  \\'Concat using + \\' with String: ',tupt+tupt2) # concatenate at the end of the tuple"
   ]
  },
  {
   "cell_type": "code",
   "execution_count": 5,
   "id": "febcb54a-c58a-4be3-9bd2-5924b108923d",
   "metadata": {},
   "outputs": [
    {
     "ename": "TypeError",
     "evalue": "'tuple' object does not support item assignment",
     "output_type": "error",
     "traceback": [
      "\u001b[1;31m---------------------------------------------------------------------------\u001b[0m",
      "\u001b[1;31mTypeError\u001b[0m                                 Traceback (most recent call last)",
      "Cell \u001b[1;32mIn[5], line 3\u001b[0m\n\u001b[0;32m      1\u001b[0m \u001b[38;5;66;03m# STRING: Tuples are Immutable In strings\u001b[39;00m\n\u001b[0;32m      2\u001b[0m tupt \u001b[38;5;241m=\u001b[39m (\u001b[38;5;124m'\u001b[39m\u001b[38;5;124mBanana\u001b[39m\u001b[38;5;124m'\u001b[39m, \u001b[38;5;124m'\u001b[39m\u001b[38;5;124mcat\u001b[39m\u001b[38;5;124m'\u001b[39m,\u001b[38;5;124m'\u001b[39m\u001b[38;5;124mApple\u001b[39m\u001b[38;5;124m'\u001b[39m,\u001b[38;5;124m'\u001b[39m\u001b[38;5;124mboll\u001b[39m\u001b[38;5;124m'\u001b[39m,\u001b[38;5;124m'\u001b[39m\u001b[38;5;124mCat\u001b[39m\u001b[38;5;124m'\u001b[39m, \u001b[38;5;124m'\u001b[39m\u001b[38;5;124mpandu\u001b[39m\u001b[38;5;124m'\u001b[39m, \u001b[38;5;124m'\u001b[39m\u001b[38;5;124malexa\u001b[39m\u001b[38;5;124m'\u001b[39m, \u001b[38;5;124m'\u001b[39m\u001b[38;5;124mall\u001b[39m\u001b[38;5;124m'\u001b[39m)\n\u001b[1;32m----> 3\u001b[0m tupt[\u001b[38;5;241m1\u001b[39m] \u001b[38;5;241m=\u001b[39m \u001b[38;5;124m'\u001b[39m\u001b[38;5;124mkaka\u001b[39m\u001b[38;5;124m'\u001b[39m\n\u001b[0;32m      4\u001b[0m \u001b[38;5;28mprint\u001b[39m(tupt)\n",
      "\u001b[1;31mTypeError\u001b[0m: 'tuple' object does not support item assignment"
     ]
    }
   ],
   "source": [
    "# STRING: Tuples are Immutable In strings\n",
    "tupt = ('Banana', 'cat','Apple','boll','Cat', 'pandu', 'alexa', 'all')\n",
    "tupt[1] = 'kaka'\n",
    "print(tupt) "
   ]
  },
  {
   "cell_type": "code",
   "execution_count": 6,
   "id": "fcf2a2df-64f9-4c34-a406-ff61c30745a9",
   "metadata": {},
   "outputs": [
    {
     "name": "stdout",
     "output_type": "stream",
     "text": [
      "('Apple', 'boll', 'Cat')\n"
     ]
    }
   ],
   "source": [
    "# STRING: Tuples slicing in string \n",
    "tups = ('Banana', 'cat','Apple','boll','Cat', 'pandu', 'alexa', 'all')\n",
    "tups_sil = tups[2:5]\n",
    "print(tups_sil)"
   ]
  },
  {
   "cell_type": "code",
   "execution_count": 7,
   "id": "332646f8-9f3f-42db-b8a7-711994e8c3a6",
   "metadata": {},
   "outputs": [
    {
     "name": "stdout",
     "output_type": "stream",
     "text": [
      "==> Tuple 'Type' with  Float: <class 'tuple'>\n",
      "Tuple 'Length' with  Float: 3\n",
      "Tuple 'Max' with  Float: 300.2\n",
      "Tuple 'Min' with  Float: 20.05\n",
      "Tuple 'Sum' with  Float: 420.54999999999995\n",
      "Tuple 'Sorted' with  Float: [20.05, 100.3, 300.2]\n",
      "\n",
      "----------------------------\n",
      "Tuple 'Reversed' with Float \n",
      "----------------------------\n",
      " (300.2, 20.05, 100.3)\n",
      "\n",
      "==> Tuple  'In' with  Float: True\n",
      "\n",
      "==> Tuple 'For-In' with  Float:\n",
      "100.3\n",
      "20.05\n",
      "300.2\n",
      "\n",
      "==> Tuple  'index' with  Float:  1\n",
      "\n",
      "==> Tuple  'Concat using + ' with Float:  (100.3, 20.05, 300.2, 1.1, 3.1, 2.5, 0.5, 0.3)\n"
     ]
    }
   ],
   "source": [
    "# FLOAT\n",
    "\n",
    "tupf = (100.30,20.05,300.20)\n",
    "tupf2 = (1.1,3.1,2.5, 0.5, 00.300)\n",
    "\n",
    "tf= type(tupf)\n",
    "lf = len(tupf)\n",
    "mf = max(tupf)\n",
    "mif = min(tupf)\n",
    "sf = sum(tupf)\n",
    "sof=sorted(tupf)\n",
    "\n",
    "\n",
    "print('==> Tuple \\'Type\\' with  Float:', tf)\n",
    "print('Tuple \\'Length\\' with  Float:', lf)\n",
    "print('Tuple \\'Max\\' with  Float:', mf)\n",
    "print('Tuple \\'Min\\' with  Float:', mif)\n",
    "print('Tuple \\'Sum\\' with  Float:', sf)\n",
    "print('Tuple \\'Sorted\\' with  Float:', sof)\n",
    "\n",
    "print('\\n----------------------------\\nTuple \\'Reversed\\' with Float \\n----------------------------\\n', tuple(reversed(tupf)))\n",
    "\n",
    "print('\\n==> Tuple  \\'In\\' with  Float:', 300.20 in tupf)    # Display True or false if value checking with IN operator\n",
    "print('\\n==> Tuple \\'For-In\\' with  Float:')\n",
    "for i in range(len(tupf)):\n",
    "    print(tupf[i])\n",
    "\n",
    "print('\\n==> Tuple  \\'index\\' with  Float: ', tupf.index(20.05))   # If index string is not there error raises\n",
    "\n",
    "print('\\n==> Tuple  \\'Concat using + \\' with Float: ',tupf+tupf2) # concatenate at the end of the tuple"
   ]
  },
  {
   "cell_type": "code",
   "execution_count": 8,
   "id": "fd128c66-db7e-4aae-a30b-4dd1fe52b046",
   "metadata": {},
   "outputs": [
    {
     "ename": "TypeError",
     "evalue": "'tuple' object does not support item assignment",
     "output_type": "error",
     "traceback": [
      "\u001b[1;31m---------------------------------------------------------------------------\u001b[0m",
      "\u001b[1;31mTypeError\u001b[0m                                 Traceback (most recent call last)",
      "Cell \u001b[1;32mIn[8], line 3\u001b[0m\n\u001b[0;32m      1\u001b[0m \u001b[38;5;66;03m# FLOAT: Tuples are Immutable in Float\u001b[39;00m\n\u001b[0;32m      2\u001b[0m tupf \u001b[38;5;241m=\u001b[39m (\u001b[38;5;241m100.30\u001b[39m,\u001b[38;5;241m20.05\u001b[39m,\u001b[38;5;241m300.20\u001b[39m)\n\u001b[1;32m----> 3\u001b[0m tupf[\u001b[38;5;241m0\u001b[39m] \u001b[38;5;241m=\u001b[39m \u001b[38;5;241m4.40\u001b[39m\n\u001b[0;32m      4\u001b[0m \u001b[38;5;28mprint\u001b[39m(tupf)\n",
      "\u001b[1;31mTypeError\u001b[0m: 'tuple' object does not support item assignment"
     ]
    }
   ],
   "source": [
    "# FLOAT: Tuples are Immutable in Float\n",
    "tupf = (100.30,20.05,300.20)\n",
    "tupf[0] = 4.40\n",
    "print(tupf) "
   ]
  },
  {
   "cell_type": "code",
   "execution_count": 9,
   "id": "e8be58aa-62a9-4ec3-b1a3-d86455c4839c",
   "metadata": {},
   "outputs": [
    {
     "name": "stdout",
     "output_type": "stream",
     "text": [
      "(30.2, 50.0, 7.02)\n"
     ]
    }
   ],
   "source": [
    "# FLOAT: Tuples slicing in float \n",
    "tupf = (1.20,2.30,30.20, 50.0, 7.02, 800.00, 100.330)\n",
    "tupf_sil = tupf[2:5]\n",
    "print(tupf_sil)"
   ]
  },
  {
   "cell_type": "code",
   "execution_count": 12,
   "id": "73adb7ff-301c-4c6c-adfc-8e537add3dfa",
   "metadata": {},
   "outputs": [
    {
     "name": "stdout",
     "output_type": "stream",
     "text": [
      "==> Tuple 'Type' with  Bolean: <class 'tuple'>\n",
      "==> Tuple 'Length' with  Bolean: 4\n",
      "==> Tuple 'Max' with  Bolean: True\n",
      "==> Tuple 'Min' with  Bolean: False\n",
      "==> Tuple 'Sum' with  Bolean: 3\n",
      "==> Tuple 'Sorted' with  Bolean: [False, True, True, True]\n",
      "\n",
      "----------------------------\n",
      "Tuple 'Reversed' with Bolean \n",
      "----------------------------\n",
      " (True, True, False, True)\n",
      "\n",
      "==> Tuple  'In' with  Bolean: False\n",
      "\n",
      "==> Tuple 'For-In' with  Bolean:\n",
      "True\n",
      "False\n",
      "True\n",
      "True\n",
      "\n",
      "==> Tuple  'index' with  Bolean:  0\n",
      "\n",
      "==> Tuple  'Concat using + ' with Bolean:  (True, False, True, True, False, True, False)\n"
     ]
    }
   ],
   "source": [
    "# BOOLEAN\n",
    "\n",
    "tupb = (True, False, True, True)\n",
    "tupb2 = (False, True, False)\n",
    "\n",
    "tb= type(tupb)\n",
    "lb = len(tupb)\n",
    "mb = max(tupb)\n",
    "mib = min(tupb)\n",
    "sb = sum(tupb)\n",
    "sob=sorted(tupb)\n",
    "\n",
    "\n",
    "print('==> Tuple \\'Type\\' with  Bolean:', tb)\n",
    "print('==> Tuple \\'Length\\' with  Bolean:', lb)\n",
    "print('==> Tuple \\'Max\\' with  Bolean:', mb)\n",
    "print('==> Tuple \\'Min\\' with  Bolean:', mib)\n",
    "print('==> Tuple \\'Sum\\' with  Bolean:', sb)\n",
    "print('==> Tuple \\'Sorted\\' with  Bolean:', sob)\n",
    "\n",
    "print('\\n----------------------------\\nTuple \\'Reversed\\' with Bolean \\n----------------------------\\n', tuple(reversed(tupb)))\n",
    "\n",
    "print('\\n==> Tuple  \\'In\\' with  Bolean:', 300.20 in tupb)    # Display True or false if value checking with IN operator\n",
    "print('\\n==> Tuple \\'For-In\\' with  Bolean:')\n",
    "for i in range(len(tupb)):\n",
    "    print(tupb[i])\n",
    "\n",
    "print('\\n==> Tuple  \\'index\\' with  Bolean: ', tupb.index(True))   # If index string is not there error raises\n",
    "\n",
    "print('\\n==> Tuple  \\'Concat using + \\' with Bolean: ',tupb+tupb2) # concatenate at the end of the tuple"
   ]
  },
  {
   "cell_type": "code",
   "execution_count": 10,
   "id": "479869d4-7371-4a58-bc64-edc8927d90aa",
   "metadata": {},
   "outputs": [
    {
     "ename": "TypeError",
     "evalue": "'tuple' object does not support item assignment",
     "output_type": "error",
     "traceback": [
      "\u001b[1;31m---------------------------------------------------------------------------\u001b[0m",
      "\u001b[1;31mTypeError\u001b[0m                                 Traceback (most recent call last)",
      "Cell \u001b[1;32mIn[10], line 3\u001b[0m\n\u001b[0;32m      1\u001b[0m \u001b[38;5;66;03m# BOOLEAN: Tuples are Immutable in Boolean\u001b[39;00m\n\u001b[0;32m      2\u001b[0m tupb \u001b[38;5;241m=\u001b[39m (\u001b[38;5;28;01mTrue\u001b[39;00m, \u001b[38;5;28;01mFalse\u001b[39;00m)\n\u001b[1;32m----> 3\u001b[0m tupb[\u001b[38;5;241m0\u001b[39m] \u001b[38;5;241m=\u001b[39m \u001b[38;5;28;01mFalse\u001b[39;00m\n\u001b[0;32m      4\u001b[0m \u001b[38;5;28mprint\u001b[39m(tupb)\n",
      "\u001b[1;31mTypeError\u001b[0m: 'tuple' object does not support item assignment"
     ]
    }
   ],
   "source": [
    "# BOOLEAN: Tuples are Immutable in Boolean\n",
    "tupb = (True, False)\n",
    "tupb[0] = False\n",
    "print(tupb) "
   ]
  },
  {
   "cell_type": "code",
   "execution_count": 11,
   "id": "b6b808e0-17f1-4b53-b04e-72d604c8d6ac",
   "metadata": {},
   "outputs": [
    {
     "name": "stdout",
     "output_type": "stream",
     "text": [
      "(False, True, True)\n"
     ]
    }
   ],
   "source": [
    "# BOOLEAN: Tuples slicing in boolean \n",
    "tupb = (True, False, True, True, True, False)\n",
    "tupb_sil = tupb[1:4]\n",
    "print(tupb_sil)"
   ]
  },
  {
   "cell_type": "code",
   "execution_count": null,
   "id": "5215ece0-5267-4845-876f-671043d5da6e",
   "metadata": {},
   "outputs": [],
   "source": []
  }
 ],
 "metadata": {
  "kernelspec": {
   "display_name": "Python 3 (ipykernel)",
   "language": "python",
   "name": "python3"
  },
  "language_info": {
   "codemirror_mode": {
    "name": "ipython",
    "version": 3
   },
   "file_extension": ".py",
   "mimetype": "text/x-python",
   "name": "python",
   "nbconvert_exporter": "python",
   "pygments_lexer": "ipython3",
   "version": "3.11.7"
  }
 },
 "nbformat": 4,
 "nbformat_minor": 5
}
