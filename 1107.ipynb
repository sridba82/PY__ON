{
 "cells": [
  {
   "cell_type": "code",
   "execution_count": null,
   "id": "454ed3b3-3f92-4e53-947f-5ca8768f3021",
   "metadata": {},
   "outputs": [],
   "source": [
    "text = 'hai naresh how are you'\n",
    "count = 0\n",
    "for i in text:\n",
    "    if i =='a':\n",
    "        count = count+1\n",
    "print(count)\n"
   ]
  },
  {
   "cell_type": "code",
   "execution_count": null,
   "id": "1dad13a4-2219-46ef-b259-200bf3e1f2d8",
   "metadata": {},
   "outputs": [],
   "source": [
    "text = 'hai naresh how are you'\n",
    "count = 0\n",
    "i=0\n",
    "while i < len(text):\n",
    "    j in text\n",
    "    print(j)\n",
    "    i=i+1\n",
    "print(count)"
   ]
  },
  {
   "cell_type": "code",
   "execution_count": null,
   "id": "2ea9cbfc-2793-4fe8-bf4a-752c6c97ba6d",
   "metadata": {},
   "outputs": [],
   "source": [
    "text = 'hai naresh how are you'\n",
    "j in text"
   ]
  },
  {
   "cell_type": "code",
   "execution_count": null,
   "id": "7a523a9f-c0d9-4a1b-b36e-7ee6b860f0d0",
   "metadata": {},
   "outputs": [],
   "source": [
    "# Q how many vovels are in a string\n",
    "text = 'hai naresh how are you'\n",
    "count = 0\n",
    "vovel = 'aeiou'\n",
    "i=0\n",
    "for i in text:\n",
    "    if i in vovel:\n",
    "        count = count+1\n",
    "print(count)"
   ]
  },
  {
   "cell_type": "code",
   "execution_count": null,
   "id": "b3e65620-5ccc-4261-87b8-2401691bb784",
   "metadata": {},
   "outputs": [],
   "source": [
    "s1 = 'Hello '\n",
    "s2 = 2\n",
    "s2*s1"
   ]
  },
  {
   "cell_type": "code",
   "execution_count": null,
   "id": "136022b1-edd6-4ecd-9d74-91ee3cb1e0a3",
   "metadata": {},
   "outputs": [],
   "source": [
    "s='python'\n",
    "s[0], s[1], s[2], s[3], s[4], s[5]"
   ]
  },
  {
   "cell_type": "code",
   "execution_count": null,
   "id": "6544b641-c72c-4e27-9bbc-d2e5ab4b433c",
   "metadata": {},
   "outputs": [],
   "source": [
    "s='python'\n",
    "s[-1], s[-2], s[-3], s[-4], s[-5], s[-6]"
   ]
  },
  {
   "cell_type": "markdown",
   "id": "c24929e4-4f66-4b20-a767-ea2ec9d9a007",
   "metadata": {},
   "source": [
    "**Mutable - Immutable**\n",
    "- Mutable: Can change\n",
    "    - We can change using indexing\n",
    "- Immutable: Cannot change\n",
    "    - We cannot change using Indexing"
   ]
  },
  {
   "cell_type": "code",
   "execution_count": null,
   "id": "8a75eb81-13ff-4d96-b221-6b2fc869993b",
   "metadata": {},
   "outputs": [],
   "source": [
    "s = 'welcome'\n",
    "# I want to replace 'l' with 'L'\n",
    "# Not possible\n",
    "s[2] = 'L'\n"
   ]
  },
  {
   "cell_type": "markdown",
   "id": "4f0ce795-b295-4dc1-8421-88e9dda25ead",
   "metadata": {},
   "source": [
    "**Strings are Immutable**"
   ]
  },
  {
   "cell_type": "code",
   "execution_count": null,
   "id": "f5bc707a-d9b0-46e2-9802-144e7abd628d",
   "metadata": {},
   "outputs": [],
   "source": [
    "l = [1,2,3,4]\n",
    "l[1] = 200\n",
    "l"
   ]
  },
  {
   "cell_type": "markdown",
   "id": "ecf2b631-2120-4f77-8233-fe85e343d98f",
   "metadata": {},
   "source": [
    "**Lists are Mutable**"
   ]
  },
  {
   "cell_type": "code",
   "execution_count": 5,
   "id": "34c7190c-bbcb-43b8-a61d-5b1c53011d11",
   "metadata": {},
   "outputs": [
    {
     "name": "stdout",
     "output_type": "stream",
     "text": [
      "w\n",
      "e\n",
      "l\n",
      "c\n",
      "o\n",
      "m\n",
      "e\n"
     ]
    }
   ],
   "source": [
    "s = 'welcome'\n",
    "# l = [1,2,3,4]\n",
    "for i in s:\n",
    "    print(i)"
   ]
  },
  {
   "cell_type": "code",
   "execution_count": null,
   "id": "a7c28134-3e1f-4659-b11a-a9eb52b9857b",
   "metadata": {},
   "outputs": [],
   "source": [
    "s = 'welcome'\n",
    "# range belongs to which family\n",
    "# inside a bracket we need to provide value\n",
    "# No. of letters\n",
    "for i in range(7):\n",
    "    print(s[i])"
   ]
  },
  {
   "cell_type": "code",
   "execution_count": 6,
   "id": "e17e76a1-d48d-4118-b634-f4ef48ae9d1c",
   "metadata": {},
   "outputs": [
    {
     "name": "stdout",
     "output_type": "stream",
     "text": [
      "w\n",
      "e\n",
      "l\n",
      "c\n",
      "o\n",
      "m\n",
      "e\n"
     ]
    }
   ],
   "source": [
    "s = 'welcome'\n",
    "length = len(s)\n",
    "for i in range(length):\n",
    "    print(s[i])"
   ]
  },
  {
   "cell_type": "code",
   "execution_count": 2,
   "id": "b68334a8-2a6c-4722-a139-2cf545ad78f8",
   "metadata": {},
   "outputs": [
    {
     "name": "stdout",
     "output_type": "stream",
     "text": [
      "w\n",
      "e\n",
      "l\n",
      "c\n",
      "o\n",
      "m\n",
      "e\n"
     ]
    }
   ],
   "source": [
    "ss = 'welcome'\n",
    "for i in range(len(ss)):\n",
    "    print(ss[i])"
   ]
  },
  {
   "cell_type": "code",
   "execution_count": 8,
   "id": "36380ed4-20e3-4a6c-a49b-bb428492f0c5",
   "metadata": {},
   "outputs": [
    {
     "name": "stdout",
     "output_type": "stream",
     "text": [
      "The positive index of W is 0\n",
      "The positive index of e is 1\n",
      "The positive index of l is 2\n",
      "The positive index of c is 3\n",
      "The positive index of o is 4\n",
      "The positive index of m is 5\n",
      "The positive index of e is 6\n"
     ]
    }
   ],
   "source": [
    "text = 'Welcome'\n",
    "lent = len(text)\n",
    "for i in range(lent):\n",
    "    print(f'The positive index of {text[i]} is {i}')"
   ]
  },
  {
   "cell_type": "code",
   "execution_count": 9,
   "id": "6d4343b9-c341-4356-ab5c-785f4b389d24",
   "metadata": {},
   "outputs": [
    {
     "name": "stdout",
     "output_type": "stream",
     "text": [
      "The positive index of W is 0\n",
      "The positive index of e is -1\n",
      "The positive index of m is -2\n",
      "The positive index of o is -3\n",
      "The positive index of c is -4\n",
      "The positive index of l is -5\n",
      "The positive index of e is -6\n"
     ]
    }
   ],
   "source": [
    "txt = 'Welcome'\n",
    "lent = len(txt)\n",
    "for i in range(lent):\n",
    "    print(f'The positive index of {txt[-i]} is {-i}')"
   ]
  },
  {
   "cell_type": "code",
   "execution_count": 14,
   "id": "88672226-3bc4-46c7-a0c9-8ce10584fd9b",
   "metadata": {},
   "outputs": [
    {
     "name": "stdout",
     "output_type": "stream",
     "text": [
      "3\n",
      "26\n"
     ]
    }
   ],
   "source": [
    "s = 'hai how are you iam good'\n",
    "count=0\n",
    "sum=0\n",
    "for i in range(len(s)):\n",
    "    if s[i]=='a':\n",
    "        count=count+1\n",
    "        sum=sum+i\n",
    "print(count)\n",
    "print(sum)"
   ]
  },
  {
   "cell_type": "code",
   "execution_count": null,
   "id": "e343806f-625d-4f8e-a071-d45814ad424e",
   "metadata": {},
   "outputs": [],
   "source": []
  }
 ],
 "metadata": {
  "kernelspec": {
   "display_name": "Python 3 (ipykernel)",
   "language": "python",
   "name": "python3"
  },
  "language_info": {
   "codemirror_mode": {
    "name": "ipython",
    "version": 3
   },
   "file_extension": ".py",
   "mimetype": "text/x-python",
   "name": "python",
   "nbconvert_exporter": "python",
   "pygments_lexer": "ipython3",
   "version": "3.11.7"
  }
 },
 "nbformat": 4,
 "nbformat_minor": 5
}
