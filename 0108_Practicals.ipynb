{
 "cells": [
  {
   "cell_type": "code",
   "execution_count": null,
   "id": "25b6b326-7dc5-4f56-a8c1-9c78f93fd12a",
   "metadata": {},
   "outputs": [],
   "source": [
    "dir('')"
   ]
  },
  {
   "cell_type": "code",
   "execution_count": null,
   "id": "c25cea10-1231-41c8-bc31-283d136e6562",
   "metadata": {},
   "outputs": [],
   "source": [
    "string1=('Working on string')\n",
    "fill=20\n",
    "len_str=len(string1)\n",
    "res=string1.zfill(fill)       # filling 0's on left of the string and size shoud be morethan the string length.\n",
    "print(f'1. length of string: {len_str}')\n",
    "print(f'2. filling 0\\'s to left of string after: {len_str}')\n",
    "print(f'i.e {fill} - {len_str} is: {fill-len_str} 0\\'s')\n",
    "print(f'\\n{res}') "
   ]
  },
  {
   "cell_type": "code",
   "execution_count": null,
   "id": "5844e461-cc7d-4eb2-bf39-166c605ad9b2",
   "metadata": {},
   "outputs": [],
   "source": [
    "string2=('Working on string')\n",
    "res2=string2.upper()                 # convert all characters into upper case\n",
    "print(res2)"
   ]
  },
  {
   "cell_type": "code",
   "execution_count": null,
   "id": "c4e96f14-87dc-4ae2-8f3b-a5e4ce94e4cc",
   "metadata": {},
   "outputs": [],
   "source": [
    "mama_dict={107:109, 75:77}          # ASCII 107 = k, ASCII 109 = m, ASCII 75 = K, ASCII 77 = M\n",
    "string3=('Hello Kaka')\n",
    "print('Original string:', string3)\n",
    "res3=string3.translate(mama_dict)   # passing mama_dict to replace k with m\n",
    "print('Modified string:',res3)"
   ]
  },
  {
   "cell_type": "code",
   "execution_count": null,
   "id": "5204c823-e377-4d80-8cfc-7abf757b100b",
   "metadata": {},
   "outputs": [],
   "source": [
    "string3=('Working on string')      # Similar to Init cap()\n",
    "string3.title()"
   ]
  },
  {
   "cell_type": "code",
   "execution_count": null,
   "id": "c183902a-038c-4dce-bb8e-6a00cac8e2c0",
   "metadata": {},
   "outputs": [],
   "source": [
    "string4=('Working on string')      # swapping uper case to lower, lower to upper case each char\n",
    "string4.swapcase()"
   ]
  },
  {
   "cell_type": "code",
   "execution_count": null,
   "id": "5adfccb1-68cb-4aa2-af80-5489c48abbea",
   "metadata": {},
   "outputs": [],
   "source": [
    "string5=('    Working on string   ')      # remove spaces on left and right side of the string using strip()\n",
    "left, right='Hi', 'how are you ?'\n",
    "print('Before strip: ', left + string5 + right)\n",
    "strip=string5.strip()                    # we have lstrip() and rstip(), to remove specific side spaces.\n",
    "print('After strip: ', left + strip + right)"
   ]
  },
  {
   "cell_type": "code",
   "execution_count": null,
   "id": "f2a4df9a-359a-44ae-a0cf-dd6470b1054b",
   "metadata": {},
   "outputs": [],
   "source": [
    "string6=('working on string')\n",
    "string6.startswith('ing', 4)   # checking ing word starts from 4th char, if correct True, else False"
   ]
  },
  {
   "cell_type": "code",
   "execution_count": null,
   "id": "093ec09b-0a47-4bf9-9fcd-841040a10680",
   "metadata": {},
   "outputs": [],
   "source": [
    "txtsl = \"\"\"Data science is an interdisciplinary academic field that uses statistics\n",
    "          scientific computing, scientific methods, processes, scientific visualization\"\"\"\n",
    "x = txtsl.splitlines()            # split the 2 line text into 2 length array list\n",
    "# print(x)\n",
    "clean=[]\n",
    "for i in x:\n",
    "    clean.append(i.strip())       # removing spaces in 2nd line\n",
    "print(clean)"
   ]
  },
  {
   "cell_type": "code",
   "execution_count": null,
   "id": "9aca3319-e714-45ac-849a-77ae6f5fb51a",
   "metadata": {},
   "outputs": [],
   "source": [
    "string7=('working on string')\n",
    "spl=string7.split()   # converting strig into list\n",
    "string7, spl"
   ]
  },
  {
   "cell_type": "code",
   "execution_count": null,
   "id": "18f6da95-675f-4b50-a937-3d5982741d0f",
   "metadata": {},
   "outputs": [],
   "source": []
  },
  {
   "cell_type": "code",
   "execution_count": null,
   "id": "6538265b-0bda-46b8-8d03-d6a4d4e53271",
   "metadata": {},
   "outputs": [],
   "source": [
    "string8='working on string in morning'\n",
    "rep_str=string8.replace('ing','ed')\n",
    "rep_str"
   ]
  },
  {
   "cell_type": "code",
   "execution_count": null,
   "id": "c089ceb4-5e63-4851-9efd-9895f3ba16f2",
   "metadata": {},
   "outputs": [],
   "source": [
    "string8='working on string'\n",
    "r_suff_str = string8.removesuffix('ing')     # remove ending the line 'ing' in string if exist, similarly opposite to it: removeprefix\n",
    "r_suff_lis = string8.split()\n",
    "r_sol_suff = [suff.removesuffix('ing') for suff in r_suff_lis] # remove ending the word 'ing' in list if exist, similarly opposite to it: removeprefix\n",
    "r_suff_str, r_sol_suff"
   ]
  },
  {
   "cell_type": "code",
   "execution_count": null,
   "id": "2904b840-1f37-4b47-a4a0-beff3009be61",
   "metadata": {},
   "outputs": [],
   "source": [
    "string9='working on string'\n",
    "part_str=string9.partition(' on ') # string partition into tuple 3 items including separator = 'on' \n",
    "part_str"
   ]
  },
  {
   "cell_type": "code",
   "execution_count": null,
   "id": "4527a0ce-9e3a-4a75-9213-252630fede3e",
   "metadata": {},
   "outputs": [],
   "source": [
    "txt = \"Hi Sri!\"\n",
    "x = \"Sri\"    # Replace old string\n",
    "y = \"Nit\"    # with new string, must have same length (old and new)\n",
    "mytable = str.maketrans(x, y) # preparing ASCI dictionary x as keys and y as values, S replace with N, r with i and i with t\n",
    "print(mytable)         # prepared dictionary table\n",
    "print('\\n')\n",
    "print(txt.translate(mytable))  # Translating ASCII to char and replacing old with new string "
   ]
  },
  {
   "cell_type": "code",
   "execution_count": null,
   "id": "149e7672-023a-440b-bfe1-7af35de51257",
   "metadata": {},
   "outputs": [],
   "source": [
    "str1='working on string'\n",
    "txt_lst = ['Hi Sri!', 'Hi Nit']\n",
    "txt_ls_j = ' /\\ '.join(txt_lst)   # Join the specifiec text in the '' with the list of items\n",
    "str_j = '/'.join(str1)            # Join the specifiec text in the '' with the each char in the string\n",
    "print(str_j)\n",
    "print(txt_ls_j)"
   ]
  },
  {
   "cell_type": "code",
   "execution_count": null,
   "id": "ec727c48-7143-4ba0-8ad5-d28724acb1a5",
   "metadata": {},
   "outputs": [],
   "source": [
    "txt11 = \"Mango\"\n",
    "x = txt11.ljust(10, '^')      # Text should be left side and padding after the string, str length + padding value must be given.\n",
    "print(x)"
   ]
  },
  {
   "cell_type": "code",
   "execution_count": null,
   "id": "3cb3b53a-87e0-4982-abad-f719053e17bb",
   "metadata": {},
   "outputs": [],
   "source": [
    "txt11_1 = \"Mango\"\n",
    "txt11_2 = \"BANANA\"\n",
    "txt11_1.isupper(), txt11_2.isupper()"
   ]
  },
  {
   "cell_type": "code",
   "execution_count": null,
   "id": "487a59bc-1d72-4f51-8958-9b7fb6071109",
   "metadata": {},
   "outputs": [],
   "source": [
    "str2_1=''\n",
    "str2_2=' '\n",
    "str2_1.isspace(), str2_2.isspace()"
   ]
  },
  {
   "cell_type": "code",
   "execution_count": null,
   "id": "4ca24d3a-85b9-40f0-90b3-c94453052330",
   "metadata": {},
   "outputs": [],
   "source": [
    "str3_1='23a'\n",
    "str3_2='a23'\n",
    "str3_3='_'\n",
    "str3_4='_a'\n",
    "str3_5='$a'\n",
    "str3_6='99'\n",
    "str3_1.isidentifier(), str3_2.isidentifier(), str3_3.isidentifier(), str3_4.isidentifier(), str3_5.isidentifier(), str3_6.isidentifier()"
   ]
  },
  {
   "cell_type": "code",
   "execution_count": null,
   "id": "647cd388-e9f5-4dab-851d-32ce2c5ca0a7",
   "metadata": {},
   "outputs": [],
   "source": [
    "str4_1='23a'\n",
    "str4_5='BACabc'\n",
    "str4_2='a$'\n",
    "str4_3='_3b'\n",
    "str4_4='_&^'\n",
    "str4_6='99'\n",
    "str4_1.isalnum(), str4_2.isalnum(), str4_3.isalnum(), str4_4.isalnum(), str4_5.isalnum(), str4_6.isalnum()"
   ]
  },
  {
   "cell_type": "code",
   "execution_count": null,
   "id": "e35910f9-cf3f-430e-ac08-b6009e6c98a5",
   "metadata": {},
   "outputs": [],
   "source": [
    "str5_1='23a'\n",
    "str5_2='a$'\n",
    "str5_3='_3b'\n",
    "str5_4='_&^'\n",
    "str5_5='BACabc'\n",
    "str5_6='99'\n",
    "str5_1.isalpha(), str5_2.isalpha(), str5_3.isalpha(), str5_4.isalpha(), str5_5.isalpha(), str5_6.isalpha()"
   ]
  },
  {
   "cell_type": "code",
   "execution_count": 11,
   "id": "db01f006-d9d9-4335-a2bc-5c24e23ce0e0",
   "metadata": {},
   "outputs": [
    {
     "name": "stdout",
     "output_type": "stream",
     "text": [
      "6Â 918Â 417Â 712\n",
      "\n",
      "After fix:  6 918 417 712\n"
     ]
    },
    {
     "data": {
      "text/plain": [
       "(True, False, True, True, True, True, False)"
      ]
     },
     "execution_count": 11,
     "metadata": {},
     "output_type": "execute_result"
    }
   ],
   "source": [
    "str5_1='23a'\n",
    "str5_2='\\xfe'\n",
    "str5_3='\\t'\n",
    "str5_4='_&^'\n",
    "str5_5='BACabc'\n",
    "str5_6='99'\n",
    "str5_7 = u\"6Â 918Â 417Â 712\"\n",
    "print(str5_7)\n",
    "print('\\nAfter fix: ', str5_7_fix)\n",
    "str5_7_fix=str5_7.replace(u\"Â\", '')\n",
    "str5_1.isascii(),str5_2.isascii(),str5_3.isascii(),str5_4.isascii(),str5_5.isascii(),str5_6.isascii(),str5_7.isascii()"
   ]
  },
  {
   "cell_type": "code",
   "execution_count": 23,
   "id": "094319ec-0ce6-408e-b63e-7c35a43b5b28",
   "metadata": {},
   "outputs": [
    {
     "data": {
      "text/plain": [
       "(True, True, False, False, False, False)"
      ]
     },
     "execution_count": 23,
     "metadata": {},
     "output_type": "execute_result"
    }
   ],
   "source": [
    "str6_1='1234'\n",
    "str6_2=\"\\u0030\"        #unicode for 0\n",
    "str6_3='\\t'\n",
    "str6_4=\"\\u0047\"        #unicode for G\n",
    "str6_5='.007'\n",
    "str6_6='9.9'\n",
    "str6_1.isdecimal(), str6_2.isdecimal(), str6_3.isdecimal(), str6_4.isdecimal(), str6_5.isdecimal(), str6_6.isdecimal()"
   ]
  },
  {
   "cell_type": "code",
   "execution_count": 17,
   "id": "36d53bcd-7c1f-4e6e-b949-b31711d534cf",
   "metadata": {},
   "outputs": [
    {
     "data": {
      "text/plain": [
       "(False, False, False, False, False, True)"
      ]
     },
     "execution_count": 17,
     "metadata": {},
     "output_type": "execute_result"
    }
   ],
   "source": [
    "str6_1='23a'\n",
    "str6_2='a$'\n",
    "str6_3='\\t'\n",
    "str6_4='_&^'\n",
    "str6_5='BACabc'\n",
    "str6_6='99'\n",
    "str6_1.isdigit(), str6_2.isdigit(), str6_3.isdigit(), str6_4.isdigit(), str6_5.isdigit(), str6_6.isdigit()"
   ]
  },
  {
   "cell_type": "code",
   "execution_count": null,
   "id": "2bfc9263-b9bb-4700-a74e-d5028e1dc776",
   "metadata": {},
   "outputs": [],
   "source": []
  },
  {
   "cell_type": "code",
   "execution_count": null,
   "id": "42fc7569-543f-46cd-925a-f802780f2615",
   "metadata": {},
   "outputs": [],
   "source": []
  }
 ],
 "metadata": {
  "kernelspec": {
   "display_name": "Python 3 (ipykernel)",
   "language": "python",
   "name": "python3"
  },
  "language_info": {
   "codemirror_mode": {
    "name": "ipython",
    "version": 3
   },
   "file_extension": ".py",
   "mimetype": "text/x-python",
   "name": "python",
   "nbconvert_exporter": "python",
   "pygments_lexer": "ipython3",
   "version": "3.11.7"
  }
 },
 "nbformat": 4,
 "nbformat_minor": 5
}
