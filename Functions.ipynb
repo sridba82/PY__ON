{
 "cells": [
  {
   "cell_type": "code",
   "execution_count": 8,
   "id": "b41ebe98-d53d-42d3-a48a-236cab5beedb",
   "metadata": {},
   "outputs": [
    {
     "name": "stdout",
     "output_type": "stream",
     "text": [
      "15\n"
     ]
    }
   ],
   "source": [
    "# s=10\n",
    "def add():\n",
    "    s=5\n",
    "    s=s+10\n",
    "    print(s)\n",
    "add()"
   ]
  },
  {
   "cell_type": "code",
   "execution_count": 12,
   "id": "784a8d78-fc94-43c6-a513-6d02666ae093",
   "metadata": {},
   "outputs": [
    {
     "ename": "UnboundLocalError",
     "evalue": "cannot access local variable 's' where it is not associated with a value",
     "output_type": "error",
     "traceback": [
      "\u001b[1;31m---------------------------------------------------------------------------\u001b[0m",
      "\u001b[1;31mUnboundLocalError\u001b[0m                         Traceback (most recent call last)",
      "Cell \u001b[1;32mIn[12], line 6\u001b[0m\n\u001b[0;32m      4\u001b[0m     s\u001b[38;5;241m=\u001b[39m\u001b[38;5;241m10\u001b[39m\n\u001b[0;32m      5\u001b[0m     \u001b[38;5;28mprint\u001b[39m(s)\n\u001b[1;32m----> 6\u001b[0m add()\n",
      "Cell \u001b[1;32mIn[12], line 3\u001b[0m, in \u001b[0;36madd\u001b[1;34m()\u001b[0m\n\u001b[0;32m      2\u001b[0m \u001b[38;5;28;01mdef\u001b[39;00m \u001b[38;5;21madd\u001b[39m():\n\u001b[1;32m----> 3\u001b[0m     c\u001b[38;5;241m=\u001b[39ms\u001b[38;5;241m+\u001b[39m\u001b[38;5;241m5\u001b[39m \u001b[38;5;66;03m# the right side 's' is development side, no error\u001b[39;00m\n\u001b[0;32m      4\u001b[0m     s\u001b[38;5;241m=\u001b[39m\u001b[38;5;241m10\u001b[39m\n\u001b[0;32m      5\u001b[0m     \u001b[38;5;28mprint\u001b[39m(s)\n",
      "\u001b[1;31mUnboundLocalError\u001b[0m: cannot access local variable 's' where it is not associated with a value"
     ]
    }
   ],
   "source": [
    "s=10\n",
    "def add():\n",
    "    c=s+5 # the right side 's' is development side, no error\n",
    "    s=10\n",
    "    print(s)\n",
    "add()"
   ]
  },
  {
   "cell_type": "code",
   "execution_count": 13,
   "id": "7bdbea14-2d64-41e5-be3f-4f0faf7d7d89",
   "metadata": {},
   "outputs": [
    {
     "ename": "SyntaxError",
     "evalue": "invalid syntax (908408480.py, line 1)",
     "output_type": "error",
     "traceback": [
      "\u001b[1;36m  Cell \u001b[1;32mIn[13], line 1\u001b[1;36m\u001b[0m\n\u001b[1;33m    global.a\u001b[0m\n\u001b[1;37m          ^\u001b[0m\n\u001b[1;31mSyntaxError\u001b[0m\u001b[1;31m:\u001b[0m invalid syntax\n"
     ]
    }
   ],
   "source": []
  },
  {
   "cell_type": "code",
   "execution_count": 24,
   "id": "6958d3e9-ad1d-4481-a035-596f3500fd5f",
   "metadata": {},
   "outputs": [
    {
     "name": "stdout",
     "output_type": "stream",
     "text": [
      "10.0\n"
     ]
    }
   ],
   "source": [
    "def average():\n",
    "    n1 = 10\n",
    "    n2 = 10\n",
    "    global n3 = 10\n",
    "    avg = (n1+n2+n3)/3\n",
    "    return(avg)\n",
    "ret_avg = average()"
   ]
  },
  {
   "cell_type": "code",
   "execution_count": 38,
   "id": "b2a10388-6388-40cf-b926-a947801c30a4",
   "metadata": {},
   "outputs": [],
   "source": [
    "def average():\n",
    "    n1 = 10\n",
    "    n2 = 10\n",
    "    n3 = 10\n",
    "    avg = (n1+n2+n3)/3\n",
    "    return(avg, n3)\n",
    "ret_avg, n3= average()"
   ]
  },
  {
   "cell_type": "code",
   "execution_count": 39,
   "id": "64c6a032-9faf-47c9-b84c-20f096f4c643",
   "metadata": {},
   "outputs": [
    {
     "name": "stdout",
     "output_type": "stream",
     "text": [
      "10.0 10\n"
     ]
    }
   ],
   "source": [
    "print(ret_avg, n3)"
   ]
  },
  {
   "cell_type": "code",
   "execution_count": 44,
   "id": "9afec28d-2b55-4ca4-beb8-382e8bf02f5f",
   "metadata": {},
   "outputs": [],
   "source": [
    "def average():\n",
    "    global avg\n",
    "    n1 = 10\n",
    "    n2 = 100\n",
    "    n3 = 10\n",
    "    avg= (n1+n2+n3)/3\n",
    "average()"
   ]
  },
  {
   "cell_type": "code",
   "execution_count": 45,
   "id": "823a394b-5e3a-40a0-952b-9b73cd9fab2b",
   "metadata": {},
   "outputs": [
    {
     "data": {
      "text/plain": [
       "40.0"
      ]
     },
     "execution_count": 45,
     "metadata": {},
     "output_type": "execute_result"
    }
   ],
   "source": [
    "avg"
   ]
  },
  {
   "cell_type": "code",
   "execution_count": null,
   "id": "c978b40a-e4db-4a6d-88a2-245a690ebcf4",
   "metadata": {},
   "outputs": [],
   "source": []
  }
 ],
 "metadata": {
  "kernelspec": {
   "display_name": "Python 3 (ipykernel)",
   "language": "python",
   "name": "python3"
  },
  "language_info": {
   "codemirror_mode": {
    "name": "ipython",
    "version": 3
   },
   "file_extension": ".py",
   "mimetype": "text/x-python",
   "name": "python",
   "nbconvert_exporter": "python",
   "pygments_lexer": "ipython3",
   "version": "3.11.7"
  }
 },
 "nbformat": 4,
 "nbformat_minor": 5
}
