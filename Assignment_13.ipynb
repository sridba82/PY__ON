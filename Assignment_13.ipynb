{
 "cells": [
  {
   "cell_type": "markdown",
   "id": "e8a89e91-89c3-4b40-805c-e297b1c10256",
   "metadata": {},
   "source": [
    "- split\n",
    "\n",
    "- strip/lstrip/rstrip\n",
    "\n",
    "- startswith/endswith"
   ]
  },
  {
   "cell_type": "code",
   "execution_count": 32,
   "id": "e8ae65e6-5465-41cc-858f-7df748e64477",
   "metadata": {},
   "outputs": [
    {
     "name": "stdout",
     "output_type": "stream",
     "text": [
      "==================================\n",
      "||Employee detais from variables||\n",
      "==================================\n",
      "First Name:  Srinivas Rao \n",
      "Last Name:  Kancharla \n",
      "E-Mail:  sridba82@gmail.com\n",
      "\n",
      "==================================\n",
      "|| Employee details from String ||\n",
      "==================================----------\n",
      "Srinivas Rao, Kancharla, sridba82@gmail.com\n",
      "\n",
      "================================\n",
      "|| Employee details from List || \n",
      "================================---------------------\n",
      "['Srinivas Rao', 'Kancharla', 'sridba82@gmail.com']\n",
      "\n",
      "============================================\n",
      "|| Employee details using For Loop N List ||\n",
      "============================================\n",
      "First Name: Srinivas Rao\n",
      "Surname: Kancharla\n",
      "E-mail: sridba82@gmail.com\n",
      "\n",
      "E-Mail (Off/Per): gmail is Personal\n"
     ]
    }
   ],
   "source": [
    "# Employee details in variables\n",
    "\n",
    "f_name='Srinivas Rao'\n",
    "s_name='Kancharla'\n",
    "e_mail='sridba82@gmail.com'\n",
    "mail_spo=['yahoo', 'gmail', 'hotmail']\n",
    "mail_po=''\n",
    "\n",
    "print('==================================\\n||Employee detais from variables||\\n==================================')\n",
    "print('First Name: ',f_name,'\\nLast Name: ', s_name, '\\nE-Mail: ', e_mail)\n",
    "\n",
    "# Employee details in string\n",
    "emp=f_name +\", \"+ s_name + \", \" + e_mail\n",
    "print(f'\\n==================================\\n|| Employee details from String ||\\n==================================----------\\n{emp}')\n",
    "\n",
    "# Employee details in List\n",
    "list_emp = emp.split(', ')\n",
    "print(f'\\n================================\\n|| Employee details from List || \\n================================---------------------\\n{list_emp}')\n",
    "\n",
    "print('\\n============================================\\n|| Employee details using For Loop N List ||\\n============================================')\n",
    "# Displaying employee details from List\n",
    "for e in range(len(list_emp)):\n",
    "    if e==0:\n",
    "        print(f'First Name: {list_emp[e]}')\n",
    "    elif e==1:\n",
    "        print(f'Surname: {list_emp[e]}')\n",
    "    else:                                  # find() to split email to check email Official / Personal\n",
    "        print(f'E-mail: {list_emp[e]}')\n",
    "        mail_po=list_emp[e][list_emp[e].find('@')+1:list_emp[e].find('.com')]\n",
    "        if mail_po in mail_spo:\n",
    "            print(f'\\nE-Mail (Off/Per): {mail_po} is Personal')\n",
    "        else:\n",
    "            print(f'\\nE-Mail (Off/Per): {mail_po} is Official') \n",
    "        "
   ]
  },
  {
   "cell_type": "code",
   "execution_count": 35,
   "id": "cb0d5465-3436-40df-92cd-10bb2d89e2bb",
   "metadata": {},
   "outputs": [
    {
     "name": "stdout",
     "output_type": "stream",
     "text": [
      "['apple', 'banana', 'cherry', 'orange']\n"
     ]
    }
   ],
   "source": [
    "txt = \"apple#banana#cherry#orange\"\n",
    "x = txt.split(\"#\")\n",
    "print(x)"
   ]
  },
  {
   "cell_type": "code",
   "execution_count": 34,
   "id": "89c4c44d-2c9b-49b6-8160-414f85144673",
   "metadata": {},
   "outputs": [
    {
     "name": "stdout",
     "output_type": "stream",
     "text": [
      "['hello', 'my name is Peter', 'I am 26 years old']\n"
     ]
    }
   ],
   "source": [
    "txt = \"hello, my name is Peter, I am 26 years old\"\n",
    "x = txt.split(\", \")\n",
    "print(x)"
   ]
  },
  {
   "cell_type": "code",
   "execution_count": 36,
   "id": "81e387f3-ec26-49f5-8bd9-7e0293eb36da",
   "metadata": {},
   "outputs": [
    {
     "name": "stdout",
     "output_type": "stream",
     "text": [
      "['apple', 'banana#cherry#orange']\n"
     ]
    }
   ],
   "source": [
    "txt = \"apple#banana#cherry#orange\"\n",
    "# setting the maxsplit parameter to 1, will return a list with 2 elements!\n",
    "x = txt.split(\"#\", 1)\n",
    "print(x)"
   ]
  },
  {
   "cell_type": "code",
   "execution_count": 39,
   "id": "d79e812d-5c0a-4aff-8e97-03197698ac29",
   "metadata": {},
   "outputs": [
    {
     "name": "stdout",
     "output_type": "stream",
     "text": [
      "3\n"
     ]
    }
   ],
   "source": [
    "print(txt.count('#'))"
   ]
  },
  {
   "cell_type": "code",
   "execution_count": 78,
   "id": "9c4e7794-6503-451f-8bf3-f64dadd29bcb",
   "metadata": {},
   "outputs": [
    {
     "name": "stdout",
     "output_type": "stream",
     "text": [
      "================\n",
      "Displaying Food\n",
      "================\n",
      "\n",
      "Froots\n",
      "1. Apple\n",
      "2. Banana\n",
      "3. Cherry\n",
      "4. Orange\n",
      "\n",
      "Vegetables\n",
      "1. Tomato\n",
      "2. Cabbage\n",
      "3. Potato\n",
      "4. Brinjal\n",
      "\n",
      "Non-Veg\n",
      "1. Fish\n",
      "2. Chicken\n",
      "3. Mutton\n",
      "4. Prawns\n"
     ]
    }
   ],
   "source": [
    "# Type of foody and displaying\n",
    "food = \"apple#banana#cherry#orange tomato~cabbage~potato~brinjal fish*chicken*mutton*prawns\"\n",
    "\n",
    "# Indexing\n",
    "froot_sep = food.index(' ')\n",
    "veg_sep = food.index(' ', froot_sep+1)\n",
    "\n",
    "# Separating type of food based on index\n",
    "froot = food[:froot_sep]\n",
    "vege=food[froot_sep+1:veg_sep]\n",
    "nvege=food[veg_sep+1:]\n",
    "\n",
    "# Preparing food list from above food string\n",
    "f_list=froot.split('#')\n",
    "v_list=vege.split('~')\n",
    "nv_list=nvege.split('*')\n",
    "\n",
    "# Preparing food list of List\n",
    "food_list=[f_list, v_list, nv_list]\n",
    "print('================\\nDisplaying Food\\n================\\n')\n",
    "\n",
    "for f in range(len(food_list)):\n",
    "    if food_list[f] == f_list:\n",
    "        print('Froots')\n",
    "        for fo in range(len(f_list)):\n",
    "            print(f'{fo+1}. {f_list[fo].capitalize()}')\n",
    "    elif food_list[f] == v_list:\n",
    "        print('\\nVegetables')\n",
    "        for vo in range(len(v_list)):\n",
    "            print(f'{vo+1}. {v_list[vo].capitalize()}')\n",
    "    else:\n",
    "        print('\\nNon-Veg')\n",
    "        for nv in range(len(nv_list)):\n",
    "            print(f'{nv+1}. {nv_list[nv].capitalize()}')"
   ]
  },
  {
   "cell_type": "code",
   "execution_count": null,
   "id": "01950ceb-8cf0-4293-8323-36c444291f0c",
   "metadata": {},
   "outputs": [],
   "source": []
  }
 ],
 "metadata": {
  "kernelspec": {
   "display_name": "Python 3 (ipykernel)",
   "language": "python",
   "name": "python3"
  },
  "language_info": {
   "codemirror_mode": {
    "name": "ipython",
    "version": 3
   },
   "file_extension": ".py",
   "mimetype": "text/x-python",
   "name": "python",
   "nbconvert_exporter": "python",
   "pygments_lexer": "ipython3",
   "version": "3.11.7"
  }
 },
 "nbformat": 4,
 "nbformat_minor": 5
}
