{
 "cells": [
  {
   "cell_type": "markdown",
   "id": "653e97bf-9bf2-4e35-8d1f-9931a7f48ef9",
   "metadata": {},
   "source": [
    "### In operator : For loop\n",
    "### Index : For loop\n",
    "### Mutability check\n",
    "### Slicing\n",
    "### Concatenation\n",
    "\n",
    "### Postive index\n",
    "### Negative index\n",
    "### Both pos and neg"
   ]
  },
  {
   "cell_type": "code",
   "execution_count": 1,
   "id": "2577aec1-ddeb-49cb-bbab-7bd30e43bad8",
   "metadata": {},
   "outputs": [
    {
     "name": "stdout",
     "output_type": "stream",
     "text": [
      "0 => 1 => 2 => 3 => 4 => \n",
      "\n",
      "H * e * l * l * o *   * W * o * r * l * d * ! * ! * \n",
      "\n",
      "Apple  #  Mango  #  Orange  #  "
     ]
    }
   ],
   "source": [
    "# In operator : For loop\n",
    "\n",
    "for i in [0, 1, 2, 3, 4]:                  # IN, FOR, List\n",
    "    print(i, end=' => ')\n",
    "    \n",
    "print('\\n')\n",
    "for j in ('Hello World!!'):                # IN, FOR, String\n",
    "    print(j, end=' * ')\n",
    "\n",
    "print('\\n')\n",
    "for k in ('Apple', 'Mango', 'Orange'):    # IN, FOR, Tuple\n",
    "    print(k, end='  #  ')"
   ]
  },
  {
   "cell_type": "code",
   "execution_count": 2,
   "id": "c0f923e7-c5bb-4d82-b1ea-6a62b0b03b40",
   "metadata": {},
   "outputs": [
    {
     "name": "stdout",
     "output_type": "stream",
     "text": [
      "0 ==> I\n",
      "1 ==> n\n",
      "2 ==> d\n",
      "3 ==> e\n",
      "4 ==> x\n",
      "5 ==> i\n",
      "6 ==> n\n",
      "7 ==> g\n"
     ]
    }
   ],
   "source": [
    "# Index : For loop\n",
    "s1=\"Indexing\"\n",
    "for i in range(0, len(s1)):\n",
    "    print(i,end=' ==> ')\n",
    "    print(s1[i],end='\\n')"
   ]
  },
  {
   "cell_type": "code",
   "execution_count": 14,
   "id": "36d85b01-8f67-4f3c-87e8-0abdc3016531",
   "metadata": {},
   "outputs": [
    {
     "name": "stdout",
     "output_type": "stream",
     "text": [
      "Address before concat:  2241844592880\n",
      "Address after concat:  2241830547056  and data: Hello World! Adding College\n"
     ]
    }
   ],
   "source": [
    "# Mutability check\n",
    "# String can concatenete\n",
    "# Immutable object value cannot be changed (remain unchangeable) once they are created. \n",
    "# If any operation done on object or to modify an immutable object, it creates a new object with the modified value.\n",
    "    \n",
    "str = \"Hello World!\"\n",
    "print('Address before concat: ', id(str))\n",
    "# This will result in creation of new object\n",
    "str += \" Adding College\"\n",
    "print('Address after concat: ', id(str), ' and data:', str)"
   ]
  },
  {
   "cell_type": "code",
   "execution_count": 5,
   "id": "8c7f3825-a8ee-43d8-af31-adaa5660cbbb",
   "metadata": {},
   "outputs": [
    {
     "ename": "SyntaxError",
     "evalue": "unterminated string literal (detected at line 4) (2134020408.py, line 4)",
     "output_type": "error",
     "traceback": [
      "\u001b[1;36m  Cell \u001b[1;32mIn[5], line 4\u001b[1;36m\u001b[0m\n\u001b[1;33m    str[1] = 'a\u001b[0m\n\u001b[1;37m             ^\u001b[0m\n\u001b[1;31mSyntaxError\u001b[0m\u001b[1;31m:\u001b[0m unterminated string literal (detected at line 4)\n"
     ]
    }
   ],
   "source": [
    "# Mutability check\n",
    "# Cannot assign value to existing indexed string\n",
    "str = \"PrepBytes\"\n",
    "str[1] = 'a"
   ]
  },
  {
   "cell_type": "code",
   "execution_count": 6,
   "id": "2b86c463-c220-4610-9cfd-292c09d35099",
   "metadata": {},
   "outputs": [
    {
     "name": "stdout",
     "output_type": "stream",
     "text": [
      "Number before addition 5\n",
      "Before Address:  140711533724584\n",
      "\n",
      "Number after addition 7\n",
      "Before Address:  140711533724648\n"
     ]
    }
   ],
   "source": [
    "# Mutability check\n",
    "num = 5\n",
    "print('Number before addition', num)\n",
    "print('Before Address: ',id(num))\n",
    "# The value will not change in place\n",
    "# A new num object is created\n",
    "num += 2\n",
    "print('\\nNumber after addition', num)\n",
    "print('Before Address: ',id(num))"
   ]
  },
  {
   "cell_type": "code",
   "execution_count": 12,
   "id": "8da45640-e02b-4a06-8998-6403490651b3",
   "metadata": {},
   "outputs": [
    {
     "name": "stdout",
     "output_type": "stream",
     "text": [
      "Before addiging element into List\n",
      "Address:  2241831479168  and Data: [1, 2, 3, 4]\n",
      "\n",
      "After addiging element into List\n",
      "Address:  2241831479168  and Data: [11, 2, 3, 4]\n"
     ]
    }
   ],
   "source": [
    "# Mutable object value can be changed after creation, mutable objects allow changes to their internal state.\n",
    "list=[1,2,3,4]\n",
    "print('Before addiging element into List')\n",
    "print('Address: ', id(list), ' and Data:', list)\n",
    "print('\\nAfter addiging element into List')\n",
    "list[0]=11\n",
    "print('Address: ', id(list), ' and Data:', list)"
   ]
  },
  {
   "cell_type": "code",
   "execution_count": 15,
   "id": "af6cc8c0-be72-4f7a-bbff-a9bae423790f",
   "metadata": {},
   "outputs": [
    {
     "name": "stdout",
     "output_type": "stream",
     "text": [
      "Slicing:\n",
      "means\n",
      "cutting\n",
      "string\n",
      "into\n",
      "pieces\n",
      "or\n",
      "breaking\n",
      "into\n",
      "parts\n"
     ]
    }
   ],
   "source": [
    "# Slicing\n",
    "\n",
    "sli='Slicing: means cutting string into pieces or breaking into parts'+' '\n",
    "sl_len=len(sli)\n",
    "sp_count= sli.count(' ')\n",
    "sp_loc= sli.find(' ')\n",
    "\n",
    "# empty list\n",
    "empty_list = []\n",
    "\n",
    "# creating dummy length list to store \"empty-space\" index values.\n",
    "for i in range(sp_count):\n",
    "    empty_list.append(i)\n",
    "\n",
    "# Loading original index values into dummy list\n",
    "for j in range(sp_count):\n",
    "    if j==0:\n",
    "        empty_list[j]= sli.index(' ')\n",
    "    elif j > 0: \n",
    "        empty_list[j]= sli.index(' ',empty_list[j-1]+1)\n",
    "\n",
    "# For slicing above string taking length of space_list \n",
    "list_len=len(empty_list)\n",
    "\n",
    "# cutting string into pieces where ever the space occur\n",
    "for k in range(list_len):\n",
    "    if k==0:\n",
    "        cutting=sli[k:empty_list[k]]\n",
    "        print(cutting.strip())\n",
    "    elif k < list_len:\n",
    "        cutting=sli[empty_list[k-1]:empty_list[k]]\n",
    "        print(cutting.strip())\n",
    "    else:\n",
    "        cutting=sli[:empty_list]\n",
    "        print(cutting.strip())"
   ]
  },
  {
   "cell_type": "code",
   "execution_count": 8,
   "id": "c145af53-693f-44f7-b554-93651e5109ad",
   "metadata": {},
   "outputs": [
    {
     "name": "stdout",
     "output_type": "stream",
     "text": [
      "\n",
      "Using \"+\" operator\n",
      "===========================\n",
      "Full Name:  Hello world !!!\n",
      "\n",
      "Using \"print\" function\n",
      "===========================\n",
      "First Name:  Hello \n",
      "last Name:  world \n",
      "Surname:  !!!\n",
      "\n",
      "Using \"f\" string\n",
      "===========================\n",
      "First Name: Hello\n",
      "last Name: world\n",
      "Surname: !!!\n",
      "\n",
      "Using \"%\" Operator\n",
      "===========================\n",
      "First Name: Hello \n",
      "last Name: world \n",
      "Surname: !!!\n"
     ]
    }
   ],
   "source": [
    "# Concatenation\n",
    "# + operator\n",
    "\n",
    "f_name='Hello'\n",
    "l_name='world'\n",
    "s_name='!!!'\n",
    "\n",
    "# Using + Operator\n",
    "full_name = f_name + ' ' + l_name + ' ' + s_name\n",
    "print('\\nUsing \"+\" operator\\n===========================')\n",
    "print('Full Name: ',full_name)\n",
    "\n",
    "# Using print()\n",
    "print('\\nUsing \"print\" function\\n===========================')\n",
    "print('First Name: ',f_name, '\\nlast Name: ', l_name, '\\nSurname: ', s_name)\n",
    "\n",
    "# Using f string\n",
    "print('\\nUsing \"f\" string\\n===========================')\n",
    "print(f'First Name: {f_name}\\nlast Name: {l_name}\\nSurname: {s_name}')\n",
    "\n",
    "# % Operator \n",
    "print('\\nUsing \"%\" Operator\\n===========================')\n",
    "print('First Name: % s \\nlast Name: % s \\nSurname: % s' %(f_name, l_name, s_name))"
   ]
  },
  {
   "cell_type": "code",
   "execution_count": 9,
   "id": "d3f7791f-1d01-4731-8d67-2431e691783c",
   "metadata": {},
   "outputs": [
    {
     "ename": "TypeError",
     "evalue": "can only concatenate str (not \"int\") to str",
     "output_type": "error",
     "traceback": [
      "\u001b[1;31m---------------------------------------------------------------------------\u001b[0m",
      "\u001b[1;31mTypeError\u001b[0m                                 Traceback (most recent call last)",
      "Cell \u001b[1;32mIn[9], line 5\u001b[0m\n\u001b[0;32m      3\u001b[0m name\u001b[38;5;241m=\u001b[39m\u001b[38;5;124m'\u001b[39m\u001b[38;5;124mHello\u001b[39m\u001b[38;5;124m'\u001b[39m\n\u001b[0;32m      4\u001b[0m age\u001b[38;5;241m=\u001b[39m\u001b[38;5;241m30\u001b[39m\n\u001b[1;32m----> 5\u001b[0m name_age\u001b[38;5;241m=\u001b[39mname\u001b[38;5;241m+\u001b[39mage\n\u001b[0;32m      6\u001b[0m \u001b[38;5;28mprint\u001b[39m(name_age)\n",
      "\u001b[1;31mTypeError\u001b[0m: can only concatenate str (not \"int\") to str"
     ]
    }
   ],
   "source": [
    "# Concatenation\n",
    "# We cannot concatenete string + integer\n",
    "name='Hello'\n",
    "age=30\n",
    "name_age=name+age\n",
    "print(name_age)"
   ]
  },
  {
   "cell_type": "code",
   "execution_count": 10,
   "id": "6d54cbcb-6c47-4458-978f-d313323b3852",
   "metadata": {},
   "outputs": [
    {
     "name": "stdout",
     "output_type": "stream",
     "text": [
      "100 200\n"
     ]
    }
   ],
   "source": [
    "# Concatenation\n",
    "# 100 and 200 are in single quotes, python treats as string\n",
    "str1 = '100'\n",
    "str2 = '200'\n",
    "str3=str1 +' '+ str2\n",
    "print(str3)"
   ]
  },
  {
   "cell_type": "code",
   "execution_count": 11,
   "id": "ff0d3778-0b7d-4f17-b8e0-4b1ebad34f36",
   "metadata": {},
   "outputs": [
    {
     "name": "stdout",
     "output_type": "stream",
     "text": [
      "Positive Index No's\n",
      "===================\n",
      "0 ==> p\n",
      "1 ==> o\n",
      "2 ==> s\n",
      "3 ==> i\n",
      "4 ==> t\n",
      "5 ==> i\n",
      "6 ==> v\n",
      "7 ==> e\n",
      "8 ==>  \n",
      "9 ==> i\n",
      "10 ==> n\n",
      "11 ==> d\n",
      "12 ==> e\n",
      "13 ==> x\n",
      "14 ==>  \n",
      "15 ==> a\n",
      "16 ==> n\n",
      "17 ==> d\n",
      "18 ==>  \n",
      "19 ==> n\n",
      "20 ==> e\n",
      "21 ==> g\n",
      "22 ==> a\n",
      "23 ==> t\n",
      "24 ==> i\n",
      "25 ==> v\n",
      "26 ==> e\n",
      "27 ==>  \n",
      "28 ==> i\n",
      "29 ==> n\n",
      "30 ==> d\n",
      "31 ==> e\n",
      "32 ==> x\n",
      "\n",
      "Negative Index No's\n",
      "===================\n",
      "p ==> -33\n",
      "o ==> -32\n",
      "s ==> -31\n",
      "i ==> -30\n",
      "t ==> -29\n",
      "i ==> -28\n",
      "v ==> -27\n",
      "e ==> -26\n",
      "  ==> -25\n",
      "i ==> -24\n",
      "n ==> -23\n",
      "d ==> -22\n",
      "e ==> -21\n",
      "x ==> -20\n",
      "  ==> -19\n",
      "a ==> -18\n",
      "n ==> -17\n",
      "d ==> -16\n",
      "  ==> -15\n",
      "n ==> -14\n",
      "e ==> -13\n",
      "g ==> -12\n",
      "a ==> -11\n",
      "t ==> -10\n",
      "i ==> -9\n",
      "v ==> -8\n",
      "e ==> -7\n",
      "  ==> -6\n",
      "i ==> -5\n",
      "n ==> -4\n",
      "d ==> -3\n",
      "e ==> -2\n",
      "x ==> -1\n"
     ]
    }
   ],
   "source": [
    "# Postive index: It starts from left to right hand side and having +ve numbers, start with 0\n",
    "# Negative index: It starts from righ to left hand sise and having -ve number, starts with -1\n",
    "# Both pos and neg\n",
    "\n",
    "# -33-32-31-30-29-28-27-26-25-24-23-22-21-20 -19 -18-17-16 -15 -14-13-12-11-10 -9 -8 -7 -6- 5 -4 -3 -2 -1\n",
    "#  p  o  s  i  t  i  v  e     i  n  d  e  x       a  n  d       n  e  g  a  t  i  v  e      i  n  d  e  x \n",
    "#  0  1  2  3  4  5  6 7  8   9 10 11 12 13  14  15 16 17  18  19 20 21 22 23 24 25 26  27  28 29 30 31 32\n",
    "\n",
    "s1=\"positive index and negative index\"\n",
    "print('Positive Index No\\'s\\n===================')\n",
    "for i in range(0, len(s1)):\n",
    "    print(i,end=' ==> ')\n",
    "    print(s1[i],end='\\n')\n",
    "print('\\nNegative Index No\\'s\\n===================')\n",
    "for j in range(-len(s1), 0):\n",
    "    print(s1[j],end=' ==> ')\n",
    "    print(j,end='\\n')"
   ]
  },
  {
   "cell_type": "code",
   "execution_count": null,
   "id": "ac56b4ac-1b59-4c2c-af16-a599581d20dd",
   "metadata": {},
   "outputs": [],
   "source": []
  }
 ],
 "metadata": {
  "kernelspec": {
   "display_name": "Python 3 (ipykernel)",
   "language": "python",
   "name": "python3"
  },
  "language_info": {
   "codemirror_mode": {
    "name": "ipython",
    "version": 3
   },
   "file_extension": ".py",
   "mimetype": "text/x-python",
   "name": "python",
   "nbconvert_exporter": "python",
   "pygments_lexer": "ipython3",
   "version": "3.11.7"
  }
 },
 "nbformat": 4,
 "nbformat_minor": 5
}
