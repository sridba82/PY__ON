{
 "cells": [
  {
   "cell_type": "markdown",
   "id": "6604f9cf-fa58-435d-b51f-7327f2a86cd3",
   "metadata": {},
   "source": [
    "# For Loops"
   ]
  },
  {
   "cell_type": "code",
   "execution_count": 1,
   "id": "28141e90-65d3-487d-82d8-cf5c2d9473fc",
   "metadata": {},
   "outputs": [
    {
     "name": "stdout",
     "output_type": "stream",
     "text": [
      "Number is even:  64\n",
      "Number is even:  100\n",
      "Number is odd:  9\n"
     ]
    }
   ],
   "source": [
    "# Q1: take a random number between  1 to 100\n",
    "# print it is a even number and odd number\n",
    "# you need to generate 3 random number\n",
    "import random\n",
    "for i in range(1, 4):\n",
    "    num = random.randint(1, 100)\n",
    "    if num%2 == 0:\n",
    "        print('Number is even: ', num)\n",
    "    else:\n",
    "        print('Number is odd: ', num)\n"
   ]
  },
  {
   "cell_type": "code",
   "execution_count": 2,
   "id": "7740c853-7fce-4a57-ba3f-ce1644bd5b2c",
   "metadata": {},
   "outputs": [
    {
     "name": "stdout",
     "output_type": "stream",
     "text": [
      "Number is odd:  11\n",
      "Number is even:  12\n",
      "Number is odd:  13\n",
      "Number is even:  14\n",
      "Number is odd:  15\n",
      "Number is even:  16\n",
      "Number is odd:  17\n",
      "Number is even:  18\n",
      "Number is odd:  19\n"
     ]
    }
   ],
   "source": [
    "#Q2: wap ask the user print the number is even or odd between 10 to 20\n",
    "for i in range(11, 20):\n",
    "    if i%2 == 0:\n",
    "        print('Number is even: ', i)\n",
    "    else:\n",
    "        print('Number is odd: ', i)"
   ]
  },
  {
   "cell_type": "code",
   "execution_count": 3,
   "id": "ab86de82-6725-4ef9-b557-495ef2b77d6d",
   "metadata": {},
   "outputs": [
    {
     "name": "stdout",
     "output_type": "stream",
     "text": [
      "Square of 21 = 441\n",
      "Square of 22 = 484\n",
      "Square of 23 = 529\n",
      "Square of 24 = 576\n"
     ]
    }
   ],
   "source": [
    "#Q3: wap ask the user print the square of the number between  20 to 25\n",
    "for i in range(21, 25):\n",
    "    print(f'Square of {i} = {i*i}')"
   ]
  },
  {
   "cell_type": "code",
   "execution_count": 4,
   "id": "77d1477d-fc9b-4631-83e7-93cfd40a3a71",
   "metadata": {},
   "outputs": [
    {
     "name": "stdin",
     "output_type": "stream",
     "text": [
      "Enter 1 No. to square of it:  6\n"
     ]
    },
    {
     "name": "stdout",
     "output_type": "stream",
     "text": [
      "Square of 6 is: 36\n"
     ]
    },
    {
     "name": "stdin",
     "output_type": "stream",
     "text": [
      "Enter 2 No. to square of it:  7\n"
     ]
    },
    {
     "name": "stdout",
     "output_type": "stream",
     "text": [
      "Square of 7 is: 49\n"
     ]
    },
    {
     "name": "stdin",
     "output_type": "stream",
     "text": [
      "Enter 3 No. to square of it:  9\n"
     ]
    },
    {
     "name": "stdout",
     "output_type": "stream",
     "text": [
      "Square of 9 is: 81\n"
     ]
    }
   ],
   "source": [
    "#Q4: WAP ask the user enter number three times find the square of the number\n",
    "# How many times loop should run\n",
    "# Ans: loop should run 3 times\n",
    "for i in range(1,4):\n",
    "    num = eval(input(f'Enter {i} No. to square of it: '))\n",
    "    square = num * num\n",
    "    print(f'Square of {num} is: {square}')"
   ]
  },
  {
   "cell_type": "code",
   "execution_count": 5,
   "id": "f918220f-c72a-4cde-a0a1-b61ccfa8acff",
   "metadata": {},
   "outputs": [
    {
     "name": "stdout",
     "output_type": "stream",
     "text": [
      "Printing 14th Table\n",
      "===================\n",
      "14 x 1 = 14\n",
      "14 x 2 = 28\n",
      "14 x 3 = 42\n",
      "14 x 4 = 56\n",
      "14 x 5 = 70\n",
      "14 x 6 = 84\n",
      "14 x 7 = 98\n",
      "14 x 8 = 112\n",
      "14 x 9 = 126\n",
      "14 x 10 = 140\n"
     ]
    }
   ],
   "source": [
    "#Q5: Print the 14th table\n",
    "print('Printing 14th Table')\n",
    "print('===================')\n",
    "num = 14\n",
    "for i in range(1, 11):\n",
    "    print(f'{num} x {i} = {num*i}')"
   ]
  },
  {
   "cell_type": "code",
   "execution_count": 6,
   "id": "d7753c7c-a2ae-4c7b-9572-17716a218898",
   "metadata": {},
   "outputs": [
    {
     "name": "stdout",
     "output_type": "stream",
     "text": [
      "1\n",
      "3\n",
      "5\n",
      "15\n",
      "25\n",
      "75\n"
     ]
    }
   ],
   "source": [
    "#Q6: Find the factors of 75\n",
    "#step-1: Iterate the loop = which numbers factor you want\n",
    "#step-2: Apply the if condition\n",
    "#cond= divide the number with each i\n",
    "fact_num = 75\n",
    "# count=0\n",
    "for i in range(1, 76):\n",
    "    if fact_num%i == 0:\n",
    "        print(i)"
   ]
  },
  {
   "cell_type": "code",
   "execution_count": 7,
   "id": "73111203-94a5-4f60-ac72-ba78530832bd",
   "metadata": {},
   "outputs": [
    {
     "name": "stdout",
     "output_type": "stream",
     "text": [
      "55\n"
     ]
    }
   ],
   "source": [
    "#Q7: Write the sum of first 10 Natural numbers\n",
    "# 1 to 10\n",
    "# 1+2+3+4+5+6+7+8+9+10=55\n",
    "sum=0\n",
    "for i in range(1,11):\n",
    "    sum=sum+i\n",
    "print(sum)\n",
    "    "
   ]
  },
  {
   "cell_type": "code",
   "execution_count": 8,
   "id": "e6467457-49d7-451e-9a2a-b9b4172bb8cb",
   "metadata": {},
   "outputs": [
    {
     "name": "stdout",
     "output_type": "stream",
     "text": [
      "5.5\n"
     ]
    }
   ],
   "source": [
    "# 8Q) Average first 1 to 10 numbers\n",
    "# avg= summation of all the numbers/total number\n",
    "# Wap to find the average of ' N ' numbers in Python.\n",
    "sum=0\n",
    "tot_num = 0\n",
    "for i in range(1,11):\n",
    "    sum=sum+i\n",
    "    tot_num = tot_num+1\n",
    "print(sum/tot_num)"
   ]
  },
  {
   "cell_type": "code",
   "execution_count": 9,
   "id": "2ac6f1bc-f27c-498d-837b-401f9690581e",
   "metadata": {},
   "outputs": [
    {
     "name": "stdout",
     "output_type": "stream",
     "text": [
      "1\n",
      "3\n",
      "5\n",
      "15\n",
      "25\n",
      "75\n",
      "================\n",
      "Total count:  6\n"
     ]
    }
   ],
   "source": [
    "#Q9: Find the number of divisors of 75\n",
    "# ans: 1,3,5,15,25,75\n",
    "# Number =6\n",
    "fact_num = 75\n",
    "count=0\n",
    "for i in range(1, 76):\n",
    "    if fact_num%i == 0:\n",
    "        print(i)\n",
    "        count = count+1\n",
    "print('================\\nTotal count: ',count)"
   ]
  },
  {
   "cell_type": "code",
   "execution_count": 10,
   "id": "f212ee27-cc70-4e61-a613-d717d0404c27",
   "metadata": {},
   "outputs": [
    {
     "name": "stdin",
     "output_type": "stream",
     "text": [
      "Enter toss number:  3\n"
     ]
    },
    {
     "name": "stdout",
     "output_type": "stream",
     "text": [
      "You Fail !!\n"
     ]
    },
    {
     "name": "stdin",
     "output_type": "stream",
     "text": [
      "Enter toss number:  4\n"
     ]
    },
    {
     "name": "stdout",
     "output_type": "stream",
     "text": [
      "You Fail !!\n"
     ]
    },
    {
     "name": "stdin",
     "output_type": "stream",
     "text": [
      "Enter toss number:  5\n"
     ]
    },
    {
     "name": "stdout",
     "output_type": "stream",
     "text": [
      "You Won !\n"
     ]
    }
   ],
   "source": [
    "# Q10 a: Get a random number between  1 to 10 :  num1\n",
    "# Ask the user enter a number : num2\n",
    "# if num1 == num2  then print won\n",
    "# else print fail\n",
    "for i in range(1, 4):\n",
    "    num1 = random.randint(1,10)\n",
    "    if num1 == eval(input('Enter toss number: ')):\n",
    "        print('You Won !')\n",
    "    else:\n",
    "        print('You Fail !!')"
   ]
  },
  {
   "cell_type": "code",
   "execution_count": 12,
   "id": "10e3b540-4e41-44ec-af24-9d72408a429a",
   "metadata": {},
   "outputs": [
    {
     "name": "stdin",
     "output_type": "stream",
     "text": [
      "Enter toss number:  3\n"
     ]
    },
    {
     "name": "stdout",
     "output_type": "stream",
     "text": [
      "You Fail !!\n"
     ]
    },
    {
     "name": "stdin",
     "output_type": "stream",
     "text": [
      "Enter toss number:  3\n"
     ]
    },
    {
     "name": "stdout",
     "output_type": "stream",
     "text": [
      "You Fail !!\n"
     ]
    },
    {
     "name": "stdin",
     "output_type": "stream",
     "text": [
      "Enter toss number:  3\n"
     ]
    },
    {
     "name": "stdout",
     "output_type": "stream",
     "text": [
      "You Won !\n"
     ]
    }
   ],
   "source": [
    "# Q10 b: similar to Q10 using case 2\n",
    "# Case-2: whenever you won the code should stop\n",
    "for i in range(1,4):\n",
    "    num1 = random.randint(1,10)\n",
    "    if num1 == eval(input('Enter toss number: ')):\n",
    "        print('You Won !')\n",
    "        break\n",
    "    else:\n",
    "        print('You Fail !!')"
   ]
  },
  {
   "cell_type": "code",
   "execution_count": 13,
   "id": "5c73c640-97b1-4146-b33a-e0cda322e9f8",
   "metadata": {},
   "outputs": [
    {
     "name": "stdin",
     "output_type": "stream",
     "text": [
      "Enter tossing number between 1-10:  5\n"
     ]
    },
    {
     "name": "stdout",
     "output_type": "stream",
     "text": [
      "You Fail !!\n",
      "1  chances over, Number of chances left:  3 \n",
      "\n"
     ]
    },
    {
     "name": "stdin",
     "output_type": "stream",
     "text": [
      "Enter tossing number between 1-10:  6\n"
     ]
    },
    {
     "name": "stdout",
     "output_type": "stream",
     "text": [
      "You Won !\n"
     ]
    }
   ],
   "source": [
    "# Q10 c: similar to Q10 using case 3\n",
    "# Case-3: Suppose i want to give 4 chances\n",
    "# Every time you fail I want to display\n",
    "# Number of chances left\n",
    "for i in range(1,5):\n",
    "    num1 = random.randint(1,10)\n",
    "    if num1 == eval(input('Enter tossing number between 1-10: ')):\n",
    "        print('You Won !')\n",
    "        break\n",
    "    else:\n",
    "        print('You Fail !!')\n",
    "    print(i, ' chances over, Number of chances left: ', max(range(1,5)) - i, '\\n')"
   ]
  },
  {
   "cell_type": "code",
   "execution_count": 14,
   "id": "abf9290d-b6b6-4be2-a361-b4b02ad65f6c",
   "metadata": {},
   "outputs": [
    {
     "name": "stdin",
     "output_type": "stream",
     "text": [
      "Enter tossing number between 1-10:  3\n"
     ]
    },
    {
     "name": "stdout",
     "output_type": "stream",
     "text": [
      "You Fail !!\n",
      "1  chances over, Number of chances left:  3 \n",
      "\n"
     ]
    },
    {
     "name": "stdin",
     "output_type": "stream",
     "text": [
      "Enter tossing number between 1-10:  3\n"
     ]
    },
    {
     "name": "stdout",
     "output_type": "stream",
     "text": [
      "You Fail !!\n",
      "2  chances over, Number of chances left:  2 \n",
      "\n"
     ]
    },
    {
     "name": "stdin",
     "output_type": "stream",
     "text": [
      "Enter tossing number between 1-10:  3\n"
     ]
    },
    {
     "name": "stdout",
     "output_type": "stream",
     "text": [
      "You Fail !!\n",
      "3  chances over, Number of chances left:  1 \n",
      "\n"
     ]
    },
    {
     "name": "stdin",
     "output_type": "stream",
     "text": [
      "Enter tossing number between 1-10:  3\n"
     ]
    },
    {
     "name": "stdout",
     "output_type": "stream",
     "text": [
      "You Fail !!\n",
      "4  chances over, Number of chances left:  0 \n",
      "\n",
      "\n",
      "Try again after 24 hours\n"
     ]
    }
   ],
   "source": [
    "# Q10 d: similar to Q10 using case 4\n",
    "# Case-4: # If all the chances you are used\n",
    "# Try again after 24 hours\n",
    "# If you are win\n",
    "count=0\n",
    "for i in range(1,5):\n",
    "    num1 = random.randint(1,10)\n",
    "    if num1 == eval(input('Enter tossing number between 1-10: ')):\n",
    "        print('You Won !')\n",
    "        break\n",
    "    else:\n",
    "        print('You Fail !!')\n",
    "        count=count+1\n",
    "    print(i, ' chances over, Number of chances left: ', max(range(1,5)) - i, '\\n')\n",
    "if count == 4:\n",
    "    print('\\nTry again after 24 hours')"
   ]
  },
  {
   "cell_type": "code",
   "execution_count": 15,
   "id": "66f1f730-d8de-4e79-ad39-fec10d5fe21b",
   "metadata": {},
   "outputs": [
    {
     "name": "stdout",
     "output_type": "stream",
     "text": [
      "Number:  12  is even\n",
      "Number:  52  is even\n",
      "Number:  97  is odd\n",
      "Number:  88  is even\n",
      "Number:  21  is odd\n",
      "\n",
      "Total even count is: 3 \n",
      "Total odd count is: 2\n"
     ]
    }
   ],
   "source": [
    "# Q11: wap ask the user get 5 random numbers\n",
    "# Get it is an even number or odd number\n",
    "# also count how many even numbers are there\n",
    "# and  count how many odd numbers are there\n",
    "e_count = 0\n",
    "o_count = 0\n",
    "for i in range(1, 6):\n",
    "    num = random.randint(1, 100)\n",
    "    if num%2 == 0:\n",
    "        print('Number: ', num, ' is even')\n",
    "        e_count = e_count+1\n",
    "    else:\n",
    "        print('Number: ', num, ' is odd')\n",
    "        o_count = o_count+1\n",
    "print(f'\\nTotal even count is: {e_count} \\nTotal odd count is: {o_count}')"
   ]
  },
  {
   "cell_type": "code",
   "execution_count": 16,
   "id": "397294cd-5ba8-4238-b629-c71d9f27df26",
   "metadata": {},
   "outputs": [
    {
     "name": "stdout",
     "output_type": "stream",
     "text": [
      "Number:  9  is odd\n",
      "Number:  9  is odd\n",
      "Number:  8  is even\n",
      "Number:  9  is odd\n",
      "Number:  2  is even\n",
      "\n",
      "Total even count is: 2 and Total sum is: 10\n",
      "Total odd count is: 3 and Total sum is: 27\n"
     ]
    }
   ],
   "source": [
    "# Q12: wap ask the user get 5 random numbers\n",
    "# Get it is an even number or odd number\n",
    "# also count how many even numbers are there\n",
    "# and count how many odd numbers are there\n",
    "# I want summ even numbers\n",
    "# I want summ odd numbers\n",
    "e_count = 0\n",
    "e_sum = 0\n",
    "o_count = 0\n",
    "o_sum = 0\n",
    "for i in range(1, 6):\n",
    "    num = random.randint(1, 10)\n",
    "    if num%2 == 0:\n",
    "        print('Number: ', num, ' is even')\n",
    "        e_count = e_count+1\n",
    "        e_sum = e_sum+num\n",
    "    else:\n",
    "        print('Number: ', num, ' is odd')\n",
    "        o_count = o_count+1\n",
    "        o_sum = o_sum+num\n",
    "print(f'\\nTotal even count is: {e_count} and Total sum is: {e_sum}')\n",
    "print(f'Total odd count is: {o_count} and Total sum is: {o_sum}')\n"
   ]
  },
  {
   "cell_type": "code",
   "execution_count": null,
   "id": "c0409640-1c73-46ca-9c82-b60bc048d96f",
   "metadata": {},
   "outputs": [],
   "source": []
  }
 ],
 "metadata": {
  "kernelspec": {
   "display_name": "Python 3 (ipykernel)",
   "language": "python",
   "name": "python3"
  },
  "language_info": {
   "codemirror_mode": {
    "name": "ipython",
    "version": 3
   },
   "file_extension": ".py",
   "mimetype": "text/x-python",
   "name": "python",
   "nbconvert_exporter": "python",
   "pygments_lexer": "ipython3",
   "version": "3.11.7"
  }
 },
 "nbformat": 4,
 "nbformat_minor": 5
}
