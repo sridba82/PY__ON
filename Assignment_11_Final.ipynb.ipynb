{
 "cells": [
  {
   "cell_type": "code",
   "execution_count": null,
   "id": "9cee5c78-411c-4c94-8a00-cdc2776aa4bf",
   "metadata": {},
   "outputs": [],
   "source": [
    "# Q14) string1='ola ola ola'\n",
    "# Number of ola  = 3\n",
    "\n",
    "# Q15) string1='hello hello hello how how how how are you'\n",
    "# What is the most repeated word : how\n",
    "\n",
    "# Q16) string1='hellooooo how aree u'\n",
    "# what is the maximum length of word: helloooo\n",
    "# what is the minimum length of word: u\n",
    "\n",
    "# Q17) with out using sorted then sort the letters"
   ]
  },
  {
   "cell_type": "code",
   "execution_count": null,
   "id": "7881ef23-e0e5-4319-bf57-05f4459679e5",
   "metadata": {},
   "outputs": [],
   "source": [
    "# Q14) string1='ola ola ola'\n",
    "# Number of ola  = 3\n",
    "# Part - 1\n",
    "string1='ola ola ola sathi pandu' + ' '\n",
    "count, min, space=0,0,0\n",
    "word=''\n",
    "for i in range(len(string1)):\n",
    "    if ord(string1[i]) == 32:\n",
    "        space=i\n",
    "        word=string1[min:space]\n",
    "        if word=='ola':                  # checking 'ola' word in string (words)\n",
    "            count=count+1\n",
    "        min=space+1\n",
    "        word=''\n",
    "print(f'1. Number of ola = {count}')\n",
    "\n",
    "\n",
    "# Part-2 \n",
    "string1='ola ola ola' + ' '\n",
    "sp_count=string1.count(' ')\n",
    "print('2. Number of ola =',sp_count)"
   ]
  },
  {
   "cell_type": "code",
   "execution_count": null,
   "id": "51de70bd-0bec-4b61-93b6-a1e48afd6a50",
   "metadata": {},
   "outputs": [],
   "source": [
    "# Q15) string1='hello hello hello how how how how are you'\n",
    "# What is the most repeated word : how\n",
    "string2='hello hello hello how how how how are you'+' '\n",
    "str_len=len(string2)\n",
    "min, count, sp_count=0, 0, 0\n",
    "word=''\n",
    "for i in range(str_len):\n",
    "    if ord(string2[i])==32:\n",
    "        sp_loc=i\n",
    "        for j in range(min, sp_loc):\n",
    "            word=word+string2[j]     # word=string2[min:sp_loc], we can use this one also\n",
    "        if word=='how':\n",
    "            count=count+1\n",
    "        min=sp_loc+1\n",
    "        word=''\n",
    "print(count)"
   ]
  },
  {
   "cell_type": "code",
   "execution_count": null,
   "id": "f7b9cac2-eeb1-4b36-a472-0ce027fcffb8",
   "metadata": {},
   "outputs": [],
   "source": [
    "# Q16) string1='hellooooo how aree u'\n",
    "# what is the maximum length of word: helloooo\n",
    "# what is the minimum length of word: u\n",
    "string3='hellooooo how aree u'+' '\n",
    "sp_loc, min=0, 0\n",
    "wc1=0\n",
    "wd1=''\n",
    "for i in range(len(string3)):\n",
    "    if ord(string3[i])==32:\n",
    "        sp_loc=i\n",
    "        # for j in range(min, sp_loc):\n",
    "        wc1=sp_loc-min\n",
    "        wd1=string3[min:sp_loc]\n",
    "        # print(wc1, wd1)\n",
    "        if wd1=='hellooooo':\n",
    "            print(f'Maximum length of word {wd1} is: {wc1}')\n",
    "        elif wd1=='u':\n",
    "            print(f'Maximum length of word {wd1} is: {wc1}')\n",
    "        min=sp_loc+1\n",
    "        wd1=''\n",
    "        wc1=0"
   ]
  },
  {
   "cell_type": "code",
   "execution_count": null,
   "id": "a0956a3a-1c81-48e5-96a8-fbb8dfb9b22b",
   "metadata": {},
   "outputs": [],
   "source": [
    "# Q17) with out using sorted then sort the letters\n",
    "\n",
    "string=[]          # Empty list to store each character in a string as list, using bubble sort concept in 'C' language\n",
    "text = input('Enter text for sorting:').lower()   # if capitals entered changing it to smaller \n",
    "\n",
    "for i in range(len(text)):\n",
    "    string.append(text[i])\n",
    "print('Each character in a string as list:', string)\n",
    "max = len(string)\n",
    "\n",
    "for j in range(max - 1):\n",
    "    for k in range(max - j - 1):\n",
    "        if string[k] > string[k + 1]:         # If 1st element is greater than second then swap \n",
    "            string[k], string[k + 1] = string[k + 1], string[k]\n",
    "sorting = ''.join(string)                    # back to string\n",
    "\n",
    "print('Sorted:', sorting)"
   ]
  },
  {
   "cell_type": "code",
   "execution_count": null,
   "id": "7b720a90-aab5-40bb-9404-1fee9f306059",
   "metadata": {},
   "outputs": [],
   "source": [
    "# Q17) with out using sorted then sort the letters\n",
    "string = 'hello'\n",
    "right=''\n",
    "left=''\n",
    "left_buffer=''\n",
    "right_buffer=''\n",
    "buffer=''\n",
    "max = len(string)\n",
    "\n",
    "for j in range(max - 1):\n",
    "    for k in range(max - j - 1):\n",
    "        if string[k] > string[k + 1]:         # If 1st element is greater than second then swap \n",
    "            if k!=0:\n",
    "                left_buffer=string[:k+1]\n",
    "                right_buffer=string[k+2:]\n",
    "                right=right+string[k]\n",
    "                left=left+string[k+1]\n",
    "            else:\n",
    "                right_buffer=string[k+2:]\n",
    "                right=right+string[k]\n",
    "                left=left+string[k+1]\n",
    "            print(f'{k} string: {string}')\n",
    "            print(f'Test {k} => {left_buffer} + {left} + {right} + {right_buffer}')\n",
    "            buffer=left_buffer+left+right+right_buffer\n",
    "            left=''\n",
    "            right=''\n",
    "            left_buffer=''\n",
    "            right_buffer=''\n",
    "        string=buffer\n",
    "        print(f'{k} string: {string}')\n",
    "print('Sorted:', string)"
   ]
  },
  {
   "cell_type": "code",
   "execution_count": 1,
   "id": "04ceba79-8067-4f0e-93f0-9a8b43dc66ca",
   "metadata": {},
   "outputs": [
    {
     "name": "stdout",
     "output_type": "stream",
     "text": [
      "0 1\n",
      "0 1\n",
      "0 1\n",
      "0 1\n"
     ]
    }
   ],
   "source": [
    "# Q17) with out using sorted then sort the letters\n",
    "string = 'hello'\n",
    "right=''\n",
    "left=''\n",
    "left_buffer=''\n",
    "right_buffer=''\n",
    "buffer=''\n",
    "max = len(string)\n",
    "\n",
    "for j in range(max - 1):\n",
    "    for k in range(max - j - 1):\n",
    "        if string[k] > string[k + 1]:         # If 1st element is greater than second then swap \n",
    "            print(k, k+1)"
   ]
  },
  {
   "cell_type": "code",
   "execution_count": null,
   "id": "3bbd7de1-3462-49f1-853c-0388a17a32ca",
   "metadata": {},
   "outputs": [],
   "source": []
  }
 ],
 "metadata": {
  "kernelspec": {
   "display_name": "Python 3 (ipykernel)",
   "language": "python",
   "name": "python3"
  },
  "language_info": {
   "codemirror_mode": {
    "name": "ipython",
    "version": 3
   },
   "file_extension": ".py",
   "mimetype": "text/x-python",
   "name": "python",
   "nbconvert_exporter": "python",
   "pygments_lexer": "ipython3",
   "version": "3.11.7"
  }
 },
 "nbformat": 4,
 "nbformat_minor": 5
}
