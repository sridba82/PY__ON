{
 "cells": [
  {
   "cell_type": "code",
   "execution_count": 3,
   "id": "47935705-3e9f-4e46-a5ae-808fa091ee1f",
   "metadata": {},
   "outputs": [
    {
     "data": {
      "text/plain": [
       "1"
      ]
     },
     "execution_count": 3,
     "metadata": {},
     "output_type": "execute_result"
    }
   ],
   "source": [
    "# h a i   h a i   h a i\n",
    "# 0 1 2 3 4 5 6 7 8 9 10\n",
    "str1 = 'hai hai hai'\n",
    "str1.count('a')\n",
    "str1.count('a', 5)\n",
    "str1.count('a', 4, 8)"
   ]
  },
  {
   "cell_type": "code",
   "execution_count": null,
   "id": "a502cfc5-37ea-445b-9546-e21c6f5a4dfc",
   "metadata": {},
   "outputs": [],
   "source": [
    "coun=0\n"
   ]
  }
 ],
 "metadata": {
  "kernelspec": {
   "display_name": "Python 3 (ipykernel)",
   "language": "python",
   "name": "python3"
  },
  "language_info": {
   "codemirror_mode": {
    "name": "ipython",
    "version": 3
   },
   "file_extension": ".py",
   "mimetype": "text/x-python",
   "name": "python",
   "nbconvert_exporter": "python",
   "pygments_lexer": "ipython3",
   "version": "3.11.7"
  }
 },
 "nbformat": 4,
 "nbformat_minor": 5
}
