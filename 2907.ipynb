{
 "cells": [
  {
   "cell_type": "markdown",
   "id": "24ddab1c-ac95-41a3-a58c-df0b6e94364d",
   "metadata": {},
   "source": [
    "- Case 1 : Function call with one argument\n",
    "    - lambda arguments: Expression\n",
    "    - lambda variable : return output\n",
    "- Case 2 : Function call with two argument\n",
    "    - lambda arg1, arg2: Expression\n",
    "    - lambda var1, var2 : return output\n",
    "- Case 3 : Function call with Default argument\n",
    "    - lambda arg1, arg2=500: Expression\n",
    "    - lambda var1, var2=500 : return output\n",
    "- Case 4 : Function call with two arguments and if-else statement\n",
    "    - lambda arg1, arg2: Expression\n",
    "    - lambda var1, var2: if_output if_con else else_op forloop\n",
    "- Case 5 : Lambda operations using List\n",
    "    - lambda arg: expression, iterator\n",
    "    - map(lambda var: operation, list)\n",
    "    - list(map(lambda var: operation, list))"
   ]
  },
  {
   "cell_type": "code",
   "execution_count": null,
   "id": "c67904a1-824a-4dc8-9b1c-b6615e408fc7",
   "metadata": {},
   "outputs": [],
   "source": [
    "l=['hyd', 'chennai', 'mumbai', 'blr']\n",
    "# Op=['HYD', 'CHENNAI', ;MUMBAI', \"BLR']\n",
    "# for i in l:\n",
    "#     print(i.upper())\n",
    "\n",
    "list(map(lambda i:i.upper(), l))\n",
    "tuple(map(lambda i:i.upper(), l))"
   ]
  },
  {
   "cell_type": "code",
   "execution_count": 7,
   "id": "5ae72cb6-1513-4fc5-b408-c8cfe6e2c767",
   "metadata": {},
   "outputs": [],
   "source": [
    "li=['h#yd', 'chennai', 'mum#bai', 'blr']\n",
    "# Op=['h#yd', 'mum#bai']\n",
    "for i in li:\n",
    "    if '#' in li:\n",
    "        print(i)"
   ]
  },
  {
   "cell_type": "code",
   "execution_count": 4,
   "id": "0eb390e8-5c13-45b6-8d15-a7c2935ec41b",
   "metadata": {},
   "outputs": [
    {
     "data": {
      "text/plain": [
       "[True, False, True, False]"
      ]
     },
     "execution_count": 4,
     "metadata": {},
     "output_type": "execute_result"
    }
   ],
   "source": [
    "li=['h#yd', 'chennai', 'mum#bai', 'blr']\n",
    "# Op=['h#yd', 'mum#bai']\n",
    "# for i in li:\n",
    "#     if '#' in li:\n",
    "#         print(i)\n",
    "list(map(lambda i:'#' in i, li))       "
   ]
  },
  {
   "cell_type": "markdown",
   "id": "3407c22c-9022-4212-8af1-5a45d4f7dc5c",
   "metadata": {},
   "source": [
    "**FILTER**\n",
    "\n",
    "- Whenevenr if conditions are there use filters instead of map"
   ]
  },
  {
   "cell_type": "code",
   "execution_count": 6,
   "id": "eff5415c-2e7e-40af-a7bc-b65e94fbde20",
   "metadata": {},
   "outputs": [
    {
     "data": {
      "text/plain": [
       "['h#yd', 'mum#bai']"
      ]
     },
     "execution_count": 6,
     "metadata": {},
     "output_type": "execute_result"
    }
   ],
   "source": [
    "list(filter(lambda i:'#' in i, li)) "
   ]
  },
  {
   "cell_type": "code",
   "execution_count": 12,
   "id": "70e0d8a4-faac-4340-adbf-bf366f33406f",
   "metadata": {},
   "outputs": [
    {
     "data": {
      "text/plain": [
       "[2, 6]"
      ]
     },
     "execution_count": 12,
     "metadata": {},
     "output_type": "execute_result"
    }
   ],
   "source": [
    "l1=[1,3,2,7,6]\n",
    "# op=[2,6]\n",
    "list(filter(lambda i:i%2==0, l1)) "
   ]
  },
  {
   "cell_type": "code",
   "execution_count": null,
   "id": "7b498182-12b3-4b42-812d-d1fc2c0a216b",
   "metadata": {},
   "outputs": [],
   "source": [
    "l1=[1,3,2,7,6]\n",
    "# sum = 19\n",
    "list(filter(lambda i:i%2==0, l1))"
   ]
  },
  {
   "cell_type": "code",
   "execution_count": 29,
   "id": "ede42a23-07ba-4409-931c-768128d8985c",
   "metadata": {},
   "outputs": [
    {
     "data": {
      "text/plain": [
       "<filter at 0x2094c7195d0>"
      ]
     },
     "execution_count": 29,
     "metadata": {},
     "output_type": "execute_result"
    }
   ],
   "source": [
    "l1=[1,3,2,7,6]\n",
    "# sum = 19\n",
    "filter(lambda sum,i:sum+i, l1)"
   ]
  },
  {
   "cell_type": "markdown",
   "id": "3caa34da-fdb5-41a4-8a92-af75c00c1ec1",
   "metadata": {},
   "source": [
    "**Reduce**\n",
    "- All inbuild functions can achieve by Reduce \n",
    "- Reduce is available from functools package\n",
    "- level-1: reduce (lambda sum, i: sum+1, l1)\n",
    "- level-2: reduce (lambda sum, i: sum+1, l1, initial_value)\n",
    "- For example we want initialize sum=0 then we choose level-1\n",
    "- For example we want start with other than zero then we choose level-2"
   ]
  },
  {
   "cell_type": "code",
   "execution_count": 34,
   "id": "180e1048-4769-4465-9a8d-48d699e1d2f3",
   "metadata": {},
   "outputs": [
    {
     "data": {
      "text/plain": [
       "19"
      ]
     },
     "execution_count": 34,
     "metadata": {},
     "output_type": "execute_result"
    }
   ],
   "source": [
    "import functools\n",
    "l1=[1,3,2,7,6]\n",
    "functools.reduce(lambda sum,i:sum+i, l1)"
   ]
  },
  {
   "cell_type": "code",
   "execution_count": 36,
   "id": "dfa46d32-e783-4086-a157-8ca7bce4b519",
   "metadata": {},
   "outputs": [
    {
     "data": {
      "text/plain": [
       "['GenericAlias',\n",
       " 'RLock',\n",
       " 'WRAPPER_ASSIGNMENTS',\n",
       " 'WRAPPER_UPDATES',\n",
       " '_CacheInfo',\n",
       " '_HashedSeq',\n",
       " '_NOT_FOUND',\n",
       " '__all__',\n",
       " '__builtins__',\n",
       " '__cached__',\n",
       " '__doc__',\n",
       " '__file__',\n",
       " '__loader__',\n",
       " '__name__',\n",
       " '__package__',\n",
       " '__spec__',\n",
       " '_c3_merge',\n",
       " '_c3_mro',\n",
       " '_compose_mro',\n",
       " '_convert',\n",
       " '_find_impl',\n",
       " '_ge_from_gt',\n",
       " '_ge_from_le',\n",
       " '_ge_from_lt',\n",
       " '_gt_from_ge',\n",
       " '_gt_from_le',\n",
       " '_gt_from_lt',\n",
       " '_initial_missing',\n",
       " '_le_from_ge',\n",
       " '_le_from_gt',\n",
       " '_le_from_lt',\n",
       " '_lru_cache_wrapper',\n",
       " '_lt_from_ge',\n",
       " '_lt_from_gt',\n",
       " '_lt_from_le',\n",
       " '_make_key',\n",
       " '_unwrap_partial',\n",
       " 'cache',\n",
       " 'cached_property',\n",
       " 'cmp_to_key',\n",
       " 'get_cache_token',\n",
       " 'lru_cache',\n",
       " 'namedtuple',\n",
       " 'partial',\n",
       " 'partialmethod',\n",
       " 'recursive_repr',\n",
       " 'reduce',\n",
       " 'singledispatch',\n",
       " 'singledispatchmethod',\n",
       " 'total_ordering',\n",
       " 'update_wrapper',\n",
       " 'wraps']"
      ]
     },
     "execution_count": 36,
     "metadata": {},
     "output_type": "execute_result"
    }
   ],
   "source": [
    "import functools\n",
    "dir(functools)"
   ]
  },
  {
   "cell_type": "code",
   "execution_count": 41,
   "id": "4c451194-f1fd-4d6e-9ad5-9f8f62736f79",
   "metadata": {},
   "outputs": [
    {
     "data": {
      "text/plain": [
       "19"
      ]
     },
     "execution_count": 41,
     "metadata": {},
     "output_type": "execute_result"
    }
   ],
   "source": [
    "# import functools\n",
    "from functools import reduce\n",
    "l1=[1,3,2,7,6]\n",
    "reduce(lambda sum,i:sum+i, l1)\n",
    "# functools.reduce(lambda sum,i:sum+i, l1)"
   ]
  },
  {
   "cell_type": "code",
   "execution_count": 42,
   "id": "64811d23-d77f-4c71-aa71-a331a22d1242",
   "metadata": {},
   "outputs": [
    {
     "data": {
      "text/plain": [
       "19"
      ]
     },
     "execution_count": 42,
     "metadata": {},
     "output_type": "execute_result"
    }
   ],
   "source": [
    "# sum of the list\n",
    "import functools as ft\n",
    "l1=[1,3,2,7,6]\n",
    "ft.reduce(lambda sum,i:sum+i, l1)"
   ]
  },
  {
   "cell_type": "code",
   "execution_count": 46,
   "id": "a3868bbf-8bba-4045-b3db-964588f36445",
   "metadata": {},
   "outputs": [
    {
     "data": {
      "text/plain": [
       "20"
      ]
     },
     "execution_count": 46,
     "metadata": {},
     "output_type": "execute_result"
    }
   ],
   "source": [
    "# sum of the list + sum default value\n",
    "import functools as ft\n",
    "l1=[1,3,2,7,6]\n",
    "ft.reduce(lambda sum,i:sum+i, l1, 1)"
   ]
  },
  {
   "cell_type": "code",
   "execution_count": 49,
   "id": "a46bd1ec-7658-4bc5-a450-ab3d366ed256",
   "metadata": {},
   "outputs": [
    {
     "data": {
      "text/plain": [
       "12"
      ]
     },
     "execution_count": 49,
     "metadata": {},
     "output_type": "execute_result"
    }
   ],
   "source": [
    "# mul of the list\n",
    "import functools as ft\n",
    "l1=[1,2,3]\n",
    "ft.reduce(lambda mul,i:mul*i, l1, 2)"
   ]
  },
  {
   "cell_type": "code",
   "execution_count": 57,
   "id": "b17987d6-2e00-4008-8304-5232e5c6f976",
   "metadata": {},
   "outputs": [
    {
     "ename": "TypeError",
     "evalue": "'int' object is not callable",
     "output_type": "error",
     "traceback": [
      "\u001b[1;31m---------------------------------------------------------------------------\u001b[0m",
      "\u001b[1;31mTypeError\u001b[0m                                 Traceback (most recent call last)",
      "Cell \u001b[1;32mIn[57], line 3\u001b[0m\n\u001b[0;32m      1\u001b[0m \u001b[38;5;28;01mimport\u001b[39;00m \u001b[38;5;21;01mfunctools\u001b[39;00m \u001b[38;5;28;01mas\u001b[39;00m \u001b[38;5;21;01mft\u001b[39;00m\n\u001b[0;32m      2\u001b[0m l1\u001b[38;5;241m=\u001b[39m[\u001b[38;5;241m1\u001b[39m,\u001b[38;5;241m2\u001b[39m,\u001b[38;5;241m3\u001b[39m,\u001b[38;5;241m40\u001b[39m, \u001b[38;5;241m22\u001b[39m]\n\u001b[1;32m----> 3\u001b[0m ft\u001b[38;5;241m.\u001b[39mreduce(\u001b[38;5;28;01mlambda\u001b[39;00m \u001b[38;5;28mmax\u001b[39m,x: \u001b[38;5;28mmax\u001b[39m(x), l1)\n",
      "Cell \u001b[1;32mIn[57], line 3\u001b[0m, in \u001b[0;36m<lambda>\u001b[1;34m(max, x)\u001b[0m\n\u001b[0;32m      1\u001b[0m \u001b[38;5;28;01mimport\u001b[39;00m \u001b[38;5;21;01mfunctools\u001b[39;00m \u001b[38;5;28;01mas\u001b[39;00m \u001b[38;5;21;01mft\u001b[39;00m\n\u001b[0;32m      2\u001b[0m l1\u001b[38;5;241m=\u001b[39m[\u001b[38;5;241m1\u001b[39m,\u001b[38;5;241m2\u001b[39m,\u001b[38;5;241m3\u001b[39m,\u001b[38;5;241m40\u001b[39m, \u001b[38;5;241m22\u001b[39m]\n\u001b[1;32m----> 3\u001b[0m ft\u001b[38;5;241m.\u001b[39mreduce(\u001b[38;5;28;01mlambda\u001b[39;00m \u001b[38;5;28mmax\u001b[39m,x: \u001b[38;5;28mmax\u001b[39m(x), l1)\n",
      "\u001b[1;31mTypeError\u001b[0m: 'int' object is not callable"
     ]
    }
   ],
   "source": [
    "# Find max value in the list\n",
    "import functools as ft\n",
    "l1=[1,2,3,40, 22]\n",
    "ft.reduce(lambda max,x: max(x), l1)"
   ]
  },
  {
   "cell_type": "code",
   "execution_count": 64,
   "id": "2c047fcf-d2a7-4d15-afad-603c23586a2f",
   "metadata": {},
   "outputs": [
    {
     "data": {
      "text/plain": [
       "<module 'functools' from 'C:\\\\Anaconda\\\\Lib\\\\functools.py'>"
      ]
     },
     "execution_count": 64,
     "metadata": {},
     "output_type": "execute_result"
    }
   ],
   "source": [
    "functools"
   ]
  },
  {
   "cell_type": "markdown",
   "id": "ae5978e8-e1c1-48aa-950a-2bef784474c5",
   "metadata": {},
   "source": [
    "**Practicals From Biginning (map, filter, reduce)**"
   ]
  },
  {
   "cell_type": "code",
   "execution_count": 2,
   "id": "1acb55d4-2af3-4403-81b7-6f6814223ae9",
   "metadata": {},
   "outputs": [
    {
     "data": {
      "text/plain": [
       "[0, 1, 4, 9, 16, 25, 36, 49, 64, 81]"
      ]
     },
     "execution_count": 2,
     "metadata": {},
     "output_type": "execute_result"
    }
   ],
   "source": [
    "# Basic Square of it number from range 1-10 using Lists\n",
    "sq=[]                    # Instantiate an empty list.\n",
    "for num in range(10):    # loop over an iterable or range of elements.\n",
    "    sq.append(num * num) # Append each of the element end of the list.\n",
    "sq"
   ]
  },
  {
   "cell_type": "code",
   "execution_count": 5,
   "id": "e6066172-98b5-4c59-b48f-767ea8b9c625",
   "metadata": {},
   "outputs": [
    {
     "data": {
      "text/plain": [
       "(<map at 0x235ea310340>, [1, 4, 9, 16, 25, 36, 49, 64, 81])"
      ]
     },
     "execution_count": 5,
     "metadata": {},
     "output_type": "execute_result"
    }
   ],
   "source": [
    "# Above program using with map() \n",
    "lists=[1, 2, 3, 4, 5, 6, 7, 8, 9]\n",
    "def sq(num):\n",
    "    return num*num\n",
    "squares=map(sq, lists)\n",
    "squares, list(squares)"
   ]
  },
  {
   "cell_type": "markdown",
   "id": "8abfe841-8987-4b53-9268-acb149af79b2",
   "metadata": {},
   "source": [
    "# Leverage List Comprehensions\n",
    "- new_list = [expression for member in iterable]"
   ]
  },
  {
   "cell_type": "code",
   "execution_count": 6,
   "id": "7c27e11c-6541-4a56-b8aa-87eadef9cbf2",
   "metadata": {},
   "outputs": [
    {
     "data": {
      "text/plain": [
       "[0, 1, 4, 9, 16, 25, 36, 49, 64, 81]"
      ]
     },
     "execution_count": 6,
     "metadata": {},
     "output_type": "execute_result"
    }
   ],
   "source": [
    "# Leverage List Comprehensions\n",
    "squares2 = [num * num for num in range(10)]\n",
    "squares2"
   ]
  },
  {
   "cell_type": "code",
   "execution_count": 13,
   "id": "3179f480-4fc1-483b-8b1f-3b0b7f5e2837",
   "metadata": {},
   "outputs": [
    {
     "data": {
      "text/plain": [
       "[1, 4, 9, 16, 25, 36, 49, 64, 81]"
      ]
     },
     "execution_count": 13,
     "metadata": {},
     "output_type": "execute_result"
    }
   ],
   "source": [
    "# Above program using with List Comprehensions\n",
    "lists=[1, 2, 3, 4, 5, 6, 7, 8, 9]\n",
    "def sq(num):\n",
    "    return num*num\n",
    "# squares=map(sq, lists)\n",
    "squares3=[sq(num) for num in lists]  # Without map() also\n",
    "squares3"
   ]
  },
  {
   "cell_type": "code",
   "execution_count": 15,
   "id": "9999fc83-39bc-4482-9a08-019003feb21e",
   "metadata": {},
   "outputs": [
    {
     "data": {
      "text/plain": [
       "[1, 4, 9, 16, 25, 36, 49, 64, 81]"
      ]
     },
     "execution_count": 15,
     "metadata": {},
     "output_type": "execute_result"
    }
   ],
   "source": [
    "# Above program using with List Comprehensions\n",
    "lists2=[1, 2, 3, 4, 5, 6, 7, 8, 9]\n",
    "squares4=[num * num for num in lists2]  # Without map() also\n",
    "squares4"
   ]
  },
  {
   "cell_type": "markdown",
   "id": "c8b73639-80ac-46c4-9c6f-e47a1e7049ca",
   "metadata": {},
   "source": [
    "- new_list = [expression for member in iterable if conditional]"
   ]
  },
  {
   "cell_type": "code",
   "execution_count": 16,
   "id": "9c15e2a7-c8d5-4a04-a69e-ae0425d09240",
   "metadata": {},
   "outputs": [
    {
     "data": {
      "text/plain": [
       "['a', 'a', 'o', 'o', 'e', 'o']"
      ]
     },
     "execution_count": 16,
     "metadata": {},
     "output_type": "execute_result"
    }
   ],
   "source": [
    "# program using with List Comprehensions with conditional if statement\n",
    "sentence='I am a good person'\n",
    "vovel_check=[txt for txt in sentence if txt in 'aeiou']\n",
    "vovel_check"
   ]
  },
  {
   "cell_type": "code",
   "execution_count": 26,
   "id": "77c847b3-9c9d-4b04-b71c-5d6eb6792ad7",
   "metadata": {},
   "outputs": [
    {
     "data": {
      "text/plain": [
       "[False, False, False, False, False, False, False, False, True]"
      ]
     },
     "execution_count": 26,
     "metadata": {},
     "output_type": "execute_result"
    }
   ],
   "source": [
    "# Program using List Comprehensions with conditional if statement\n",
    "lists3=[1, 2, 3, 4, 5, 6, 7, 8, 9]\n",
    "finding=[num==9 for num in lists3]  \n",
    "finding"
   ]
  },
  {
   "cell_type": "code",
   "execution_count": 34,
   "id": "ac04c78b-0820-4c32-bccf-ccc716233e07",
   "metadata": {},
   "outputs": [
    {
     "data": {
      "text/plain": [
       "['H',\n",
       " 'l',\n",
       " 'l',\n",
       " 'm',\n",
       " 'p',\n",
       " 'r',\n",
       " 'g',\n",
       " 'r',\n",
       " 'p',\n",
       " 'h',\n",
       " 't',\n",
       " 'x',\n",
       " 't',\n",
       " 't',\n",
       " 'c',\n",
       " 'n',\n",
       " 't',\n",
       " 'n',\n",
       " 'f',\n",
       " 'l',\n",
       " 'w',\n",
       " 'n',\n",
       " 't',\n",
       " 'h',\n",
       " 'n',\n",
       " 'x',\n",
       " 't',\n",
       " 'l',\n",
       " 'n',\n",
       " 'l',\n",
       " 's']"
      ]
     },
     "execution_count": 34,
     "metadata": {},
     "output_type": "execute_result"
    }
   ],
   "source": [
    "parag=('Hello I am a paragraph text'\n",
    "       ' to continue flow in the next line also')\n",
    "def no_vovels(char):\n",
    "    vovels='aeiou'\n",
    "    return char.isalpha() and char.lower() not in vovels\n",
    "\n",
    "[let for let in parag if no_vovels(let)]\n"
   ]
  },
  {
   "cell_type": "markdown",
   "id": "28e7e391-0340-470b-9fed-ed36297a611d",
   "metadata": {},
   "source": [
    "- new_list= [true_expr if condition else false_expr for member in iterable]"
   ]
  },
  {
   "cell_type": "code",
   "execution_count": 44,
   "id": "9084871f-2e6e-4f7d-a179-9f91283f155b",
   "metadata": {},
   "outputs": [
    {
     "data": {
      "text/plain": [
       "[0, 0, 50, 80, 0]"
      ]
     },
     "execution_count": 44,
     "metadata": {},
     "output_type": "execute_result"
    }
   ],
   "source": [
    "list=[20, 40, 50, 80, 100]\n",
    "[num if num > 40 and num < 100  else 0 for num in list]\n"
   ]
  },
  {
   "cell_type": "code",
   "execution_count": 48,
   "id": "b707930c-fef5-4d8f-83e5-3781daaa9483",
   "metadata": {},
   "outputs": [
    {
     "data": {
      "text/plain": [
       "{0, 50, 80}"
      ]
     },
     "execution_count": 48,
     "metadata": {},
     "output_type": "execute_result"
    }
   ],
   "source": [
    "list=[20, 40, 50, 80, 100]\n",
    "{num if num > 40 and num < 100 else 0 for num in list}"
   ]
  },
  {
   "cell_type": "code",
   "execution_count": null,
   "id": "b9f68e4b-2449-49f8-b53e-0b24bc6a178a",
   "metadata": {},
   "outputs": [],
   "source": []
  }
 ],
 "metadata": {
  "kernelspec": {
   "display_name": "Python 3 (ipykernel)",
   "language": "python",
   "name": "python3"
  },
  "language_info": {
   "codemirror_mode": {
    "name": "ipython",
    "version": 3
   },
   "file_extension": ".py",
   "mimetype": "text/x-python",
   "name": "python",
   "nbconvert_exporter": "python",
   "pygments_lexer": "ipython3",
   "version": "3.11.7"
  }
 },
 "nbformat": 4,
 "nbformat_minor": 5
}
