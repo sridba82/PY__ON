{
 "cells": [
  {
   "cell_type": "markdown",
   "id": "1af1d7d7-d598-48fe-8790-edac8b91f81f",
   "metadata": {},
   "source": [
    "- We can store the Output values by using \"Append\" operations .\n",
    "- We are taking empty list.\n",
    "- We are iterating through elements from a given list. \n",
    "- The result we are appending in a new list."
   ]
  },
  {
   "cell_type": "code",
   "execution_count": 2,
   "id": "14578227-5600-4f08-9b2c-50f60abab7bd",
   "metadata": {},
   "outputs": [
    {
     "name": "stdout",
     "output_type": "stream",
     "text": [
      "0\n",
      "1\n",
      "4\n",
      "9\n",
      "16\n",
      "25\n",
      "36\n",
      "49\n",
      "64\n",
      "81\n"
     ]
    }
   ],
   "source": [
    "for i in range(10):\n",
    "    print(i*i)"
   ]
  },
  {
   "cell_type": "code",
   "execution_count": 3,
   "id": "29a4a69c-393e-4167-b802-d5b4c532ab71",
   "metadata": {},
   "outputs": [
    {
     "name": "stdout",
     "output_type": "stream",
     "text": [
      "[0, 1, 4, 9, 16, 25, 36, 49, 64, 81]\n"
     ]
    }
   ],
   "source": [
    "sqr_list=[]\n",
    "for i in range(10):\n",
    "    sqr_list.append(i*i)\n",
    "print(sqr_list)"
   ]
  },
  {
   "cell_type": "markdown",
   "id": "1f7a90d2-3a27-4caf-8c24-945e0c14746f",
   "metadata": {},
   "source": [
    "- There are almost 3 lines are in the process.\n",
    "- The 3 lines we can make into a single line.\n",
    "- This is calles as LIST COMPREHENSION"
   ]
  },
  {
   "cell_type": "markdown",
   "id": "00243f32-da82-4821-8ddc-7d210969d072",
   "metadata": {},
   "source": [
    "$Pattern-1$\n",
    "\n",
    "**Only For Loop**"
   ]
  },
  {
   "cell_type": "code",
   "execution_count": 6,
   "id": "370e7155-3ac3-4815-a4d8-b381d5c17011",
   "metadata": {},
   "outputs": [
    {
     "name": "stdout",
     "output_type": "stream",
     "text": [
      "[0, 1, 4, 9, 16, 25, 36, 49, 64, 81]\n"
     ]
    }
   ],
   "source": [
    "# syntax\n",
    "# [<output> <for loop>]\n",
    "# Taking above Example below questions.\n",
    "# Q1) What is the saving ? i*i\n",
    "# Q2) What ist the output list name ? sqr_list\n",
    "# What is the for loop > for i in range(10)\n",
    "\n",
    "sq_list=[i*i for i in range(10)]\n",
    "print(sq_list)"
   ]
  },
  {
   "cell_type": "code",
   "execution_count": 11,
   "id": "6499f612-fb55-489c-be68-783906d85ac1",
   "metadata": {},
   "outputs": [
    {
     "data": {
      "text/plain": [
       "['HYD', 'MUMBAI', 'CHENNAI', 'BLR']"
      ]
     },
     "execution_count": 11,
     "metadata": {},
     "output_type": "execute_result"
    }
   ],
   "source": [
    "l1=['hyd', 'mumbai', 'chennai', 'blr']\n",
    "l1_o=[i.upper() for i in l1]\n",
    "l1_o"
   ]
  },
  {
   "cell_type": "code",
   "execution_count": 14,
   "id": "eb9d322f-054d-4ff9-b2f4-c867c8210701",
   "metadata": {},
   "outputs": [
    {
     "data": {
      "text/plain": [
       "['hyd', 'mumbai', 'chennai', 'blr']"
      ]
     },
     "execution_count": 14,
     "metadata": {},
     "output_type": "execute_result"
    }
   ],
   "source": [
    "l2=['Hyd', 'Mumbai', 'Chennai', 'Blr']\n",
    "l2_l=[i.lower() for i in l2]\n",
    "l2_l"
   ]
  },
  {
   "cell_type": "code",
   "execution_count": 22,
   "id": "bde3bec9-6db7-4143-b2d8-5322464b682c",
   "metadata": {},
   "outputs": [
    {
     "data": {
      "text/plain": [
       "6"
      ]
     },
     "execution_count": 22,
     "metadata": {},
     "output_type": "execute_result"
    }
   ],
   "source": [
    "l2=['Hyd', 'Mumbai', 'Chennai', 'Blr']\n",
    "idx_sum=[l2.index(i) for i in l2]\n",
    "sum(idx_sum)"
   ]
  },
  {
   "cell_type": "markdown",
   "id": "fcaed7f0-9b77-498f-a645-e4a32462125e",
   "metadata": {},
   "source": [
    "- Making empty list\n",
    "- Initialization will not works in List Comprehension\n",
    "- Assignment operation also not works in LC"
   ]
  },
  {
   "cell_type": "markdown",
   "id": "9d93603d-860a-4d59-84d6-bed161193994",
   "metadata": {},
   "source": [
    "$Patters-2$\n",
    "\n",
    "**For Loop - If condition**"
   ]
  },
  {
   "cell_type": "code",
   "execution_count": 26,
   "id": "f6cf101b-c544-4c2d-b193-ee97ba027252",
   "metadata": {},
   "outputs": [
    {
     "data": {
      "text/plain": [
       "['Mum#bai', 'Chen#nai']"
      ]
     },
     "execution_count": 26,
     "metadata": {},
     "output_type": "execute_result"
    }
   ],
   "source": [
    "# Syntax\n",
    "#\n",
    "\n",
    "l4=['Hyd', 'Mum#bai', 'Chen#nai', 'Blr']\n",
    "op_hash = [i for i in l4 if '#' in i]\n",
    "op_hash\n",
    "\n"
   ]
  },
  {
   "cell_type": "code",
   "execution_count": 27,
   "id": "a717c758-cefa-4fea-bc5f-b8c661a9c73d",
   "metadata": {},
   "outputs": [
    {
     "data": {
      "text/plain": [
       "['Hyd', 'Blr']"
      ]
     },
     "execution_count": 27,
     "metadata": {},
     "output_type": "execute_result"
    }
   ],
   "source": [
    "l4=['Hyd', 'Mum#bai', 'Chen#nai', 'Blr']\n",
    "op_no_hash = [i for i in l4 if '#' not in i]\n",
    "op_no_hash"
   ]
  },
  {
   "cell_type": "code",
   "execution_count": 57,
   "id": "26f34380-515c-4ae4-be51-725cb927843b",
   "metadata": {},
   "outputs": [
    {
     "data": {
      "text/plain": [
       "'rcb'"
      ]
     },
     "execution_count": 57,
     "metadata": {},
     "output_type": "execute_result"
    }
   ],
   "source": [
    "str1='virat.kohil@rcb.com, Rohit.sharma@mi.co, KL.shanker@lucknow.com'\n",
    "list_1 = str1.split()\n",
    "list_1[0][:list_1[0].index('.')]\n",
    "list_1[0][list_1[0].index('.')+1:list_1[0].index('@')]\n",
    "list_1[0][list_1[0].index('@')+1:list_1[0].index('.', list_1[0].index('.')+1)]"
   ]
  },
  {
   "cell_type": "code",
   "execution_count": 64,
   "id": "5c577a89-b20f-4974-8c86-528aa91c4b35",
   "metadata": {},
   "outputs": [
    {
     "data": {
      "text/plain": [
       "(['virat', ' Rohit', ' KL'],\n",
       " ['kohil', 'sharma', 'shanker'],\n",
       " ['rcb', 'mi', 'lucknow'])"
      ]
     },
     "execution_count": 64,
     "metadata": {},
     "output_type": "execute_result"
    }
   ],
   "source": [
    "str1='virat.kohil@rcb.com, Rohit.sharma@mi.co, KL.shanker@lucknow.com'\n",
    "list_1 = str1.split(',')\n",
    "f_name=[list_1[i][:list_1[i].index('.')] for i in range(len(list_1))]\n",
    "s_name=[list_1[i][list_1[i].index('.')+1 : list_1[i].index('@')] for i in range(len(list_1))]\n",
    "c_name=[list_1[i][list_1[i].index('@')+1:list_1[i].index('.', list_1[i].index('.')+1)] for i in range(len(list_1))]\n",
    "f_name, s_name, c_name"
   ]
  },
  {
   "cell_type": "code",
   "execution_count": 67,
   "id": "65977f9e-ca57-4cf5-8a5f-1fb4dcaec8e3",
   "metadata": {},
   "outputs": [
    {
     "data": {
      "text/plain": [
       "(['virat', ' Rohit', ' KL'],\n",
       " ['kohil', 'sharma', 'shanker'],\n",
       " ['rcb', 'mi', 'lucknow'])"
      ]
     },
     "execution_count": 67,
     "metadata": {},
     "output_type": "execute_result"
    }
   ],
   "source": [
    "str1='virat.kohil@rcb.com, Rohit.sharma@mi.co, KL.shanker@lucknow.com'\n",
    "list_1 = str1.split(',')\n",
    "f_name=[i[:i.index('.')] for i in list_1]\n",
    "s_name=[i[i.index('.')+1 : i.index('@')] for i in list_1]\n",
    "c_name=[i[i.index('@')+1:i.index('.', i.index('.')+1)] for i in list_1]\n",
    "f_name, s_name, c_name"
   ]
  },
  {
   "cell_type": "code",
   "execution_count": 68,
   "id": "f829eaa2-a372-43ae-a78e-7d25ce257bde",
   "metadata": {},
   "outputs": [
    {
     "data": {
      "text/plain": [
       "5"
      ]
     },
     "execution_count": 68,
     "metadata": {},
     "output_type": "execute_result"
    }
   ],
   "source": [
    "round(4.567)"
   ]
  },
  {
   "cell_type": "code",
   "execution_count": 69,
   "id": "bf8e7abf-ebf9-4b34-b3c1-2aa271241306",
   "metadata": {},
   "outputs": [
    {
     "name": "stdout",
     "output_type": "stream",
     "text": [
      "{0, 9, 'a1'}\n"
     ]
    }
   ],
   "source": [
    "set={0,0,\"a1\", 0, 9}\n",
    "print(set)"
   ]
  },
  {
   "cell_type": "code",
   "execution_count": 73,
   "id": "bf8d2c59-295d-4bbe-b4c7-c57f3b8cb793",
   "metadata": {},
   "outputs": [
    {
     "name": "stdout",
     "output_type": "stream",
     "text": [
      "12\n"
     ]
    }
   ],
   "source": [
    "print(0xC)"
   ]
  },
  {
   "cell_type": "code",
   "execution_count": 74,
   "id": "d8f16023-79d8-4784-9942-e570c7fa54cc",
   "metadata": {},
   "outputs": [
    {
     "data": {
      "text/plain": [
       "False"
      ]
     },
     "execution_count": 74,
     "metadata": {},
     "output_type": "execute_result"
    }
   ],
   "source": [
    "'2'==2"
   ]
  },
  {
   "cell_type": "code",
   "execution_count": 75,
   "id": "f515a96c-2b17-4406-8dab-5ef57f21047f",
   "metadata": {},
   "outputs": [
    {
     "ename": "NameError",
     "evalue": "name 'apple' is not defined",
     "output_type": "error",
     "traceback": [
      "\u001b[1;31m---------------------------------------------------------------------------\u001b[0m",
      "\u001b[1;31mNameError\u001b[0m                                 Traceback (most recent call last)",
      "Cell \u001b[1;32mIn[75], line 1\u001b[0m\n\u001b[1;32m----> 1\u001b[0m mango\u001b[38;5;241m=\u001b[39mapple\n",
      "\u001b[1;31mNameError\u001b[0m: name 'apple' is not defined"
     ]
    }
   ],
   "source": [
    "mango=apple"
   ]
  },
  {
   "cell_type": "code",
   "execution_count": 78,
   "id": "8599c891-bb73-49f9-a716-8c92e4c60e4b",
   "metadata": {},
   "outputs": [
    {
     "ename": "ValueError",
     "evalue": "list.remove(x): x not in list",
     "output_type": "error",
     "traceback": [
      "\u001b[1;31m---------------------------------------------------------------------------\u001b[0m",
      "\u001b[1;31mValueError\u001b[0m                                Traceback (most recent call last)",
      "Cell \u001b[1;32mIn[78], line 2\u001b[0m\n\u001b[0;32m      1\u001b[0m \u001b[38;5;28mlist\u001b[39m\u001b[38;5;241m=\u001b[39m[\u001b[38;5;241m1\u001b[39m,\u001b[38;5;241m2\u001b[39m,\u001b[38;5;241m3\u001b[39m]\n\u001b[1;32m----> 2\u001b[0m \u001b[38;5;28mlist\u001b[39m\u001b[38;5;241m.\u001b[39mremove(\u001b[38;5;241m4\u001b[39m)\n",
      "\u001b[1;31mValueError\u001b[0m: list.remove(x): x not in list"
     ]
    }
   ],
   "source": [
    "list=[1,2,3]\n",
    "list.remove(4)"
   ]
  },
  {
   "cell_type": "code",
   "execution_count": 79,
   "id": "c7df1ea7-9b65-4ad7-8a96-4e3034d0eda0",
   "metadata": {},
   "outputs": [
    {
     "ename": "SyntaxError",
     "evalue": "unterminated string literal (detected at line 1) (2149988476.py, line 1)",
     "output_type": "error",
     "traceback": [
      "\u001b[1;36m  Cell \u001b[1;32mIn[79], line 1\u001b[1;36m\u001b[0m\n\u001b[1;33m    print(\"hello)\u001b[0m\n\u001b[1;37m          ^\u001b[0m\n\u001b[1;31mSyntaxError\u001b[0m\u001b[1;31m:\u001b[0m unterminated string literal (detected at line 1)\n"
     ]
    }
   ],
   "source": [
    "print(\"hello)"
   ]
  },
  {
   "cell_type": "code",
   "execution_count": 84,
   "id": "0bbf3964-1111-4f3e-ae6b-3475deef3875",
   "metadata": {},
   "outputs": [
    {
     "ename": "KeyError",
     "evalue": "'Address'",
     "output_type": "error",
     "traceback": [
      "\u001b[1;31m---------------------------------------------------------------------------\u001b[0m",
      "\u001b[1;31mKeyError\u001b[0m                                  Traceback (most recent call last)",
      "Cell \u001b[1;32mIn[84], line 2\u001b[0m\n\u001b[0;32m      1\u001b[0m my_dict\u001b[38;5;241m=\u001b[39m{\u001b[38;5;124m'\u001b[39m\u001b[38;5;124mName\u001b[39m\u001b[38;5;124m'\u001b[39m:\u001b[38;5;124m'\u001b[39m\u001b[38;5;124mAlice\u001b[39m\u001b[38;5;124m'\u001b[39m, \u001b[38;5;124m'\u001b[39m\u001b[38;5;124mAge\u001b[39m\u001b[38;5;124m'\u001b[39m:\u001b[38;5;241m30\u001b[39m}\n\u001b[1;32m----> 2\u001b[0m \u001b[38;5;28mprint\u001b[39m(my_dict[\u001b[38;5;124m'\u001b[39m\u001b[38;5;124mAddress\u001b[39m\u001b[38;5;124m'\u001b[39m])\n",
      "\u001b[1;31mKeyError\u001b[0m: 'Address'"
     ]
    }
   ],
   "source": [
    "my_dict={'Name':'Alice', 'Age':30}\n",
    "print(my_dict['Address'])"
   ]
  },
  {
   "cell_type": "code",
   "execution_count": null,
   "id": "d44a7a5d-61c8-476f-b33f-1b250b788a68",
   "metadata": {},
   "outputs": [],
   "source": [
    ">>> ord('a')\n",
    "97\n",
    ">>> chr(97)\n",
    "'a'\n",
    ">>> chr(ord('a') + 3)"
   ]
  }
 ],
 "metadata": {
  "kernelspec": {
   "display_name": "Python 3 (ipykernel)",
   "language": "python",
   "name": "python3"
  },
  "language_info": {
   "codemirror_mode": {
    "name": "ipython",
    "version": 3
   },
   "file_extension": ".py",
   "mimetype": "text/x-python",
   "name": "python",
   "nbconvert_exporter": "python",
   "pygments_lexer": "ipython3",
   "version": "3.11.7"
  }
 },
 "nbformat": 4,
 "nbformat_minor": 5
}
