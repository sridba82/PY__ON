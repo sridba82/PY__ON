{
 "cells": [
  {
   "cell_type": "markdown",
   "id": "e71498af-35e8-4fd9-8dbc-db5fd508db30",
   "metadata": {},
   "source": [
    "## Program to accept student Marks and print result Using **If Conditional Statement**"
   ]
  },
  {
   "cell_type": "code",
   "execution_count": 1,
   "id": "57f049f8-f63c-45ac-b9c0-3e6d6f118a61",
   "metadata": {},
   "outputs": [
    {
     "name": "stdout",
     "output_type": "stream",
     "text": [
      "\n",
      "===========================================================\n",
      "Program to accept students Marks and to display PASS / FAIL\n",
      "===========================================================\n",
      "\n",
      "\n",
      "*** Student Max Marks Should be \"100\"\n",
      "\n",
      "\n",
      "Enter Student Marks \n",
      "============================\n"
     ]
    },
    {
     "name": "stdin",
     "output_type": "stream",
     "text": [
      "\n",
      "Student Name:  Monica M\n",
      "\n",
      "1st Language:  88\n",
      "\n",
      "2nd Language:  99\n",
      "\n",
      "3rd Language:  55\n",
      "\n",
      "Mathematics:  39\n",
      "\n",
      "Physical Science:  99\n",
      "\n",
      "Social Studies:  83\n"
     ]
    },
    {
     "name": "stdout",
     "output_type": "stream",
     "text": [
      "============================\n",
      "\n",
      "\n",
      "*** If Student marks less than 40 then the result will be \"Fail\"\n",
      "\n",
      "Student Results\n",
      "============================\n",
      "Student ID: 1434\n",
      "Student Name: Monica M\n",
      "Student First language: 88\n",
      "Student Second language: 99\n",
      "Student Third language: 55\n",
      "Student Mathematics: 39\n",
      "Student Physical Science: 99\n",
      "Student Social Studies: 83\n",
      "\n",
      "\n",
      "Total Marks is: 463\n",
      "Percentage is: 77.17\n",
      "Result is: Fail\n"
     ]
    }
   ],
   "source": [
    "# Program accepting student marks and printing total marks, percentage and result\n",
    "import random\n",
    "\n",
    "print(\"\\n===========================================================\")\n",
    "print(\"Program to accept students Marks and to display PASS / FAIL\")\n",
    "print(\"===========================================================\\n\\n\")\n",
    "\n",
    "print('*** Student Max Marks Should be \"100\"')\n",
    "print('\\n\\nEnter Student Marks ')\n",
    "print(\"============================\")\n",
    "std_idno = random.randint(1000, 1500)\n",
    "std_name = input('\\nStudent Name: ')\n",
    "std_1st_lan = eval(input(\"\\n1st Language: \"))\n",
    "std_2nd_lan = eval(input(\"\\n2nd Language: \"))\n",
    "std_3rd_lan = eval(input(\"\\n3rd Language: \"))\n",
    "std_maths = eval(input(\"\\nMathematics: \"))\n",
    "std_sci = eval(input(\"\\nPhysical Science: \"))\n",
    "std_soc = eval(input(\"\\nSocial Studies: \"))\n",
    "print(\"============================\")\n",
    "\n",
    "print('\\n\\n*** If Student marks less than 40 then the result will be \"Fail\"')\n",
    "print('\\nStudent Results')\n",
    "print(\"============================\")\n",
    "print(f'Student ID: {std_idno}')\n",
    "print(f'Student Name: {std_name}')\n",
    "print(f'Student First language: {std_1st_lan}')\n",
    "print(f'Student Second language: {std_2nd_lan}')\n",
    "print(f'Student Third language: {std_3rd_lan}')\n",
    "print(f'Student Mathematics: {std_maths}')\n",
    "print(f'Student Physical Science: {std_sci}')\n",
    "print(f'Student Social Studies: {std_soc}')\n",
    "\n",
    "tot_marks = std_1st_lan + std_2nd_lan + std_3rd_lan + std_maths + std_sci + std_soc \n",
    "\n",
    "result = 'Pass'\n",
    "\n",
    "if std_1st_lan < 40:\n",
    "    result = 'Fail'\n",
    "if std_2nd_lan < 40:\n",
    "    result = 'Fail'\n",
    "if std_3rd_lan < 40:\n",
    "    result = 'Fail'\n",
    "if std_maths < 40:\n",
    "    result = 'Fail'\n",
    "if std_sci < 40:\n",
    "    result = 'Fail'\n",
    "if std_soc < 40:\n",
    "    result = 'Fail'\n",
    "\n",
    "percentage =  round(((tot_marks / 600) * 100), 2)\n",
    "\n",
    "\n",
    "print(\"\\n\")\n",
    "\n",
    "print(f'Total Marks is: {tot_marks}')\n",
    "print(f'Percentage is: {percentage}')\n",
    "print(f'Result is: {result}')"
   ]
  },
  {
   "cell_type": "code",
   "execution_count": null,
   "id": "46bdc121-ad91-4cab-81c1-23a140286bc7",
   "metadata": {},
   "outputs": [],
   "source": []
  }
 ],
 "metadata": {
  "kernelspec": {
   "display_name": "Python 3 (ipykernel)",
   "language": "python",
   "name": "python3"
  },
  "language_info": {
   "codemirror_mode": {
    "name": "ipython",
    "version": 3
   },
   "file_extension": ".py",
   "mimetype": "text/x-python",
   "name": "python",
   "nbconvert_exporter": "python",
   "pygments_lexer": "ipython3",
   "version": "3.11.7"
  }
 },
 "nbformat": 4,
 "nbformat_minor": 5
}
