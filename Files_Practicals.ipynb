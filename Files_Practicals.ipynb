{
 "cells": [
  {
   "cell_type": "markdown",
   "id": "d7302d57-e197-48cf-9d31-117a4c5f7938",
   "metadata": {},
   "source": [
    "### File - Open- Write - Read - Readlines"
   ]
  },
  {
   "cell_type": "code",
   "execution_count": 1,
   "id": "70063efb-998e-4c08-993c-6a989c80fcc1",
   "metadata": {},
   "outputs": [
    {
     "name": "stdout",
     "output_type": "stream",
     "text": [
      "Enter any text to write into file:\n"
     ]
    },
    {
     "name": "stdin",
     "output_type": "stream",
     "text": [
      "Line 1:  Hello\n"
     ]
    },
    {
     "name": "stdout",
     "output_type": "stream",
     "text": [
      "\t\tMore '4' line(s) need to add\n"
     ]
    },
    {
     "name": "stdin",
     "output_type": "stream",
     "text": [
      "Line 2:  Hi\n"
     ]
    },
    {
     "name": "stdout",
     "output_type": "stream",
     "text": [
      "\t\tMore '3' line(s) need to add\n"
     ]
    },
    {
     "name": "stdin",
     "output_type": "stream",
     "text": [
      "Line 3:  How\n"
     ]
    },
    {
     "name": "stdout",
     "output_type": "stream",
     "text": [
      "\t\tMore '2' line(s) need to add\n"
     ]
    },
    {
     "name": "stdin",
     "output_type": "stream",
     "text": [
      "Line 4:  Are\n"
     ]
    },
    {
     "name": "stdout",
     "output_type": "stream",
     "text": [
      "\t\tMore '1' line(s) need to add\n"
     ]
    },
    {
     "name": "stdin",
     "output_type": "stream",
     "text": [
      "Line 5:  You\n"
     ]
    },
    {
     "name": "stdout",
     "output_type": "stream",
     "text": [
      "\t\tDone.!!\n",
      "\n",
      "New data in a file is:\n",
      "======================\n",
      "Hello\n",
      "Hi\n",
      "How\n",
      "Are\n",
      "You\n",
      "\n"
     ]
    }
   ],
   "source": [
    "# Ex: 1 Creating new file and writing some text of lines(5) into it.\n",
    "# Writing file\n",
    "f=open('sample.txt', 'w')     # If file exist opens, else creates file\n",
    "print('Enter any text to write into file:')\n",
    "for txt in range(5):\n",
    "    text=input(f'Line {txt+1}: ')+'\\n'\n",
    "    print('\\t\\t',end='')\n",
    "    f.write(text)                        # if existing file having any data then erases old data and writes new data. \n",
    "    if 5-txt-1 == 0:\n",
    "        print('Done.!!')\n",
    "    else:\n",
    "        print(f'More \\'{5-txt-1}\\' line(s) need to add')\n",
    "f.close()\n",
    "\n",
    "# Reading file, displaying complete text in a file\n",
    "f=open('sample.txt')\n",
    "data=f.read()\n",
    "print('\\nNew data in a file is:\\n======================')\n",
    "print(data)\n",
    "f.close()"
   ]
  },
  {
   "cell_type": "code",
   "execution_count": 2,
   "id": "a05b2965-1795-4476-a73c-b847b567d0c1",
   "metadata": {},
   "outputs": [
    {
     "name": "stdout",
     "output_type": "stream",
     "text": [
      "Total No. of lines in a file: 5\n"
     ]
    },
    {
     "name": "stdin",
     "output_type": "stream",
     "text": [
      "Enter how many lines to print: 3\n"
     ]
    },
    {
     "name": "stdout",
     "output_type": "stream",
     "text": [
      "Line 1: Hello\n",
      "Line 2: Hi\n",
      "Line 3: How\n"
     ]
    }
   ],
   "source": [
    "# Ex:2 Display data n number of lines from a file: using for loop\n",
    "f=open('sample.txt')\n",
    "l=f.readlines()\n",
    "len_line = len(l)\n",
    "print(f'Total No. of lines in a file: {len_line}')\n",
    "lines=eval(input('Enter how many lines to print:'))\n",
    "if lines < len_line+1:\n",
    "    for j in range(lines):\n",
    "        print(f'Line {j+1}: {l[j]}', end='')\n",
    "else:\n",
    "    print(f'Total No. of lines in a file is: {len_line}, you entered {lines} lines')\n",
    "f.close()"
   ]
  },
  {
   "cell_type": "code",
   "execution_count": 3,
   "id": "ca35d2a3-2e23-48e2-b073-dfa359026d08",
   "metadata": {},
   "outputs": [
    {
     "name": "stdin",
     "output_type": "stream",
     "text": [
      "Enter how many lines to print: 4\n"
     ]
    },
    {
     "name": "stdout",
     "output_type": "stream",
     "text": [
      "['Hello\\n', 'Hi\\n', 'How\\n', 'Are\\n']\n"
     ]
    }
   ],
   "source": [
    "# Ex:3 Display data n number of lines from a file: using slicing\n",
    "fg=open('sample.txt')\n",
    "l=fg.readlines()\n",
    "len_line=len(l)\n",
    "sl_lines=eval(input('Enter how many lines to print:'))\n",
    "if sl_lines < len_line+1:\n",
    "    print(l[:sl_lines])\n",
    "else:\n",
    "    print(f'Total No. of lines in a file is: {len_line}, you entered {sl_lines} lines')"
   ]
  },
  {
   "cell_type": "code",
   "execution_count": 4,
   "id": "556f36a4-1129-409f-83d5-855e2ffdebf3",
   "metadata": {},
   "outputs": [
    {
     "name": "stdin",
     "output_type": "stream",
     "text": [
      "Enter how many lines to print: 5\n"
     ]
    },
    {
     "name": "stdout",
     "output_type": "stream",
     "text": [
      "Hello\n",
      "Hi\n",
      "How\n",
      "Are\n",
      "You\n"
     ]
    }
   ],
   "source": [
    "# Ex:4-1 Display data n number of lines from a file: using function for loop\n",
    "def fn_file_read(fname, nlines):\n",
    "        with open(fname) as f:                   # line Equals to : f=open('sample.txt')\n",
    "            lines = f.readlines()\n",
    "            if nlines < len(lines)+1:\n",
    "                for line in range(nlines):\n",
    "                        print(lines[line], end='')\n",
    "            else:\n",
    "                print(f'Total No. of lines in a file is: {len(lines)}, you entered {nlines} lines')\n",
    "        f.close()\n",
    "p_lines=eval(input('Enter how many lines to print:'))\n",
    "fn_file_read('sample.txt',p_lines)"
   ]
  },
  {
   "cell_type": "code",
   "execution_count": 5,
   "id": "d5c87b48-8b01-43b5-b66f-1f94f9bd4b7a",
   "metadata": {},
   "outputs": [
    {
     "name": "stdout",
     "output_type": "stream",
     "text": [
      "Hello\n",
      "\n",
      "Hi\n",
      "\n",
      "Still file is opened, now closing .......!! Now file is closed\n"
     ]
    }
   ],
   "source": [
    "# Ex:4-2 Display data n number of lines from a file: using function for loop\n",
    "def file_read_from_head(fname, nlines):\n",
    "        from itertools import islice\n",
    "        with open(fname) as f:                                   # line Equals to : f=open('sample.txt')\n",
    "                for line in islice(f, nlines):    \n",
    "                    print(line)\n",
    "                if f.closed==True:\n",
    "                    print('File Closed')\n",
    "                else:\n",
    "                    print('Still file is opened, now closing .......!! ', end='')\n",
    "        f.close()\n",
    "        print('Now file is closed')\n",
    "file_read_from_head('sample.txt',2)"
   ]
  },
  {
   "cell_type": "code",
   "execution_count": 6,
   "id": "02de0b50-a3e9-47b9-a70d-ff44ad4c8597",
   "metadata": {},
   "outputs": [
    {
     "name": "stdin",
     "output_type": "stream",
     "text": [
      "Enter file name:  sample\n"
     ]
    },
    {
     "name": "stdout",
     "output_type": "stream",
     "text": [
      "File exist @ C-Drive ==> Users ==> Srinivas Rao (location)\n",
      "\n",
      "Opening file sample.txt !! ...\n",
      "File opened, checking total No. of lines !! ...\n",
      "\n",
      "Total No. of lines in a file: sample is: 5\n"
     ]
    },
    {
     "name": "stdin",
     "output_type": "stream",
     "text": [
      "Enter No. of lines to print from 1 to 5 from file:  4\n"
     ]
    },
    {
     "name": "stdout",
     "output_type": "stream",
     "text": [
      "\n",
      "\n",
      "Line No.: 1   Hello\n",
      "Line No.: 2   Hi\n",
      "Line No.: 3   How\n",
      "Line No.: 4   Are\n",
      "\n",
      "File is still opened, closing....\n",
      "Closed\n"
     ]
    }
   ],
   "source": [
    "import os                                  # Get the current working directory\n",
    "import time                                # For fun, to sleep\n",
    "pathh = os.getcwd()                        # List all files and folders in the current directory\n",
    "path_file = pathh.replace('C:','C-Drive').replace('\\\\',' ==> ')\n",
    "entries = os.listdir(pathh)\n",
    "\n",
    "# user input filename to check file exist if exist, then open and read the lines and print the lines based on user i/p\n",
    "f_name = input('Enter file name: ')\n",
    "if f_name +'.txt' in entries:\n",
    "    print('File exist @', path_file, '(location)')\n",
    "    print(f'\\nOpening file {f_name}.txt !! ', end='')\n",
    "\n",
    "    # Just fun\n",
    "    for i in range(3):\n",
    "        time.sleep(1)\n",
    "        print('.', end='')\n",
    "        \n",
    "    fle = open(f_name+'.txt')\n",
    "    print('\\nFile opened, checking total No. of lines !! ', end='')\n",
    "\n",
    "    # Just fun...\n",
    "    for j in range(3):\n",
    "        time.sleep(1)\n",
    "        print('.', end='')\n",
    "\n",
    "    # reading lines\n",
    "    lines=fle.readlines()\n",
    "    ln_len=len(lines)\n",
    "    print(f'\\n\\nTotal No. of lines in a file: {f_name} is: {ln_len}')\n",
    "\n",
    "    # displaying lines from file based on total lines and the user input \n",
    "    lie = eval(input(f'Enter No. of lines to print from 1 to {ln_len} from file: '))\n",
    "    print('\\n')\n",
    "    if lie < ln_len+1:\n",
    "        for l in range(lie):\n",
    "            print('Line No.:', l+1, ' ',lines[l], end='')\n",
    "    else:\n",
    "        print(f'Total No. of lines in a file is: {ln_len}, you entered {lie} lines')\n",
    "\n",
    " # Checking file status is open / closed, if still opened then closing    \n",
    "    if fle.closed != True:\n",
    "        print('\\nFile is still opened, closing....')\n",
    "        fle.close()\n",
    "    if fle.closed == True:\n",
    "        print('Closed')\n",
    "        \n",
    "# In the first step giving file name to open and read, if file is not exist then print below message\n",
    "else:\n",
    "    print('File does not exist @', path_file)"
   ]
  },
  {
   "cell_type": "code",
   "execution_count": null,
   "id": "a01bfdcc-9fe4-4803-84ed-491e93eb4174",
   "metadata": {},
   "outputs": [],
   "source": []
  }
 ],
 "metadata": {
  "kernelspec": {
   "display_name": "Python 3 (ipykernel)",
   "language": "python",
   "name": "python3"
  },
  "language_info": {
   "codemirror_mode": {
    "name": "ipython",
    "version": 3
   },
   "file_extension": ".py",
   "mimetype": "text/x-python",
   "name": "python",
   "nbconvert_exporter": "python",
   "pygments_lexer": "ipython3",
   "version": "3.11.7"
  }
 },
 "nbformat": 4,
 "nbformat_minor": 5
}
