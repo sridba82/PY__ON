{
 "cells": [
  {
   "cell_type": "markdown",
   "id": "0473d0ca-aadb-4c6a-993e-562ec756a0ce",
   "metadata": {},
   "source": [
    "## Case-1"
   ]
  },
  {
   "cell_type": "code",
   "execution_count": 1,
   "id": "b8a8bf53-c09f-400f-8e80-b0154776a2fd",
   "metadata": {},
   "outputs": [
    {
     "name": "stdout",
     "output_type": "stream",
     "text": [
      "100\n"
     ]
    }
   ],
   "source": [
    "# Function parameter is initialized with default value.\n",
    "def addition(num1, num2=30):\n",
    "    sum=num1+num2\n",
    "    print(sum)\n",
    "addition(70)"
   ]
  },
  {
   "cell_type": "markdown",
   "id": "e77e36d5-f3fb-4bc8-bc5c-18f3fab9e8ad",
   "metadata": {},
   "source": [
    "## Case-2"
   ]
  },
  {
   "cell_type": "code",
   "execution_count": 2,
   "id": "cfcd639a-9c2a-4711-91a4-2bc4511037f2",
   "metadata": {},
   "outputs": [
    {
     "name": "stdout",
     "output_type": "stream",
     "text": [
      "150\n"
     ]
    }
   ],
   "source": [
    "# Function parameter is initialized with default value\n",
    "# Calling function argument can override function parameter default value.\n",
    "\n",
    "def addition(num1, num2=30):\n",
    "    sum=num1+num2\n",
    "    print(sum)\n",
    "addition(50, 100)"
   ]
  },
  {
   "cell_type": "markdown",
   "id": "361bc5cf-6372-4471-b420-86f04dde73fc",
   "metadata": {},
   "source": [
    "## Case-3"
   ]
  },
  {
   "cell_type": "code",
   "execution_count": 3,
   "id": "9ec9e4df-3e6f-49b6-96cb-d638eb22ef5e",
   "metadata": {},
   "outputs": [
    {
     "name": "stdout",
     "output_type": "stream",
     "text": [
      "250\n"
     ]
    }
   ],
   "source": [
    "# Function parameter is initialized with default value\n",
    "# Function local variable is initialised with value, and function parameter default value no longer valid.\n",
    "# Calling function argument can override function parameter default value. but it cannot overide the function local variable.\n",
    "def addition(num1, num2=30):\n",
    "    num2 = 200\n",
    "    sum=num1+num2\n",
    "    print(sum)\n",
    "addition(50, 100)"
   ]
  },
  {
   "cell_type": "markdown",
   "id": "5ec29f59-f119-4443-911d-c5863d28a212",
   "metadata": {},
   "source": [
    "## Case-4"
   ]
  },
  {
   "cell_type": "code",
   "execution_count": 4,
   "id": "5839e4ab-48b4-49da-83fe-cb83316043ee",
   "metadata": {},
   "outputs": [
    {
     "name": "stdout",
     "output_type": "stream",
     "text": [
      "250\n"
     ]
    }
   ],
   "source": [
    "# Function parameter is initialized with default value\n",
    "# Function local variable is initialised with value, and function parameter default value no longer valid.\n",
    "# Calling function argument can override function parameter default value. but it cannot overide the function local variable.\n",
    "# Outside the function variable value cannot change or override inside function variable value\n",
    "def addition(num1, num2=30):\n",
    "    num2 = 200\n",
    "    sum=num1+num2\n",
    "    print(sum)\n",
    "num2 = 1000\n",
    "addition(50, 100)"
   ]
  },
  {
   "cell_type": "markdown",
   "id": "5efe01fb-113e-469e-8913-dbe6d49d8f76",
   "metadata": {},
   "source": [
    "## Case-5"
   ]
  },
  {
   "cell_type": "code",
   "execution_count": 5,
   "id": "5e3da1e1-36c4-46e1-a511-632b893b942e",
   "metadata": {},
   "outputs": [
    {
     "name": "stdout",
     "output_type": "stream",
     "text": [
      "150\n"
     ]
    }
   ],
   "source": [
    "# Global variables Initialized with values\n",
    "# Function parameter is initialized with default value, so global variable value is no longer valid for this perticular function.\n",
    "sub1 = 50\n",
    "sub2 = 60\n",
    "def addition(sub2=100):\n",
    "    sum=sub1+sub2\n",
    "    print(sum)\n",
    "addition()"
   ]
  },
  {
   "cell_type": "markdown",
   "id": "ec24627e-9ce5-42da-aef4-11c6bc1ec015",
   "metadata": {},
   "source": [
    "## Case-6"
   ]
  },
  {
   "cell_type": "code",
   "execution_count": 7,
   "id": "efe047e8-daac-4ecd-8b8d-e9f6b310bedd",
   "metadata": {},
   "outputs": [
    {
     "ename": "TypeError",
     "evalue": "addition() takes from 0 to 1 positional arguments but 2 were given",
     "output_type": "error",
     "traceback": [
      "\u001b[1;31m---------------------------------------------------------------------------\u001b[0m",
      "\u001b[1;31mTypeError\u001b[0m                                 Traceback (most recent call last)",
      "Cell \u001b[1;32mIn[7], line 9\u001b[0m\n\u001b[0;32m      7\u001b[0m     \u001b[38;5;28msum\u001b[39m\u001b[38;5;241m=\u001b[39msub1\u001b[38;5;241m+\u001b[39msub2\n\u001b[0;32m      8\u001b[0m     \u001b[38;5;28mprint\u001b[39m(\u001b[38;5;28msum\u001b[39m)\n\u001b[1;32m----> 9\u001b[0m addition(\u001b[38;5;241m200\u001b[39m, \u001b[38;5;241m300\u001b[39m)\n",
      "\u001b[1;31mTypeError\u001b[0m: addition() takes from 0 to 1 positional arguments but 2 were given"
     ]
    }
   ],
   "source": [
    "# Global variables Initialized with values\n",
    "# Function parameter is initialized with default value, so global variable value is no longer valid for this perticular function.\n",
    "# Function definition parameters must be similar while calling function with arguments OW it will raise error.\n",
    "sub1 = 50\n",
    "sub2 = 60\n",
    "def addition(sub2=100):\n",
    "    sum=sub1+sub2\n",
    "    print(sum)\n",
    "addition(200, 300)     # In the function definition we dont have 2 parameters, So in calling we should not use 2 arguments. "
   ]
  },
  {
   "cell_type": "markdown",
   "id": "c5cff56b-f43c-49cb-94cf-acf39efebe6a",
   "metadata": {},
   "source": [
    "## Case-7"
   ]
  },
  {
   "cell_type": "code",
   "execution_count": 8,
   "id": "768931bd-db9b-40dd-ab5d-453e92c26819",
   "metadata": {},
   "outputs": [
    {
     "name": "stdout",
     "output_type": "stream",
     "text": [
      "500\n"
     ]
    }
   ],
   "source": [
    "# Global variables Initialized with values\n",
    "# Function parameter is initialized with default value, so global variable value is no longer valid for this perticular function.\n",
    "# Function calling argument will override the function definition default value. \n",
    "sub1 = 50\n",
    "sub2 = 60\n",
    "def addition(sub2=100):\n",
    "    sum=sub1+sub2\n",
    "    print(sum)\n",
    "addition(sub2=450)"
   ]
  },
  {
   "cell_type": "markdown",
   "id": "659e8434-91ab-48ad-a2f5-bc12e2d4e3a1",
   "metadata": {},
   "source": [
    "## Case-8"
   ]
  },
  {
   "cell_type": "code",
   "execution_count": 9,
   "id": "b28e378e-807d-40cb-916f-6ee029075818",
   "metadata": {},
   "outputs": [
    {
     "name": "stdout",
     "output_type": "stream",
     "text": [
      "1050\n"
     ]
    }
   ],
   "source": [
    "# Global variables Initialized with values\n",
    "# Function parameter is initialized with default value, so global variable value is no longer valid for this perticular function.\n",
    "# Function calling argument will override the function definition default value but cannot override function local variable.\n",
    "sub1 = 50\n",
    "sub2 = 60\n",
    "def addition(sub2=100):\n",
    "    sub2=1000\n",
    "    sum=sub1+sub2\n",
    "    print(sum)\n",
    "addition(sub2=450)"
   ]
  },
  {
   "cell_type": "markdown",
   "id": "4b534f4d-1966-4f63-84ab-11cb754dd29a",
   "metadata": {},
   "source": [
    "## Case-9"
   ]
  },
  {
   "cell_type": "code",
   "execution_count": 10,
   "id": "cd810f0b-c903-4dfe-892e-7d934cad1e35",
   "metadata": {},
   "outputs": [
    {
     "name": "stdout",
     "output_type": "stream",
     "text": [
      "1050\n"
     ]
    }
   ],
   "source": [
    "# Global variables Initialized with values\n",
    "# Function parameter is initialized with default value, so global variable value is no longer valid for this perticular function.\n",
    "# Function calling argument will override the function definition default value but cannot override function local variable.\n",
    "# Outside the function variable value cannot override function local varibale.\n",
    "sub1 = 50\n",
    "sub2 = 60\n",
    "def addition(sub2=100):\n",
    "    sub2=1000\n",
    "    sum=sub1+sub2\n",
    "    print(sum)\n",
    "sub2=3000\n",
    "addition(sub2=450)"
   ]
  },
  {
   "cell_type": "markdown",
   "id": "a3504bf4-f7a2-4360-b140-7de4874ca844",
   "metadata": {},
   "source": [
    "## Case-10"
   ]
  },
  {
   "cell_type": "code",
   "execution_count": 11,
   "id": "f9d6d849-4d5a-4a42-8db7-b96fb1171323",
   "metadata": {},
   "outputs": [
    {
     "name": "stdout",
     "output_type": "stream",
     "text": [
      "500\n"
     ]
    }
   ],
   "source": [
    "# Global variables Initialized with values\n",
    "# If No parameters is defined on the function, then it will take local and global initialized variable values as per the execution sequence.\n",
    "sub2 = 60\n",
    "def addition():\n",
    "    sum=sub1+sub2\n",
    "    print(sum)\n",
    "sub1=440\n",
    "addition()"
   ]
  },
  {
   "cell_type": "markdown",
   "id": "66bfe741-2853-44fe-968a-7caa63af88c4",
   "metadata": {},
   "source": [
    "## Case- 11"
   ]
  },
  {
   "cell_type": "code",
   "execution_count": 12,
   "id": "f52471c4-365a-4159-96b0-ba23f6264435",
   "metadata": {},
   "outputs": [
    {
     "name": "stdout",
     "output_type": "stream",
     "text": [
      "200\n"
     ]
    }
   ],
   "source": [
    "# Global variable and local variable having same name but context is different.\n",
    "sum = 100\n",
    "def global_local():\n",
    "    sum=200\n",
    "    print(sum)\n",
    "global_local()\n"
   ]
  },
  {
   "cell_type": "code",
   "execution_count": 15,
   "id": "5b084684-d6a8-4c39-a3c0-af15c04d8247",
   "metadata": {},
   "outputs": [
    {
     "data": {
      "text/plain": [
       "100"
      ]
     },
     "execution_count": 15,
     "metadata": {},
     "output_type": "execute_result"
    }
   ],
   "source": [
    "sum"
   ]
  },
  {
   "cell_type": "markdown",
   "id": "b92b125f-a163-46e9-a0ff-323c1bd516b0",
   "metadata": {},
   "source": [
    "## Case-12"
   ]
  },
  {
   "cell_type": "code",
   "execution_count": 14,
   "id": "f1bbb844-6067-4bf3-8901-eeff1205bdb3",
   "metadata": {},
   "outputs": [
    {
     "ename": "NameError",
     "evalue": "name 'loca' is not defined",
     "output_type": "error",
     "traceback": [
      "\u001b[1;31m---------------------------------------------------------------------------\u001b[0m",
      "\u001b[1;31mNameError\u001b[0m                                 Traceback (most recent call last)",
      "Cell \u001b[1;32mIn[14], line 7\u001b[0m\n\u001b[0;32m      5\u001b[0m     \u001b[38;5;28msum\u001b[39m\u001b[38;5;241m=\u001b[39m glo \u001b[38;5;241m+\u001b[39m loca\n\u001b[0;32m      6\u001b[0m     \u001b[38;5;28mprint\u001b[39m(\u001b[38;5;28msum\u001b[39m)\n\u001b[1;32m----> 7\u001b[0m global_local_v()\n\u001b[0;32m      8\u001b[0m loca\u001b[38;5;241m=\u001b[39m\u001b[38;5;241m400\u001b[39m\n",
      "Cell \u001b[1;32mIn[14], line 5\u001b[0m, in \u001b[0;36mglobal_local_v\u001b[1;34m()\u001b[0m\n\u001b[0;32m      4\u001b[0m \u001b[38;5;28;01mdef\u001b[39;00m \u001b[38;5;21mglobal_local_v\u001b[39m():\n\u001b[1;32m----> 5\u001b[0m     \u001b[38;5;28msum\u001b[39m\u001b[38;5;241m=\u001b[39m glo \u001b[38;5;241m+\u001b[39m loca\n\u001b[0;32m      6\u001b[0m     \u001b[38;5;28mprint\u001b[39m(\u001b[38;5;28msum\u001b[39m)\n",
      "\u001b[1;31mNameError\u001b[0m: name 'loca' is not defined"
     ]
    }
   ],
   "source": [
    "# Global variable initialised can be used globally\n",
    "# local variable is not initialised any where before function callin.\n",
    "glo = 100\n",
    "def global_local_v():\n",
    "    sum= glo + loca\n",
    "    print(sum)\n",
    "global_local_v()\n",
    "loca=400                  # This value can be placed before function call to to avoid error"
   ]
  },
  {
   "cell_type": "code",
   "execution_count": null,
   "id": "5038fa60-7271-49d5-b566-744090e562e7",
   "metadata": {},
   "outputs": [],
   "source": []
  }
 ],
 "metadata": {
  "kernelspec": {
   "display_name": "Python 3 (ipykernel)",
   "language": "python",
   "name": "python3"
  },
  "language_info": {
   "codemirror_mode": {
    "name": "ipython",
    "version": 3
   },
   "file_extension": ".py",
   "mimetype": "text/x-python",
   "name": "python",
   "nbconvert_exporter": "python",
   "pygments_lexer": "ipython3",
   "version": "3.11.7"
  }
 },
 "nbformat": 4,
 "nbformat_minor": 5
}
