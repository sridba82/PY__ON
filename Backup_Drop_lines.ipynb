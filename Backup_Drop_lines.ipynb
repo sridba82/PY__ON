{
 "cells": [
  {
   "cell_type": "code",
   "execution_count": 1,
   "id": "162324c6-4cac-4662-bb73-bdb48c216aae",
   "metadata": {},
   "outputs": [
    {
     "name": "stdout",
     "output_type": "stream",
     "text": [
      "No backup folder check / created, backup file created\n"
     ]
    }
   ],
   "source": [
    "import os\n",
    "import datetime\n",
    "import shutil\n",
    "\n",
    "# to create unique backup filename.\n",
    "current_time = datetime.datetime.now()\n",
    "dt=current_time.day\n",
    "hh=current_time.hour\n",
    "mi=current_time.minute\n",
    "ss=current_time.second\n",
    "unique=(str(dt)+str(hh)+str(mi)+str(ss))\n",
    "\n",
    "# Backup folder info\n",
    "current_path=os.getcwd()\n",
    "backup_fldr='py_backup'\n",
    "backup_path=os.path.join(current_path,backup_fldr)\n",
    "is_folder_exist = os.path.isdir(backup_path)\n",
    "\n",
    "# backup file info\n",
    "filename='mbox-short.txt'\n",
    "bkpfilename= 'mbox-short_'+unique+'.txt'\n",
    "\n",
    "# source and target file info to take backup\n",
    "source_file = os.path.join(current_path, filename)\n",
    "backup_file = os.path.join(backup_path, bkpfilename)\n",
    "\n",
    "drop_lns=[]\n",
    "\n",
    "if len(drop_lns) > 0:\n",
    "    if not is_folder_exist:\n",
    "        os.makedirs(backup_path)\n",
    "        print('\\ncreated folder : ', backup_fldr)\n",
    "    else:\n",
    "        print(f'\"backup_fldr\" folder already exists.\\n')\n",
    "\n",
    "    # if source file exist then take backup into backup location\n",
    "    if os.path.isfile(source_file):\n",
    "        shutil.copy(source_file, backup_file)\n",
    "else:\n",
    "    print('No backup folder check / created, backup file created')\n",
    "        "
   ]
  },
  {
   "cell_type": "code",
   "execution_count": 2,
   "id": "7feff206-783e-4ad8-853c-31884a562b94",
   "metadata": {},
   "outputs": [
    {
     "name": "stdout",
     "output_type": "stream",
     "text": [
      "\n",
      "\n",
      "\n",
      "\n",
      "\n",
      "\n",
      "\n",
      "\n"
     ]
    }
   ],
   "source": [
    "drop_lns=[325, 326, 1344, 1430] \n",
    "with open('mbox-short.txt', 'r') as fr:\n",
    "    lines = fr.readlines()\n",
    "    for i in range(len(lines)):\n",
    "        for j in drop_lns:\n",
    "            if j == i:\n",
    "                print(lines[j])"
   ]
  },
  {
   "cell_type": "code",
   "execution_count": 36,
   "id": "5855821d-3267-448e-bde7-757a3c3e5481",
   "metadata": {},
   "outputs": [
    {
     "ename": "AttributeError",
     "evalue": "'str' object has no attribute 'delete'",
     "output_type": "error",
     "traceback": [
      "\u001b[1;31m---------------------------------------------------------------------------\u001b[0m",
      "\u001b[1;31mAttributeError\u001b[0m                            Traceback (most recent call last)",
      "Cell \u001b[1;32mIn[36], line 11\u001b[0m\n\u001b[0;32m      8\u001b[0m     \u001b[38;5;28;01mfor\u001b[39;00m j \u001b[38;5;129;01min\u001b[39;00m drop_lns:\n\u001b[0;32m      9\u001b[0m         \u001b[38;5;28;01mif\u001b[39;00m j\u001b[38;5;241m==\u001b[39mi:\n\u001b[0;32m     10\u001b[0m             \u001b[38;5;66;03m# print(i)\u001b[39;00m\n\u001b[1;32m---> 11\u001b[0m             file_list[i]\u001b[38;5;241m.\u001b[39mdelete()\n\u001b[0;32m     12\u001b[0m \u001b[38;5;28;01mfor\u001b[39;00m item \u001b[38;5;129;01min\u001b[39;00m file_list:\n\u001b[0;32m     13\u001b[0m \tfile_c\u001b[38;5;241m.\u001b[39mwrite(item\u001b[38;5;241m+\u001b[39m\u001b[38;5;124m\"\u001b[39m\u001b[38;5;130;01m\\n\u001b[39;00m\u001b[38;5;124m\"\u001b[39m)\n",
      "\u001b[1;31mAttributeError\u001b[0m: 'str' object has no attribute 'delete'"
     ]
    }
   ],
   "source": [
    "file_c = open('months_copy.txt','w')\n",
    "drop_lns=[1,3,5,9]\n",
    "\n",
    "file_o=open('months.txt','r')\n",
    "file_list=file_o.readlines()\n",
    "\n",
    "for i in range(len(file_list)):\n",
    "    for j in drop_lns:\n",
    "        if j==i:\n",
    "            # print(i)\n",
    "            file_list[i].delete()\n",
    "for item in file_list:\n",
    "\tfile_c.write(item+\"\\n\")\n",
    "file_c.close()\n",
    "file_o.close()"
   ]
  },
  {
   "cell_type": "code",
   "execution_count": 26,
   "id": "b63b3d92-a9e5-4ac0-aa2c-a2b4a211f7a9",
   "metadata": {},
   "outputs": [
    {
     "name": "stdin",
     "output_type": "stream",
     "text": [
      "Enter the line number to be deleted =  2\n"
     ]
    },
    {
     "name": "stdout",
     "output_type": "stream",
     "text": [
      "Line 2 is deleted successfully\n",
      "\n",
      "File Content After Deletion :\n",
      "Good Morning\n",
      "\n"
     ]
    }
   ],
   "source": [
    "# input text file\n",
    "inputFile = \"TextFile.txt\"\n",
    "# Opening the given file in read-only mode.\n",
    "with open(inputFile, 'r') as filedata:\n",
    "   # Read the file lines using readlines()\n",
    "   inputFilelines = filedata.readlines()\n",
    "   # storing the current line number in a variable\n",
    "   lineindex = 1\n",
    "   # Enter the line number to be deleted\n",
    "   deleteLine = int(input(\"Enter the line number to be deleted = \"))\n",
    "   # Opening the given file in write mode.\n",
    "   with open(inputFile, 'w') as filedata:\n",
    "      # Traverse in each line of the file\n",
    "      for textline in inputFilelines:\n",
    "         # Checking whether the line index(line number) is\n",
    "         # not equal to a given delete line number\n",
    "         if lineindex != deleteLine:\n",
    "            # If it is true, then write that corresponding line into file\n",
    "            filedata.write(textline)\n",
    "            # Increase the value of line index(line number) value by 1\n",
    "            lineindex += 1\n",
    "# Print some random text if the given particular line is deleted successfully\n",
    "print(\"Line\",deleteLine,'is deleted successfully\\n')\n",
    "# Printing the file content after deleting the specific line\n",
    "print(\"File Content After Deletion :\")\n",
    "# Reading the file again in read mode\n",
    "givenFile = open(inputFile,\"r\")\n",
    "# Traversing the file line by line\n",
    "for line in givenFile:\n",
    "   # printing each line\n",
    "   print(line)\n",
    "# Closing the input file\n",
    "filedata.close()"
   ]
  },
  {
   "cell_type": "code",
   "execution_count": null,
   "id": "b8ba63e8-2515-4d8e-b193-9430f9a047ab",
   "metadata": {},
   "outputs": [],
   "source": []
  }
 ],
 "metadata": {
  "kernelspec": {
   "display_name": "Python 3 (ipykernel)",
   "language": "python",
   "name": "python3"
  },
  "language_info": {
   "codemirror_mode": {
    "name": "ipython",
    "version": 3
   },
   "file_extension": ".py",
   "mimetype": "text/x-python",
   "name": "python",
   "nbconvert_exporter": "python",
   "pygments_lexer": "ipython3",
   "version": "3.11.7"
  }
 },
 "nbformat": 4,
 "nbformat_minor": 5
}
