{
 "cells": [
  {
   "cell_type": "markdown",
   "id": "4c428d6f-707a-48e2-943a-6ae13bcc8c17",
   "metadata": {},
   "source": [
    "## **Test:** 29/06/24"
   ]
  },
  {
   "cell_type": "code",
   "execution_count": 5,
   "id": "7ed8183e-0801-4538-add3-37d936ead01e",
   "metadata": {},
   "outputs": [
    {
     "name": "stdin",
     "output_type": "stream",
     "text": [
      "Enter Number 1:  10\n",
      "Enter Number 2:  3\n"
     ]
    },
    {
     "name": "stdout",
     "output_type": "stream",
     "text": [
      "Addition of 10 and 3 is: 13\n",
      "Subtraction of 10 and 3 is: 7\n",
      "Division of 10 and 3 is: 3.3333333333333335\n",
      "Multiplication of 10 and 3 is: 30\n",
      "Modulus of 10 and 3 is: 1\n",
      "Floor division of 10 and 3 is: 3\n",
      "10 to the power of 3 is: 1000\n"
     ]
    }
   ],
   "source": [
    "# Program for all arithmetic operations using eval function\n",
    "import string\n",
    "num1 = eval(input('Enter Number 1: '))\n",
    "num2 = eval(input('Enter Number 2: '))\n",
    "\n",
    "try:\n",
    "    add = num1 + num2\n",
    "    sub = num1 - num2\n",
    "    div = num1 / num2\n",
    "    mul = num1 * num2\n",
    "    mod = num1 % num2\n",
    "    flor_div = num1 // num2 \n",
    "    expo = num1 ** num2\n",
    "\n",
    "    print(f'Addition of {num1} and {num2} is: {add}')\n",
    "    print(f'Subtraction of {num1} and {num2} is: {sub}')\n",
    "    print(f'Division of {num1} and {num2} is: {div}')\n",
    "    print(f'Multiplication of {num1} and {num2} is: {mul}')\n",
    "    print(f'Modulus of {num1} and {num2} is: {mod}')\n",
    "    print(f'Floor division of {num1} and {num2} is: {flor_div}')\n",
    "    print(f'{num1} to the power of {num2} is: {expo}')\n",
    "except Exception as e:\n",
    "    print(f'Error is: {e}')"
   ]
  },
  {
   "cell_type": "code",
   "execution_count": 3,
   "id": "5470becd-c16d-4abf-8078-70c3a66136f2",
   "metadata": {},
   "outputs": [
    {
     "name": "stdout",
     "output_type": "stream",
     "text": [
      "70\n"
     ]
    }
   ],
   "source": [
    "# Program random number from 1- 100 step of 10\n",
    "import random\n",
    "num = random.randint(1, 100)\n",
    "print( 10*num)"
   ]
  },
  {
   "cell_type": "code",
   "execution_count": 4,
   "id": "289786a2-7775-4428-8759-7bc2c86872b4",
   "metadata": {},
   "outputs": [
    {
     "name": "stdout",
     "output_type": "stream",
     "text": [
      "Original PI value: 3.141592653589793\n",
      "Rounded two decimal places PI value: 3.14\n"
     ]
    }
   ],
   "source": [
    "# Program to round two decimal places for a floating value\n",
    "import math\n",
    "print(f'Original PI value: {math.pi}')\n",
    "rpi = round((math.pi), 2)\n",
    "print(f'Rounded two decimal places PI value: {rpi}')"
   ]
  },
  {
   "cell_type": "markdown",
   "id": "8b439b3f-bafd-4374-81c3-69b3d687792b",
   "metadata": {},
   "source": [
    "## Type casting means, converting one data type to another data type. like,\n",
    "\n",
    " - From Integer to Float, String, Boolean and \n",
    " - From Float to Integer, String, Boolean and\n",
    " - From String to Integer, Float, Boolean and\n",
    " - From Boolean to Integer, Float, String\n",
    "\n",
    "### For example:\n",
    "\n",
    "- While converting Integer value 3 to Float, the Integer value changes to **3.0**\n",
    "- While converting Integer value 3 to String, the Integer value changes to text **'3'**\n",
    "- While converting Integer value 3 to Boolean, the Integer value changes to **True** \n",
    "\n",
    "**If Integer value 0 to Boolean, then the Integer value changes to False**\n",
    "\n",
    "### For example:\n",
    "\n",
    "- While converting Float value 6.0 to Integer, It Float value changes to **6**\n",
    "- While converting Float value 6.0 to String, the Float value changes to text **'6.0'**\n",
    "- While converting Float value 6.0 to Boolean, the Float value becomes **True**\n",
    "\n",
    "** If Float value 0.0 to Boolean, then the Float value changes to False**\n",
    "\n",
    "### For example:\n",
    "\n",
    "- While converting String value 'Sri' to Integer, **It will raise the ERROR, cannot convert String to Int**\n",
    "- While converting String value 'Sri' to Float, **It will raise the ERROR, cannot convert String to Float**\n",
    "- While converting String value 'Sri' to Boolean, the String value becomes **True**\n",
    "\n",
    "- While converting String value 10.5 to Integer, **It will raise the ERROR, cannot convert String 10.5 to Integer**\n",
    "- While converting String value 10.5 to Float, the String value 10.5 changes to Float 10.5 without any error\n",
    "- While converting String value 10.5 to Boolean, the String value becomes **True**\n",
    "\n",
    "- While converting String value '10' to Integer, the String value 10 changes to Integer 10 without any error\n",
    "- While converting String value '10' to Float, the String value 10 changes to Float 10.0 without any error\n",
    "- While converting String value '10' to Boolean, the Float value becomes **True**\n",
    "\n",
    "### For example:\n",
    "\n",
    "- While converting Boolean value True to Integer, the Int value changes to **1**\n",
    "- While converting Boolean value True to Float, the float value changes to **1.0**\n",
    "- While converting Boolean value True to String, the string value becomes **True**\n",
    "\n",
    "- While converting Boolean value False to Integer, the Int value changes to **0**\n",
    "- While converting Boolean value False to Float, the float value changes to **0.0**\n",
    "- While converting Boolean value False to String, the string value becomes **False**"
   ]
  },
  {
   "cell_type": "code",
   "execution_count": null,
   "id": "05d64b42-91f9-459c-a97f-64256b426514",
   "metadata": {},
   "outputs": [],
   "source": []
  }
 ],
 "metadata": {
  "kernelspec": {
   "display_name": "Python 3 (ipykernel)",
   "language": "python",
   "name": "python3"
  },
  "language_info": {
   "codemirror_mode": {
    "name": "ipython",
    "version": 3
   },
   "file_extension": ".py",
   "mimetype": "text/x-python",
   "name": "python",
   "nbconvert_exporter": "python",
   "pygments_lexer": "ipython3",
   "version": "3.11.7"
  }
 },
 "nbformat": 4,
 "nbformat_minor": 5
}
