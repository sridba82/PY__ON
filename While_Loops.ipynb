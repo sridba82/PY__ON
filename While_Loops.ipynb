{
 "cells": [
  {
   "cell_type": "code",
   "execution_count": 2,
   "id": "0f4d3531-2736-4dd3-ab4c-fbf4559523b9",
   "metadata": {},
   "outputs": [
    {
     "name": "stdout",
     "output_type": "stream",
     "text": [
      "Number is even:  52\n",
      "Number is odd:  31\n",
      "Number is even:  2\n"
     ]
    }
   ],
   "source": [
    "# Q1: take a random number between  1 to 100\n",
    "# print it is a even number and odd number\n",
    "# you need to generate 3 random number\n",
    "import random\n",
    "i=1\n",
    "while i<4:\n",
    "    num = random.randint(1, 100)\n",
    "    if num%2 == 0:\n",
    "        print('Number is even: ', num)\n",
    "    else:\n",
    "        print('Number is odd: ', num)\n",
    "    i=i+1"
   ]
  },
  {
   "cell_type": "code",
   "execution_count": 3,
   "id": "a105a63d-4928-4d9c-935b-0f852b418531",
   "metadata": {},
   "outputs": [
    {
     "name": "stdout",
     "output_type": "stream",
     "text": [
      "Number 11 is odd.\n",
      "Number 12 is even.\n",
      "Number 13 is odd.\n",
      "Number 14 is even.\n",
      "Number 15 is odd.\n",
      "Number 16 is even.\n",
      "Number 17 is odd.\n",
      "Number 18 is even.\n",
      "Number 19 is odd.\n"
     ]
    }
   ],
   "source": [
    "#Q2: wap ask the user print the number is even or odd between 10 to 20\n",
    "i=11\n",
    "while i < 20:\n",
    "    if i%2 == 0:\n",
    "        print(f'Number {i} is even.')\n",
    "    else:\n",
    "        print(f'Number {i} is odd.')\n",
    "    i = i+1"
   ]
  },
  {
   "cell_type": "code",
   "execution_count": 4,
   "id": "9d4eaca1-705d-49be-8640-7e77c23da644",
   "metadata": {},
   "outputs": [
    {
     "name": "stdout",
     "output_type": "stream",
     "text": [
      "Square of 20 is: 400\n",
      "Square of 21 is: 441\n",
      "Square of 22 is: 484\n",
      "Square of 23 is: 529\n",
      "Square of 24 is: 576\n"
     ]
    }
   ],
   "source": [
    "#Q3: wap ask the user print the square of the number between  20 to 25\n",
    "num1=20\n",
    "while num1 < 25:\n",
    "    sq = num1*num1\n",
    "    print(f'Square of {num1} is: {sq}')\n",
    "    num1=num1+1"
   ]
  },
  {
   "cell_type": "code",
   "execution_count": 5,
   "id": "991304ff-9f62-46f6-8114-4f30dd4554a5",
   "metadata": {},
   "outputs": [
    {
     "name": "stdin",
     "output_type": "stream",
     "text": [
      "Enter 1 number to square of it:  4\n"
     ]
    },
    {
     "name": "stdout",
     "output_type": "stream",
     "text": [
      "Square of 4 is: 16\n"
     ]
    },
    {
     "name": "stdin",
     "output_type": "stream",
     "text": [
      "Enter 2 number to square of it:  3\n"
     ]
    },
    {
     "name": "stdout",
     "output_type": "stream",
     "text": [
      "Square of 3 is: 9\n"
     ]
    },
    {
     "name": "stdin",
     "output_type": "stream",
     "text": [
      "Enter 3 number to square of it:  8\n"
     ]
    },
    {
     "name": "stdout",
     "output_type": "stream",
     "text": [
      "Square of 8 is: 64\n"
     ]
    }
   ],
   "source": [
    "#Q4: WAP ask the user enter number three times find the square of the number\n",
    "# How many times loop should run\n",
    "# Ans: loop should run 3 times\n",
    "loop = 1\n",
    "while loop < 4:\n",
    "    num = eval(input(f'Enter {loop} number to square of it: '))\n",
    "    sq = num*num\n",
    "    print(f'Square of {num} is: {sq}')\n",
    "    loop=loop+1"
   ]
  },
  {
   "cell_type": "code",
   "execution_count": 6,
   "id": "cd247f01-81d2-41d7-8994-24563da02488",
   "metadata": {},
   "outputs": [
    {
     "name": "stdout",
     "output_type": "stream",
     "text": [
      "Printing 14th table\n",
      "14 x 1 = 14\n",
      "14 x 2 = 28\n",
      "14 x 3 = 42\n",
      "14 x 4 = 56\n",
      "14 x 5 = 70\n",
      "14 x 6 = 84\n",
      "14 x 7 = 98\n",
      "14 x 8 = 112\n",
      "14 x 9 = 126\n",
      "14 x 10 = 140\n"
     ]
    }
   ],
   "source": [
    "#Q5: Print the 14th table\n",
    "print('Printing 14th table')\n",
    "table = 14\n",
    "start = 1\n",
    "while start < 11:\n",
    "    print(f'{table} x {start} = {table*start}')\n",
    "    start=start+1"
   ]
  },
  {
   "cell_type": "code",
   "execution_count": 7,
   "id": "6bd1c4a3-b616-4ed3-b8c8-b3aa405f0a97",
   "metadata": {},
   "outputs": [
    {
     "name": "stdout",
     "output_type": "stream",
     "text": [
      "1\n",
      "3\n",
      "5\n",
      "15\n",
      "25\n",
      "75\n"
     ]
    }
   ],
   "source": [
    "#Q6: Find the factors of 75\n",
    "#step-1: Iterate the loop = which numbers factor you want\n",
    "#step-2: Apply the if condition\n",
    "#cond= divide the number with each i\n",
    "fact_num = 75\n",
    "start_fact = 1\n",
    "while start_fact <= fact_num:\n",
    "    if fact_num%start_fact == 0:\n",
    "        print(start_fact)\n",
    "    start_fact=start_fact+1"
   ]
  },
  {
   "cell_type": "code",
   "execution_count": 8,
   "id": "233366a7-d0dc-401d-a0dc-bd0cad6c519e",
   "metadata": {},
   "outputs": [
    {
     "name": "stdout",
     "output_type": "stream",
     "text": [
      "55\n"
     ]
    }
   ],
   "source": [
    "#Q7: Write the sum of first 10 Natural numbers\n",
    "# 1 to 10\n",
    "# 1+2+3+4+5+6+7+8+9+10=55\n",
    "natural_start=1\n",
    "sum=0\n",
    "while natural_start < 11:\n",
    "    sum=sum+natural_start\n",
    "    natural_start=natural_start+1\n",
    "print(sum)"
   ]
  },
  {
   "cell_type": "code",
   "execution_count": 9,
   "id": "05896d82-588a-47f4-94bf-1048fa7de167",
   "metadata": {},
   "outputs": [
    {
     "name": "stdout",
     "output_type": "stream",
     "text": [
      "5.5\n"
     ]
    }
   ],
   "source": [
    "# 8Q) Average first 1 to 10 numbers\n",
    "# avg= summation of all the numbers/total number\n",
    "# Wap to find the average of ' N ' numbers in Python.\n",
    "counter_start=1\n",
    "natural_max = 11\n",
    "sum=0\n",
    "count=0\n",
    "while counter_start < natural_max:\n",
    "    sum=sum+counter_start\n",
    "    counter_start=counter_start+1\n",
    "    count=count+1\n",
    "print(sum/count)"
   ]
  },
  {
   "cell_type": "code",
   "execution_count": 10,
   "id": "a46531e8-46bf-4ce5-a71b-dff05153c410",
   "metadata": {},
   "outputs": [
    {
     "name": "stdout",
     "output_type": "stream",
     "text": [
      "6\n"
     ]
    }
   ],
   "source": [
    "#Q9: Find the number of divisors of 75\n",
    "# ans: 1,3,5,15,25,75\n",
    "# Number =6\n",
    "divisor_of = 75\n",
    "i=1\n",
    "count=0\n",
    "while i<= divisor_of:\n",
    "    if divisor_of%i == 0:\n",
    "        count= count+1\n",
    "    i=i+1\n",
    "print(count)"
   ]
  },
  {
   "cell_type": "code",
   "execution_count": 11,
   "id": "906d7280-fb5f-44c8-ad49-19003c2ec03e",
   "metadata": {},
   "outputs": [
    {
     "name": "stdin",
     "output_type": "stream",
     "text": [
      "Enter 1 No. for toss:  5\n"
     ]
    },
    {
     "name": "stdout",
     "output_type": "stream",
     "text": [
      "Fail\n"
     ]
    },
    {
     "name": "stdin",
     "output_type": "stream",
     "text": [
      "Enter 2 No. for toss:  6\n"
     ]
    },
    {
     "name": "stdout",
     "output_type": "stream",
     "text": [
      "Fail\n"
     ]
    },
    {
     "name": "stdin",
     "output_type": "stream",
     "text": [
      "Enter 3 No. for toss:  7\n"
     ]
    },
    {
     "name": "stdout",
     "output_type": "stream",
     "text": [
      "Fail\n"
     ]
    }
   ],
   "source": [
    "# Q10 a: Get a random number between  1 to 10 :  num1\n",
    "# Ask the user enter a number : num2\n",
    "# if num1 == num2  then print won\n",
    "# else print fail\n",
    "import random\n",
    "i=1\n",
    "while i < 4:\n",
    "    num1 = random.randint(1, 10)\n",
    "    num2 = eval(input(f'Enter {i} No. for toss: '))\n",
    "    if num1==num2:\n",
    "        print('Won')\n",
    "    else:\n",
    "        print('Fail')\n",
    "    i=i+1"
   ]
  },
  {
   "cell_type": "code",
   "execution_count": 12,
   "id": "e58eead9-a166-493a-92b3-d12fb2424602",
   "metadata": {},
   "outputs": [
    {
     "name": "stdin",
     "output_type": "stream",
     "text": [
      "Enter 1 No. for toss:  5\n"
     ]
    },
    {
     "name": "stdout",
     "output_type": "stream",
     "text": [
      "Won\n"
     ]
    }
   ],
   "source": [
    "# Q10 b: similar to Q10 using case 2\n",
    "# Case-2: whenever you won the code should stop\n",
    "import random\n",
    "i=1\n",
    "while i < 4:\n",
    "    num1 = random.randint(1, 5)\n",
    "    num2 = eval(input(f'Enter {i} No. for toss: '))\n",
    "    if num1==num2:\n",
    "        print('Won')\n",
    "        break\n",
    "    else:\n",
    "        print('Fail')\n",
    "    i=i+1"
   ]
  },
  {
   "cell_type": "code",
   "execution_count": 13,
   "id": "ef51bb5a-1027-4798-b144-5b7cd929411f",
   "metadata": {},
   "outputs": [
    {
     "name": "stdin",
     "output_type": "stream",
     "text": [
      "Enter any random number for toss:  5\n"
     ]
    },
    {
     "name": "stdout",
     "output_type": "stream",
     "text": [
      "You Fail\n",
      "Number of chances left:  3\n"
     ]
    },
    {
     "name": "stdin",
     "output_type": "stream",
     "text": [
      "Enter any random number for toss:  6\n"
     ]
    },
    {
     "name": "stdout",
     "output_type": "stream",
     "text": [
      "You Fail\n",
      "Number of chances left:  2\n"
     ]
    },
    {
     "name": "stdin",
     "output_type": "stream",
     "text": [
      "Enter any random number for toss:  3\n"
     ]
    },
    {
     "name": "stdout",
     "output_type": "stream",
     "text": [
      "You Won\n"
     ]
    }
   ],
   "source": [
    "# Q10 c: similar to Q10 using case 3\n",
    "# Case-3: Suppose i want to give 4 chances\n",
    "# Every time you fail I want to display\n",
    "# Number of chances left\n",
    "import random\n",
    "start=0\n",
    "chances=4\n",
    "while start < chances:\n",
    "    num1=eval(input('Enter any random number for toss: '))\n",
    "    num2=random.randint(1,10)\n",
    "    if num1==num2:\n",
    "        print('You Won')\n",
    "        break\n",
    "    else:\n",
    "        print('You Fail')\n",
    "    start=start+1\n",
    "    print('Number of chances left: ', chances - start)"
   ]
  },
  {
   "cell_type": "code",
   "execution_count": 14,
   "id": "95fd899f-1d0c-42c8-86c3-8afa23fd4b11",
   "metadata": {},
   "outputs": [
    {
     "name": "stdin",
     "output_type": "stream",
     "text": [
      "Enter any random number for toss:  6\n"
     ]
    },
    {
     "name": "stdout",
     "output_type": "stream",
     "text": [
      "You Fail\n",
      "Number of chances left:  3\n"
     ]
    },
    {
     "name": "stdin",
     "output_type": "stream",
     "text": [
      "Enter any random number for toss:  7\n"
     ]
    },
    {
     "name": "stdout",
     "output_type": "stream",
     "text": [
      "You Fail\n",
      "Number of chances left:  2\n"
     ]
    },
    {
     "name": "stdin",
     "output_type": "stream",
     "text": [
      "Enter any random number for toss:  8\n"
     ]
    },
    {
     "name": "stdout",
     "output_type": "stream",
     "text": [
      "You Fail\n",
      "Number of chances left:  1\n"
     ]
    },
    {
     "name": "stdin",
     "output_type": "stream",
     "text": [
      "Enter any random number for toss:  6\n"
     ]
    },
    {
     "name": "stdout",
     "output_type": "stream",
     "text": [
      "You Fail\n",
      "Number of chances left:  0\n",
      "\n",
      "Try again after 24 hours\n"
     ]
    }
   ],
   "source": [
    "# Q10 d: similar to Q10 using case 4\n",
    "# Case-4: If all the chances you are used\n",
    "#    Try again after 24 hours\n",
    "import random\n",
    "start=0\n",
    "chances=4\n",
    "counter=0\n",
    "while start < chances:\n",
    "    num1=eval(input('Enter any random number for toss: '))\n",
    "    num2=random.randint(1,10)\n",
    "    if num1==num2:\n",
    "        print('You Won')\n",
    "        break\n",
    "    else:\n",
    "        print('You Fail')\n",
    "        counter=counter+1\n",
    "    start=start+1\n",
    "    print('Number of chances left: ', chances - start)\n",
    "if counter==4:\n",
    "    print('\\nTry again after 24 hours')"
   ]
  },
  {
   "cell_type": "code",
   "execution_count": 15,
   "id": "266e171a-24c2-484d-9231-9213ceb9e6ff",
   "metadata": {},
   "outputs": [
    {
     "name": "stdout",
     "output_type": "stream",
     "text": [
      "Number 39 is odd\n",
      "Number 17 is odd\n",
      "Number 75 is odd\n",
      "Number 68 is even\n",
      "Number 26 is even\n",
      "Total even No's are: 2 \n",
      "Total odd No's are: 3\n"
     ]
    }
   ],
   "source": [
    "# Q11: wap ask the user get 5 random numbers\n",
    "# Get it is an even number or odd number\n",
    "# also count how many even numbers are there\n",
    "# and  count how many odd numbers are there\n",
    "\n",
    "import random\n",
    "i=0\n",
    "e_count=0\n",
    "o_count=0\n",
    "while i < 5:\n",
    "    num = random.randint(1,100)\n",
    "    if num%2==0:\n",
    "        print(f'Number {num} is even')\n",
    "        e_count=e_count+1\n",
    "    else:\n",
    "        print(f'Number {num} is odd')\n",
    "        o_count=o_count+1\n",
    "    i=i+1\n",
    "print(f'Total even No\\'s are: {e_count} \\nTotal odd No\\'s are: {o_count}')\n"
   ]
  },
  {
   "cell_type": "code",
   "execution_count": 16,
   "id": "27ce6873-8429-420e-9263-fcddb08493d6",
   "metadata": {},
   "outputs": [
    {
     "name": "stdout",
     "output_type": "stream",
     "text": [
      "Number 47 is odd\n",
      "Number 34 is even\n",
      "Number 87 is odd\n",
      "Number 88 is even\n",
      "Number 45 is odd\n",
      "\n",
      "Total even No's are: 2 and sum is: 122\n",
      "Total odd No's are: 3 and sum is: 179\n"
     ]
    }
   ],
   "source": [
    "# Q12 wap ask the user get 5 random numbers\n",
    "# Get it is an even number or odd number\n",
    "# also count how many even numbers are there\n",
    "# and  count how many odd numbers are there\n",
    "# I want summ even numbers\n",
    "# I want summ odd numbers\n",
    "import random\n",
    "i=0\n",
    "ecount=0\n",
    "ocount=0\n",
    "esum=0\n",
    "osum=0\n",
    "while i < 5:\n",
    "    num = random.randint(1,100)\n",
    "    if num%2==0:\n",
    "        print(f'Number {num} is even')\n",
    "        ecount=ecount+1\n",
    "        esum=esum+num\n",
    "    else:\n",
    "        print(f'Number {num} is odd')\n",
    "        ocount=ocount+1\n",
    "        osum=osum+num\n",
    "    i=i+1\n",
    "print(f'\\nTotal even No\\'s are: {ecount} and sum is: {esum}\\nTotal odd No\\'s are: {o_count} and sum is: {osum}')"
   ]
  },
  {
   "cell_type": "code",
   "execution_count": null,
   "id": "c85da580-b8cb-4f73-a68d-4e28cd34f752",
   "metadata": {},
   "outputs": [],
   "source": []
  }
 ],
 "metadata": {
  "kernelspec": {
   "display_name": "Python 3 (ipykernel)",
   "language": "python",
   "name": "python3"
  },
  "language_info": {
   "codemirror_mode": {
    "name": "ipython",
    "version": 3
   },
   "file_extension": ".py",
   "mimetype": "text/x-python",
   "name": "python",
   "nbconvert_exporter": "python",
   "pygments_lexer": "ipython3",
   "version": "3.11.7"
  }
 },
 "nbformat": 4,
 "nbformat_minor": 5
}
