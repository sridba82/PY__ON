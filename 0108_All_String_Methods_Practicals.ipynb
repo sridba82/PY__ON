{
 "cells": [
  {
   "cell_type": "markdown",
   "id": "6ff17f9e-42d4-45d4-8546-b29ca34f312b",
   "metadata": {},
   "source": [
    "## <ins>String Methods</ins>"
   ]
  },
  {
   "cell_type": "code",
   "execution_count": 1,
   "id": "b0ba10f5-8818-4370-9de2-d6406b924dcc",
   "metadata": {},
   "outputs": [
    {
     "name": "stdout",
     "output_type": "stream",
     "text": [
      "1 : capitalize()\n",
      "2 : casefold()\n",
      "3 : center()\n",
      "4 : count()\n",
      "5 : encode()\n",
      "6 : endswith()\n",
      "7 : expandtabs()\n",
      "8 : find()\n",
      "9 : format()\n",
      "10 : format_map()\n",
      "11 : index()\n",
      "12 : isalnum()\n",
      "13 : isalpha()\n",
      "14 : isascii()\n",
      "15 : isdecimal()\n",
      "16 : isdigit()\n",
      "17 : isidentifier()\n",
      "18 : islower()\n",
      "19 : isnumeric()\n",
      "20 : isprintable()\n",
      "21 : isspace()\n",
      "22 : istitle()\n",
      "23 : isupper()\n",
      "24 : join()\n",
      "25 : ljust()\n",
      "26 : lower()\n",
      "27 : lstrip()\n",
      "28 : maketrans()\n",
      "29 : partition()\n",
      "30 : removeprefix()\n",
      "31 : removesuffix()\n",
      "32 : replace()\n",
      "33 : rfind()\n",
      "34 : rindex()\n",
      "35 : rjust()\n",
      "36 : rpartition()\n",
      "37 : rsplit()\n",
      "38 : rstrip()\n",
      "39 : split()\n",
      "40 : splitlines()\n",
      "41 : startswith()\n",
      "42 : strip()\n",
      "43 : swapcase()\n",
      "44 : title()\n",
      "45 : translate()\n",
      "46 : upper()\n",
      "47 : zfill()\n"
     ]
    }
   ],
   "source": [
    "for st in range(len(dir(''))):\n",
    "    if dir('')[st][0:2] != '__':\n",
    "        print(st-33, ':', dir('')[st],end='')\n",
    "        print('()')"
   ]
  },
  {
   "cell_type": "markdown",
   "id": "271ca336-2f93-4554-aec5-fd179afc4d1c",
   "metadata": {},
   "source": [
    "## <ins>String Methods</ins>\n",
    "1. capitalize()\n",
    "2. casefold()\n",
    "3. center()\n",
    "4. count()"
   ]
  },
  {
   "cell_type": "markdown",
   "id": "946dbd4f-8597-4f7a-93f7-6fa4b025bfc1",
   "metadata": {},
   "source": [
    "<ins>**1. capitalize()**</ins>"
   ]
  },
  {
   "cell_type": "code",
   "execution_count": 2,
   "id": "c4822372-b1bc-4111-b35a-7892756c9a78",
   "metadata": {},
   "outputs": [
    {
     "data": {
      "text/plain": [
       "'Working on string'"
      ]
     },
     "execution_count": 2,
     "metadata": {},
     "output_type": "execute_result"
    }
   ],
   "source": [
    "# 1. capitalize(): First word first char capital\n",
    "string0 = ('working on string')\n",
    "str_cap=string0.capitalize()\n",
    "str_cap"
   ]
  },
  {
   "cell_type": "markdown",
   "id": "ac6b147a-5259-499b-a235-9172cb45fb41",
   "metadata": {},
   "source": [
    "<ins>**2. casefold()**</ins>"
   ]
  },
  {
   "cell_type": "code",
   "execution_count": 3,
   "id": "415e6b48-9b6c-440d-b681-25128417937e",
   "metadata": {},
   "outputs": [
    {
     "data": {
      "text/plain": [
       "'working on string'"
      ]
     },
     "execution_count": 3,
     "metadata": {},
     "output_type": "execute_result"
    }
   ],
   "source": [
    "# 2. casefold(): All string in lowercase\n",
    "string0_1 = ('WOrking on STring')\n",
    "str_cf=string0_1.casefold()\n",
    "str_cf"
   ]
  },
  {
   "cell_type": "markdown",
   "id": "7145c79f-57b8-42b2-b859-57ae267bd995",
   "metadata": {},
   "source": [
    "<ins>**3. center()**</ins>"
   ]
  },
  {
   "cell_type": "code",
   "execution_count": 4,
   "id": "ee6e8284-4548-4149-a01e-084804828b8a",
   "metadata": {},
   "outputs": [
    {
     "data": {
      "text/plain": [
       "'************Working on string************'"
      ]
     },
     "execution_count": 4,
     "metadata": {},
     "output_type": "execute_result"
    }
   ],
   "source": [
    "# 3. center: display string in center of left, right padding\n",
    "string0_2 = ('Working on string')\n",
    "str_cen=string0_2.center(41, '*')\n",
    "str_cen"
   ]
  },
  {
   "cell_type": "markdown",
   "id": "cd5a7b2a-d18f-4735-8f94-833224bb14ca",
   "metadata": {},
   "source": [
    "<ins>**4. count()**</ins>"
   ]
  },
  {
   "cell_type": "code",
   "execution_count": 5,
   "id": "7480b0bc-5f44-4b9e-b3eb-214584daef77",
   "metadata": {},
   "outputs": [
    {
     "data": {
      "text/plain": [
       "6"
      ]
     },
     "execution_count": 5,
     "metadata": {},
     "output_type": "execute_result"
    }
   ],
   "source": [
    "# 4. count(): counts total No.of the char supplied in the method\n",
    "string0_3 = ('*** Working on string ***')\n",
    "str_cnt=string0_3.count('*')\n",
    "str_cnt"
   ]
  },
  {
   "cell_type": "markdown",
   "id": "c4eb6573-369f-42c1-b2c1-5c11b24ede26",
   "metadata": {},
   "source": [
    "## <ins>String Methods</ins>\n",
    "5. encode()\n",
    "6. endswith()\n",
    "7. expandtabs()"
   ]
  },
  {
   "cell_type": "markdown",
   "id": "9d4feb73-7411-4049-90c1-479084a85930",
   "metadata": {},
   "source": [
    "<ins>**5. encode()**</ins>"
   ]
  },
  {
   "cell_type": "code",
   "execution_count": 6,
   "id": "d80f305c-8503-4a59-94e1-797194353958",
   "metadata": {},
   "outputs": [
    {
     "name": "stdout",
     "output_type": "stream",
     "text": [
      "b'My name is St\\\\xe5le and mobile No: 6\\\\xc2918\\\\xc2417\\\\xc2712'\n",
      "b'My name is Stle and mobile No: 6918417712'\n",
      "b'My name is St\\\\N{LATIN SMALL LETTER A WITH RING ABOVE}le and mobile No: 6\\\\N{LATIN CAPITAL LETTER A WITH CIRCUMFLEX}918\\\\N{LATIN CAPITAL LETTER A WITH CIRCUMFLEX}417\\\\N{LATIN CAPITAL LETTER A WITH CIRCUMFLEX}712'\n",
      "b'My name is St?le and mobile No: 6?918?417?712'\n",
      "b'My name is St&#229;le and mobile No: 6&#194;918&#194;417&#194;712'\n"
     ]
    }
   ],
   "source": [
    "# 5. encode(): if string having special characters, \n",
    "# encoding in different ways to skip special characters and to use Default UTF-8 characterset.\n",
    "# encode is useful for cleaning special characters in a string.\n",
    "txt = \"My name is Ståle and mobile No: 6Â918Â417Â712\"\n",
    "\n",
    "print(txt.encode(encoding=\"ascii\",errors=\"backslashreplace\")) # uses a backslash instead of the character that could not be encoded\n",
    "print(txt.encode(encoding=\"ascii\",errors=\"ignore\"))           # ignores the characters that cannot be encoded\n",
    "print(txt.encode(encoding=\"ascii\",errors=\"namereplace\"))      # replaces the character with a text explaining the character\n",
    "print(txt.encode(encoding=\"ascii\",errors=\"replace\"))          # replaces the character with a questionmark\n",
    "print(txt.encode(encoding=\"ascii\",errors=\"xmlcharrefreplace\")) # replaces the character with an xml character"
   ]
  },
  {
   "cell_type": "code",
   "execution_count": 7,
   "id": "20e7d4a6-753f-4947-9bf5-c2440b8e549d",
   "metadata": {},
   "outputs": [
    {
     "name": "stdout",
     "output_type": "stream",
     "text": [
      "Encoded:  b'My name is Stle and mobile No: 6918417712'\n",
      "Decoded:  My name is Stle and mobile No: 6918417712\n"
     ]
    }
   ],
   "source": [
    "# decode(): after encode (cleaning) the above string need to decode (UTF-8) as normal text\n",
    "# choosing any one of the encoded above to decode\n",
    "encoded_txt=txt.encode(encoding=\"ascii\",errors=\"ignore\")\n",
    "print('Encoded: ', encoded_txt)\n",
    "print('Decoded: ',encoded_txt.decode())"
   ]
  },
  {
   "cell_type": "markdown",
   "id": "e2debb61-a6f7-4787-abe5-c759eec57d44",
   "metadata": {},
   "source": [
    "<ins>**6. endswith()**</ins>"
   ]
  },
  {
   "cell_type": "code",
   "execution_count": 8,
   "id": "ddd5f2b3-64a7-4297-bb89-375ca6577513",
   "metadata": {},
   "outputs": [
    {
     "data": {
      "text/plain": [
       "(True, True)"
      ]
     },
     "execution_count": 8,
     "metadata": {},
     "output_type": "execute_result"
    }
   ],
   "source": [
    "# 6. endswith(): the suffix string matches with searched text then True alse false. default search from right of the string (-1)\n",
    "string0_4 = ('WOrking on STring')\n",
    "string0_4.endswith('ing', 4, 7), string0_4.endswith('ing')"
   ]
  },
  {
   "cell_type": "markdown",
   "id": "39082a4c-722b-4f00-9a96-03f6999de211",
   "metadata": {},
   "source": [
    "<ins>**7. expandtabs()**</ins>"
   ]
  },
  {
   "cell_type": "code",
   "execution_count": 9,
   "id": "53029702-b83d-4bed-8d81-5b1ac84eb3d0",
   "metadata": {},
   "outputs": [
    {
     "name": "stdout",
     "output_type": "stream",
     "text": [
      "  Work  ing on  str ing\n",
      "    Work    ing on  str ing\n",
      "      Work  ing on      str   ing\n",
      "        Work    ing on  str     ing\n",
      "        Work    ing on  str     ing\n",
      "          Work      ing on    str       ing\n"
     ]
    }
   ],
   "source": [
    "# 7. expandtabs(): default tab spaces 8, overriding with values to decrease or increase tab spaces.\n",
    "string0_5 = ('\\tWork\\ting on \\tstr\\ting')\n",
    "print(string0_5.expandtabs(2))\n",
    "print(string0_5.expandtabs(4))\n",
    "print(string0_5.expandtabs(6))\n",
    "print(string0_5.expandtabs())\n",
    "print(string0_5.expandtabs(8))\n",
    "print(string0_5.expandtabs(10))"
   ]
  },
  {
   "cell_type": "markdown",
   "id": "46ab1a69-4fbf-4646-8a4c-b839456ee6f2",
   "metadata": {},
   "source": [
    "## <ins>String Methods</ins>\n",
    "8. find()\n",
    "9. format()\n",
    "10. format_map()"
   ]
  },
  {
   "cell_type": "markdown",
   "id": "2b202790-8b88-4c29-8242-952587f169c1",
   "metadata": {},
   "source": [
    "<ins>**8. find()**</ins>"
   ]
  },
  {
   "cell_type": "code",
   "execution_count": 10,
   "id": "35738c65-a257-4fd1-959f-abf2a3d2ac3a",
   "metadata": {},
   "outputs": [
    {
     "data": {
      "text/plain": [
       "(4, 14, -1)"
      ]
     },
     "execution_count": 10,
     "metadata": {},
     "output_type": "execute_result"
    }
   ],
   "source": [
    "# 8. find(): finds specific text or word, searches from default 0 location, or can specify start and end location, \n",
    "# similar to index() but in find, if search text is not found then it wont raise error, prints -1\n",
    "string0_6 = ('Working on String')\n",
    "string0_6.find('ing'), string0_6.find('ing', 5, len(string0_6)), string0_6.find('the', 5, len(string0_6))"
   ]
  },
  {
   "cell_type": "markdown",
   "id": "9e91aaa8-0714-4234-bb40-c32d81ea0c99",
   "metadata": {},
   "source": [
    "<ins>**9. format()**</ins>"
   ]
  },
  {
   "cell_type": "code",
   "execution_count": 11,
   "id": "f4afc677-03b9-47b2-9fb6-93219ff7f708",
   "metadata": {},
   "outputs": [
    {
     "name": "stdout",
     "output_type": "stream",
     "text": [
      "I am Shree, I'm 32\n",
      "I am Shree, I'm 32\n",
      "I am Shree, I'm 32\n",
      "\n",
      "I have 8        rupees.\n",
      "I have        8 rupees.\n",
      "I have    49    rupees.\n",
      "I have -      5 rupees.\n",
      "The temperature is between -5 and +10 degrees celsius.\n",
      "The temperature is between -20 and  30 degrees celsius.\n",
      "The universe is 13,800,000,000 years old.\n",
      "The universe is 13_800_000_000 years old.\n",
      "The binary version of 5 is 101\n",
      "The unicode of 5 is \u0005\n",
      "The binary '0b101' to decimal is 5\n",
      "The scientific number with lower 'e' is 5.000000e+00\n",
      "The scientific number with upper 'E' is 5.000000E+00\n",
      "The price is 5.00 dollars and 11.000000 dollers.\n",
      "The price is 5.206e+30 dollars and 1.1e+09 dollers.\n",
      "The price is 5.206E+30 dollars and 1.1E+09 dollers.\n",
      "The octal version of 20 is 24\n",
      "The Hexadecimal version of 255 is ff\n",
      "The Hexadecimal version of 255 is FF\n",
      "You scored with zeros percent: 25.000000% and You scored without zeros percent: 25%\n"
     ]
    }
   ],
   "source": [
    "# 9. format()\n",
    "str0_6_1 = \"I am {fname}, I'm {age}\".format(fname = 'Shree', age = 32)  \n",
    "print(str0_6_1)\n",
    "\n",
    "str0_6_2= \"I am {0}, I'm {1}\".format('Shree',32)\n",
    "print(str0_6_2)\n",
    "\n",
    "str0_6_3= \"I am {}, I'm {}\".format('Shree',32)\n",
    "print(str0_6_3)\n",
    "\n",
    "str0_6_4 = \"\\nI have {:<8} rupees.\".format(8)  # format text towards Left alignment adding 8 spaces at right\n",
    "print(str0_6_4)\n",
    "str0_6_5 = \"I have {:>8} rupees.\".format(8)  # format text towards Right alignment adding 8 spaces at left\n",
    "print(str0_6_5)\n",
    "\n",
    "str0_6_6 = \"I have {:^8} rupees.\".format(49) # format text centre alignment\n",
    "print(str0_6_6)\n",
    "\n",
    "str0_6_7 = \"I have {:=8} rupees.\".format(-5) # format text of prefix(-/+) towards left and value at right side\n",
    "print(str0_6_7)\n",
    "\n",
    "str0_6_8 = \"The temperature is between {:+} and {:+} degrees celsius.\".format(-5, +10) # format text of prefix(-/+) adding\n",
    "print(str0_6_8)\n",
    "str0_6_9 = \"The temperature is between {: } and {: } degrees celsius.\".format(-20, +30) # format text of prefix(+) adding single space\n",
    "print(str0_6_9)\n",
    "\n",
    "str0_6_10 = \"The universe is {:,} years old.\".format(13800000000) # format text thousand separator with , comma\n",
    "print(str0_6_10)\n",
    "\n",
    "str0_6_11 = \"The universe is {:_} years old.\".format(13800000000) # format text thousand separator with _ underscore\n",
    "print(str0_6_11)\n",
    "\n",
    "str0_6_12 = \"The binary version of {0} is {0:b}\".format(5) # format text to print in binary format\n",
    "print(str0_6_12)\n",
    "\n",
    "str0_6_13 = \"The unicode of {0} is {0:c}\".format(5) # format text converts into unicode character\n",
    "print(str0_6_13)\n",
    "\n",
    "str0_6_14 = \"The binary '0b101' to decimal is {0:d}\".format(0b101) # binary number to decimal number\n",
    "print(str0_6_14)\n",
    "\n",
    "str0_6_15 = \"The scientific number with lower 'e' is {0:e}\".format(5) # scientific number lower 'e'\n",
    "print(str0_6_15)\n",
    "\n",
    "str0_6_16 = \"The scientific number with upper 'E' is {0:E}\".format(5) # binary number to decimal number\n",
    "print(str0_6_16)\n",
    "\n",
    "str0_6_17 = \"The price is {:.2f} dollars and {:f} dollers.\".format(5, 11) # floating point with two 0's and default with siz 0's\n",
    "print(str0_6_17)\n",
    "\n",
    "str0_6_18 = \"The price is {:g} dollars and {:g} dollers.\".format(5.2060e+30, 0.110e+10) # General format lower e\n",
    "print(str0_6_18)\n",
    "\n",
    "str0_6_19 = \"The price is {:G} dollars and {:G} dollers.\".format(5.2060e+30, 0.110e+10) # General format upper E\n",
    "print(str0_6_19)\n",
    "\n",
    "str0_6_20 = \"The octal version of {0} is {0:o}\".format(20) # Number into octal format\n",
    "print(str0_6_20)\n",
    "\n",
    "str0_6_21 = \"The Hexadecimal version of {0} is {0:x}\".format(255) # Number into lower hexadecimal\n",
    "print(str0_6_21)\n",
    "\n",
    "str0_6_22 = \"The Hexadecimal version of {0} is {0:X}\".format(255) # Number into Upper hexadecimal\n",
    "print(str0_6_22)\n",
    "\n",
    "str0_6_23 = \"You scored with zeros percent: {:%} and You scored without zeros percent: {:.0%}\".format(0.25, 0.25) # Number into %\n",
    "print(str0_6_23)"
   ]
  },
  {
   "cell_type": "markdown",
   "id": "c2543764-7d18-4b3c-b3a0-6a657e585dc9",
   "metadata": {},
   "source": [
    "<ins>**10. format_map()**</ins>"
   ]
  },
  {
   "cell_type": "code",
   "execution_count": 12,
   "id": "04b6e261-5ff7-4f24-b4a4-f31a2369b54f",
   "metadata": {},
   "outputs": [
    {
     "name": "stdout",
     "output_type": "stream",
     "text": [
      "(a+b)sq (c-d)sq\n"
     ]
    }
   ],
   "source": [
    "# 10. format_map \n",
    "dict = {'x':\"(a+b)sq\", 'y':'(c-d)sq'}   # dictionary set stored in variable dict.\n",
    "print('{x} {y}'.format_map(dict))       # using format_map() printing dict values using keys"
   ]
  },
  {
   "cell_type": "markdown",
   "id": "3d0e7219-a827-4716-b59e-ec86b6fc885e",
   "metadata": {},
   "source": [
    "## <ins>String Methods</ins>\n",
    "11. index()\n",
    "12. isalnum()\n",
    "13. isalpha()\n",
    "14. isascii()\n",
    "15. isdecimal()\n",
    "16. isdigit()\n",
    "17. isidentifier()"
   ]
  },
  {
   "cell_type": "markdown",
   "id": "2d9bc88f-5c21-4279-beb0-ba5a120ef9dc",
   "metadata": {},
   "source": [
    "<ins>**11. index()**</ins>"
   ]
  },
  {
   "cell_type": "code",
   "execution_count": 13,
   "id": "4a0bf45b-367d-4d11-8c84-d34ed8ea3a42",
   "metadata": {},
   "outputs": [
    {
     "data": {
      "text/plain": [
       "14"
      ]
     },
     "execution_count": 13,
     "metadata": {},
     "output_type": "execute_result"
    }
   ],
   "source": [
    "# 11. index, finding index value starts the word: on, if it is not availble then raise error\n",
    "string0_4 = ('WOrking on STring')\n",
    "string0_4.index('in',string0_4.index('in')+1)   # Finding 2nd 'in' index"
   ]
  },
  {
   "cell_type": "markdown",
   "id": "f80dfa36-6f92-4df5-a2be-61bc57c511d7",
   "metadata": {},
   "source": [
    "<ins>**12. isalnum()**</ins>"
   ]
  },
  {
   "cell_type": "code",
   "execution_count": 14,
   "id": "3084d74a-f0d8-4c92-a479-307ff68cfdda",
   "metadata": {},
   "outputs": [
    {
     "data": {
      "text/plain": [
       "(True, False, False, False, True, True)"
      ]
     },
     "execution_count": 14,
     "metadata": {},
     "output_type": "execute_result"
    }
   ],
   "source": [
    "# 12. isalnum: checks assigned value is combination of alphabets and numeric\n",
    "str4_1='23a'\n",
    "str4_5='BACabc'\n",
    "str4_2='a$'\n",
    "str4_3='_3b'\n",
    "str4_4='_&^'\n",
    "str4_6='99'\n",
    "str4_1.isalnum(), str4_2.isalnum(), str4_3.isalnum(), str4_4.isalnum(), str4_5.isalnum(), str4_6.isalnum()"
   ]
  },
  {
   "cell_type": "markdown",
   "id": "7f191607-d2b3-44f2-9ba2-5958f765828b",
   "metadata": {},
   "source": [
    "<ins>**13. isalpha()**</ins>"
   ]
  },
  {
   "cell_type": "code",
   "execution_count": 15,
   "id": "4700a676-0b01-4d69-823b-ad296ffa29e6",
   "metadata": {},
   "outputs": [
    {
     "data": {
      "text/plain": [
       "(False, False, False, False, True, False)"
      ]
     },
     "execution_count": 15,
     "metadata": {},
     "output_type": "execute_result"
    }
   ],
   "source": [
    "# 13. isalpha: checks assigned value is alphabets.\n",
    "str5_1='23a'\n",
    "str5_2='a$'\n",
    "str5_3='_3b'\n",
    "str5_4='_&^'\n",
    "str5_5='BACabc'\n",
    "str5_6='99'\n",
    "str5_1.isalpha(), str5_2.isalpha(), str5_3.isalpha(), str5_4.isalpha(), str5_5.isalpha(), str5_6.isalpha()"
   ]
  },
  {
   "cell_type": "markdown",
   "id": "b4530468-8560-4d63-aa62-d6a0e97024d6",
   "metadata": {},
   "source": [
    "<ins>**14. isascii()**</ins>"
   ]
  },
  {
   "cell_type": "code",
   "execution_count": 16,
   "id": "f2faa371-2651-4e8e-a949-fe2e61d4f928",
   "metadata": {},
   "outputs": [
    {
     "name": "stdout",
     "output_type": "stream",
     "text": [
      "6Â 918Â 417Â 712\n",
      "\n",
      "After fix:  6 918 417 712\n"
     ]
    },
    {
     "data": {
      "text/plain": [
       "(True, False, True, True, True, True, False)"
      ]
     },
     "execution_count": 16,
     "metadata": {},
     "output_type": "execute_result"
    }
   ],
   "source": [
    "# 14. isascii: checkes assigned values is ASCII or not.\n",
    "str5_1='23a'\n",
    "str5_2='\\xfe'\n",
    "str5_3='\\t'\n",
    "str5_4='_&^'\n",
    "str5_5='BACabc'\n",
    "str5_6='99'\n",
    "str5_7 = u\"6Â 918Â 417Â 712\"\n",
    "print(str5_7)\n",
    "str5_7_fix = str5_7.replace(u\"Â\", '')\n",
    "print('\\nAfter fix: ', str5_7_fix)\n",
    "str5_1.isascii(),str5_2.isascii(),str5_3.isascii(),str5_4.isascii(),str5_5.isascii(),str5_6.isascii(),str5_7.isascii()"
   ]
  },
  {
   "cell_type": "markdown",
   "id": "027eace3-aa82-498a-9ed5-57a3f893048b",
   "metadata": {},
   "source": [
    "<ins>**15. isdecimal()**</ins>"
   ]
  },
  {
   "cell_type": "code",
   "execution_count": 17,
   "id": "23d8cece-34db-4b51-93dc-3bf44031d1e9",
   "metadata": {},
   "outputs": [
    {
     "data": {
      "text/plain": [
       "(True, True, False, False, False, False)"
      ]
     },
     "execution_count": 17,
     "metadata": {},
     "output_type": "execute_result"
    }
   ],
   "source": [
    "# 15. isdecimal: \n",
    "str6_1='1234'\n",
    "str6_2=\"\\u0030\"        #unicode for 0\n",
    "str6_3='\\t'\n",
    "str6_4=\"\\u0047\"        #unicode for G\n",
    "str6_5='.007'\n",
    "str6_6='9.9'\n",
    "str6_1.isdecimal(), str6_2.isdecimal(), str6_3.isdecimal(), str6_4.isdecimal(), str6_5.isdecimal(), str6_6.isdecimal()"
   ]
  },
  {
   "cell_type": "markdown",
   "id": "f199b43c-53f9-4347-b353-25af423da071",
   "metadata": {},
   "source": [
    "<ins>**16. isdigit()**</ins>"
   ]
  },
  {
   "cell_type": "code",
   "execution_count": 18,
   "id": "6feabd33-a752-4c70-a22f-f9f3287d429e",
   "metadata": {},
   "outputs": [
    {
     "data": {
      "text/plain": [
       "(False, False, False, False, False, True)"
      ]
     },
     "execution_count": 18,
     "metadata": {},
     "output_type": "execute_result"
    }
   ],
   "source": [
    "# 16. isdigit: \n",
    "str6_1='23a'\n",
    "str6_2='a$'\n",
    "str6_3='\\t'\n",
    "str6_4='_&^'\n",
    "str6_5='BACabc'\n",
    "str6_6='99'\n",
    "str6_1.isdigit(), str6_2.isdigit(), str6_3.isdigit(), str6_4.isdigit(), str6_5.isdigit(), str6_6.isdigit()"
   ]
  },
  {
   "cell_type": "markdown",
   "id": "a94972e9-737b-4d69-a339-9f61e09a8b6b",
   "metadata": {},
   "source": [
    "<ins>**17. isidentifier()**</ins>"
   ]
  },
  {
   "cell_type": "code",
   "execution_count": 19,
   "id": "eabad405-32f8-4836-b4b4-2cb4535adc7d",
   "metadata": {},
   "outputs": [
    {
     "data": {
      "text/plain": [
       "(False, True, True, True, False, False)"
      ]
     },
     "execution_count": 19,
     "metadata": {},
     "output_type": "execute_result"
    }
   ],
   "source": [
    "# 17. isidentifier: \n",
    "str3_1='23a'\n",
    "str3_2='a23'\n",
    "str3_3='_'\n",
    "str3_4='_a'\n",
    "str3_5='$a'\n",
    "str3_6='99'\n",
    "str3_1.isidentifier(), str3_2.isidentifier(), str3_3.isidentifier(), str3_4.isidentifier(), str3_5.isidentifier(), str3_6.isidentifier()"
   ]
  },
  {
   "cell_type": "markdown",
   "id": "f1f4d0e3-ca17-4174-9d5c-363554927026",
   "metadata": {},
   "source": [
    "## <ins>String Methods</ins>\n",
    "18. islower\n",
    "19. isnumeric\n",
    "20. isprintable\n",
    "21. isspace\n",
    "22. istitle\n",
    "23. isupper"
   ]
  },
  {
   "cell_type": "markdown",
   "id": "757b8d7c-681e-4747-b794-21cc81e8b99d",
   "metadata": {},
   "source": [
    "<ins>**21. isspace()**</ins>"
   ]
  },
  {
   "cell_type": "code",
   "execution_count": 20,
   "id": "ba96b364-e97f-4407-9766-c01693ce74d6",
   "metadata": {},
   "outputs": [
    {
     "data": {
      "text/plain": [
       "(False, True)"
      ]
     },
     "execution_count": 20,
     "metadata": {},
     "output_type": "execute_result"
    }
   ],
   "source": [
    "# 21. isspace:\n",
    "str2_1=''\n",
    "str2_2=' '\n",
    "str2_1.isspace(), str2_2.isspace()"
   ]
  },
  {
   "cell_type": "markdown",
   "id": "d388a5bd-c234-49e0-bd9a-da40e3e5602d",
   "metadata": {},
   "source": [
    "<ins>**23. isupper()**</ins>"
   ]
  },
  {
   "cell_type": "code",
   "execution_count": 21,
   "id": "3be1e9d0-9955-4584-8a2e-3b61f841d3e2",
   "metadata": {},
   "outputs": [
    {
     "data": {
      "text/plain": [
       "(False, True)"
      ]
     },
     "execution_count": 21,
     "metadata": {},
     "output_type": "execute_result"
    }
   ],
   "source": [
    "# 23. isupper:\n",
    "txt11_1 = \"Mango\"\n",
    "txt11_2 = \"BANANA\"\n",
    "txt11_1.isupper(), txt11_2.isupper()"
   ]
  },
  {
   "cell_type": "markdown",
   "id": "d9d17287-9482-48ed-b8b6-bf87bc13208b",
   "metadata": {},
   "source": [
    "## <ins>String Methods</ins>\n",
    "24. join\n",
    "25. ljust\n",
    "26. lower\n",
    "27. lstrip\n",
    "28. maketrans\n",
    "29. partition"
   ]
  },
  {
   "cell_type": "markdown",
   "id": "850d1b9c-e41c-4371-af11-1c43251df955",
   "metadata": {},
   "source": [
    "<ins>**24. join()**</ins>"
   ]
  },
  {
   "cell_type": "code",
   "execution_count": 22,
   "id": "3668d11d-47cf-4a58-a065-15e814af17d9",
   "metadata": {},
   "outputs": [
    {
     "name": "stdout",
     "output_type": "stream",
     "text": [
      "w/o/r/k/i/n/g/ /o/n/ /s/t/r/i/n/g\n",
      "Hi Sri! /\\ Hi Nit\n"
     ]
    }
   ],
   "source": [
    "# 24. join: \n",
    "str1='working on string'\n",
    "txt_lst = ['Hi Sri!', 'Hi Nit']\n",
    "txt_ls_j = ' /\\ '.join(txt_lst)   # Join the specified text in the '' with the list of items\n",
    "str_j = '/'.join(str1)            # Join the specified text in the '' with the each char in the string\n",
    "print(str_j)\n",
    "print(txt_ls_j)"
   ]
  },
  {
   "cell_type": "markdown",
   "id": "3dabf860-cc9d-4200-9e34-3d5caa35a1c9",
   "metadata": {},
   "source": [
    "<ins>**25. ljust()**</ins>"
   ]
  },
  {
   "cell_type": "code",
   "execution_count": 23,
   "id": "c0bd3d39-b580-40a0-a892-e015bff90a02",
   "metadata": {},
   "outputs": [
    {
     "name": "stdout",
     "output_type": "stream",
     "text": [
      "Mango^^^^^\n"
     ]
    }
   ],
   "source": [
    "# 25. ljust:\n",
    "txt11 = \"Mango\"\n",
    "x = txt11.ljust(10, '^')      # Text left justify and after padding starts, str length + padding value must be given.\n",
    "print(x)"
   ]
  },
  {
   "cell_type": "markdown",
   "id": "22a5a911-1d2b-43de-ba8a-f3c11fdd2ec0",
   "metadata": {},
   "source": [
    "<ins>**28. maketrans()**</ins>"
   ]
  },
  {
   "cell_type": "code",
   "execution_count": 24,
   "id": "bdbec31d-fd93-47af-85ad-d57160deb13e",
   "metadata": {},
   "outputs": [
    {
     "name": "stdout",
     "output_type": "stream",
     "text": [
      "{83: 78, 114: 105, 105: 116}\n",
      "\n",
      "\n",
      "Ht Nit!\n"
     ]
    }
   ],
   "source": [
    "# 28. maketrans:\n",
    "txt = \"Hi Sri!\"\n",
    "x = \"Sri\"    # Replace old string\n",
    "y = \"Nit\"    # with new string, must have same length (old and new)\n",
    "mytable = str.maketrans(x, y) # preparing ASCI dictionary x as keys and y as values, S replace with N, r with i and i with t\n",
    "print(mytable)         # prepared dictionary table\n",
    "print('\\n')\n",
    "print(txt.translate(mytable))  # Translating ASCII to char and replacing old with new string "
   ]
  },
  {
   "cell_type": "markdown",
   "id": "d3cf237f-fde2-405b-9bfe-3baecd317334",
   "metadata": {},
   "source": [
    "<ins>**29. partition()**</ins>"
   ]
  },
  {
   "cell_type": "code",
   "execution_count": 25,
   "id": "8a7403c3-1053-490a-a8f6-e30777558213",
   "metadata": {},
   "outputs": [
    {
     "data": {
      "text/plain": [
       "('working', ' on ', 'string')"
      ]
     },
     "execution_count": 25,
     "metadata": {},
     "output_type": "execute_result"
    }
   ],
   "source": [
    "# 29. partition:\n",
    "string9='working on string'\n",
    "part_str=string9.partition(' on ') # string partitioned into tuple of 3 items including separator = 'on' \n",
    "part_str"
   ]
  },
  {
   "cell_type": "markdown",
   "id": "a04452bd-f925-4904-8bbf-a80049dd4073",
   "metadata": {},
   "source": [
    "## <ins>String Methods</ins>\n",
    "30. removeprefix\n",
    "31. removesuffix\n",
    "32. replace\n",
    "33. rfind,\n",
    "34. rindex\n",
    "35. rjust\n",
    "36. rpartition\n",
    "37. rsplit\n",
    "38. rstrip\n",
    "    \n",
    "<ins>**30. removeprefix**</ins>"
   ]
  },
  {
   "cell_type": "code",
   "execution_count": 26,
   "id": "07ef033f-d5b0-40f2-99dd-e6f42768ddc5",
   "metadata": {},
   "outputs": [
    {
     "data": {
      "text/plain": [
       "('working on str', ['work', 'on', 'str'])"
      ]
     },
     "execution_count": 26,
     "metadata": {},
     "output_type": "execute_result"
    }
   ],
   "source": [
    "# 30. removesuffix:\n",
    "string8='working on string'\n",
    "r_suff_str = string8.removesuffix('ing')     # remove ending the line 'ing' in string if exist, similarly opposite to it: removeprefix\n",
    "r_suff_lis = string8.split()\n",
    "r_sol_suff = [suff.removesuffix('ing') for suff in r_suff_lis] # remove ending the word 'ing' in list if exist, similarly opposite to it: removeprefix\n",
    "r_suff_str, r_sol_suff"
   ]
  },
  {
   "cell_type": "markdown",
   "id": "70d8f8ce-71e3-4c3d-a36a-90f0e847c8df",
   "metadata": {},
   "source": [
    "<ins>**32. replace**</ins>"
   ]
  },
  {
   "cell_type": "code",
   "execution_count": 27,
   "id": "d0d36e25-cb76-4d39-a779-48397b938964",
   "metadata": {},
   "outputs": [
    {
     "data": {
      "text/plain": [
       "'worked on stred in morned'"
      ]
     },
     "execution_count": 27,
     "metadata": {},
     "output_type": "execute_result"
    }
   ],
   "source": [
    "# 32. replace:\n",
    "string8='working on string in morning'\n",
    "rep_str=string8.replace('ing','ed')\n",
    "rep_str"
   ]
  },
  {
   "cell_type": "markdown",
   "id": "27a1b7ec-d64d-4373-ac26-a98f3e333c40",
   "metadata": {},
   "source": [
    "## <ins>String Methods</ins>\n",
    "39. split\n",
    "39. splitlines\n",
    "40. startswith\n",
    "41. strip\n",
    "42. swapcase"
   ]
  },
  {
   "cell_type": "markdown",
   "id": "57b84297-b49f-4b5f-a8d2-6e4c3d5c8c99",
   "metadata": {},
   "source": [
    "<ins>**39. split**</ins>"
   ]
  },
  {
   "cell_type": "code",
   "execution_count": 28,
   "id": "42696f76-c483-407c-9b5e-aba5bd0d8be6",
   "metadata": {},
   "outputs": [
    {
     "data": {
      "text/plain": [
       "('working on string', ['working', 'on', 'string'])"
      ]
     },
     "execution_count": 28,
     "metadata": {},
     "output_type": "execute_result"
    }
   ],
   "source": [
    "# 39. split:\n",
    "string7=('working on string')\n",
    "spl=string7.split()   # converting strig into list\n",
    "string7, spl"
   ]
  },
  {
   "cell_type": "markdown",
   "id": "1a34ee1d-39ba-4218-8ff0-ff39b9e874f1",
   "metadata": {},
   "source": [
    "<ins>**40. splitlines**</ins>"
   ]
  },
  {
   "cell_type": "code",
   "execution_count": 29,
   "id": "95d461ac-47b1-4c6c-99f7-93734531ca64",
   "metadata": {},
   "outputs": [
    {
     "name": "stdout",
     "output_type": "stream",
     "text": [
      "['Data science is an interdisciplinary academic field that uses statistics', 'scientific computing, scientific methods, processes, scientific visualization']\n"
     ]
    }
   ],
   "source": [
    "# 40. splitlines:\n",
    "txtsl = \"\"\"Data science is an interdisciplinary academic field that uses statistics\n",
    "          scientific computing, scientific methods, processes, scientific visualization\"\"\"\n",
    "x = txtsl.splitlines()            # split the 2 line text into 2 length array list\n",
    "# print(x)\n",
    "clean=[]\n",
    "for i in x:\n",
    "    clean.append(i.strip())       # removing spaces in 2nd line\n",
    "print(clean)"
   ]
  },
  {
   "cell_type": "markdown",
   "id": "b198279e-235d-45fb-b2c3-181277ff8eea",
   "metadata": {},
   "source": [
    "<ins>**41. startswith**</ins>"
   ]
  },
  {
   "cell_type": "code",
   "execution_count": 30,
   "id": "39133a90-5b74-411f-94c7-cdbe8447cf75",
   "metadata": {},
   "outputs": [
    {
     "data": {
      "text/plain": [
       "True"
      ]
     },
     "execution_count": 30,
     "metadata": {},
     "output_type": "execute_result"
    }
   ],
   "source": [
    "# 41. startswith:\n",
    "string6=('working on string')\n",
    "string6.startswith('ing', 4)   # checking ing word starts from 4th char, if correct True, else False"
   ]
  },
  {
   "cell_type": "markdown",
   "id": "311a4705-a66d-4f03-9970-a6f417866b9b",
   "metadata": {},
   "source": [
    "<ins>**42. strip**</ins>"
   ]
  },
  {
   "cell_type": "code",
   "execution_count": 31,
   "id": "b4f4b75b-209d-4604-9636-6d8d5007a62d",
   "metadata": {},
   "outputs": [
    {
     "name": "stdout",
     "output_type": "stream",
     "text": [
      "Before strip:  Hi    Working on string   how are you ?\n",
      "After strip:  HiWorking on stringhow are you ?\n"
     ]
    }
   ],
   "source": [
    "# 42. strip:\n",
    "string5=('    Working on string   ')      # remove spaces on left and right side of the string using strip()\n",
    "left, right='Hi', 'how are you ?'\n",
    "print('Before strip: ', left + string5 + right)\n",
    "strip=string5.strip()                    # we have lstrip() and rstip(), to remove specific side spaces.\n",
    "print('After strip: ', left + strip + right)"
   ]
  },
  {
   "cell_type": "markdown",
   "id": "922aa064-e262-4aef-bca2-573de5a47e73",
   "metadata": {},
   "source": [
    "<ins>**43. swapcase**</ins>"
   ]
  },
  {
   "cell_type": "code",
   "execution_count": 32,
   "id": "62c16886-bcea-435c-a7fc-69eebcfb2941",
   "metadata": {},
   "outputs": [
    {
     "data": {
      "text/plain": [
       "'wORKING ON STRING'"
      ]
     },
     "execution_count": 32,
     "metadata": {},
     "output_type": "execute_result"
    }
   ],
   "source": [
    "# 43. swapcase:\n",
    "string4=('Working on string')      # swapping uper case to lower, lower to upper case each char\n",
    "string4.swapcase()"
   ]
  },
  {
   "cell_type": "markdown",
   "id": "d3535cd1-92b1-47d7-b281-a11d9e869567",
   "metadata": {},
   "source": [
    "## <ins>String Methods</ins>\n",
    "44. title\n",
    "44. translate\n",
    "45. upper\n",
    "46. zfill"
   ]
  },
  {
   "cell_type": "markdown",
   "id": "d49e9c3b-5e49-4e7d-81c3-bcfbf07ab03f",
   "metadata": {},
   "source": [
    "<ins>**44. title**</ins>"
   ]
  },
  {
   "cell_type": "code",
   "execution_count": 33,
   "id": "f2733544-a92d-406b-ae39-253cc774a52d",
   "metadata": {},
   "outputs": [
    {
     "data": {
      "text/plain": [
       "'Working On String'"
      ]
     },
     "execution_count": 33,
     "metadata": {},
     "output_type": "execute_result"
    }
   ],
   "source": [
    "# 44. title:\n",
    "string3=('Working on string')      # Similar to Init cap()\n",
    "string3.title()"
   ]
  },
  {
   "cell_type": "markdown",
   "id": "3a317be4-257e-4d00-9493-ade098ef49e8",
   "metadata": {},
   "source": [
    "<ins>**45. translate**</ins>"
   ]
  },
  {
   "cell_type": "code",
   "execution_count": 34,
   "id": "896a5c7b-fe04-4ae0-a697-0f857b27824b",
   "metadata": {},
   "outputs": [
    {
     "name": "stdout",
     "output_type": "stream",
     "text": [
      "Original string: Hello Kaka\n",
      "Modified string: Hello Mama\n"
     ]
    }
   ],
   "source": [
    "# 45. translate:\n",
    "mama_dict={107:109, 75:77}          # ASCII 107 = k, ASCII 109 = m, ASCII 75 = K, ASCII 77 = M\n",
    "string3=('Hello Kaka')\n",
    "print('Original string:', string3)\n",
    "res3=string3.translate(mama_dict)   # passing mama_dict to replace k with m\n",
    "print('Modified string:',res3)"
   ]
  },
  {
   "cell_type": "markdown",
   "id": "2a6159f8-4c25-41d2-b8ac-a64439a2c062",
   "metadata": {},
   "source": [
    "<ins>**46. upper**</ins>"
   ]
  },
  {
   "cell_type": "code",
   "execution_count": 35,
   "id": "9e401ede-ddc2-44aa-86ee-cdb74e978a8e",
   "metadata": {},
   "outputs": [
    {
     "name": "stdout",
     "output_type": "stream",
     "text": [
      "WORKING ON STRING\n"
     ]
    }
   ],
   "source": [
    "# 46. upper()\n",
    "string2=('Working on string')\n",
    "res2=string2.upper()                 # convert all characters into upper case\n",
    "print(res2)"
   ]
  },
  {
   "cell_type": "markdown",
   "id": "a0f24133-8458-41d9-8dcf-b92438f0a457",
   "metadata": {},
   "source": [
    "<ins>**47. zfill**</ins>"
   ]
  },
  {
   "cell_type": "code",
   "execution_count": 36,
   "id": "caffa17e-97d7-46d8-ab4f-f0e81899caaa",
   "metadata": {},
   "outputs": [
    {
     "name": "stdout",
     "output_type": "stream",
     "text": [
      "1. length of string: 17\n",
      "2. filling 0's to left of string after: 17\n",
      "i.e 20 - 17 is: 3 0's\n",
      "\n",
      "000Working on string\n"
     ]
    }
   ],
   "source": [
    "# 47. zfill:\n",
    "string1=('Working on string')\n",
    "fill=20\n",
    "len_str=len(string1)\n",
    "res=string1.zfill(fill)       # filling 0's on left of the string and size shoud be morethan the string length.\n",
    "print(f'1. length of string: {len_str}')\n",
    "print(f'2. filling 0\\'s to left of string after: {len_str}')\n",
    "print(f'i.e {fill} - {len_str} is: {fill-len_str} 0\\'s')\n",
    "print(f'\\n{res}') "
   ]
  },
  {
   "cell_type": "code",
   "execution_count": null,
   "id": "a6d3caa5-4050-4c56-884a-46365beaa5e6",
   "metadata": {},
   "outputs": [],
   "source": []
  }
 ],
 "metadata": {
  "kernelspec": {
   "display_name": "Python 3 (ipykernel)",
   "language": "python",
   "name": "python3"
  },
  "language_info": {
   "codemirror_mode": {
    "name": "ipython",
    "version": 3
   },
   "file_extension": ".py",
   "mimetype": "text/x-python",
   "name": "python",
   "nbconvert_exporter": "python",
   "pygments_lexer": "ipython3",
   "version": "3.11.7"
  }
 },
 "nbformat": 4,
 "nbformat_minor": 5
}
