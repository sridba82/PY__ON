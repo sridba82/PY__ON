{
 "cells": [
  {
   "cell_type": "markdown",
   "id": "b33d5b87-bff5-4320-a491-05d904a8f6af",
   "metadata": {},
   "source": [
    "## Assignment -2 "
   ]
  },
  {
   "cell_type": "code",
   "execution_count": 1,
   "id": "00af597d-d4a3-4724-899f-0469c02eea91",
   "metadata": {},
   "outputs": [
    {
     "name": "stdout",
     "output_type": "stream",
     "text": [
      "Father: Hey Baby!\n",
      "Daughter: Hello Dady\n",
      "Father: I heard your exams are over, what about result\n",
      "Daughter: Yes dad! Results are out.\n",
      "Father: What is the percentage?\n",
      "Daughter: I will give my subject wise marks, you tell me the percentage\n",
      "Father: Okay!\n",
      "First Language: 59\n",
      "Second language: 75\n",
      "Third language: 82\n",
      "Science: 79\n",
      "Maths: 97\n",
      "Daughter: Dad Now tell me how much percentage I got\n",
      "Father: Tell me the max marks of each subject\n",
      "Daughter: 100\n",
      "Total Percentage is: 78.4\n"
     ]
    }
   ],
   "source": [
    "# Program to print statement using time.sleep\n",
    "import time\n",
    "import random\n",
    "time.sleep(2)\n",
    "print('Father: Hey Baby!')\n",
    "time.sleep(2)\n",
    "print('Daughter: Hello Dady')\n",
    "time.sleep(2)\n",
    "print('Father: I heard your exams are over, what about result')\n",
    "time.sleep(2)\n",
    "print('Daughter: Yes dad! Results are out.')\n",
    "time.sleep(2)\n",
    "print('Father: What is the percentage?')\n",
    "time.sleep(2)\n",
    "print('Daughter: I will give my subject wise marks, you tell me the percentage')\n",
    "time.sleep(2)\n",
    "print('Father: Okay!')\n",
    "sub1=random.randint(50,100)\n",
    "print(f'First Language: {sub1}')\n",
    "sub2=random.randint(50,100) \n",
    "print(f'Second language: {sub2}')\n",
    "sub3=random.randint(50,100)   \n",
    "print(f'Third language: {sub3}')\n",
    "sub4=random.randint(50,100)      \n",
    "print(f'Science: {sub4}')\n",
    "sub5=random.randint(50,100)\n",
    "print(f'Maths: {sub5}')\n",
    "time.sleep(2)\n",
    "print('Daughter: Dad Now tell me how much percentage I got')\n",
    "time.sleep(2)\n",
    "print('Father: Tell me the max marks of each subject')\n",
    "time.sleep(2)\n",
    "print('Daughter: 100')\n",
    "max_marks = 5 * 100\n",
    "total_marks = sub1 + sub2 + sub3 + sub4 + sub5\n",
    "percentage = round((total_marks / max_marks * 100), 2)\n",
    "time.sleep(2)\n",
    "print(f'Total Percentage is: {percentage}')"
   ]
  },
  {
   "cell_type": "code",
   "execution_count": null,
   "id": "54cf7ae0-4e67-4edc-a54c-01a80242cb5a",
   "metadata": {},
   "outputs": [],
   "source": []
  }
 ],
 "metadata": {
  "kernelspec": {
   "display_name": "Python 3 (ipykernel)",
   "language": "python",
   "name": "python3"
  },
  "language_info": {
   "codemirror_mode": {
    "name": "ipython",
    "version": 3
   },
   "file_extension": ".py",
   "mimetype": "text/x-python",
   "name": "python",
   "nbconvert_exporter": "python",
   "pygments_lexer": "ipython3",
   "version": "3.11.7"
  }
 },
 "nbformat": 4,
 "nbformat_minor": 5
}
