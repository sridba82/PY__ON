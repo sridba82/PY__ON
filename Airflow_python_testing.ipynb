{
 "cells": [
  {
   "cell_type": "code",
   "execution_count": 3,
   "id": "f3ee6112-3bb2-4020-8e49-a5dddc6a05a5",
   "metadata": {},
   "outputs": [
    {
     "name": "stdout",
     "output_type": "stream",
     "text": [
      "idst_task_text\n"
     ]
    }
   ],
   "source": [
    "task_name =  'idst' + '_' + 'task_text'\n",
    "print(task_name)"
   ]
  },
  {
   "cell_type": "code",
   "execution_count": 1,
   "id": "0b041e15-23f3-4ad8-86eb-0c4eb7713fb7",
   "metadata": {},
   "outputs": [
    {
     "name": "stdout",
     "output_type": "stream",
     "text": [
      "I like apples\n"
     ]
    }
   ],
   "source": [
    "txt = \"I like bananas\"\n",
    "x = txt.replace(\"bananas\", \"apples\")\n",
    "print(x)"
   ]
  },
  {
   "cell_type": "code",
   "execution_count": 3,
   "id": "0123aae1-01d2-4870-8e58-5725082f377b",
   "metadata": {},
   "outputs": [
    {
     "name": "stdout",
     "output_type": "stream",
     "text": [
      "5\n",
      "10\n",
      "a <<  5120\n"
     ]
    }
   ],
   "source": [
    "a = 5\n",
    "b = 10\n",
    "# print bitwise left shift operator\n",
    "print(a)\n",
    "print(b)\n",
    "print(\"a << \", a << b)"
   ]
  },
  {
   "cell_type": "code",
   "execution_count": null,
   "id": "b5b0358e-59fd-4d40-ba80-38baff19c88c",
   "metadata": {},
   "outputs": [],
   "source": []
  }
 ],
 "metadata": {
  "kernelspec": {
   "display_name": "Python 3 (ipykernel)",
   "language": "python",
   "name": "python3"
  },
  "language_info": {
   "codemirror_mode": {
    "name": "ipython",
    "version": 3
   },
   "file_extension": ".py",
   "mimetype": "text/x-python",
   "name": "python",
   "nbconvert_exporter": "python",
   "pygments_lexer": "ipython3",
   "version": "3.11.7"
  }
 },
 "nbformat": 4,
 "nbformat_minor": 5
}
