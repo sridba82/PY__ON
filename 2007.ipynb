{
 "cells": [
  {
   "cell_type": "code",
   "execution_count": 1,
   "id": "491f7d03-5705-44f0-9bde-e592ffe4f8b6",
   "metadata": {},
   "outputs": [
    {
     "data": {
      "text/plain": [
       "'Hello Im Learning Python'"
      ]
     },
     "execution_count": 1,
     "metadata": {},
     "output_type": "execute_result"
    }
   ],
   "source": [
    "str1='hello im learning python'\n",
    "str1.title()"
   ]
  },
  {
   "cell_type": "code",
   "execution_count": 7,
   "id": "d2e8c90c-f749-4156-a437-4e64c09c3719",
   "metadata": {},
   "outputs": [
    {
     "data": {
      "text/plain": [
       "'Hello Im Learning Python'"
      ]
     },
     "execution_count": 7,
     "metadata": {},
     "output_type": "execute_result"
    }
   ],
   "source": [
    "str1='hello im learning python'\n",
    "words=str1.split()\n",
    "str3=[]\n",
    "for i in words:\n",
    "    str3.append(i.capitalize())\n",
    "' '.join(str3)"
   ]
  },
  {
   "cell_type": "code",
   "execution_count": null,
   "id": "595767b6-19c4-41be-8b16-d8d8db127439",
   "metadata": {},
   "outputs": [],
   "source": []
  }
 ],
 "metadata": {
  "kernelspec": {
   "display_name": "Python 3 (ipykernel)",
   "language": "python",
   "name": "python3"
  },
  "language_info": {
   "codemirror_mode": {
    "name": "ipython",
    "version": 3
   },
   "file_extension": ".py",
   "mimetype": "text/x-python",
   "name": "python",
   "nbconvert_exporter": "python",
   "pygments_lexer": "ipython3",
   "version": "3.11.7"
  }
 },
 "nbformat": 4,
 "nbformat_minor": 5
}
