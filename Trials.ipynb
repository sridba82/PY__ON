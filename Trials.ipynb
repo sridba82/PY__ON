{
 "cells": [
  {
   "cell_type": "code",
   "execution_count": null,
   "id": "aa4f1f17-820b-4dcb-9676-817251cd291b",
   "metadata": {},
   "outputs": [],
   "source": [
    "# import os module  \n",
    "import os \n",
    "   \n",
    "# Get the value of 'HOME' \n",
    "key = 'HOME'\n",
    "value = os.getenv(key) \n",
    "   \n",
    "# Print the value of 'HOME' \n",
    "# environment variable \n",
    "print(\"Value of 'HOME' environment variable :\", value)  \n",
    "   \n",
    "# Get the value of 'JAVA_HOME' \n",
    "# environment variable \n",
    "key = 'JAVA_HOME'\n",
    "value = os.getenv(key) \n",
    "   \n",
    "# Print the value of 'JAVA_HOME' \n",
    "# environment variable \n",
    "print(\"Value of 'JAVA_HOME' environment variable :\", value)"
   ]
  },
  {
   "cell_type": "code",
   "execution_count": null,
   "id": "1602636e-0a3d-48b6-a4cf-5ac60dfe0373",
   "metadata": {},
   "outputs": [],
   "source": [
    "# importing os module  \n",
    "import os \n",
    "   \n",
    "# Get the value of 'home' \n",
    "# environment variable \n",
    "key = 'home'\n",
    "# value = os.getenv(key, \"value does not exist\")  \n",
    "value =  os.environ.get('key')\n",
    "   \n",
    "# Print the value of 'home' \n",
    "# environment variable \n",
    "print(\"Value of 'home' environment variable :\", value)"
   ]
  },
  {
   "cell_type": "code",
   "execution_count": null,
   "id": "cc400935-4f89-4951-8826-993e19112e91",
   "metadata": {},
   "outputs": [],
   "source": [
    "# importing os module  \n",
    "import os, fnmatch\n",
    "__file__='/foo/bar/hello'   \n",
    "# print(os.getcwd())\n",
    "# print(sys.argv[0])\n",
    "print(os.path.dirname(os.path.realpath('__file__')))\n",
    "print(os.path.realpath('__file__'))\n",
    "print(os.path.basename(value))"
   ]
  },
  {
   "cell_type": "code",
   "execution_count": null,
   "id": "bfe062c0-2e09-4164-9b50-c8cfa762e797",
   "metadata": {},
   "outputs": [],
   "source": [
    "import time \n",
    "# from datetime import datetime \n",
    "x = time.gmtime()\n",
    "y = time.strftime(\"%Y%m%d%H%M%S\")\n",
    "iam = f'arn:aws:iam::{x}:role/{y}'\n",
    "print(iam)"
   ]
  },
  {
   "cell_type": "code",
   "execution_count": null,
   "id": "033c9a59-f972-40d0-a12f-84becbc4aadf",
   "metadata": {},
   "outputs": [],
   "source": [
    "# Create bytes object from byte literal.\n",
    "data = bytes(b\"abc\")\n",
    "for value in data:\n",
    "    print(value)\n",
    "\n",
    "print()\n",
    "\n",
    "# Create bytearray from byte literal.\n",
    "arr = bytearray(b\"abc\")\n",
    "for value in arr:\n",
    "    print(value)"
   ]
  },
  {
   "cell_type": "code",
   "execution_count": null,
   "id": "afe35c02-8c18-44db-be06-a9a0a299d991",
   "metadata": {},
   "outputs": [],
   "source": [
    "# Python program that uses slice, changes bytearray\n",
    "\n",
    "values = [5, 10, 15, 20]\n",
    "# arr = bytearray(values)\n",
    "\n",
    "# Assign first two elements to new list.\n",
    "values[0:2] = [100, 0, 0]\n",
    "\n",
    "# The array is now modified.\n",
    "for v in values: print(v)"
   ]
  },
  {
   "cell_type": "code",
   "execution_count": null,
   "id": "1fcdce7e-917f-4e27-ba60-0f5d38f440fe",
   "metadata": {},
   "outputs": [],
   "source": [
    "data = bytearray(1)\n",
    "\n",
    "for i in range(len(data)):\n",
    "    data[i] = 10 - i\n",
    "\n",
    "for b in data:\n",
    "    print(hex(b))"
   ]
  },
  {
   "cell_type": "code",
   "execution_count": null,
   "id": "10313c96-2787-4d9c-9369-018fb3feb1a5",
   "metadata": {},
   "outputs": [],
   "source": [
    "from os import strerror\n",
    "\n",
    "srcname = input(\"Source file name?: \")\n",
    "try:\n",
    "    src = open(srcname, 'rb')\n",
    "except IOError as e:\n",
    "    print(\"Cannot open source file: \", strerror(e.errno))\n",
    "    exit(e.errno)   \n",
    "dstname = input(\"Destination file name?: \")\n",
    "try:\n",
    "    dst = open(dstname, 'wb')\n",
    "except Exception as e:\n",
    "    print(\"Cannot create destination file: \", strerr(e.errno))\n",
    "    src.close()\n",
    "    exit(e.errno)   \n",
    "\n",
    "buffer = bytearray(65536)\n",
    "total  = 0\n",
    "try:\n",
    "    readin = src.readinto(buffer)\n",
    "    while readin > 0:\n",
    "        written = dst.write(buffer[:readin])\n",
    "        total += written\n",
    "        readin = src.readinto(buffer)\n",
    "except IOError as e:\n",
    "    print(\"Cannot create destination file: \", strerr(e.errno))\n",
    "    exit(e.errno)   \n",
    "\n",
    "print(total,'byte(s) succesfully written')\n",
    "src.close()\n",
    "dst.close()"
   ]
  },
  {
   "cell_type": "code",
   "execution_count": null,
   "id": "d4844baa-d425-43fe-a987-d882a5ec1bc1",
   "metadata": {},
   "outputs": [],
   "source": [
    "s = 'hello world'\n",
    "print(bytearray(s, encoding='utf-8'))\n",
    "bytearray(s, encoding='utf-8')[0]"
   ]
  },
  {
   "cell_type": "code",
   "execution_count": null,
   "id": "9b8b9bfa-7e60-4d3e-92d2-d3018de29eb5",
   "metadata": {},
   "outputs": [],
   "source": [
    "s = 'hello world'\n",
    "print(bytearray(b's'))\n",
    "bytearray(b's')[0]"
   ]
  },
  {
   "cell_type": "code",
   "execution_count": null,
   "id": "61054bb1-c638-4b60-a61f-e9cd7bdc8bfe",
   "metadata": {},
   "outputs": [],
   "source": [
    "str1='hello world'\n",
    "val=str1.encode()\n",
    "val2=val.decode('utf-8')\n",
    "print(val)\n",
    "print(val2)"
   ]
  },
  {
   "cell_type": "code",
   "execution_count": null,
   "id": "44cdd3b4-6062-44ed-8038-18b565bc38f3",
   "metadata": {},
   "outputs": [],
   "source": [
    "# Reading a file in binary mode\n",
    "file_path = r\"C:\\\\Users\\\\example.txt\"\n",
    "file_path2 = r\"C:\\Users\\example.txt\"\n",
    "file_path3 = \"C:\\\\Users\\\\example.txt\"\n",
    "# file_path4 = \"C:\\Users\\example.txt\"\n",
    "print(file_path)\n",
    "print(file_path2)\n",
    "print(file_path3)\n",
    "# print(file_path4)"
   ]
  },
  {
   "cell_type": "code",
   "execution_count": null,
   "id": "f9f5dbc4-8e7f-4e04-8e7b-0a6a8d6c62b4",
   "metadata": {},
   "outputs": [],
   "source": [
    "tuple1 = (10, 20, 30)\n",
    "tuple2 = (40, 50, 60)\n",
    "sum_tuple1 = sum(tuple1)\n",
    "sum_tuple2 = sum(tuple2)\n",
    "sum_tuple3 = sum_tuple1+sum_tuple2\n",
    "print(sum_tuple3)"
   ]
  },
  {
   "cell_type": "code",
   "execution_count": null,
   "id": "825605e1-8509-4511-8a94-8bebdeeffe17",
   "metadata": {},
   "outputs": [],
   "source": [
    "a = 5\n",
    "b = 2.5\n",
    "c = 'Hello'\n",
    "result = a * b\n",
    "print(c + str(result))"
   ]
  },
  {
   "cell_type": "code",
   "execution_count": null,
   "id": "6052de91-ef34-40bb-b547-7878b1046e7f",
   "metadata": {},
   "outputs": [],
   "source": [
    "n = [1,2,3,4,5]\n",
    "n.pop(2)\n"
   ]
  },
  {
   "cell_type": "markdown",
   "id": "4b8ecab1-6988-46c1-8681-a89f890bb7ca",
   "metadata": {},
   "source": [
    "\n",
    "## new_list = [expression for member in iterable]"
   ]
  },
  {
   "cell_type": "code",
   "execution_count": null,
   "id": "48ebec07-ab1c-4a5a-9b40-daa484319f6f",
   "metadata": {},
   "outputs": [],
   "source": [
    "# Regular expression: list of squares\n",
    "numbers_0 = [1, 2, 3, 4, 5]\n",
    "for num in numbers_0:     # member in iteration\n",
    "    print(num * num)      # expression"
   ]
  },
  {
   "cell_type": "code",
   "execution_count": null,
   "id": "d6b33127-b2eb-48e2-af56-79f64078cd81",
   "metadata": {},
   "outputs": [],
   "source": [
    "# list comprehension: list of squares\n",
    "numbers_1 = [1, 2, 3, 4, 5]\n",
    "squares = [num * num for num in numbers_1]\n",
    "print(squares)"
   ]
  },
  {
   "cell_type": "markdown",
   "id": "57ebed7f-2279-4279-8b54-dccf79c37569",
   "metadata": {},
   "source": [
    "\n",
    "## new_list = [expression for member in iterable if conditional]"
   ]
  },
  {
   "cell_type": "code",
   "execution_count": null,
   "id": "9b493a54-b0e4-4f84-8cc4-f7b66ebef325",
   "metadata": {},
   "outputs": [],
   "source": [
    "# Regular expression: list of even numbers\n",
    "list_0 = [1, 4, 9, 16, 25]\n",
    "for li in list_0:\n",
    "    if li%2==0:\n",
    "        print(li)"
   ]
  },
  {
   "cell_type": "code",
   "execution_count": null,
   "id": "8dc751d3-1da0-410a-98a2-2c663a66ed39",
   "metadata": {},
   "outputs": [],
   "source": [
    "# list comprehension: list of even numbers\n",
    "list_1 = [1, 4, 9, 16, 25]\n",
    "even_numbers = [li for li in list_1 if li % 2 == 0]\n",
    "print(even_numbers) "
   ]
  },
  {
   "cell_type": "code",
   "execution_count": null,
   "id": "1b29bd33-6dfe-4c00-be48-25ee7c4684b2",
   "metadata": {},
   "outputs": [],
   "source": [
    "# Regular expression: list of 7 table\n",
    "tables_7=[]\n",
    "for i in range(1, 11):\n",
    "    tables_7.append(f'{7} x {i} = {7*i}')\n",
    "print(tables_7)"
   ]
  },
  {
   "cell_type": "code",
   "execution_count": null,
   "id": "bbad863a-5d03-4197-8539-4b6dab2e16d0",
   "metadata": {},
   "outputs": [],
   "source": [
    "# list comprehension: list of 7 table\n",
    "table_7=[f'{7} x {i} = {7*i}' for i in range(1, 11)]\n",
    "print(table_7)"
   ]
  },
  {
   "cell_type": "markdown",
   "id": "74f57a3a-8140-4d50-a0a8-8d38629650b3",
   "metadata": {},
   "source": [
    "\n",
    "## new_list= [true_expr if condition else false_expr for member in iterable]"
   ]
  },
  {
   "cell_type": "code",
   "execution_count": null,
   "id": "26e44678-6f87-42da-b37e-e54e6e207aee",
   "metadata": {},
   "outputs": [],
   "source": [
    "# Regular expression: list of even or odd numbers\n",
    "list_2 = [1, 2, 3, 4, 5, 6]\n",
    "for li2 in list_2:\n",
    "    if li2 % 2 == 0:\n",
    "        print(f'{li2}: Even')\n",
    "    else:\n",
    "        print(f'{li2}: Odd')"
   ]
  },
  {
   "cell_type": "code",
   "execution_count": null,
   "id": "128eeff7-3f98-49fc-ab59-51a88b8daa1b",
   "metadata": {},
   "outputs": [],
   "source": [
    "# list comprehension: list of even or odd numbers\n",
    "list_3 = [1, 2, 3, 4, 5, 6]\n",
    "even_odd = [f'{li3}: Even' if li3%2==0 else f'{li3}: Odd' for li3 in list_3]\n",
    "even_odd"
   ]
  },
  {
   "cell_type": "markdown",
   "id": "081ff103-1538-4239-b48a-b5b896c709f6",
   "metadata": {},
   "source": [
    "\n",
    "## new_list = [[expression for item in list] for item in list]"
   ]
  },
  {
   "cell_type": "code",
   "execution_count": null,
   "id": "797f68ba-b22d-49ed-8ec9-280be9432400",
   "metadata": {},
   "outputs": [],
   "source": [
    "# Regular expression: list of 3x3 matrix\n",
    "matrix = []\n",
    "for row in range(3):\n",
    "# Append an empty sublist inside the list\n",
    "    matrix.append([])\n",
    "    for column in range(3):\n",
    "        matrix[row].append(column)\n",
    "print(matrix)"
   ]
  },
  {
   "cell_type": "code",
   "execution_count": null,
   "id": "92ecf801-c30f-409c-97c2-15fb74fa95cc",
   "metadata": {},
   "outputs": [],
   "source": [
    "# list comprehension: list of 3x3 matrix\n",
    "matrix = [[column for column in range(3)] for row in range(3)]\n",
    "print(matrix)"
   ]
  },
  {
   "cell_type": "code",
   "execution_count": null,
   "id": "2fe1d699-ef43-424c-8e76-45ccf0151adb",
   "metadata": {},
   "outputs": [],
   "source": [
    "# Regular expression: list of 3x3 matrix fix\n",
    "tic_tac_toe_board = [[' ' for x in range(3)] for y in range(3)]\n",
    "def PrintMatrix(matrix):\n",
    "    for row in matrix:\n",
    "        print(row)\n",
    "PrintMatrix(tic_tac_toe_board)"
   ]
  },
  {
   "cell_type": "code",
   "execution_count": null,
   "id": "69926f12-fd88-4c63-9e8d-8d2b32098437",
   "metadata": {},
   "outputs": [],
   "source": [
    "# list comprehension: list of 3x3 matrix fix\n",
    "matrix = [[column for column in range(3)] for row in range(3)]\n",
    "def fix_matrix(fm):\n",
    "    for row in fm:\n",
    "        print(row)\n",
    "fix_matrix(matrix)"
   ]
  },
  {
   "cell_type": "code",
   "execution_count": null,
   "id": "832f8458-0dfe-4c5b-9e4f-5ec29393eb04",
   "metadata": {},
   "outputs": [],
   "source": [
    "# Regular expression: list of 3x3 matrix - 2\n",
    "mat=[]\n",
    "for i in range(3):\n",
    "    mat.append([])\n",
    "    for j in range(3):\n",
    "        mat[i].append(j+(i*3))\n",
    "print(mat)"
   ]
  },
  {
   "cell_type": "code",
   "execution_count": null,
   "id": "f81ac1d8-2ddd-41af-b4ca-fc618d028a24",
   "metadata": {},
   "outputs": [],
   "source": [
    "# list comprehension: list of 3x3 matrix - 2\n",
    "matrix = [[x+(y*3) for x in range(3)] for y in range(3)]\n",
    "print(matrix)"
   ]
  },
  {
   "cell_type": "code",
   "execution_count": null,
   "id": "42080227-5715-4c90-9329-c487171f054d",
   "metadata": {},
   "outputs": [],
   "source": [
    "# Regular expression: list of 3x3 matrix of fruits, capitalize all the fruits\n",
    "matrix = [[\"apple\", \"banana\", \"cherry\"],\n",
    "          [\"date\", \"fig\", \"grape\"],\n",
    "          [\"kiwi\", \"lemon\", \"mango\"]]\n",
    " \n",
    "modified_matrix = []\n",
    "for row in matrix:\n",
    "    modified_row = []\n",
    "    for fruit in row:\n",
    "        modified_row.append(fruit.capitalize())\n",
    "    modified_matrix.append(modified_row)\n",
    " \n",
    "print(modified_matrix)"
   ]
  },
  {
   "cell_type": "code",
   "execution_count": null,
   "id": "fffe229d-3621-48bf-b71c-db8d95e11a3f",
   "metadata": {},
   "outputs": [],
   "source": [
    "# list comprehension: list of 3x3 matrix of fruits, capitalize all the fruits\n",
    "fruit_mat = [[\"apple\", \"banana\", \"cherry\"],\n",
    "          [\"date\", \"fig\", \"grape\"],\n",
    "          [\"kiwi\", \"lemon\", \"mango\"]]\n",
    "cap_fruits = [[fruit.capitalize() for fruit in row]for row in fruit_mat]\n",
    "cap_fruits"
   ]
  },
  {
   "cell_type": "markdown",
   "id": "2231fe81-8c24-4853-953f-593c5cda2461",
   "metadata": {},
   "source": [
    "## new_list = [expression for row in list for column in row if condition]"
   ]
  },
  {
   "cell_type": "code",
   "execution_count": null,
   "id": "3e10b55b-ed79-416e-b33b-6f43b17f1798",
   "metadata": {},
   "outputs": [],
   "source": [
    "# Regular expression: list of 3x3 matrix, fetching odd numbers list\n",
    "matrix_0 = [[1, 2, 3], [4, 5, 6], [7, 8, 9]]\n",
    "odd_numbers = []\n",
    "for row in matrix_0:\n",
    "    for element in row:\n",
    "        if element % 2 != 0:\n",
    "            odd_numbers.append(element)\n",
    " \n",
    "print(odd_numbers)"
   ]
  },
  {
   "cell_type": "code",
   "execution_count": null,
   "id": "ce5bfb64-6041-4c3b-abad-5e81c4123500",
   "metadata": {},
   "outputs": [],
   "source": [
    "# list comprehension: list of 3x3 matrix, fetching odd numbers list\n",
    "matrix_1 = [[1, 2, 3], [4, 5, 6], [7, 8, 9]]\n",
    "odd_num=[element for row in matrix_1 for element in row if element % 2 != 0]\n",
    "odd_num"
   ]
  },
  {
   "cell_type": "code",
   "execution_count": null,
   "id": "882e1dca-34db-405a-aa1c-b11f05901672",
   "metadata": {},
   "outputs": [],
   "source": []
  },
  {
   "cell_type": "code",
   "execution_count": null,
   "id": "3276304b-a7f7-4f86-8a4e-7ab26b47e67d",
   "metadata": {},
   "outputs": [],
   "source": [
    "matrix = [[1,2,3],\n",
    "          [4,5,6],\n",
    "          [7,8,9]]\n",
    "\n",
    "transposed = [[x[y] for x in matrix] for y in range(len(matrix))]\n",
    "\n",
    "print(transposed)\n"
   ]
  },
  {
   "cell_type": "code",
   "execution_count": null,
   "id": "bc7125ef-b0f4-4edb-b858-e3c27d140d9f",
   "metadata": {},
   "outputs": [],
   "source": [
    "matrixt = [[1,2,3],\n",
    "          [4,5,6],\n",
    "          [7,8,9]]\n",
    "trans=[]\n",
    "for y in range(len(matrixt)):\n",
    "    for x in matrixt:\n",
    "        trans[y]=matrixt[x[y]]\n",
    "print(trans)"
   ]
  },
  {
   "cell_type": "markdown",
   "id": "8453dae9-818e-4fc3-8cd5-df24e5e820f4",
   "metadata": {},
   "source": [
    "### String Method Definitions"
   ]
  },
  {
   "cell_type": "code",
   "execution_count": null,
   "id": "5c004c1b-c403-4a31-929c-03f1262df146",
   "metadata": {},
   "outputs": [],
   "source": [
    "definition = \"\"\"The capitalize() method returns a string where the first character is upper case, and the rest is lower case.\n",
    "The casefold() method returns a string where all the characters are lower case.\n",
    "The center() method will center align the string, using a specified character (space is default) as the fill character.\n",
    "The count() method returns the number of times a specified value appears in the string.\n",
    "The encode() method encodes the string, using the specified encoding. If no encoding is specified, UTF-8 will be used.\n",
    "The endswith() method returns True if the string ends with the specified value, otherwise False.\n",
    "The expandtabs() method sets the tab size to the specified number of whitespaces.\n",
    "The find() method is almost the same as the index() method, the only difference is that the index() method raises an exception if the value is not found.\n",
    "The format() method formats the specified value(s) and insert them inside the string's placeholder. The placeholder is defined using curly brackets: {}. \n",
    "The Formats specified values in a string.\n",
    "The index() method finds the first occurrence of the specified value. The index() method raises an exception if the value is not found.\n",
    "The isalpha() method returns True if all the characters are alphabet letters (a-z).\n",
    "The isascii() method returns True if all the characters are ascii characters  (a-z).\n",
    "The isdecimal() method returns True if all the characters are decimals (0-9).\n",
    "The isdigit() method returns True if all the characters are digits, otherwise False. Exponents, like ², are also considered to be a digit.\n",
    "The isidentifier() method returns True if the string is a valid identifier, otherwise False.\n",
    "The islower() method returns True if all the characters are in lower case, otherwise False.\n",
    "The isnumeric() method returns True if all the characters are numeric (0-9), otherwise False. Exponents, like ² and ¾ are also considered to be numeric values. \"-1\" and \"1.5\" are NOT considered numeric values, because all the characters in the string must be numeric, and the - and the . are not.\n",
    "The isprintable() method returns True if all the characters are printable, otherwise False. Example of none printable character can be carriage return and line feed.\n",
    "The isspace() method returns True if all the characters in a string are whitespaces, otherwise False.\n",
    "The istitle() method returns True if all words in a text start with a upper case letter, AND the rest of the word are lower case letters, otherwise False.\n",
    "The isupper() method returns True if all the characters are in upper case, otherwise False.\n",
    "The join() method takes all items in an iterable and joins them into one string.\n",
    "The ljust() method will left align the string, using a specified character (space is default) as the fill character.\n",
    "The lower() method returns a string where all characters are lower case.\n",
    "The lstrip() method removes any leading characters (space is the default leading character to remove).\n",
    "The maketrans() method returns a mapping table that can be used with the translate() method to replace specified characters.\n",
    "The partition() method searches for a specified string, and splits the string into a tuple containing three elements. The first element contains the part before the specified string. The second element contains the specified string. The third element contains the part after the string.\n",
    "The replace() method replaces a specified phrase with another specified phrase.\n",
    "The rfind() method finds the last occurrence of the specified value. The rfind() method returns -1 if the value is not found. The rfind() method is almost the same as the rindex().\n",
    "The rindex() method finds the last occurrence of the specified value. The rindex() method raises an exception if the value is not found. The rindex() method is almost the same as the rfind()\n",
    "The rjust() method will right align the string, using a specified character (space is default) as the fill character.\n",
    "The rpartition() method searches for the last occurrence of a specified string, and splits the string into a tuple containing three elements. The first element contains the part before the specified string. The second element contains the specified string. The third element contains the part after the string.\n",
    "The rsplit() method splits a string into a list, starting from the right. If no \"max\" is specified, this method will return the same as the split() method.\n",
    "The rstrip() method removes any trailing characters (characters at the end a string), space is the default trailing character to remove.\n",
    "The split() method splits a string into a list. You can specify the separator, default separator is any whitespace.\n",
    "The splitlines() method splits a string into a list. The splitting is done at line breaks.\n",
    "The startswith() method returns True if the string starts with the specified value, otherwise False.\n",
    "The strip() method removes any leading, and trailing whitespaces. Leading means at the beginning of the string, trailing means at the end. You can specify which character(s) to remove, if not, any whitespaces will be removed.\n",
    "The swapcase() method returns a string where all the upper case letters are lower case and vice versa.\n",
    "The title() method returns a string where the first character in every word is upper case. Like a header, or a title. If the word contains a number or a symbol, the first letter after that will be converted to upper case.\n",
    "The translate() method returns a string where some specified characters are replaced with the character described in a dictionary, or in a mapping table. Use the maketrans() method to create a mapping table. If a character is not specified in the dictionary/table, the character will not be replaced. If you use a dictionary, you must use ascii codes instead of characters.\n",
    "The upper() method returns a string where all characters are in upper case.\n",
    "The zfill() method adds zeros (0) at the beginning of the string, until it reaches the specified length. If the value of the len parameter is less than the length of the string, no filling is done.\"\"\"\n",
    "\n",
    "def_keys=[]\n",
    "def_dict={}\n",
    "\n",
    "# Preparing definition list based on the \"definition\" string.\n",
    "def_list = definition.splitlines()\n",
    "# Preparing definition keys: In the definition each line contain method name, so taking method name as a key name ex: Each line starts with: \"The zfill()\". \n",
    "for keys in range(len(def_list)):\n",
    "    def_keys.append(def_list[keys][:def_list[keys].find(') ')-1][4:])\n",
    "total_keys=len(def_keys)\n",
    "\n",
    "# Till here we have keys and values, so adding both keys and values into dictionary\n",
    "for keys in def_keys:\n",
    "    for value in def_list:\n",
    "        def_dict[keys] = value\n",
    "        def_list.remove(value)\n",
    "        break\n",
    "        \n",
    "# Getting all the string methods from python directory and saving as list and later treated as \"python method keys\"\n",
    "py_str_methods=[]\n",
    "for st in range(len(dir(''))):\n",
    "    if dir('')[st][0:2] != '__':\n",
    "        py_str_methods.append(dir('')[st])\n",
    "        \n",
    "# saving definition dictionary keys into another list\n",
    "# keys_list = list(def_dict.keys())\n",
    "\n",
    "# joining above definition keys with python methods keys to display definitions of the matching keys\n",
    "print('String Method Definitions\\n=========================\\n')\n",
    "\n",
    "for pym in py_str_methods:\n",
    "    for dk in range(len(def_keys)):\n",
    "        if pym == def_keys[dk]:\n",
    "            print(pym, '==> ',def_dict[pym], '\\n')\n",
    "            "
   ]
  },
  {
   "cell_type": "code",
   "execution_count": null,
   "id": "b0a90ebd-a698-4872-8943-939bb8f60473",
   "metadata": {},
   "outputs": [],
   "source": [
    "py_str_methods=[]\n",
    "for st in range(len(dir(''))):\n",
    "    if dir('')[st][0:2] != '__':\n",
    "        py_str_methods.append(dir('')[st])\n",
    "py_str_methods"
   ]
  },
  {
   "cell_type": "code",
   "execution_count": null,
   "id": "f124bcfe-195a-4e7e-964b-fd48eae2a553",
   "metadata": {},
   "outputs": [],
   "source": [
    "sample_dict = {'name': 'John', 'age': 25, 'city': 'New York'}\n",
    "keys_list = list(sample_dict.keys())\n",
    "print(\"Method 1 - Using keys() method:\")\n",
    "print(keys_list[0])"
   ]
  },
  {
   "cell_type": "code",
   "execution_count": null,
   "id": "f5859e2c-0492-4980-ac23-7058ce9496f7",
   "metadata": {},
   "outputs": [],
   "source": [
    "f=open('definition.txt')\n",
    "l=f.readline()\n",
    "print(l)"
   ]
  },
  {
   "cell_type": "code",
   "execution_count": null,
   "id": "95b31477-5c8f-4f0e-bb95-10aa36464ef9",
   "metadata": {},
   "outputs": [],
   "source": [
    "# Ex: 1 Creating new file and writing some text of lines(5) into it.\n",
    "f=open('sample.txt', 'w')\n",
    "for txt in range(5):\n",
    "    txt=input('Enter any text to write into file:')+'\\n'\n",
    "    f.write(txt)\n",
    "f.close()"
   ]
  },
  {
   "cell_type": "code",
   "execution_count": null,
   "id": "a48ab41d-3a7b-4cb3-9c1f-5d31b38d8143",
   "metadata": {},
   "outputs": [],
   "source": [
    "# Ex:2 Display data n number of lines from a file: using for loop\n",
    "f=open('sample.txt')\n",
    "l=f.readlines()\n",
    "len_line = len(l)\n",
    "print(f'Total No. of lines in a file: {len_line}')\n",
    "lines=eval(input('Enter how many lines to print:'))\n",
    "if lines < len_line+1:\n",
    "    for j in range(lines):\n",
    "        print(f'Line {j+1}: {l[j]}', end='')\n",
    "else:\n",
    "    print(f'Total No. of lines in a file is: {len_line}, you entered {lines} lines')\n",
    "f.close()"
   ]
  },
  {
   "cell_type": "code",
   "execution_count": null,
   "id": "90c7359f-0972-4639-befe-92e930aaed2e",
   "metadata": {},
   "outputs": [],
   "source": [
    "# Ex:3 Display data n number of lines from a file: using slicing\n",
    "fg=open('sample.txt')\n",
    "l=fg.readlines()\n",
    "len_line=len(l)\n",
    "sl_lines=eval(input('Enter how many lines to print:'))\n",
    "if sl_lines < len_line+1:\n",
    "    print(l[:sl_lines])\n",
    "else:\n",
    "    print(f'Total No. of lines in a file is: {len_line}, you entered {sl_lines} lines')"
   ]
  },
  {
   "cell_type": "code",
   "execution_count": null,
   "id": "dd8eabe7-1f60-4a82-b500-442c594c1fad",
   "metadata": {},
   "outputs": [],
   "source": [
    "# Ex:4-1 Display data n number of lines from a file: using function for loop\n",
    "def fn_file_read(fname, nlines):\n",
    "        with open(fname) as f:                   # line Equals to : f=open('sample.txt')\n",
    "            lines = f.readlines()\n",
    "            if nlines < len(lines)+1:\n",
    "                for line in range(nlines):\n",
    "                        print(lines[line], end='')\n",
    "            else:\n",
    "                print(f'Total No. of lines in a file is: {len(lines)}, you entered {nlines} lines')\n",
    "        f.close()\n",
    "p_lines=eval(input('Enter how many lines to print:'))\n",
    "fn_file_read('sample.txt',p_lines)"
   ]
  },
  {
   "cell_type": "code",
   "execution_count": null,
   "id": "43c96866-6093-409c-89ba-6e5ea33e2656",
   "metadata": {},
   "outputs": [],
   "source": [
    "# Ex:4-2 Display data n number of lines from a file: using function for loop\n",
    "def file_read_from_head(fname, nlines):\n",
    "        from itertools import islice\n",
    "        with open(fname) as f:                                   # line Equals to : f=open('sample.txt')\n",
    "                for line in islice(f, nlines):    \n",
    "                    print(line)\n",
    "                if f.closed==True:\n",
    "                    print('File Closed')\n",
    "                else:\n",
    "                    print('Still file is opened, now closing .......!! ', end='')\n",
    "        f.close()\n",
    "        print('Now file is closed')\n",
    "file_read_from_head('sample.txt',3)"
   ]
  },
  {
   "cell_type": "code",
   "execution_count": null,
   "id": "f128813b-973c-48a6-82f3-3878215c22e6",
   "metadata": {},
   "outputs": [],
   "source": [
    "import os                                  # Get the current working directory\n",
    "import time                                # For fun, to sleep\n",
    "pathh = os.getcwd()                        # List all files and folders in the current directory\n",
    "path_file = pathh.replace('C:','C-Drive').replace('\\\\',' ==> ')\n",
    "entries = os.listdir(pathh)\n",
    "\n",
    "# user input filename to check file exist if exist, then open and read the lines and print the lines based on user i/p\n",
    "f_name = input('Enter file name: ')\n",
    "if f_name +'.txt' in entries:\n",
    "    print('File exist @', path_file, '(location)')\n",
    "    print(f'\\nOpening file {f_name}.txt !! ', end='')\n",
    "\n",
    "    # Just fun\n",
    "    for i in range(3):\n",
    "        time.sleep(1)\n",
    "        print('.', end='')\n",
    "        \n",
    "    fle = open(f_name+'.txt')\n",
    "    print('\\nFile opened, checking total No. of lines !! ', end='')\n",
    "\n",
    "    # Just fun...\n",
    "    for j in range(3):\n",
    "        time.sleep(1)\n",
    "        print('.', end='')\n",
    "\n",
    "    # reading lines\n",
    "    lines=fle.readlines()\n",
    "    ln_len=len(lines)\n",
    "    print(f'\\n\\nTotal No. of lines in a file: {f_name} is: {ln_len}')\n",
    "\n",
    "    # displaying lines from file based on total lines and the user input \n",
    "    lie = eval(input(f'Enter line No. to print between 1 to {ln_len} from file: '))\n",
    "    if lie < ln_len+1:\n",
    "        for l in range(lie):\n",
    "            print(lines[l], end='')\n",
    "    else:\n",
    "        print(f'Total No. of lines in a file is: {ln_len}, you entered {lie} lines')\n",
    "\n",
    " # Checking file status is open / closed, if still opened then closing    \n",
    "    if fle.closed != True:\n",
    "        print('File is still opened, closing....')\n",
    "        fle.close()\n",
    "    if fle.closed == True:\n",
    "        print('Closed')\n",
    "        \n",
    "# In the first step giving file name to open and read, if file is not exist then print below message\n",
    "else:\n",
    "    print('File does not exist @', path_file)"
   ]
  },
  {
   "cell_type": "code",
   "execution_count": null,
   "id": "e54f5a96-ca31-4b1c-9a35-3656252b8102",
   "metadata": {},
   "outputs": [],
   "source": [
    "# Count and print types of data set in a glass (tuple)\n",
    "\n",
    "glass=((1,2,3), 20, 20.30, {'Name':'Ramesh'}, [10, 150], 30, 99, {'Age':30}, (5,6,7), [20, 250], 33.6, 99.0)\n",
    "int_cnt, flt_cnt, tup_cnt, lst_cnt, dict_cnt, unknown_cnt = 0, 0, 0, 0, 0, 0\n",
    "for i in range(len(glass)):\n",
    "    if str(type(glass[i]))[8:-2] == 'int':\n",
    "        int_cnt=int_cnt+1\n",
    "    elif str(type(glass[i]))[8:-2] == 'float':\n",
    "        flt_cnt=flt_cnt+1\n",
    "    elif str(type(glass[i]))[8:-2] == 'tuple':\n",
    "        tup_cnt=tup_cnt+1\n",
    "    elif str(type(glass[i]))[8:-2] == 'list':\n",
    "        lst_cnt=lst_cnt+1\n",
    "    elif str(type(glass[i]))[8:-2] == 'dict':\n",
    "        dict_cnt=dict_cnt+1\n",
    "    else:\n",
    "        unknown_cnt=unknown_cnt+1\n",
    "print('Integer count:', int_cnt)\n",
    "print('Float count:', flt_cnt)\n",
    "print('Tuple count:', tup_cnt)\n",
    "print('List count:', lst_cnt)\n",
    "print('Dict count:', dict_cnt)\n",
    "print('Unknown count:', unknown_cnt)"
   ]
  },
  {
   "cell_type": "code",
   "execution_count": null,
   "id": "578a8d94-cb3f-4c35-b751-fd2107d80081",
   "metadata": {},
   "outputs": [],
   "source": [
    "# Separating and counting types of data from a glass (tuple)\n",
    "\n",
    "glass=((1,2,3), 20, 20.30, {'Name':'Ramesh'}, [10, 150], 30, 99, {'Age':30}, (5,6,7), [20, 250], 33.6, 99.0)\n",
    "int_cnt, flt_cnt, tup_cnt, lst_cnt, dict_cnt, unknown_cnt = 0, 0, 0, 0, 0, 0\n",
    "int_lst, flt_lst, tup_lst, lst_lst, dict_lst, unknown_lst = [],[],[],[],[],[]\n",
    "for i in range(len(glass)):\n",
    "    if str(type(glass[i]))[8:-2] == 'int':\n",
    "        int_cnt=int_cnt+1\n",
    "        int_lst.append(glass[i])\n",
    "    elif str(type(glass[i]))[8:-2] == 'float':\n",
    "        flt_cnt=flt_cnt+1\n",
    "        flt_lst.append(glass[i])\n",
    "    elif str(type(glass[i]))[8:-2] == 'tuple':\n",
    "        tup_cnt=tup_cnt+1\n",
    "        tup_lst.append(glass[i])\n",
    "    elif str(type(glass[i]))[8:-2] == 'list':\n",
    "        lst_cnt=lst_cnt+1\n",
    "        lst_lst.append(glass[i])\n",
    "    elif str(type(glass[i]))[8:-2] == 'dict':\n",
    "        dict_cnt=dict_cnt+1\n",
    "        dict_lst.append(glass[i])\n",
    "    else:\n",
    "        unknown_cnt=unknown_cnt+1\n",
    "        unknown_lst.append(glass[i])\n",
    "print(f'Integer count: {int_cnt} and elements: {int_lst}')\n",
    "print(f'Float count: {flt_cnt} and elements: {flt_lst}')\n",
    "print(f'Tuple count: {tup_cnt} and elements: {tup_lst}')\n",
    "print(f'List count: {lst_cnt} and elements: {lst_lst}')\n",
    "print(f'Dict count: {dict_cnt} and elements: {dict_lst}')\n",
    "print(f'Unknown count: {unknown_cnt}  and elements: {unknown_lst}')"
   ]
  },
  {
   "cell_type": "code",
   "execution_count": null,
   "id": "749305ea-5d62-41c6-8a1e-40ba74ad4e5a",
   "metadata": {},
   "outputs": [],
   "source": [
    "def file_read(fname):\n",
    "        with open(fname, \"w\") as myfile:\n",
    "                myfile.write(input('Enter line of code to print:')+'\\n')\n",
    "                myfile.write(\"Java Exercises\")\n",
    "        txt = open(fname)\n",
    "        print(txt.read())\n",
    "file_read('abc.txt')"
   ]
  },
  {
   "cell_type": "code",
   "execution_count": null,
   "id": "71b0bce2-0d4b-4223-8467-b958d9c258c9",
   "metadata": {},
   "outputs": [],
   "source": [
    "import sys\n",
    "import os\n",
    "def file_read_from_tail(fname,lines):\n",
    "        bufsize = 8192\n",
    "        fsize = os.stat(fname).st_size\n",
    "        iter = 0\n",
    "        with open(fname) as f:\n",
    "                if bufsize > fsize:\n",
    "                        bufsize = fsize-1\n",
    "                        data = []\n",
    "                        while True:\n",
    "                                iter +=1\n",
    "                                f.seek(fsize-bufsize*iter)\n",
    "                                data.extend(f.readlines())\n",
    "                                if len(data) >= lines or f.tell() == 0:\n",
    "                                        print(''.join(data[-lines:]))\n",
    "                                        break\n",
    "\n",
    "file_read_from_tail('definition.txt',2)"
   ]
  },
  {
   "cell_type": "code",
   "execution_count": null,
   "id": "73c97564-0160-41a2-8205-002d1181ba16",
   "metadata": {},
   "outputs": [],
   "source": [
    "f = open(\"sample.txt\", \"r\")\n",
    "print(f.seek(4))"
   ]
  },
  {
   "cell_type": "code",
   "execution_count": null,
   "id": "171f9ea8-56d4-4694-9631-9a94f9e78cf4",
   "metadata": {},
   "outputs": [],
   "source": [
    "f = open(\"sample.txt\", \"r\")\n",
    "# f.seek(4)\n",
    "print(f.read())"
   ]
  },
  {
   "cell_type": "code",
   "execution_count": null,
   "id": "fd8f223d-7561-41ed-a5cc-c104d32d9dbf",
   "metadata": {},
   "outputs": [],
   "source": [
    "f = open(\"sample.txt\", \"r\")\n",
    "f.seek(4)\n",
    "print(f.readlines())"
   ]
  },
  {
   "cell_type": "code",
   "execution_count": null,
   "id": "63573618-8f82-4e30-b049-0038fd1367d3",
   "metadata": {},
   "outputs": [],
   "source": [
    "f = open(\"data.txt\", \"rb\")\n",
    " \n",
    "# sets Reference point to tenth\n",
    "# position to the left from end\n",
    "print(f.tell())\n",
    "f.seek(-9, 2)\n",
    "print(f.tell())\n",
    "print(f.readline().decode('utf-8'))\n",
    "f.close()"
   ]
  },
  {
   "cell_type": "code",
   "execution_count": null,
   "id": "026c2429-e195-4160-93f6-089712675f35",
   "metadata": {},
   "outputs": [],
   "source": [
    "path='emails.txt'\n",
    "file=open(path)\n",
    "lines=file.read()\n",
    "emp_m_list=lines.split('; ')\n",
    "emails, f_name, l_name =[], [], []\n",
    "for m in emp_m_list:\n",
    "    emails.append(m[m.index('<')+1:m.index('>')])\n",
    "for i in emails:\n",
    "    max=i[:i.index('@')].count('.')\n",
    "    if max > 1:\n",
    "        print(max, i[:i.index('@')],'\\t', end='')\n",
    "        print(i[:i.index('@')][:i[:i.index('@')].index('.', max)].index([:i[:i.index('@')].index('.', max)]) \n",
    "    # print(i[:i.index('@')][:i[:i.index('@')].index('.', max)]) \n",
    "    # l_name.append(i[:i.index('@')][i[:i.index('@')].index('.',max)+1:])\n",
    "    #print(i[i.index('.'):i.index('@')]) "
   ]
  },
  {
   "cell_type": "code",
   "execution_count": null,
   "id": "9277674c-fee7-41ea-99ed-8115429b5ea2",
   "metadata": {},
   "outputs": [],
   "source": [
    "path='emails.txt'\n",
    "file=open(path)\n",
    "lines=file.read()\n",
    "emp_m_list=lines.split('; ')\n",
    "emails, f_name, l_name, names, dot_cnt =[], [], [], [], []\n",
    "for m in emp_m_list:\n",
    "    emails.append(m[m.index('<')+1:m.index('>')])\n",
    "for i in emails:\n",
    "    dot_cnt.append(i[:i.index('@')].count('.'))\n",
    "    names.append(i[:i.index('@')])\n"
   ]
  },
  {
   "cell_type": "code",
   "execution_count": null,
   "id": "dc2d1f51-496b-4c62-89b6-74ad1656c23e",
   "metadata": {},
   "outputs": [],
   "source": [
    "path='emails.txt'\n",
    "file=open(path)\n",
    "lines=file.read()\n",
    "emp_m_list=lines.split('; ')\n",
    "emails, f_name, l_name, dot_cnt =[], [], [], []\n",
    "for m in emp_m_list:\n",
    "    emails.append(m[m.index('<')+1:m.index('>')])\n",
    "for i in emails:\n",
    "    max=i[:i.index('@')].count('.')\n",
    "print(max, '\\t', emails)"
   ]
  },
  {
   "cell_type": "markdown",
   "id": "cbf77af3-4334-4b94-8898-857fc84b15fe",
   "metadata": {},
   "source": [
    "***Q6 unique emails***"
   ]
  },
  {
   "cell_type": "code",
   "execution_count": null,
   "id": "96eb5ed4-0e8b-4025-9f74-1815a85dd045",
   "metadata": {},
   "outputs": [],
   "source": [
    "# Q6 unique emails\n",
    "path='mbox-short.txt'\n",
    "file=open(path)\n",
    "fresh_4m_list=[]\n",
    "all_emails=[]\n",
    "uq_emails=[]\n",
    "from_list=[line.rstrip('\\n') for line in file if line.startswith('From')]\n",
    "for i in from_list:\n",
    "    fresh_4m_list.append(i.replace(\"',\", ' ', 1)[i.replace(\"',\", '  ', 1).index(' ')+1 :]+' ')\n",
    "for j in fresh_4m_list:\n",
    "    all_emails.append(j[:j.index(' ',1)])\n",
    "for uq in all_emails:\n",
    "    if uq not in uq_emails:\n",
    "        uq_emails.append(uq)\n",
    "uq_emails"
   ]
  },
  {
   "cell_type": "code",
   "execution_count": 28,
   "id": "40d4f5ac-e7fe-4991-b572-6b9055005de3",
   "metadata": {},
   "outputs": [
    {
     "name": "stdout",
     "output_type": "stream",
     "text": [
      "Firstname \t Surname \t\t Company \t\t E-Mail\n",
      "=========== \t ===============     =============   ===================================\n",
      "jayendhran \t ms                  accenture.com   jayendhran.ms@accenture.com\n",
      "s       \t t.bhattacharjee     accenture.com   s.t.bhattacharjee@accenture.com\n",
      "vaishnavi \t a.bansal            accenture.com   vaishnavi.a.bansal@accenture.com\n",
      "p       \t a.chandra.shekhar   accenture.com   p.a.chandra.shekhar@accenture.com\n",
      "hiren   \t j.doshi             accenture.com   hiren.j.doshi@accenture.com\n",
      "j       \t shimoga.prakash     accenture.com   j.shimoga.prakash@accenture.com\n",
      "shreyash \t akhouri             accenture.com   shreyash.akhouri@accenture.com\n",
      "nupanga \t nath                accenture.com   nupanga.nath@accenture.com\n",
      "r       \t ponna               accenture.com   r.ponna@accenture.com\n",
      "aditya  \t d.singhal           accenture.com   aditya.d.singhal@accenture.com\n",
      "sumit   \t gorai               accenture.com   sumit.gorai@accenture.com\n",
      "mariele \t dyan.valdez         accenture.com   mariele.dyan.valdez@accenture.com\n",
      "abigail \t kyle.cancel         accenture.com   abigail.kyle.cancel@accenture.com\n",
      "p       \t bondalakunta        accenture.com   p.bondalakunta@accenture.com\n",
      "sai     \t priyanka.uppala     accenture.com   sai.priyanka.uppala@accenture.com\n",
      "nikhil  \t nitin.shinde        accenture.com   nikhil.nitin.shinde@accenture.com\n",
      "swapna  \t chidre              accenture.com   swapna.chidre@accenture.com\n",
      "s       \t satyapragyan.sahu   accenture.com   s.satyapragyan.sahu@accenture.com\n",
      "ankit   \t sikka               accenture.com   ankit.sikka@accenture.com\n",
      "sai     \t madhukar.dara       accenture.com   sai.madhukar.dara@accenture.com\n",
      "s       \t pattanshetti        accenture.com   s.pattanshetti@accenture.com\n",
      "ayush   \t ad.sharma           accenture.com   ayush.ad.sharma@accenture.com\n",
      "zairous \t jay.latorena        accenture.com   zairous.jay.latorena@accenture.com\n",
      "r       \t abhimanyu.pradhan   accenture.com   r.abhimanyu.pradhan@accenture.com\n",
      "lehar   \t jaiswal             accenture.com   lehar.jaiswal@accenture.com\n",
      "retik   \t gupta               accenture.com   retik.gupta@accenture.com\n",
      "phanindra \t r.satti             accenture.com   phanindra.r.satti@accenture.com\n",
      "manish  \t dw.kumar            accenture.com   manish.dw.kumar@accenture.com\n",
      "devi    \t p.balakrishnan      accenture.com   devi.p.balakrishnan@accenture.com\n",
      "roshni  \t priya.m.s           accenture.com   roshni.priya.m.s@accenture.com\n",
      "vanaja  \t cheerala            accenture.com   vanaja.cheerala@accenture.com\n",
      "chandrashekhar \t g.d                 accenture.com   chandrashekhar.g.d@accenture.com\n",
      "m       \t nikhil.reddy        accenture.com   m.nikhil.reddy@accenture.com\n",
      "jeroshelle \t v.santos            accenture.com   jeroshelle.v.santos@accenture.com\n",
      "gerald  \t john.milan          accenture.com   gerald.john.milan@accenture.com\n",
      "vivek   \t u.gupta             accenture.com   vivek.u.gupta@accenture.com\n",
      "s       \t sunilkumar.mandal   accenture.com   s.sunilkumar.mandal@accenture.com\n",
      "ashok   \t prakash.shukla      accenture.com   ashok.prakash.shukla@accenture.com\n",
      "sivakumar \t naganathan          accenture.com   sivakumar.naganathan@accenture.com\n",
      "nikhil  \t gahlot              accenture.com   nikhil.gahlot@accenture.com\n",
      "s       \t a.kanti.kanjilal    accenture.com   s.a.kanti.kanjilal@accenture.com\n",
      "omkar   \t nallagoni           accenture.com   omkar.nallagoni@accenture.com\n",
      "sandra  \t sahajan             accenture.com   sandra.sahajan@accenture.com\n",
      "chaitanya \t nelluri             accenture.com   chaitanya.nelluri@accenture.com\n"
     ]
    }
   ],
   "source": [
    "path='emails.txt'\n",
    "file=open(path)\n",
    "lines=file.read()\n",
    "emp_m_list=lines.split('; ')\n",
    "emails, f_name, l_name, company =[], [], [], []\n",
    "for m in emp_m_list:\n",
    "    emails.append(m[m.index('<')+1:m.index('>')])\n",
    "for nsc in emails:\n",
    "    company.append(nsc[nsc.index('@')+1:])\n",
    "    f_name.append(nsc[:nsc.index('.')])\n",
    "    l_name.append(nsc[nsc.index('.')+1:nsc.index('@')])\n",
    "print('Firstname','\\t','Surname', '\\t\\t','Company','\\t\\t','E-Mail')\n",
    "print('===========','\\t','===============', '   ','=============',' ','===================================')\n",
    "for fetch in range(len(emails)):\n",
    "    print(f_name[fetch].ljust(7,' '), '\\t',l_name[fetch].ljust(17,' '), ' ', company[fetch].ljust(10,' '), ' ',emails[fetch])"
   ]
  },
  {
   "cell_type": "code",
   "execution_count": null,
   "id": "513d76fc-cbc2-4837-8bf2-d9495f341d7a",
   "metadata": {},
   "outputs": [],
   "source": [
    "string= 'hello world'\n",
    "string.index('o', string.index('o')+1)"
   ]
  },
  {
   "cell_type": "code",
   "execution_count": null,
   "id": "36325314-a93c-4e86-954c-1f278853ecb0",
   "metadata": {},
   "outputs": [],
   "source": []
  }
 ],
 "metadata": {
  "kernelspec": {
   "display_name": "Python 3 (ipykernel)",
   "language": "python",
   "name": "python3"
  },
  "language_info": {
   "codemirror_mode": {
    "name": "ipython",
    "version": 3
   },
   "file_extension": ".py",
   "mimetype": "text/x-python",
   "name": "python",
   "nbconvert_exporter": "python",
   "pygments_lexer": "ipython3",
   "version": "3.11.7"
  }
 },
 "nbformat": 4,
 "nbformat_minor": 5
}
