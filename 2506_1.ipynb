{
 "cells": [
  {
   "cell_type": "code",
   "execution_count": 1,
   "id": "105f01ef-76d6-4754-a574-f6999794ffc5",
   "metadata": {},
   "outputs": [
    {
     "name": "stdout",
     "output_type": "stream",
     "text": [
      "Customer: Hey!! How much is the bill ?\n",
      "Waiter: Sir, Total Meal amount is: 1027\n",
      "Customer: What is your name?\n",
      "Waiter: Sir, Iam \"WALL.E\"\n",
      "Customer: WALL.E, can you add your TIP amount please...\n",
      "Waiter: Ok Sir\n",
      "Tip is 6% on Meal amount: 1027 is: 61.62\n",
      "========================================\n",
      "Total Bill\n",
      "========================================\n",
      "Meal amount is: 1027\n",
      "Tip amount is: 61.62\n",
      "Total Pay: 1088.62 rupees\n"
     ]
    }
   ],
   "source": [
    "# Program to calculate meal amount with waiter tip amount\n",
    "import time\n",
    "import random\n",
    "time.sleep(2)\n",
    "time.sleep(4)\n",
    "print('Customer: Hey!! How much is the bill ?')\n",
    "time.sleep(4)\n",
    "meal_amt = random.randint(800,1500)\n",
    "print(f'Waiter: Sir, Total Meal amount is: {meal_amt}')\n",
    "time.sleep(4)\n",
    "print('Customer: What is your name?')\n",
    "time.sleep(4)\n",
    "print('Waiter: Sir, Iam \"WALL.E\"')\n",
    "time.sleep(4)\n",
    "print('Customer: WALL.E, can you add your TIP amount please...')\n",
    "time.sleep(4)\n",
    "print('Waiter: Ok Sir')\n",
    "tipper = random.randint(5,8)\n",
    "tipamt = (tipper*meal_amt) / 100\n",
    "time.sleep(2)\n",
    "print(f'Tip is {tipper}% on Meal amount: {meal_amt} is: {tipamt}')\n",
    "time.sleep(4)\n",
    "total_bill = tipamt + meal_amt\n",
    "print('========================================\\nTotal Bill\\n========================================')\n",
    "print(f'Meal amount is: {meal_amt}\\nTip amount is: {tipamt}\\nTotal Pay: {total_bill} rupees')"
   ]
  },
  {
   "cell_type": "code",
   "execution_count": null,
   "id": "2c15551a-f319-4478-a295-31d086615805",
   "metadata": {},
   "outputs": [],
   "source": []
  }
 ],
 "metadata": {
  "kernelspec": {
   "display_name": "Python 3 (ipykernel)",
   "language": "python",
   "name": "python3"
  },
  "language_info": {
   "codemirror_mode": {
    "name": "ipython",
    "version": 3
   },
   "file_extension": ".py",
   "mimetype": "text/x-python",
   "name": "python",
   "nbconvert_exporter": "python",
   "pygments_lexer": "ipython3",
   "version": "3.11.7"
  }
 },
 "nbformat": 4,
 "nbformat_minor": 5
}
