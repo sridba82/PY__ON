{
 "cells": [
  {
   "cell_type": "code",
   "execution_count": 23,
   "id": "bedcb205-1695-4425-9669-1e7c25f7a63a",
   "metadata": {},
   "outputs": [
    {
     "name": "stdin",
     "output_type": "stream",
     "text": [
      "Enter any number to square of it:  4\n"
     ]
    },
    {
     "name": "stdout",
     "output_type": "stream",
     "text": [
      "The square of 4 is: 16\n"
     ]
    }
   ],
   "source": [
    "# Question 1, Ask user to enter any number to print square of it.\n",
    "\n",
    "num = eval((input('Enter any number to square of it: ')))\n",
    "sqnum = num * num\n",
    "print(f'The square of {num} is {sqnum}')"
   ]
  },
  {
   "cell_type": "code",
   "execution_count": 42,
   "id": "03582dcd-55b5-43ae-803b-347cb3165ce9",
   "metadata": {},
   "outputs": [
    {
     "name": "stdin",
     "output_type": "stream",
     "text": [
      "Enter any number to print multiplication of it:  7\n"
     ]
    },
    {
     "name": "stdout",
     "output_type": "stream",
     "text": [
      "The Multiplication of {num} is:\n",
      "7---14---21---28---35\n"
     ]
    }
   ],
   "source": [
    "# Question 2, Ask user to enter any number to print multiplication of it.\n",
    "\n",
    "num = eval((input('Enter any number to print multiplication of it: ')))\n",
    "one = num * 1\n",
    "two = num * 2\n",
    "three = num * 3\n",
    "four = num * 4\n",
    "five = num * 5\n",
    "print(one, two, three, four, five, sep='---')"
   ]
  },
  {
   "cell_type": "code",
   "execution_count": 41,
   "id": "5d5863ee-ee5c-4848-9138-fa9067827c44",
   "metadata": {},
   "outputs": [
    {
     "name": "stdin",
     "output_type": "stream",
     "text": [
      "Enter your weight in kilograms to convert into pounds:  2\n"
     ]
    },
    {
     "name": "stdout",
     "output_type": "stream",
     "text": [
      "You entered 2 kilograms and in pounds is: 4.4\n"
     ]
    }
   ],
   "source": [
    "# Question 3, Ask user to enter weight in kilograms to convert into pounds.\n",
    "\n",
    "weight = eval((input('Enter your weight in kilograms to convert into pounds: ')))\n",
    "onepound = 2.2\n",
    "totalponds = weight * onepound\n",
    "print(f'You entered {weight} kilograms and in pounds is: {totalponds}')"
   ]
  },
  {
   "cell_type": "code",
   "execution_count": 40,
   "id": "2afd6484-0038-49cb-8baa-e370bf17cd86",
   "metadata": {},
   "outputs": [
    {
     "name": "stdin",
     "output_type": "stream",
     "text": [
      "Enter 1st number to print total and average:  1\n",
      "Enter 2nd number to print total and average:  2\n",
      "Enter 3rd number to print total and average:  3\n"
     ]
    },
    {
     "name": "stdout",
     "output_type": "stream",
     "text": [
      "===============================================\n",
      "The total and average of 1, 2, 3 is: 6 and 2.0\n"
     ]
    }
   ],
   "source": [
    "# Question 4, Ask user to enter any 3 numbers to print total and average of it.\n",
    "\n",
    "num1 = eval((input('Enter 1st number to print total and average: ')))\n",
    "num2 = eval((input('Enter 2nd number to print total and average: ')))\n",
    "num3 = eval((input('Enter 3rd number to print total and average: ')))\n",
    "total = num1 + num2 + num3\n",
    "average = total / 3\n",
    "print('===============================================')\n",
    "print(f'The total and average of {num1}, {num2}, {num3} is: {total} and {average}');\n"
   ]
  },
  {
   "cell_type": "code",
   "execution_count": 57,
   "id": "3f048978-1486-4e92-9b3c-18a0af2fb4bd",
   "metadata": {},
   "outputs": [
    {
     "name": "stdin",
     "output_type": "stream",
     "text": [
      "Enter price of the Meal: 3000\n",
      "Enter Tip (percentage on the Meal amount): 3\n"
     ]
    },
    {
     "name": "stdout",
     "output_type": "stream",
     "text": [
      "=============================================\n",
      "Tip:3 % on Meal amount\n",
      "Meal amount: 3000\n",
      "Tip amount:90.0 \n",
      "=======================\n",
      "Total Bill is: 3090.0\n",
      "=======================\n"
     ]
    }
   ],
   "source": [
    "# Question 5, program to calculate total hotel bill including Tip (percentage) on bill amount. \n",
    "\n",
    "meal_amt = eval((input('Enter price of the Meal:')))\n",
    "tip = eval((input('Enter Tip (percentage on the Meal amount):')))\n",
    "tipamount = (meal_amt*tip) / 100\n",
    "total_bill = tipamount + meal_amt\n",
    "print('=============================================')\n",
    "print(f'Tip:{tip} % on Meal amount\\nMeal amount: {meal_amt}\\nTip amount:{tipamount} \\n=======================\\nTotal Bill is: {total_bill}\\n=======================');"
   ]
  },
  {
   "cell_type": "code",
   "execution_count": 49,
   "id": "6d991aa6-a8a3-4470-b77c-bd3dc0de8e34",
   "metadata": {},
   "outputs": [
    {
     "name": "stdout",
     "output_type": "stream",
     "text": [
      "Enter 2 numbers to calculte addition, subtraction, multiplication and division:\n"
     ]
    },
    {
     "name": "stdin",
     "output_type": "stream",
     "text": [
      "1st Number: 10\n",
      "2nd Number: 100\n"
     ]
    },
    {
     "name": "stdout",
     "output_type": "stream",
     "text": [
      "=======================\n",
      "Addition is: 110 \n",
      "Subtraction is: -90 \n",
      "Multiplication is: 1000 \n",
      "Division is: 0.1\n"
     ]
    }
   ],
   "source": [
    "# Question 6, Program to calculte addition, subtraction, multiplication and division of 2 numbers.\n",
    "\n",
    "print('Enter 2 numbers to calculte addition, subtraction, multiplication and division:')\n",
    "num1 = eval((input('1st Number:')))\n",
    "num2 = eval((input('2nd Number:')))\n",
    "add = num1 + num2\n",
    "sub = num1 - num2\n",
    "mul = num1 * num2\n",
    "div = num1/num2\n",
    "print('=======================')\n",
    "print(f'Addition is: {add} \\nSubtraction is: {sub} \\nMultiplication is: {mul} \\nDivision is: {div}')"
   ]
  },
  {
   "cell_type": "code",
   "execution_count": 56,
   "id": "53f0111c-ecdf-4a76-9a2b-363a99b0446a",
   "metadata": {},
   "outputs": [
    {
     "name": "stdout",
     "output_type": "stream",
     "text": [
      "Program to find area of a circle\n"
     ]
    },
    {
     "name": "stdin",
     "output_type": "stream",
     "text": [
      "Enter Radius of a circle: 2\n",
      "Enter PI value: 3.14\n"
     ]
    },
    {
     "name": "stdout",
     "output_type": "stream",
     "text": [
      "============================\n",
      "Radius of a circle is: 2 \n",
      "PI value is: 3.14\n",
      "Area of a circle is:12.56\n"
     ]
    }
   ],
   "source": [
    "# Question 7, Program to calculte area of circle based on the radius and PI value passing to variables at run time.\n",
    "\n",
    "print('Program to find area of a circle')\n",
    "r= eval((input('Enter Radius of a circle:')))\n",
    "pi = eval((input('Enter PI value:')))\n",
    "area = pi*r*r\n",
    "print('============================')\n",
    "print(f'Radius of a circle is: {r} \\nPI value is: {pi}\\nArea of a circle is: {area}')"
   ]
  },
  {
   "cell_type": "code",
   "execution_count": 62,
   "id": "b8541664-a369-4473-8aa6-a26092b95f17",
   "metadata": {},
   "outputs": [
    {
     "name": "stdin",
     "output_type": "stream",
     "text": [
      "Enter Bill amount in Dollers: 8\n",
      "Enter each doller price in India: 3\n"
     ]
    },
    {
     "name": "stdout",
     "output_type": "stream",
     "text": [
      "=====================================\n",
      "Total Bill in rupees: 24\n"
     ]
    }
   ],
   "source": [
    "# Question 8, Program to calculate bill amount from Dollers to rupees.\n",
    "\n",
    "doller_amt= eval((input('Enter Bill amount in Dollers:')))\n",
    "each_doller_in_rupee = eval((input('Enter each doller price in India:')))\n",
    "doller_in_rupees = doller_amt * each_doller_in_rupee\n",
    "print('=====================================')\n",
    "print(f'Total Bill amount in rupees: {doller_in_rupees}')"
   ]
  },
  {
   "cell_type": "code",
   "execution_count": 63,
   "id": "25432429-3602-4acd-97b3-089221c2d2ac",
   "metadata": {},
   "outputs": [
    {
     "name": "stdout",
     "output_type": "stream",
     "text": [
      "Program to find area of a triangle\n"
     ]
    },
    {
     "name": "stdin",
     "output_type": "stream",
     "text": [
      "Enter length of a triangle: 4\n",
      "Enter length of a triangle: 5\n"
     ]
    },
    {
     "name": "stdout",
     "output_type": "stream",
     "text": [
      "Area of a Triangle is:10.0\n"
     ]
    }
   ],
   "source": [
    "# Question 9, Program to calculte area of triangle based on height and breadth value passing to variables at run time.\n",
    "\n",
    "print('Program to find area of a triangle')\n",
    "_h= eval((input('Enter height of a triangle:')))\n",
    "_b= eval((input('Enter breadth of a triangle:')))\n",
    "area = 0.5 * _l * _b\n",
    "print(f'Area of a Triangle is:{area}')"
   ]
  },
  {
   "cell_type": "code",
   "execution_count": 64,
   "id": "596933e8-d31e-4bbb-902e-2dc7f6425846",
   "metadata": {},
   "outputs": [
    {
     "name": "stdout",
     "output_type": "stream",
     "text": [
      "Program to find area of a rectangle\n"
     ]
    },
    {
     "name": "stdin",
     "output_type": "stream",
     "text": [
      "Enter length of a triangle: 2\n",
      "Enter breadth of a triangle: 4\n"
     ]
    },
    {
     "name": "stdout",
     "output_type": "stream",
     "text": [
      "Area of a Rriangle is:8\n"
     ]
    }
   ],
   "source": [
    "# Question 10, Program to calculte area of a rectangle based on length and breadth value passing to variables at run time.\n",
    "\n",
    "print('Program to find area of a rectangle')\n",
    "_l= eval((input('Enter length of a triangle:')))\n",
    "_b= eval((input('Enter breadth of a triangle:')))\n",
    "area = _l * _b\n",
    "print(f'Area of a Rriangle is:{area}')"
   ]
  },
  {
   "cell_type": "code",
   "execution_count": 71,
   "id": "aff5919a-c782-4998-8dcd-ce860b3a045c",
   "metadata": {},
   "outputs": [
    {
     "name": "stdin",
     "output_type": "stream",
     "text": [
      "Father: Hey Baby! \n",
      "Daughter: Hello Dady \n",
      "Father: I heard your exams are over, what about result \n",
      "Daughter: Yes dad! Results are out. \n",
      "Father: What is the percentage? \n",
      "Daughter: I will give my subject wise marks, you tell me the percentage \n",
      "Father: Okay! \n",
      "First Language: 80\n",
      "Second language: 80\n",
      "Third language: 80\n",
      "Science: 80\n",
      "Maths: 80\n",
      "Daughter: Dad Now tell me how much percentage I got \n",
      "Father: Tell me the max marks of each subject 100\n",
      "Daughter: 100\n"
     ]
    },
    {
     "name": "stdout",
     "output_type": "stream",
     "text": [
      "Total Percentage is: 80.0\n"
     ]
    }
   ],
   "source": [
    "# Question 11a, Program conversation between Father and Daughter and to calculate percentage of marks.\n",
    "\n",
    "input('Father:')\n",
    "input('Daughter:')\n",
    "input('Father:')\n",
    "input('Daughter:')\n",
    "input('Father:')\n",
    "input('Daughter:')\n",
    "input('Father:')\n",
    "sub1=eval(input('First Language:'))       \n",
    "sub2=eval(input('Second language:'))\n",
    "sub3=eval(input('Third language:'))\n",
    "sub4=eval(input('Science:'))\n",
    "sub5=eval(input('Maths:'))\n",
    "input('Daughter:')\n",
    "input('Father:')\n",
    "max_marks = 5 * eval(input('Daughter:'))\n",
    "total_marks = sub1 + sub2 + sub3 + sub4 + sub5\n",
    "percentage = total_marks / max_marks * 100\n",
    "print(f'Total Percentage is: {percentage}')"
   ]
  },
  {
   "cell_type": "code",
   "execution_count": null,
   "id": "8aae24e4-fc5f-4b0a-bb35-fdc4cf27b8c7",
   "metadata": {},
   "outputs": [],
   "source": [
    "# Question 11b, Program conversation between Father and Daughter and to calculate percentage of marks.\n",
    "\n",
    "input('Father: Hey Baby!')\n",
    "input('Daughter: Hello Dady')\n",
    "input('Father: I heard your exams are over, what about result')\n",
    "input('Daughter: Yes dad! Results are out.')\n",
    "input('Father: What is the percentage?')\n",
    "input('Daughter: I will give my subject wise marks, you tell me the percentage')\n",
    "input('Father: Okay!')\n",
    "sub1=eval(input('First Language:'))       \n",
    "sub2=eval(input('Second language:'))\n",
    "sub3=eval(input('Third language:'))\n",
    "sub4=eval(input('Science:'))\n",
    "sub5=eval(input('Maths:'))\n",
    "input('Daughter: Dad Now tell me how much percentage I got')\n",
    "input('Father: Tell me the max marks of each subject')\n",
    "max_marks = 5 * eval(input('Daughter:'))\n",
    "total_marks = sub1 + sub2 + sub3 + sub4 + sub5\n",
    "percentage = total_marks / max_marks * 100\n",
    "print(f'Total Percentage is: {percentage}')"
   ]
  }
 ],
 "metadata": {
  "kernelspec": {
   "display_name": "Python 3 (ipykernel)",
   "language": "python",
   "name": "python3"
  },
  "language_info": {
   "codemirror_mode": {
    "name": "ipython",
    "version": 3
   },
   "file_extension": ".py",
   "mimetype": "text/x-python",
   "name": "python",
   "nbconvert_exporter": "python",
   "pygments_lexer": "ipython3",
   "version": "3.11.7"
  }
 },
 "nbformat": 4,
 "nbformat_minor": 5
}
