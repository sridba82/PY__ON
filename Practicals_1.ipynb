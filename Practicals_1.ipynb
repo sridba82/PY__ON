{
 "cells": [
  {
   "cell_type": "markdown",
   "id": "39754925-10ec-4674-ba18-67be4eeb5aa8",
   "metadata": {},
   "source": [
    "In Python we have 3 modes\n",
    "    1) Code Mode\n",
    "    2) Mark Down Mode\n",
    "    3) Raw\n",
    "Code Mode: Is use to write Python code\n",
    "Markdown Mode: Is used to write Notes.\n",
    "Code (Drop Down) > Mark Down > Shift+Enter "
   ]
  },
  {
   "cell_type": "markdown",
   "id": "6cbde806-acf2-409a-a8d4-466df8e4957f",
   "metadata": {},
   "source": [
    "# Hello World (Line started with single # + Space)\n",
    "## Hello World (Line started with single ## + Space)\n",
    "### Hello World (Line started with single ### + Space)\n"
   ]
  },
  {
   "cell_type": "markdown",
   "id": "acdbb624-5493-4ab0-901b-6307d42abab2",
   "metadata": {},
   "source": [
    "## In Python we have 3 modes \n",
    "    1) Code Mode: Is use to write Python code.\n",
    "    2) Mark Down Mode: Is used to write Notes. \n",
    "    3) Raw Code Mode:  \n",
    "### Navigation: Code (Drop Down) > Mark Down > Shift+Enter.\n",
    "### Shortcut key ESC + M to change mode thyen Shift + Enter"
   ]
  },
  {
   "cell_type": "markdown",
   "id": "c4dd8612-b6f4-4161-8749-c99ef60a3c7a",
   "metadata": {},
   "source": [
    "**Line start and end with (**, No space)**\n",
    "- Line start with (- + Space)"
   ]
  },
  {
   "cell_type": "markdown",
   "id": "b4146129-7adb-4e79-ab2b-417154422ae1",
   "metadata": {},
   "source": [
    "$Line start and end with ($) $"
   ]
  },
  {
   "cell_type": "markdown",
   "id": "ed6b324e-6390-435d-a5c8-7b1bbfe6f649",
   "metadata": {},
   "source": [
    " <img id=\"dimg_403\" src=\"data:image/jpeg;base64,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\" class=\"YQ4gaf\" height=\"225\" style=\"object-position:center\" width=\"225\" alt=\"Natural Image Facts\" data-csiid=\"-SF2ZtWxL_KN4-EP_PWe8A0_23\" data-atf=\"1\">"
   ]
  },
  {
   "cell_type": "code",
   "execution_count": 2,
   "id": "efd68f48-6fbb-4701-9e97-895aed2a911e",
   "metadata": {},
   "outputs": [
    {
     "name": "stdout",
     "output_type": "stream",
     "text": [
      "Father: Hey Baby!\n",
      "Daughter: Hello Dady\n",
      "Father: I heard your exams are over, what about result\n",
      "Daughter: Yes dad! Results are out.\n",
      "Father: What is the percentage?\n",
      "Daughter: I will give my subject wise marks, you tell me the percentage\n",
      "Father: Okay!\n",
      "First Language: 88\n",
      "Second language: 71\n",
      "Third language: 73\n",
      "Science: 64\n",
      "Maths: 69\n",
      "Daughter: Dad Now tell me how much percentage I got\n",
      "Father: Tell me the max marks of each subject\n",
      "Daughter: 100\n",
      "Total Percentage is: 73.0\n"
     ]
    }
   ],
   "source": [
    "import time\n",
    "import random\n",
    "time.sleep(2)\n",
    "print('Father: Hey Baby!')\n",
    "time.sleep(2)\n",
    "print('Daughter: Hello Dady')\n",
    "time.sleep(2)\n",
    "print('Father: I heard your exams are over, what about result')\n",
    "time.sleep(2)\n",
    "print('Daughter: Yes dad! Results are out.')\n",
    "time.sleep(2)\n",
    "print('Father: What is the percentage?')\n",
    "time.sleep(2)\n",
    "print('Daughter: I will give my subject wise marks, you tell me the percentage')\n",
    "time.sleep(2)\n",
    "print('Father: Okay!')\n",
    "sub1=random.randint(50,100)\n",
    "print(f'First Language: {sub1}')\n",
    "sub2=random.randint(50,100) \n",
    "print(f'Second language: {sub2}')\n",
    "sub3=random.randint(50,100)   \n",
    "print(f'Third language: {sub3}')\n",
    "sub4=random.randint(50,100)      \n",
    "print(f'Science: {sub4}')\n",
    "sub5=random.randint(50,100)\n",
    "print(f'Maths: {sub5}')\n",
    "time.sleep(2)\n",
    "print('Daughter: Dad Now tell me how much percentage I got')\n",
    "time.sleep(2)\n",
    "print('Father: Tell me the max marks of each subject')\n",
    "time.sleep(2)\n",
    "print('Daughter: 100')\n",
    "max_marks = 5 * 100\n",
    "total_marks = sub1 + sub2 + sub3 + sub4 + sub5\n",
    "percentage = round((total_marks / max_marks * 100), 2)\n",
    "time.sleep(2)\n",
    "print(f'Total Percentage is: {percentage}')"
   ]
  },
  {
   "cell_type": "code",
   "execution_count": null,
   "id": "56686f0b-feb8-4221-b9ec-2ea528fed555",
   "metadata": {},
   "outputs": [],
   "source": []
  }
 ],
 "metadata": {
  "kernelspec": {
   "display_name": "Python 3 (ipykernel)",
   "language": "python",
   "name": "python3"
  },
  "language_info": {
   "codemirror_mode": {
    "name": "ipython",
    "version": 3
   },
   "file_extension": ".py",
   "mimetype": "text/x-python",
   "name": "python",
   "nbconvert_exporter": "python",
   "pygments_lexer": "ipython3",
   "version": "3.11.7"
  }
 },
 "nbformat": 4,
 "nbformat_minor": 5
}
