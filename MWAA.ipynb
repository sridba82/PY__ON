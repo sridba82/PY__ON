{
 "cells": [
  {
   "cell_type": "code",
   "execution_count": null,
   "id": "8de981c1-e26b-492a-bd25-395580545f54",
   "metadata": {},
   "outputs": [],
   "source": [
    "def rs_run_code ( task_text , id_num,script,  primary_destination,iam,dagTask,previous_tasks,next_tasks): \n",
    "        \n",
    "       idst = str(id_num) \n",
    "       task_name =  idst + '_' + task_text\n",
    "       \n",
    "       dagTask[task_name] = PostgresOperator(\n",
    "         task_id =  task_name,\n",
    "         postgres_conn_id = primary_destination,\n",
    "         autocommit = True,\n",
    "         sql = script.replace(\"[[sq]]\",\"'\"),\n",
    "         retries = task_retries,\n",
    "         email = email_on_failure_list,\n",
    "         email_on_failure=True,\n",
    "         dag = dag,\n",
    "         ) \n",
    "             \n",
    "       if type(previous_tasks) == list:\n",
    "           for assigned in previous_tasks:\n",
    "               dagTask[task_name] << dagTask[assigned] \n",
    "  \n",
    "       if type(next_tasks) == list:   \n",
    "           for assigned in next_tasks:\n",
    "               dagTask[assigned] << dagTask[task_name]        \n",
    " \n",
    "       return dagTask"
   ]
  },
  {
   "cell_type": "code",
   "execution_count": 1,
   "id": "e80318a4-cad2-4c01-a1d2-aca0df4baa33",
   "metadata": {},
   "outputs": [
    {
     "name": "stdout",
     "output_type": "stream",
     "text": [
      "Collecting psycopg2\n",
      "  Downloading psycopg2-2.9.9-cp311-cp311-win_amd64.whl.metadata (4.5 kB)\n",
      "Downloading psycopg2-2.9.9-cp311-cp311-win_amd64.whl (1.2 MB)\n",
      "   ---------------------------------------- 0.0/1.2 MB ? eta -:--:--\n",
      "   - -------------------------------------- 0.0/1.2 MB 660.6 kB/s eta 0:00:02\n",
      "   ---- ----------------------------------- 0.1/1.2 MB 1.4 MB/s eta 0:00:01\n",
      "   ------------ --------------------------- 0.4/1.2 MB 2.8 MB/s eta 0:00:01\n",
      "   ------------------------ --------------- 0.7/1.2 MB 4.2 MB/s eta 0:00:01\n",
      "   ----------------------------------- ---- 1.0/1.2 MB 4.7 MB/s eta 0:00:01\n",
      "   ---------------------------------------- 1.2/1.2 MB 4.6 MB/s eta 0:00:00\n",
      "Installing collected packages: psycopg2\n",
      "Successfully installed psycopg2-2.9.9\n"
     ]
    }
   ],
   "source": [
    "!pip install psycopg2"
   ]
  },
  {
   "cell_type": "code",
   "execution_count": 6,
   "id": "ad62991c-d66f-4a17-a757-d211523235b7",
   "metadata": {},
   "outputs": [
    {
     "data": {
      "text/plain": [
       "True"
      ]
     },
     "execution_count": 6,
     "metadata": {},
     "output_type": "execute_result"
    }
   ],
   "source": [
    "def postgres_test():\n",
    "    try:\n",
    "        conn = psycopg2.connect(\n",
    "            host='localhost', \n",
    "            dbname='postgres', \n",
    "            user='postgres', \n",
    "            password='admin', \n",
    "            port=5432, \n",
    "            connect_timeout=1)\n",
    "        conn.close()\n",
    "        return True\n",
    "    except:\n",
    "        return False\n",
    "\n",
    "postgres_test()"
   ]
  },
  {
   "cell_type": "code",
   "execution_count": 9,
   "id": "c03c5d6c-996e-41f4-ba2d-489cedecde8c",
   "metadata": {},
   "outputs": [
    {
     "data": {
      "text/plain": [
       "'Connected'"
      ]
     },
     "execution_count": 9,
     "metadata": {},
     "output_type": "execute_result"
    }
   ],
   "source": [
    "import psycopg2\n",
    "def postgres_test():\n",
    "    try:\n",
    "        conn = psycopg2.connect(\n",
    "            host='localhost', \n",
    "            dbname='postgres', \n",
    "            user='postgres', \n",
    "            password='admin', \n",
    "            port=5432)\n",
    "        cur=conn.cursor()\n",
    "        return 'Connected'\n",
    "        conn.commit()\n",
    "        cur.close()\n",
    "        conn.close()\n",
    "    except:\n",
    "        return False\n",
    "\n",
    "postgres_test()"
   ]
  },
  {
   "cell_type": "code",
   "execution_count": null,
   "id": "5d95b631-078d-4a85-8965-791d81c3f96d",
   "metadata": {},
   "outputs": [],
   "source": []
  }
 ],
 "metadata": {
  "kernelspec": {
   "display_name": "Python 3 (ipykernel)",
   "language": "python",
   "name": "python3"
  },
  "language_info": {
   "codemirror_mode": {
    "name": "ipython",
    "version": 3
   },
   "file_extension": ".py",
   "mimetype": "text/x-python",
   "name": "python",
   "nbconvert_exporter": "python",
   "pygments_lexer": "ipython3",
   "version": "3.11.7"
  }
 },
 "nbformat": 4,
 "nbformat_minor": 5
}
