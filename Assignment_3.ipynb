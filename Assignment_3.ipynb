{
 "cells": [
  {
   "cell_type": "code",
   "execution_count": 1,
   "id": "2d788010-e66a-49ac-8bbb-94e0bca96349",
   "metadata": {},
   "outputs": [
    {
     "name": "stdout",
     "output_type": "stream",
     "text": [
      "\n",
      "\n",
      "Employee Account Details: Ramesh\n",
      "================================\n"
     ]
    },
    {
     "name": "stdin",
     "output_type": "stream",
     "text": [
      "\n",
      "Enter Basic Salary:  5000\n"
     ]
    },
    {
     "name": "stdout",
     "output_type": "stream",
     "text": [
      "\n",
      "===============================\n",
      "Salary Details of Ramesh\n",
      "===============================\n",
      " \n",
      "Basic Salary:         5000 Rs \n",
      "Dearness Allowance:   2000.0 Rs \n",
      "House Rent Allowance: 1000.0 Rs\n",
      "===============================\n",
      "Gross Salary:         8000.0 Rs\n",
      "===============================\n"
     ]
    }
   ],
   "source": [
    "# 1 Write a program to  calculate his gross salary.\n",
    "print('\\n\\nEmployee Account Details: Ramesh')\n",
    "print('================================')\n",
    "bsal = eval(input('\\nEnter Basic Salary: '))\n",
    "allowance = (bsal * 40) / 100\n",
    "h_rent_allo = (bsal * 20) / 100\n",
    "gross_sal = bsal + allowance + h_rent_allo\n",
    "print('\\n===============================')\n",
    "print('Salary Details of Ramesh')\n",
    "print('===============================')\n",
    "\n",
    "print(f' \\nBasic Salary:         {bsal} Rs \\nDearness Allowance:   {allowance} Rs \\nHouse Rent Allowance: {h_rent_allo} Rs')\n",
    "print('===============================')\n",
    "print(f'Gross Salary:         {gross_sal} Rs')\n",
    "print('===============================')"
   ]
  },
  {
   "cell_type": "code",
   "execution_count": 2,
   "id": "88803ec4-75b6-44a7-bd8c-b28fda1990e6",
   "metadata": {},
   "outputs": [
    {
     "name": "stdin",
     "output_type": "stream",
     "text": [
      "\n",
      "Enter distance between Begumpet to Ameerper in KM:  1\n"
     ]
    },
    {
     "name": "stdout",
     "output_type": "stream",
     "text": [
      "\n",
      "=======================================================================\n",
      "Entered distance from Begumpet to Ameerper in Kilometers is: 1\n",
      "Distance from Begumpet to Ameerper in Meter's is:           1000\n",
      "Distance between from Begumpet to Ameerper in Feet's is:    3280.8399\n",
      "Distance between from Begumpet to Ameerper in Inche's is:   39370.0788\n",
      "=======================================================================\n"
     ]
    }
   ],
   "source": [
    "# 2 Write a program  to convert and print this distance in meters, feet, inches and centimeters.Write a program to  calculate his gross salary.\n",
    "\n",
    "dist = eval(input('\\nEnter distance between Begumpet to Ameerper in KM: '))\n",
    "meters = dist * 1000\n",
    "feets = meters * 3.2808399\n",
    "inches = feets * 12\n",
    "print('\\n=======================================================================')\n",
    "print(f'Entered distance from Begumpet to Ameerper in Kilometers is: {dist}')\n",
    "print(f'Distance from Begumpet to Ameerper in Meter\\'s is:           {meters}')\n",
    "print(f'Distance between from Begumpet to Ameerper in Feet\\'s is:    {feets}')\n",
    "print(f'Distance between from Begumpet to Ameerper in Inche\\'s is:   {inches}')\n",
    "print('=======================================================================')\n"
   ]
  },
  {
   "cell_type": "code",
   "execution_count": 3,
   "id": "59bbca74-b816-4fc3-966b-852ea9d53204",
   "metadata": {},
   "outputs": [
    {
     "name": "stdout",
     "output_type": "stream",
     "text": [
      "\n",
      "===========================================================\n",
      "Program to accept students Marks and to display PASS / FAIL\n",
      "===========================================================\n",
      "\n",
      "\n",
      "*** Student Max Marks Should be \"100\"\n",
      "\n",
      "\n",
      "Enter Student Marks\n",
      "============================\n"
     ]
    },
    {
     "name": "stdin",
     "output_type": "stream",
     "text": [
      "\n",
      "Student Name: Radha\n",
      "\n",
      "1st Language: 55\n",
      "\n",
      "2nd Language: 66\n",
      "\n",
      "3rd Language: 77\n",
      "\n",
      "Mathematics: 55\n",
      "\n",
      "Physical Science: 66\n",
      "\n",
      "Social Studies: 73\n"
     ]
    },
    {
     "name": "stdout",
     "output_type": "stream",
     "text": [
      "============================\n",
      "\n",
      "\n",
      "***If Student marks lessthan 40 then theresult will be \"Fail\"\n",
      "\n",
      "Student Results\n",
      "============================\n",
      "Student ID: 1333\n",
      "Student Name: Radha\n",
      "Student First language: 55\n",
      "Student Second language: 66\n",
      "Student Third language: 77\n",
      "Student Mathematics: 55\n",
      "Student Physical Science: 66\n",
      "Student Social Studies: 73\n",
      "\n",
      "\n",
      "Total Marks is: 392\n",
      "Percentage is: 65.33\n",
      "Result is: Pass\n"
     ]
    }
   ],
   "source": [
    "# 3 Program accepting student marks and printing total marks, percentage and result\n",
    "import random\n",
    "print(\"\\n===========================================================\")\n",
    "print(\"Program to accept students Marks and to display PASS / FAIL\")\n",
    "print(\"===========================================================\\n\\n\")\n",
    "print('*** Student Max Marks Should be \"100\"')\n",
    "print('\\n\\nEnter Student Marks')\n",
    "print(\"============================\")\n",
    "std_idno=random.randint(1000,1500)\n",
    "std_name=input('\\nStudent Name:')\n",
    "std_1st_lan=eval(input(\"\\n1st Language:\"))\n",
    "std_2nd_lan=eval(input(\"\\n2nd Language:\"))\n",
    "std_3rd_lan=eval(input(\"\\n3rd Language:\"))\n",
    "std_maths=eval(input(\"\\nMathematics:\"))\n",
    "std_sci=eval(input(\"\\nPhysical Science:\"))\n",
    "std_soc=eval(input(\"\\nSocial Studies:\"))\n",
    "print(\"============================\")\n",
    "print('\\n\\n***If Student marks lessthan 40 then theresult will be \"Fail\"')\n",
    "print('\\nStudent Results')\n",
    "print(\"============================\")\n",
    "print(f'Student ID: {std_idno}')\n",
    "print(f'Student Name: {std_name}')\n",
    "print(f'Student First language: {std_1st_lan}')\n",
    "print(f'Student Second language: {std_2nd_lan}')\n",
    "print(f'Student Third language: {std_3rd_lan}')\n",
    "print(f'Student Mathematics: {std_maths}')\n",
    "print(f'Student Physical Science: {std_sci}')\n",
    "print(f'Student Social Studies: {std_soc}')\n",
    "\n",
    "tot_marks=std_1st_lan+std_2nd_lan+std_3rd_lan+std_maths+std_sci+std_soc\n",
    "\n",
    "result='Pass'\n",
    "if std_1st_lan<40:\n",
    "    result='Fail'\n",
    "if std_2nd_lan<40:\n",
    "    result='Fail'\n",
    "if std_3rd_lan<40:\n",
    "    result='Fail'\n",
    "if std_maths<40:\n",
    "    result='Fail'\n",
    "if std_sci<40:\n",
    "    result='Fail'\n",
    "if std_soc<40:\n",
    "    result='Fail'\n",
    "percentage=round(((tot_marks/600)*100),2)\n",
    "print(\"\\n\")\n",
    "print(f'Total Marks is: {tot_marks}')\n",
    "print(f'Percentage is: {percentage}')\n",
    "print(f'Result is: {result}')"
   ]
  },
  {
   "cell_type": "code",
   "execution_count": 4,
   "id": "864fb282-2568-4105-98b6-6600ca7d7ed4",
   "metadata": {},
   "outputs": [
    {
     "name": "stdin",
     "output_type": "stream",
     "text": [
      "Enter Fahrenheit degrees:  102\n"
     ]
    },
    {
     "name": "stdout",
     "output_type": "stream",
     "text": [
      "The Fahrenheit: 102 degrees into Centigrade is: 38.89 degrees\n"
     ]
    }
   ],
   "source": [
    "# 4 Write a  program to convert temperature from Fahrenheit degrees into Centigrade degrees. \n",
    "# Formula => c/5 = f-32/9\n",
    "fahrenheit = eval(input('Enter Fahrenheit degrees: '))\n",
    "celsius = round((((fahrenheit-32) * 5) / 9), 2)\n",
    "print(f'The Fahrenheit: {fahrenheit} degrees into Centigrade is: {celsius} degrees')"
   ]
  },
  {
   "cell_type": "code",
   "execution_count": 6,
   "id": "2aadd322-9fae-4354-953d-f139da7d6db1",
   "metadata": {},
   "outputs": [
    {
     "name": "stdout",
     "output_type": "stream",
     "text": [
      "===> Calculating Area and Perimeter of a Rectangle\n"
     ]
    },
    {
     "name": "stdin",
     "output_type": "stream",
     "text": [
      "\n",
      "Enter Height of the Rectangle:  2\n",
      "Enter Breadth of the Rectangle:  3\n"
     ]
    },
    {
     "name": "stdout",
     "output_type": "stream",
     "text": [
      "\n",
      "===> Calculating Area and Perimeter of a Circle\n"
     ]
    },
    {
     "name": "stdin",
     "output_type": "stream",
     "text": [
      "\n",
      "Enter Radius of the Rectangle:  2\n"
     ]
    },
    {
     "name": "stdout",
     "output_type": "stream",
     "text": [
      "\n",
      "\n",
      "================================================\n",
      "Height and Breadth of a Rectangle is: 2 and 3\n",
      "================================================\n",
      "Area of a Rectangle is: 6\n",
      "Perimeter of a Rectangle is: 10\n",
      "\n",
      "\n",
      "====================================\n",
      "Radius of a Circle is: 2\n",
      "====================================\n",
      "Area of a Circle is: 12.57\n",
      "Perimeter of a Circle is: 12.57\n"
     ]
    }
   ],
   "source": [
    "# 5 Write a program to calculate the area & perimeter of the rectangle, and the  area & circumference of the circle. \n",
    "# Area of a rectangle = b*h\n",
    "# Perimeter of a rectangle = h+h+b+b\n",
    "# Area of a circle = pi*r*r\n",
    "# circumference of a circle = 2*pi*r\n",
    "\n",
    "import math\n",
    "\n",
    "print('===> Calculating Area and Perimeter of a Rectangle')\n",
    "\n",
    "height = eval(input('\\nEnter Height of the Rectangle: '))\n",
    "breadth = eval(input('Enter Breadth of the Rectangle: '))\n",
    "area_rec = height * breadth\n",
    "pri_rec = height+height+breadth+breadth\n",
    "\n",
    "print('\\n===> Calculating Area and Perimeter of a Circle')\n",
    "\n",
    "radius = eval(input('\\nEnter Radius of the Rectangle: '))\n",
    "\n",
    "area_cir = round((math.pi)*radius*radius, 2)\n",
    "pri_cir = round(2*(math.pi)*radius, 2)\n",
    "\n",
    "print('\\n\\n================================================')\n",
    "print(f'Height and Breadth of a Rectangle is: {height} and {breadth}')\n",
    "print('================================================')\n",
    "print(f'Area of a Rectangle is: {area_rec}')\n",
    "print(f'Perimeter of a Rectangle is: {pri_rec}')\n",
    "\n",
    "print('\\n\\n====================================')\n",
    "print(f'Radius of a Circle is: {radius}')\n",
    "print('====================================')\n",
    "print(f'Area of a Circle is: {area_cir}')\n",
    "print(f'Perimeter of a Circle is: {pri_cir}')\n"
   ]
  },
  {
   "cell_type": "code",
   "execution_count": 7,
   "id": "495076aa-72dc-4530-9b85-c83414ae228b",
   "metadata": {},
   "outputs": [
    {
     "name": "stdout",
     "output_type": "stream",
     "text": [
      "Enter 2 numbers to SWAP\n"
     ]
    },
    {
     "name": "stdin",
     "output_type": "stream",
     "text": [
      "Enter value A:  55\n",
      "Enter value B:  77\n"
     ]
    },
    {
     "name": "stdout",
     "output_type": "stream",
     "text": [
      "\n",
      "Swaping Numbers\n",
      "==================\n",
      "Enter value A: 77\n",
      "Enter value A: 55\n"
     ]
    }
   ],
   "source": [
    "# 6 WAP to swap 2 mumbers\n",
    "print('Enter 2 numbers to SWAP')\n",
    "num1 = eval(input('Enter value A: '))\n",
    "num2 = eval(input('Enter value B: '))\n",
    "temp = num1\n",
    "num1 = num2\n",
    "num2 = temp\n",
    "print('\\nSwaping Numbers')\n",
    "print('==================')\n",
    "print(f'Enter value A: {num1}')\n",
    "print(f'Enter value A: {num2}')"
   ]
  },
  {
   "cell_type": "code",
   "execution_count": 9,
   "id": "bf4bc4c0-0f4d-4894-8da6-60537d3a8ada",
   "metadata": {},
   "outputs": [
    {
     "name": "stdin",
     "output_type": "stream",
     "text": [
      "Enter 5 digit number to reverse the number:  65432\n"
     ]
    },
    {
     "name": "stdout",
     "output_type": "stream",
     "text": [
      "Reverse Number is: 23456\n"
     ]
    }
   ],
   "source": [
    "# 7 write a program to reverse the  number\n",
    "import math\n",
    "palid = eval(input('Enter 5 digit number to reverse the number: '))\n",
    "rev_palid = 0\n",
    "rev_palid = rev_palid *10 + palid%10\n",
    "palid = math.trunc(palid/10)\n",
    "rev_palid = math.trunc(rev_palid *10 + palid%10)\n",
    "palid = math.trunc(palid/10)\n",
    "rev_palid = math.trunc(rev_palid *10 + palid%10)\n",
    "palid = math.trunc(palid/10) # = 4\n",
    "rev_palid = math.trunc(rev_palid *10 + palid%10)\n",
    "palid = palid/10\n",
    "rev_palid = math.trunc(rev_palid *10 + palid%10)\n",
    "print(f'Reverse Number is: {rev_palid}')"
   ]
  },
  {
   "cell_type": "code",
   "execution_count": 10,
   "id": "df94a4ed-52ba-460c-8935-8387e5d31115",
   "metadata": {},
   "outputs": [
    {
     "name": "stdout",
     "output_type": "stream",
     "text": [
      "Total population is: 80000\n",
      "Total literacy 48% is: 38400.0\n",
      "From the total literacy 48%, The men literacy 35% is: 13440.0\n",
      "From the total literacy out of men, The women literacy 65% is: 24960.0\n"
     ]
    }
   ],
   "source": [
    "# 9 write a program to find the total  number of illiterate men and women if the population of the town is 80,000.\n",
    "tot_pop = 80000\n",
    "print(f'Total population is: {tot_pop}')\n",
    "tot_lit = (80000 * 48) /100\n",
    "print(f'Total literacy 48% is: {tot_lit}')\n",
    "men_lit = (tot_lit * 35) / 100\n",
    "print(f'From the total literacy 48%, The men literacy 35% is: {men_lit}')\n",
    "women_lit = tot_lit - men_lit\n",
    "print(f'From the total literacy out of men, The women literacy 65% is: {women_lit}')"
   ]
  },
  {
   "cell_type": "code",
   "execution_count": 11,
   "id": "d93d7b83-9ea0-46bb-8dfd-68f98592563c",
   "metadata": {},
   "outputs": [
    {
     "name": "stdin",
     "output_type": "stream",
     "text": [
      "Enter 100 Notes:  1\n",
      "Enter 50 Notes:  1\n",
      "Enter 10 Notes:  1\n"
     ]
    },
    {
     "name": "stdout",
     "output_type": "stream",
     "text": [
      "==========================\n",
      "Total 100 Notes x 1 = 100\n",
      "Total 50 Notes x 1 = 50\n",
      "Total 10 Notes x 1 = 10\n",
      "Total cash: 160\n"
     ]
    }
   ],
   "source": [
    "#  10 Find the total number of currency  notes of each denomination the cashier will have to give to the withdrawer\n",
    "note_100 = eval(input('Enter 100 Notes: '))\n",
    "note_50 = eval(input('Enter 50 Notes: '))\n",
    "note_10 = eval(input('Enter 10 Notes: '))\n",
    "tot_100 = note_100 * 100\n",
    "tot_50 = note_50 * 50\n",
    "tot_10 = note_10 * 10\n",
    "print('==========================')\n",
    "tot_cash = tot_100 + tot_50 + tot_10\n",
    "print(f'Total 100 Notes x {note_100} = {tot_100}')\n",
    "print(f'Total 50 Notes x {note_50} = {tot_50}')\n",
    "print(f'Total 10 Notes x {note_10} = {tot_10}')\n",
    "print(f'Total cash: {tot_cash}')"
   ]
  },
  {
   "cell_type": "code",
   "execution_count": null,
   "id": "50858a7d-a773-462b-90d8-4ed7a4922f0c",
   "metadata": {},
   "outputs": [],
   "source": []
  }
 ],
 "metadata": {
  "kernelspec": {
   "display_name": "Python 3 (ipykernel)",
   "language": "python",
   "name": "python3"
  },
  "language_info": {
   "codemirror_mode": {
    "name": "ipython",
    "version": 3
   },
   "file_extension": ".py",
   "mimetype": "text/x-python",
   "name": "python",
   "nbconvert_exporter": "python",
   "pygments_lexer": "ipython3",
   "version": "3.11.7"
  }
 },
 "nbformat": 4,
 "nbformat_minor": 5
}
