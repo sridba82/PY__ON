{
 "cells": [
  {
   "cell_type": "code",
   "execution_count": 6,
   "id": "d934947d-a3ec-44bb-b4c5-ced2f8d28580",
   "metadata": {},
   "outputs": [
    {
     "name": "stdin",
     "output_type": "stream",
     "text": [
      "Enter 1st Number:  4\n",
      "Enter 2nd Number:  2\n"
     ]
    },
    {
     "name": "stdout",
     "output_type": "stream",
     "text": [
      "\n",
      "Enter the below operations between 1-4\n"
     ]
    },
    {
     "name": "stdin",
     "output_type": "stream",
     "text": [
      "Enter Operation 1 for addition\n",
      "Enter Operation 2 for Multiplication\n",
      "Enter Operation 3 for Subtraction\n",
      "Enter Operation 4 for Division\n",
      " 3\n"
     ]
    },
    {
     "name": "stdout",
     "output_type": "stream",
     "text": [
      "Subtraction of 4 and 2 is: 2\n"
     ]
    }
   ],
   "source": [
    "num1 = eval(input('Enter 1st Number: '))\n",
    "num2 = eval(input('Enter 2nd Number: '))\n",
    "print('\\nEnter the below operations between 1-4')\n",
    "operation= eval(input('Enter Operation 1 for addition\\nEnter Operation 2 for Multiplication\\nEnter Operation 3 for Subtraction\\nEnter Operation 4 for Division\\n'))\n",
    "if operation == 1:\n",
    "    sol = num1 + num2\n",
    "    print(f'Addition of {num1} and {num2} is: {sol}')\n",
    "elif operation == 2:\n",
    "    sol = num1 * num2\n",
    "    print(f'Multiplication of {num1} and {num2} is: {sol}')\n",
    "elif operation == 3:\n",
    "    sol = num1 - num2\n",
    "    print(f'Subtraction of {num1} and {num2} is: {sol}')\n",
    "elif operation == 4:\n",
    "    sol = num1 / num2\n",
    "    print(f'Division of {num1} and {num2} is: {sol}')\n",
    "else:\n",
    "    print('Enter Valid Number')\n",
    "\n"
   ]
  },
  {
   "cell_type": "code",
   "execution_count": 10,
   "id": "cb5dba3e-44b0-4e61-a770-d1be0e50a7c8",
   "metadata": {},
   "outputs": [
    {
     "name": "stdin",
     "output_type": "stream",
     "text": [
      "Enter your Gender:  Male\n",
      "Enter age:  40\n"
     ]
    },
    {
     "name": "stdout",
     "output_type": "stream",
     "text": [
      "Middle age\n"
     ]
    }
   ],
   "source": [
    "gen = input('Enter your Gender: ')\n",
    "if gen == 'Male':\n",
    "    age = eval(input('Enter age: '))\n",
    "    if age > 60:\n",
    "        print('Senior Citizen')\n",
    "    elif age > 30:\n",
    "        print('Middle age')\n",
    "    elif age > 15:\n",
    "        print('Young man')\n",
    "    else:\n",
    "         print('Boy')\n",
    "elif gen == 'Female':\n",
    "    age = eval(input('Enter age: '))\n",
    "    if age > 60:\n",
    "        print('Senior Citizen')\n",
    "    elif age > 30:\n",
    "        print('Middle age')\n",
    "    elif age > 15:\n",
    "        print('Young girl')\n",
    "    else:\n",
    "         print('Girl')\n",
    "else:\n",
    "    print('Enter correct gender')"
   ]
  },
  {
   "cell_type": "code",
   "execution_count": 16,
   "id": "186119c7-54e8-4682-9a18-93523b15f423",
   "metadata": {},
   "outputs": [
    {
     "name": "stdin",
     "output_type": "stream",
     "text": [
      "Enter Number:  -1\n"
     ]
    },
    {
     "name": "stdout",
     "output_type": "stream",
     "text": [
      "Negative\n"
     ]
    }
   ],
   "source": [
    "num = eval(input('Enter Number: '))\n",
    "if num >= 0:\n",
    "    if num == 0:\n",
    "        print('Zero')\n",
    "    else:\n",
    "        print('Positive')\n",
    "else:\n",
    "    print('Negative')"
   ]
  },
  {
   "cell_type": "markdown",
   "id": "515d2683-0d00-410a-9041-e2fb15bce052",
   "metadata": {},
   "source": [
    "**Try-Except**"
   ]
  },
  {
   "cell_type": "code",
   "execution_count": 18,
   "id": "ae1beb4b-ff35-435d-9ee7-cace252069da",
   "metadata": {},
   "outputs": [
    {
     "name": "stdin",
     "output_type": "stream",
     "text": [
      "Enter Num1:  10\n",
      "Enter Num2:  ten\n"
     ]
    },
    {
     "name": "stdout",
     "output_type": "stream",
     "text": [
      "Drama in the program\n"
     ]
    }
   ],
   "source": [
    "try:\n",
    "    num1 = eval(input('Enter Num1: '))\n",
    "    num2 = eval(input('Enter Num2: '))\n",
    "    add = num1 + num2\n",
    "    print(add)\n",
    "except:\n",
    "    print('Drama in the program')"
   ]
  },
  {
   "cell_type": "code",
   "execution_count": 19,
   "id": "30612b72-f1bb-44da-aeaa-60f471d2d4aa",
   "metadata": {},
   "outputs": [
    {
     "name": "stdin",
     "output_type": "stream",
     "text": [
      "NUm ten\n"
     ]
    },
    {
     "ename": "NameError",
     "evalue": "name 'ten' is not defined",
     "output_type": "error",
     "traceback": [
      "\u001b[1;31m---------------------------------------------------------------------------\u001b[0m",
      "\u001b[1;31mNameError\u001b[0m                                 Traceback (most recent call last)",
      "Cell \u001b[1;32mIn[19], line 1\u001b[0m\n\u001b[1;32m----> 1\u001b[0m num1 \u001b[38;5;241m=\u001b[39m \u001b[38;5;28meval\u001b[39m(\u001b[38;5;28minput\u001b[39m(\u001b[38;5;124m'\u001b[39m\u001b[38;5;124mNUm\u001b[39m\u001b[38;5;124m'\u001b[39m))\n",
      "File \u001b[1;32m<string>:1\u001b[0m\n",
      "\u001b[1;31mNameError\u001b[0m: name 'ten' is not defined"
     ]
    }
   ],
   "source": [
    "num1 = eval(input('NUm'))"
   ]
  },
  {
   "cell_type": "code",
   "execution_count": 21,
   "id": "d67e3a8c-0424-4178-a6ff-f7226adbd35e",
   "metadata": {},
   "outputs": [
    {
     "ename": "TypeError",
     "evalue": "Random.randint() takes 3 positional arguments but 4 were given",
     "output_type": "error",
     "traceback": [
      "\u001b[1;31m---------------------------------------------------------------------------\u001b[0m",
      "\u001b[1;31mTypeError\u001b[0m                                 Traceback (most recent call last)",
      "Cell \u001b[1;32mIn[21], line 2\u001b[0m\n\u001b[0;32m      1\u001b[0m \u001b[38;5;28;01mimport\u001b[39;00m \u001b[38;5;21;01mrandom\u001b[39;00m\n\u001b[1;32m----> 2\u001b[0m num \u001b[38;5;241m=\u001b[39m random\u001b[38;5;241m.\u001b[39mrandint(\u001b[38;5;241m1\u001b[39m,\u001b[38;5;241m100\u001b[39m, \u001b[38;5;241m10\u001b[39m)\n\u001b[0;32m      3\u001b[0m \u001b[38;5;28mprint\u001b[39m(num)\n",
      "\u001b[1;31mTypeError\u001b[0m: Random.randint() takes 3 positional arguments but 4 were given"
     ]
    }
   ],
   "source": [
    "import random\n",
    "num = random.randint(1,100, 10)\n",
    "print(num)"
   ]
  },
  {
   "cell_type": "code",
   "execution_count": 25,
   "id": "9841d2b7-4f98-4632-9348-33f3ae217035",
   "metadata": {},
   "outputs": [
    {
     "name": "stdout",
     "output_type": "stream",
     "text": [
      "30\n"
     ]
    }
   ],
   "source": [
    "import json\n",
    "\n",
    "# some JSON:\n",
    "x =  '{ \"name\":\"John\", \"age\":30, \"city\":\"New York\"}'\n",
    "\n",
    "# parse x:\n",
    "y = json.loads(x)\n",
    "\n",
    "# the result is a Python dictionary:\n",
    "print(y[\"age\"])"
   ]
  },
  {
   "cell_type": "code",
   "execution_count": 24,
   "id": "f05a6508-05d6-44a3-bb69-0ffbc5549d3d",
   "metadata": {},
   "outputs": [
    {
     "name": "stdout",
     "output_type": "stream",
     "text": [
      "{\"name\": \"John\", \"age\": 30, \"city\": \"New York\"}\n"
     ]
    }
   ],
   "source": [
    "import json\n",
    "\n",
    "# a Python object (dict):\n",
    "x = {\n",
    "  \"name\": \"John\",\n",
    "  \"age\": 30,\n",
    "  \"city\": \"New York\"\n",
    "}\n",
    "\n",
    "# convert into JSON:\n",
    "y = json.dumps(x)\n",
    "\n",
    "# the result is a JSON string:\n",
    "print(y)"
   ]
  },
  {
   "cell_type": "code",
   "execution_count": 26,
   "id": "bf2dca4a-137e-4705-bcde-8124f7d5031c",
   "metadata": {},
   "outputs": [
    {
     "name": "stdout",
     "output_type": "stream",
     "text": [
      "{\"name\": \"John\", \"age\": 30}\n",
      "[\"apple\", \"bananas\"]\n",
      "[\"apple\", \"bananas\"]\n",
      "\"hello\"\n",
      "42\n",
      "31.76\n",
      "true\n",
      "false\n",
      "null\n"
     ]
    }
   ],
   "source": [
    "import json\n",
    "\n",
    "print(json.dumps({\"name\": \"John\", \"age\": 30}))\n",
    "print(json.dumps([\"apple\", \"bananas\"]))\n",
    "print(json.dumps((\"apple\", \"bananas\")))\n",
    "print(json.dumps(\"hello\"))\n",
    "print(json.dumps(42))\n",
    "print(json.dumps(31.76))\n",
    "print(json.dumps(True))\n",
    "print(json.dumps(False))\n",
    "print(json.dumps(None))"
   ]
  },
  {
   "cell_type": "code",
   "execution_count": 27,
   "id": "d945b02b-370d-4d23-a105-aead690d5950",
   "metadata": {},
   "outputs": [
    {
     "name": "stdout",
     "output_type": "stream",
     "text": [
      "{\"name\": \"John\", \"age\": 30, \"married\": true, \"divorced\": false, \"children\": [\"Ann\", \"Billy\"], \"pets\": null, \"cars\": [{\"model\": \"BMW 230\", \"mpg\": 27.5}, {\"model\": \"Ford Edge\", \"mpg\": 24.1}]}\n"
     ]
    }
   ],
   "source": [
    "import json\n",
    "\n",
    "x = {\n",
    "  \"name\": \"John\",\n",
    "  \"age\": 30,\n",
    "  \"married\": True,\n",
    "  \"divorced\": False,\n",
    "  \"children\": (\"Ann\",\"Billy\"),\n",
    "  \"pets\": None,\n",
    "  \"cars\": [\n",
    "    {\"model\": \"BMW 230\", \"mpg\": 27.5},\n",
    "    {\"model\": \"Ford Edge\", \"mpg\": 24.1}\n",
    "  ]\n",
    "}\n",
    "\n",
    "print(json.dumps(x))"
   ]
  },
  {
   "cell_type": "code",
   "execution_count": null,
   "id": "ddde7104-2bd0-4d4c-b713-41b39fc56790",
   "metadata": {},
   "outputs": [],
   "source": []
  }
 ],
 "metadata": {
  "kernelspec": {
   "display_name": "Python 3 (ipykernel)",
   "language": "python",
   "name": "python3"
  },
  "language_info": {
   "codemirror_mode": {
    "name": "ipython",
    "version": 3
   },
   "file_extension": ".py",
   "mimetype": "text/x-python",
   "name": "python",
   "nbconvert_exporter": "python",
   "pygments_lexer": "ipython3",
   "version": "3.11.7"
  }
 },
 "nbformat": 4,
 "nbformat_minor": 5
}
