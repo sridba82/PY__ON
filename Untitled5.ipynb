{
 "cells": [
  {
   "cell_type": "code",
   "execution_count": 2,
   "id": "4e2acc51-afd2-4318-a77b-d434869534a7",
   "metadata": {},
   "outputs": [
    {
     "name": "stdin",
     "output_type": "stream",
     "text": [
      "Enter number to square of it:  3\n"
     ]
    },
    {
     "name": "stdout",
     "output_type": "stream",
     "text": [
      "9\n"
     ]
    },
    {
     "name": "stdin",
     "output_type": "stream",
     "text": [
      "Enter number to square of it:  4\n"
     ]
    },
    {
     "name": "stdout",
     "output_type": "stream",
     "text": [
      "16\n"
     ]
    },
    {
     "name": "stdin",
     "output_type": "stream",
     "text": [
      "Enter number to square of it:  5\n"
     ]
    },
    {
     "name": "stdout",
     "output_type": "stream",
     "text": [
      "25\n"
     ]
    }
   ],
   "source": [
    "for i in range(3):\n",
    "    num=eval(input('Enter number to square of it: '))\n",
    "    numsq = num*num\n",
    "    print(numsq)\n",
    "    "
   ]
  },
  {
   "cell_type": "code",
   "execution_count": 4,
   "id": "4f019046-0072-4e49-92ac-4ec0c6bdb8d7",
   "metadata": {},
   "outputs": [
    {
     "name": "stdout",
     "output_type": "stream",
     "text": [
      "14 x 1 = 14\n",
      "14 x 2 = 28\n",
      "14 x 3 = 42\n",
      "14 x 4 = 56\n",
      "14 x 5 = 70\n",
      "14 x 6 = 84\n",
      "14 x 7 = 98\n",
      "14 x 8 = 112\n",
      "14 x 9 = 126\n",
      "14 x 10 = 140\n"
     ]
    }
   ],
   "source": [
    "for i in range(1, 11):\n",
    "    print(f'14 x {i} = {14*i}')"
   ]
  },
  {
   "cell_type": "code",
   "execution_count": 7,
   "id": "a35d89a1-9154-44f2-abac-042812c0d457",
   "metadata": {},
   "outputs": [
    {
     "name": "stdin",
     "output_type": "stream",
     "text": [
      "Enter any number to print multiplication table:  16\n"
     ]
    },
    {
     "name": "stdout",
     "output_type": "stream",
     "text": [
      "16 x 1 = 16\n",
      "16 x 2 = 32\n",
      "16 x 3 = 48\n",
      "16 x 4 = 64\n",
      "16 x 5 = 80\n",
      "16 x 6 = 96\n",
      "16 x 7 = 112\n",
      "16 x 8 = 128\n",
      "16 x 9 = 144\n",
      "16 x 10 = 160\n"
     ]
    }
   ],
   "source": [
    "num = eval(input('Enter any number to print multiplication table: '))\n",
    "for i in range(1, 11):\n",
    "    val = i * num\n",
    "    print(f'{num} x {i} = {val}')"
   ]
  },
  {
   "cell_type": "code",
   "execution_count": 14,
   "id": "463baf6c-4b40-4e92-9aa1-47bf58a01108",
   "metadata": {},
   "outputs": [
    {
     "name": "stdin",
     "output_type": "stream",
     "text": [
      "Enter any number to print Factors:  75\n"
     ]
    },
    {
     "name": "stdout",
     "output_type": "stream",
     "text": [
      "The factors of 75 are:\n",
      "1 is the divisor of 75\n",
      "3 is the divisor of 75\n",
      "5 is the divisor of 75\n",
      "15 is the divisor of 75\n",
      "25 is the divisor of 75\n",
      "75 is the divisor of 75\n"
     ]
    }
   ],
   "source": [
    "num = eval(input('Enter any number to print Factors: '))\n",
    "print(\"The factors of\", num, \"are:\")\n",
    "for i in range(1, num + 1):\n",
    "    if num%i == 0:\n",
    "        print(f'{i} is the divisor of {num}')"
   ]
  },
  {
   "cell_type": "code",
   "execution_count": 17,
   "id": "a58f9854-6186-4a98-8eb4-e323ff7ecf91",
   "metadata": {},
   "outputs": [
    {
     "name": "stdin",
     "output_type": "stream",
     "text": [
      "Enter any number to print Factors:  10\n"
     ]
    },
    {
     "name": "stdout",
     "output_type": "stream",
     "text": [
      "The First Natural of 10 are:\n",
      "1\n",
      "3\n",
      "6\n",
      "10\n",
      "15\n",
      "21\n",
      "28\n",
      "36\n",
      "45\n",
      "55\n"
     ]
    }
   ],
   "source": [
    "num = eval(input('Enter any number to print Factors: '))\n",
    "print(\"The First Natural of\", num, \"are:\")\n",
    "sum=0\n",
    "for i in range(1, num + 1):\n",
    "    sum=sum+i\n",
    "    print(sum)"
   ]
  },
  {
   "cell_type": "markdown",
   "id": "96529d63-6d43-46d3-9d5e-85d28a0a5439",
   "metadata": {},
   "source": [
    "**Counter Wrapper**"
   ]
  },
  {
   "cell_type": "code",
   "execution_count": 25,
   "id": "5438fd51-52bd-4afa-99f4-5ee4f2977f1a",
   "metadata": {},
   "outputs": [
    {
     "name": "stdin",
     "output_type": "stream",
     "text": [
      "Enter any number to print Factors:  90\n"
     ]
    },
    {
     "name": "stdout",
     "output_type": "stream",
     "text": [
      "The Factors count of 90  is: 12\n"
     ]
    }
   ],
   "source": [
    "num = eval(input('Enter any number to print Factors: '))\n",
    "print(\"The Factors count of\", num, ' is:',end=' ')\n",
    "count=0\n",
    "for i in range(1, num + 1):\n",
    "    if num%i == 0:\n",
    "        count=count+1\n",
    "        # print(f'{i} is the divisor of {num}')\n",
    "        \n",
    "print(f'{count}')"
   ]
  },
  {
   "cell_type": "code",
   "execution_count": 41,
   "id": "c8e7fdb0-fe0d-4678-b44e-1e0598495b85",
   "metadata": {},
   "outputs": [
    {
     "name": "stdout",
     "output_type": "stream",
     "text": [
      "Random number is: 4\n"
     ]
    },
    {
     "name": "stdin",
     "output_type": "stream",
     "text": [
      "Enter any number to Toss:  3\n"
     ]
    },
    {
     "name": "stdout",
     "output_type": "stream",
     "text": [
      "Fail, you have last 2 chances\n",
      "Random number is: 4\n"
     ]
    },
    {
     "name": "stdin",
     "output_type": "stream",
     "text": [
      "Enter any number to Toss:  4\n"
     ]
    },
    {
     "name": "stdout",
     "output_type": "stream",
     "text": [
      "Won\n"
     ]
    }
   ],
   "source": [
    "import random\n",
    "for i in range(1,4):\n",
    "    num1 = random.randint(1, 10)\n",
    "    print(f'Random number is: {num1}')\n",
    "    num2 = eval(input('Enter any number to Toss: '))\n",
    "    if num1==num2:\n",
    "        print('Won')\n",
    "        break\n",
    "    else:\n",
    "        chance = 3 - i\n",
    "        print(f'Fail, you have last {chance} chances')\n"
   ]
  },
  {
   "cell_type": "code",
   "execution_count": null,
   "id": "4f369f45-1c83-4040-8df6-fad5871110c1",
   "metadata": {},
   "outputs": [],
   "source": []
  }
 ],
 "metadata": {
  "kernelspec": {
   "display_name": "Python 3 (ipykernel)",
   "language": "python",
   "name": "python3"
  },
  "language_info": {
   "codemirror_mode": {
    "name": "ipython",
    "version": 3
   },
   "file_extension": ".py",
   "mimetype": "text/x-python",
   "name": "python",
   "nbconvert_exporter": "python",
   "pygments_lexer": "ipython3",
   "version": "3.11.7"
  }
 },
 "nbformat": 4,
 "nbformat_minor": 5
}
