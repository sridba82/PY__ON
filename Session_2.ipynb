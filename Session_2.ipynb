{
 "cells": [
  {
   "cell_type": "code",
   "execution_count": 1,
   "id": "f32d9c29-eeda-480b-9ae7-505891a131e9",
   "metadata": {},
   "outputs": [],
   "source": [
    "import os"
   ]
  },
  {
   "cell_type": "code",
   "execution_count": 4,
   "id": "2d745c9e-bea3-4517-8f70-073a6bd45689",
   "metadata": {},
   "outputs": [
    {
     "data": {
      "text/plain": [
       "'C:\\\\Users\\\\Srinivas Rao'"
      ]
     },
     "execution_count": 4,
     "metadata": {},
     "output_type": "execute_result"
    }
   ],
   "source": [
    "import os\n",
    "os.getcwd()"
   ]
  },
  {
   "cell_type": "code",
   "execution_count": 5,
   "id": "40e6f316-298b-4d50-b4f7-1dc113da97ce",
   "metadata": {},
   "outputs": [],
   "source": [
    "# It will give the path where our python file located"
   ]
  },
  {
   "cell_type": "code",
   "execution_count": 6,
   "id": "fea51c19-f3db-4409-9335-a3067d6dcd2f",
   "metadata": {},
   "outputs": [
    {
     "data": {
      "text/plain": [
       "'C:\\\\Users\\\\Srinivas Rao'"
      ]
     },
     "execution_count": 6,
     "metadata": {},
     "output_type": "execute_result"
    }
   ],
   "source": [
    "import os\n",
    "os.getcwd()"
   ]
  },
  {
   "cell_type": "code",
   "execution_count": 7,
   "id": "0260776c-8fae-4ef5-8aa5-46c5de1f2fea",
   "metadata": {},
   "outputs": [
    {
     "data": {
      "text/plain": [
       "15"
      ]
     },
     "execution_count": 7,
     "metadata": {},
     "output_type": "execute_result"
    }
   ],
   "source": [
    "0b1111"
   ]
  },
  {
   "cell_type": "code",
   "execution_count": 8,
   "id": "1a22a942-feb9-4e8c-a749-adda48ad1e80",
   "metadata": {},
   "outputs": [
    {
     "ename": "SyntaxError",
     "evalue": "invalid syntax (637873186.py, line 1)",
     "output_type": "error",
     "traceback": [
      "\u001b[1;36m  Cell \u001b[1;32mIn[8], line 1\u001b[1;36m\u001b[0m\n\u001b[1;33m    4 2 1    num\u001b[0m\n\u001b[1;37m      ^\u001b[0m\n\u001b[1;31mSyntaxError\u001b[0m\u001b[1;31m:\u001b[0m invalid syntax\n"
     ]
    }
   ],
   "source": [
    "8 4 2 1    num\n",
    "===============\n",
    "0 0 0 0     0\n",
    "0 0 0 1     1\n",
    "0 0 1 0     2\n",
    "0 0 1 1     3\n",
    "0 1 0 0     4\n",
    "0 1 0 1     5\n",
    "0 1 1 0     6\n",
    "0 1 1 1     7\n",
    "1 0 0 0     8\n",
    "1 0 0 1     9\n",
    "1 0 1 0     10\n",
    "1 0 1 1     11\n",
    "1 1 0 0     12\n",
    "1 1 0 1     13\n",
    "1 1 1 0     14\n",
    "1 1 1 1     15\n",
    "\n"
   ]
  },
  {
   "cell_type": "code",
   "execution_count": 9,
   "id": "edb84281-82e1-4c44-8654-8bb3739e480e",
   "metadata": {},
   "outputs": [
    {
     "data": {
      "text/plain": [
       "18"
      ]
     },
     "execution_count": 9,
     "metadata": {},
     "output_type": "execute_result"
    }
   ],
   "source": [
    "0x12"
   ]
  },
  {
   "cell_type": "code",
   "execution_count": 10,
   "id": "1d127e47-b07b-4a40-958e-9ea8204caa50",
   "metadata": {},
   "outputs": [
    {
     "data": {
      "text/plain": [
       "1"
      ]
     },
     "execution_count": 10,
     "metadata": {},
     "output_type": "execute_result"
    }
   ],
   "source": [
    "0x1"
   ]
  },
  {
   "cell_type": "code",
   "execution_count": 11,
   "id": "28b71863-8504-418c-8e87-b24ea8c131c3",
   "metadata": {},
   "outputs": [
    {
     "data": {
      "text/plain": [
       "17"
      ]
     },
     "execution_count": 11,
     "metadata": {},
     "output_type": "execute_result"
    }
   ],
   "source": [
    "0x11"
   ]
  },
  {
   "cell_type": "code",
   "execution_count": 12,
   "id": "e0fcc0e7-0933-4d05-a141-c3b6d673cdfc",
   "metadata": {},
   "outputs": [
    {
     "data": {
      "text/plain": [
       "2748"
      ]
     },
     "execution_count": 12,
     "metadata": {},
     "output_type": "execute_result"
    }
   ],
   "source": [
    "0xabc"
   ]
  },
  {
   "cell_type": "code",
   "execution_count": 13,
   "id": "989b5bee-69c1-44f3-8ab3-eaa58ced8532",
   "metadata": {},
   "outputs": [
    {
     "data": {
      "text/plain": [
       "92"
      ]
     },
     "execution_count": 13,
     "metadata": {},
     "output_type": "execute_result"
    }
   ],
   "source": [
    "# 10+11+12\n",
    "64+0+16+8+2+2"
   ]
  },
  {
   "cell_type": "code",
   "execution_count": 14,
   "id": "9ea99630-1f00-4468-b3ef-0ccdc7c054ad",
   "metadata": {},
   "outputs": [
    {
     "data": {
      "text/plain": [
       "4671"
      ]
     },
     "execution_count": 14,
     "metadata": {},
     "output_type": "execute_result"
    }
   ],
   "source": [
    "0x123f"
   ]
  },
  {
   "cell_type": "code",
   "execution_count": 15,
   "id": "28b4e9ff-3373-47b5-a75e-8454aa39fa65",
   "metadata": {},
   "outputs": [
    {
     "ename": "SyntaxError",
     "evalue": "invalid decimal literal (3043676588.py, line 1)",
     "output_type": "error",
     "traceback": [
      "\u001b[1;36m  Cell \u001b[1;32mIn[15], line 1\u001b[1;36m\u001b[0m\n\u001b[1;33m    1e\u001b[0m\n\u001b[1;37m    ^\u001b[0m\n\u001b[1;31mSyntaxError\u001b[0m\u001b[1;31m:\u001b[0m invalid decimal literal\n"
     ]
    }
   ],
   "source": [
    "1e"
   ]
  },
  {
   "cell_type": "code",
   "execution_count": 16,
   "id": "1a24c2b1-6ea3-4768-b64e-f677a95f615a",
   "metadata": {},
   "outputs": [
    {
     "data": {
      "text/plain": [
       "10.0"
      ]
     },
     "execution_count": 16,
     "metadata": {},
     "output_type": "execute_result"
    }
   ],
   "source": [
    "1e1"
   ]
  },
  {
   "cell_type": "code",
   "execution_count": 17,
   "id": "c66daec2-c010-4f45-b11d-dad04d346d35",
   "metadata": {},
   "outputs": [
    {
     "data": {
      "text/plain": [
       "(10.0, 100.0, 1000.0, 10000.0)"
      ]
     },
     "execution_count": 17,
     "metadata": {},
     "output_type": "execute_result"
    }
   ],
   "source": [
    "1e1, 1e2, 1e3, 1e4"
   ]
  },
  {
   "cell_type": "code",
   "execution_count": 18,
   "id": "4dc7a777-d31d-4158-8871-9f1f2491e91f",
   "metadata": {},
   "outputs": [
    {
     "data": {
      "text/plain": [
       "20000.0"
      ]
     },
     "execution_count": 18,
     "metadata": {},
     "output_type": "execute_result"
    }
   ],
   "source": [
    "2e4"
   ]
  },
  {
   "cell_type": "code",
   "execution_count": 19,
   "id": "80c76dfc-ebcf-4f0d-85ab-e5bd30acc2c9",
   "metadata": {},
   "outputs": [
    {
     "data": {
      "text/plain": [
       "(10.0, 100.0)"
      ]
     },
     "execution_count": 19,
     "metadata": {},
     "output_type": "execute_result"
    }
   ],
   "source": [
    "1e+1, 1e+2"
   ]
  },
  {
   "cell_type": "code",
   "execution_count": 20,
   "id": "50fb6924-8137-467f-8e60-d1bb23630845",
   "metadata": {},
   "outputs": [
    {
     "data": {
      "text/plain": [
       "0.1"
      ]
     },
     "execution_count": 20,
     "metadata": {},
     "output_type": "execute_result"
    }
   ],
   "source": [
    "1e-1"
   ]
  },
  {
   "cell_type": "code",
   "execution_count": 21,
   "id": "62a33305-f762-458d-bd5d-6ade7fc22d9b",
   "metadata": {},
   "outputs": [
    {
     "data": {
      "text/plain": [
       "0.01"
      ]
     },
     "execution_count": 21,
     "metadata": {},
     "output_type": "execute_result"
    }
   ],
   "source": [
    "1e-2"
   ]
  },
  {
   "cell_type": "code",
   "execution_count": 22,
   "id": "9009c4df-02a2-4077-bd06-4826794663ab",
   "metadata": {},
   "outputs": [
    {
     "ename": "SyntaxError",
     "evalue": "invalid syntax (1455142003.py, line 1)",
     "output_type": "error",
     "traceback": [
      "\u001b[1;36m  Cell \u001b[1;32mIn[22], line 1\u001b[1;36m\u001b[0m\n\u001b[1;33m    - + means multiplication\u001b[0m\n\u001b[1;37m              ^\u001b[0m\n\u001b[1;31mSyntaxError\u001b[0m\u001b[1;31m:\u001b[0m invalid syntax\n"
     ]
    }
   ],
   "source": [
    "- + means multiplication\n",
    "- - means division"
   ]
  },
  {
   "cell_type": "code",
   "execution_count": 23,
   "id": "6e526382-14cd-4935-a721-cdfcf1b58541",
   "metadata": {},
   "outputs": [
    {
     "ename": "NameError",
     "evalue": "name 'Strings' is not defined",
     "output_type": "error",
     "traceback": [
      "\u001b[1;31m---------------------------------------------------------------------------\u001b[0m",
      "\u001b[1;31mNameError\u001b[0m                                 Traceback (most recent call last)",
      "Cell \u001b[1;32mIn[23], line 1\u001b[0m\n\u001b[1;32m----> 1\u001b[0m Strings\n",
      "\u001b[1;31mNameError\u001b[0m: name 'Strings' is not defined"
     ]
    }
   ],
   "source": [
    "Strings"
   ]
  },
  {
   "cell_type": "code",
   "execution_count": 24,
   "id": "9aea6756-7944-4e5a-93cf-a59015730290",
   "metadata": {},
   "outputs": [
    {
     "ename": "NameError",
     "evalue": "name 'Strings' is not defined",
     "output_type": "error",
     "traceback": [
      "\u001b[1;31m---------------------------------------------------------------------------\u001b[0m",
      "\u001b[1;31mNameError\u001b[0m                                 Traceback (most recent call last)",
      "Cell \u001b[1;32mIn[24], line 1\u001b[0m\n\u001b[1;32m----> 1\u001b[0m \u001b[38;5;241m-\u001b[39m Strings\n",
      "\u001b[1;31mNameError\u001b[0m: name 'Strings' is not defined"
     ]
    }
   ],
   "source": [
    "- Strings"
   ]
  },
  {
   "cell_type": "code",
   "execution_count": 25,
   "id": "3058f5e9-accc-4bce-829e-f126ba535514",
   "metadata": {},
   "outputs": [
    {
     "data": {
      "text/plain": [
       "str"
      ]
     },
     "execution_count": 25,
     "metadata": {},
     "output_type": "execute_result"
    }
   ],
   "source": [
    "name='python'\n",
    "type(name)"
   ]
  },
  {
   "cell_type": "code",
   "execution_count": 26,
   "id": "9b499956-51f3-4746-8de4-b42203ebf1a2",
   "metadata": {},
   "outputs": [
    {
     "data": {
      "text/plain": [
       "str"
      ]
     },
     "execution_count": 26,
     "metadata": {},
     "output_type": "execute_result"
    }
   ],
   "source": [
    "name=\"1\"\n",
    "type(name)"
   ]
  },
  {
   "cell_type": "code",
   "execution_count": 27,
   "id": "0e13d98d-d321-4ddc-bcb6-cdace532ebf9",
   "metadata": {},
   "outputs": [
    {
     "data": {
      "text/plain": [
       "str"
      ]
     },
     "execution_count": 27,
     "metadata": {},
     "output_type": "execute_result"
    }
   ],
   "source": [
    "name=\"\"\"Sri\"\"\"\n",
    "type(name)"
   ]
  },
  {
   "cell_type": "code",
   "execution_count": 28,
   "id": "634dad42-7c02-4725-8c45-496a41f9bffa",
   "metadata": {},
   "outputs": [],
   "source": [
    "name=10"
   ]
  },
  {
   "cell_type": "code",
   "execution_count": 29,
   "id": "1cfbc293-d120-4cfb-8202-2e76f251278b",
   "metadata": {},
   "outputs": [
    {
     "name": "stdout",
     "output_type": "stream",
     "text": [
      "I like 'Pthon'\n"
     ]
    }
   ],
   "source": [
    "name = \"I like 'Pthon'\"\n",
    "print(name)"
   ]
  },
  {
   "cell_type": "code",
   "execution_count": 31,
   "id": "5120a5ff-2096-4079-b27e-02f7bc55b811",
   "metadata": {},
   "outputs": [
    {
     "name": "stdout",
     "output_type": "stream",
     "text": [
      "I like \"Pthon\"\n"
     ]
    }
   ],
   "source": [
    "name = 'I like \"Pthon\"'\n",
    "print(name)"
   ]
  },
  {
   "cell_type": "code",
   "execution_count": 32,
   "id": "4769ff6d-30d2-452c-9e53-57ce739555a7",
   "metadata": {},
   "outputs": [
    {
     "data": {
      "text/plain": [
       "' Triple quote string '"
      ]
     },
     "execution_count": 32,
     "metadata": {},
     "output_type": "execute_result"
    }
   ],
   "source": [
    "\"\"\" Triple quote string \"\"\""
   ]
  },
  {
   "cell_type": "code",
   "execution_count": 33,
   "id": "6437e2bd-0154-4538-b32b-452747fe32ea",
   "metadata": {},
   "outputs": [
    {
     "data": {
      "text/plain": [
       "' Triple \\nquote \\nstring '"
      ]
     },
     "execution_count": 33,
     "metadata": {},
     "output_type": "execute_result"
    }
   ],
   "source": [
    "\"\"\" Triple \n",
    "quote \n",
    "string \"\"\""
   ]
  },
  {
   "cell_type": "code",
   "execution_count": null,
   "id": "49f6169e-8140-4fd6-a361-ac81002f6a4c",
   "metadata": {},
   "outputs": [],
   "source": [
    "."
   ]
  }
 ],
 "metadata": {
  "kernelspec": {
   "display_name": "Python 3 (ipykernel)",
   "language": "python",
   "name": "python3"
  },
  "language_info": {
   "codemirror_mode": {
    "name": "ipython",
    "version": 3
   },
   "file_extension": ".py",
   "mimetype": "text/x-python",
   "name": "python",
   "nbconvert_exporter": "python",
   "pygments_lexer": "ipython3",
   "version": "3.11.7"
  }
 },
 "nbformat": 4,
 "nbformat_minor": 5
}
