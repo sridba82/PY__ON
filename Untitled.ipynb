{
 "cells": [
  {
   "cell_type": "code",
   "execution_count": 1,
   "id": "a0f6568d-8bc8-48db-b1a6-511f4689d0ba",
   "metadata": {},
   "outputs": [
    {
     "ename": "NameError",
     "evalue": "name 'random' is not defined",
     "output_type": "error",
     "traceback": [
      "\u001b[1;31m---------------------------------------------------------------------------\u001b[0m",
      "\u001b[1;31mNameError\u001b[0m                                 Traceback (most recent call last)",
      "Cell \u001b[1;32mIn[1], line 1\u001b[0m\n\u001b[1;32m----> 1\u001b[0m random\u001b[38;5;241m.\u001b[39mrandint(\u001b[38;5;241m1\u001b[39m,\u001b[38;5;241m20\u001b[39m)\n",
      "\u001b[1;31mNameError\u001b[0m: name 'random' is not defined"
     ]
    }
   ],
   "source": [
    "random.randint(1,20)"
   ]
  },
  {
   "cell_type": "code",
   "execution_count": 2,
   "id": "04ae1099-4df8-45df-8120-08269aabc756",
   "metadata": {},
   "outputs": [
    {
     "name": "stdout",
     "output_type": "stream",
     "text": [
      "Help on method randint in module random:\n",
      "\n",
      "randint(a, b) method of random.Random instance\n",
      "    Return random integer in range [a, b], including both end points.\n",
      "\n"
     ]
    }
   ],
   "source": [
    "import random\n",
    "help(random.randint)"
   ]
  },
  {
   "cell_type": "code",
   "execution_count": 3,
   "id": "6c3ada2a-aafb-45cc-8314-c8405bf0a08f",
   "metadata": {},
   "outputs": [
    {
     "ename": "NameError",
     "evalue": "name 'random' is not defined",
     "output_type": "error",
     "traceback": [
      "\u001b[1;31m---------------------------------------------------------------------------\u001b[0m",
      "\u001b[1;31mNameError\u001b[0m                                 Traceback (most recent call last)",
      "Cell \u001b[1;32mIn[3], line 1\u001b[0m\n\u001b[1;32m----> 1\u001b[0m help(random\u001b[38;5;241m.\u001b[39mrandint())\n",
      "\u001b[1;31mNameError\u001b[0m: name 'random' is not defined"
     ]
    }
   ],
   "source": [
    "help(random.randint())"
   ]
  },
  {
   "cell_type": "code",
   "execution_count": 4,
   "id": "21fdb4ff-efe8-4861-b101-cf86c10d60a1",
   "metadata": {},
   "outputs": [
    {
     "data": {
      "text/plain": [
       "Type help() for interactive help, or help(object) for help about object."
      ]
     },
     "execution_count": 4,
     "metadata": {},
     "output_type": "execute_result"
    }
   ],
   "source": [
    "help"
   ]
  },
  {
   "cell_type": "code",
   "execution_count": 5,
   "id": "35717a46-48ab-489c-bef0-ee9408f0674d",
   "metadata": {},
   "outputs": [
    {
     "ename": "NameError",
     "evalue": "name 'random' is not defined",
     "output_type": "error",
     "traceback": [
      "\u001b[1;31m---------------------------------------------------------------------------\u001b[0m",
      "\u001b[1;31mNameError\u001b[0m                                 Traceback (most recent call last)",
      "Cell \u001b[1;32mIn[5], line 1\u001b[0m\n\u001b[1;32m----> 1\u001b[0m help(random)\n",
      "\u001b[1;31mNameError\u001b[0m: name 'random' is not defined"
     ]
    }
   ],
   "source": [
    "help(random)"
   ]
  },
  {
   "cell_type": "code",
   "execution_count": 7,
   "id": "8a2ad5d2-6b27-4fca-8429-b28cd2de5baa",
   "metadata": {},
   "outputs": [],
   "source": [
    "# help(random.randint)"
   ]
  },
  {
   "cell_type": "code",
   "execution_count": 13,
   "id": "0247ee5e-24c9-4193-91c3-8233d1bbff36",
   "metadata": {},
   "outputs": [
    {
     "name": "stdout",
     "output_type": "stream",
     "text": [
      "Help on method randint in module random:\n",
      "\n",
      "randint(a, b) method of random.Random instance\n",
      "    Return random integer in range [a, b], including both end points.\n",
      "\n"
     ]
    },
    {
     "data": {
      "text/plain": [
       "5"
      ]
     },
     "execution_count": 13,
     "metadata": {},
     "output_type": "execute_result"
    }
   ],
   "source": [
    "import random\n",
    "dir(random)\n",
    "help(random.randint)\n",
    "random.randint(1,10)"
   ]
  },
  {
   "cell_type": "code",
   "execution_count": 22,
   "id": "88737cae-8949-4fca-8e6d-5541d9572fde",
   "metadata": {},
   "outputs": [
    {
     "name": "stdout",
     "output_type": "stream",
     "text": [
      "Help on built-in function random:\n",
      "\n",
      "random() method of random.Random instance\n",
      "    random() -> x in the interval [0, 1).\n",
      "\n"
     ]
    },
    {
     "data": {
      "text/plain": [
       "0.2672052451167386"
      ]
     },
     "execution_count": 22,
     "metadata": {},
     "output_type": "execute_result"
    }
   ],
   "source": [
    "import random\n",
    "\n",
    "help(random.random)\n",
    "random.random()"
   ]
  },
  {
   "cell_type": "code",
   "execution_count": 102,
   "id": "3b41c183-f4d0-4bec-a041-73b38d996c40",
   "metadata": {},
   "outputs": [
    {
     "data": {
      "text/plain": [
       "1.633123935319537e+16"
      ]
     },
     "execution_count": 102,
     "metadata": {},
     "output_type": "execute_result"
    }
   ],
   "source": [
    "import math\n",
    "dir(math)\n",
    "round(math.tan(math.radians(90)), 1)"
   ]
  },
  {
   "cell_type": "code",
   "execution_count": 179,
   "id": "4d86e555-8fe4-4fef-a34a-33a63ba40518",
   "metadata": {},
   "outputs": [
    {
     "name": "stdout",
     "output_type": "stream",
     "text": [
      "720\n",
      "720\n",
      "1\n",
      "23\n",
      "22\n",
      "22\n",
      "\n",
      "\n",
      "***** Program to verify Trigonometry 0 (theta) values are displaying by using Inbuid functions and Manual Calculation *****\n",
      "\n",
      "\n",
      "=========== Using Function ===========\n",
      "       0     30     45     60     90\n",
      "======================================\n",
      "SIN:   0.0   0.5   0.7   0.9   1.0\n",
      "COS:   1.0   0.9   0.7   0.5   0.0\n",
      "TAN:   0.0   0.6   1.0   1.8   \n",
      "\n",
      "==>As we know tan0 = sin0/cos0, Above tan0 values are calculated \"sin@/cos@\"\n",
      "==>and for tan90 = sin90/cos90 = infinite, so 1/0 will raise error in program. I kept blank\n",
      "\n",
      "\n",
      "========= Manual Calculation =========\n",
      "       0    30    45    60    90\n",
      "======================================\n",
      "SIN:   0   0.5   0.7   0.9   1\n",
      "COS:   1   0.9   0.7   0.5   0\n",
      "TAN:  0.0  0.6  1.0  1.8  \n",
      "\n",
      "\n",
      "====> Comparing both the Manual and Inbuild Function values <====\n",
      "\n",
      "\n",
      "\n"
     ]
    }
   ],
   "source": [
    "\n",
    "\n",
    "# Factorial manual and using factorial function\n",
    "fact_fun = math.factorial(6)\n",
    "fact_man = 6 * 5 * 4 * 3 * 2 * 1\n",
    "print(fact_fun)\n",
    "print(fact_man)\n",
    "\n",
    "\n",
    "# Square root and cube root\n",
    "sqrt_value = 9           # 3 * 3\n",
    "cube_value = 27          # 3 * 3 * 3\n",
    "math.sqrt(sqrt_value)\n",
    "math.cbrt(cube_value)\n",
    "\n",
    "# % sysbol used to find reminder of division\n",
    "man_reminder= 10%3\n",
    "print(man_reminder)\n",
    "fun_reminder = math.remainder(10,3)\n",
    "\n",
    "# ceil() roundup to its nearest heigher value \n",
    "ce = math.ceil(22.1)\n",
    "print(ce)\n",
    "# floor() and trunc() are similar, it cutoffs the decimal value\n",
    "fr = math.floor(22.9)\n",
    "tr = math.trunc(22.9)\n",
    "print(fr)\n",
    "print(tr)\n",
    "\n",
    "# radians(): Convert angle value from degrees to radians.\n",
    "# sin() is measured in radians\n",
    "\n",
    "print('\\n\\n***** Program to verify Trigonometry 0 (theta) values are displaying by using Inbuid functions and Manual Calculation *****')\n",
    "print('\\n\\n=========== Using Function ===========')\n",
    "\n",
    "sin_0 = round(math.sin(math.radians(0)), 1)\n",
    "sin_30 = round(math.sin(math.radians(30)), 1)\n",
    "sin_45 = round(math.sin(math.radians(45)), 1)\n",
    "sin_60 = round(math.sin(math.radians(60)), 1)\n",
    "sin_90 = round(math.sin(math.radians(90)), 1)\n",
    "\n",
    "cos_0 = round(math.cos(math.radians(0)), 1)\n",
    "cos_30 = round(math.cos(math.radians(30)), 1)\n",
    "cos_45 = round(math.cos(math.radians(45)), 1)\n",
    "cos_60 = round(math.cos(math.radians(60)), 1)\n",
    "cos_90 = round(math.cos(math.radians(90)), 1)\n",
    "\n",
    "tan_0 = round((sin_0 / cos_0), 1)\n",
    "tan_30 = round((sin_30 / cos_30), 1)\n",
    "tan_45 = round((sin_45 / cos_45), 1)\n",
    "tan_60 = round((sin_60 / cos_60), 1)\n",
    "tan_90 = '' # sin_90 / cos_90   => 1/0 will raise error we cannot divide. \n",
    "\n",
    "\n",
    "\n",
    "print('  ','0','30', '45', '60', '90', sep='     ')\n",
    "print('======================================')\n",
    "print('SIN:',sin_0, sin_30, sin_45, sin_60, sin_90, sep='   ')\n",
    "print('COS:',cos_0, cos_30, cos_45, cos_60, cos_90, sep='   ')\n",
    "print('TAN:',tan_0, tan_30, tan_45, tan_60, tan_90, sep='   ')\n",
    "\n",
    "print('\\n==>As we know tan0 = sin0/cos0, Above tan0 values are calculated \"sin@/cos@\"')\n",
    "print('==>and for tan90 = sin90/cos90 = infinite, so 1/0 will raise error in program. I kept blank')\n",
    "\n",
    "print('\\n\\n========= Manual Calculation =========')\n",
    "m_sin_0 = 0\n",
    "m_sin_30 = round((1 / 2), 1)\n",
    "m_sin_45 = round((1 / math.sqrt(2)), 1)\n",
    "m_sin_60 = round((math.sqrt(3) / 2), 1)\n",
    "m_sin_90 = 1\n",
    "\n",
    "m_cos_0 = 1\n",
    "m_cos_30 = round((math.sqrt(3) / 2), 1)\n",
    "m_cos_45 = round((1 / math.sqrt(2)), 1)\n",
    "m_cos_60 = round((1 / 2), 1)\n",
    "m_cos_90 = 0\n",
    "\n",
    "m_tan_0 = round((m_sin_0 / m_cos_0), 1)\n",
    "m_tan_30 = round((m_sin_30 / m_cos_30), 1)\n",
    "m_tan_45 = round((m_sin_45 / m_cos_45), 1)\n",
    "m_tan_60 = round((m_sin_60 / m_cos_60), 1)\n",
    "m_tan_90 = '' # m_sin_90 / m_cos_90   =>   1/0 will raise error we cannot divide. \n",
    "\n",
    "\n",
    "print('   ','0','30', '45', '60', '90', sep='    ')\n",
    "print('======================================')\n",
    "print('SIN:',m_sin_0, m_sin_30, m_sin_45, m_sin_60, m_sin_90, sep='   ')\n",
    "print('COS:',m_cos_0, m_cos_30, m_cos_45, m_cos_60, m_cos_90, sep='   ')\n",
    "print('TAN:',m_tan_0, m_tan_30, m_tan_45, m_tan_60, m_tan_90, sep='  ')\n",
    "print('\\n\\n====> Comparing both the Manual and Inbuild Function values <====')\n",
    "print('\\n\\n')"
   ]
  },
  {
   "cell_type": "code",
   "execution_count": 5,
   "id": "f6b49529-96ab-4f03-adfd-e0797da7ec3b",
   "metadata": {},
   "outputs": [
    {
     "name": "stdout",
     "output_type": "stream",
     "text": [
      "Help on list object:\n",
      "\n",
      "class list(object)\n",
      " |  list(iterable=(), /)\n",
      " |  \n",
      " |  Built-in mutable sequence.\n",
      " |  \n",
      " |  If no argument is given, the constructor creates a new empty list.\n",
      " |  The argument must be an iterable if specified.\n",
      " |  \n",
      " |  Methods defined here:\n",
      " |  \n",
      " |  __add__(self, value, /)\n",
      " |      Return self+value.\n",
      " |  \n",
      " |  __contains__(self, key, /)\n",
      " |      Return key in self.\n",
      " |  \n",
      " |  __delitem__(self, key, /)\n",
      " |      Delete self[key].\n",
      " |  \n",
      " |  __eq__(self, value, /)\n",
      " |      Return self==value.\n",
      " |  \n",
      " |  __ge__(self, value, /)\n",
      " |      Return self>=value.\n",
      " |  \n",
      " |  __getattribute__(self, name, /)\n",
      " |      Return getattr(self, name).\n",
      " |  \n",
      " |  __getitem__(...)\n",
      " |      x.__getitem__(y) <==> x[y]\n",
      " |  \n",
      " |  __gt__(self, value, /)\n",
      " |      Return self>value.\n",
      " |  \n",
      " |  __iadd__(self, value, /)\n",
      " |      Implement self+=value.\n",
      " |  \n",
      " |  __imul__(self, value, /)\n",
      " |      Implement self*=value.\n",
      " |  \n",
      " |  __init__(self, /, *args, **kwargs)\n",
      " |      Initialize self.  See help(type(self)) for accurate signature.\n",
      " |  \n",
      " |  __iter__(self, /)\n",
      " |      Implement iter(self).\n",
      " |  \n",
      " |  __le__(self, value, /)\n",
      " |      Return self<=value.\n",
      " |  \n",
      " |  __len__(self, /)\n",
      " |      Return len(self).\n",
      " |  \n",
      " |  __lt__(self, value, /)\n",
      " |      Return self<value.\n",
      " |  \n",
      " |  __mul__(self, value, /)\n",
      " |      Return self*value.\n",
      " |  \n",
      " |  __ne__(self, value, /)\n",
      " |      Return self!=value.\n",
      " |  \n",
      " |  __repr__(self, /)\n",
      " |      Return repr(self).\n",
      " |  \n",
      " |  __reversed__(self, /)\n",
      " |      Return a reverse iterator over the list.\n",
      " |  \n",
      " |  __rmul__(self, value, /)\n",
      " |      Return value*self.\n",
      " |  \n",
      " |  __setitem__(self, key, value, /)\n",
      " |      Set self[key] to value.\n",
      " |  \n",
      " |  __sizeof__(self, /)\n",
      " |      Return the size of the list in memory, in bytes.\n",
      " |  \n",
      " |  append(self, object, /)\n",
      " |      Append object to the end of the list.\n",
      " |  \n",
      " |  clear(self, /)\n",
      " |      Remove all items from list.\n",
      " |  \n",
      " |  copy(self, /)\n",
      " |      Return a shallow copy of the list.\n",
      " |  \n",
      " |  count(self, value, /)\n",
      " |      Return number of occurrences of value.\n",
      " |  \n",
      " |  extend(self, iterable, /)\n",
      " |      Extend list by appending elements from the iterable.\n",
      " |  \n",
      " |  index(self, value, start=0, stop=9223372036854775807, /)\n",
      " |      Return first index of value.\n",
      " |      \n",
      " |      Raises ValueError if the value is not present.\n",
      " |  \n",
      " |  insert(self, index, object, /)\n",
      " |      Insert object before index.\n",
      " |  \n",
      " |  pop(self, index=-1, /)\n",
      " |      Remove and return item at index (default last).\n",
      " |      \n",
      " |      Raises IndexError if list is empty or index is out of range.\n",
      " |  \n",
      " |  remove(self, value, /)\n",
      " |      Remove first occurrence of value.\n",
      " |      \n",
      " |      Raises ValueError if the value is not present.\n",
      " |  \n",
      " |  reverse(self, /)\n",
      " |      Reverse *IN PLACE*.\n",
      " |  \n",
      " |  sort(self, /, *, key=None, reverse=False)\n",
      " |      Sort the list in ascending order and return None.\n",
      " |      \n",
      " |      The sort is in-place (i.e. the list itself is modified) and stable (i.e. the\n",
      " |      order of two equal elements is maintained).\n",
      " |      \n",
      " |      If a key function is given, apply it once to each list item and sort them,\n",
      " |      ascending or descending, according to their function values.\n",
      " |      \n",
      " |      The reverse flag can be set to sort in descending order.\n",
      " |  \n",
      " |  ----------------------------------------------------------------------\n",
      " |  Class methods defined here:\n",
      " |  \n",
      " |  __class_getitem__(...) from builtins.type\n",
      " |      See PEP 585\n",
      " |  \n",
      " |  ----------------------------------------------------------------------\n",
      " |  Static methods defined here:\n",
      " |  \n",
      " |  __new__(*args, **kwargs) from builtins.type\n",
      " |      Create and return a new object.  See help(type) for accurate signature.\n",
      " |  \n",
      " |  ----------------------------------------------------------------------\n",
      " |  Data and other attributes defined here:\n",
      " |  \n",
      " |  __hash__ = None\n",
      "\n"
     ]
    }
   ],
   "source": [
    "import keyword.keyword\n",
    "help(keyword.kwlist)\n",
    "# len(keyword.kwlist)"
   ]
  },
  {
   "cell_type": "code",
   "execution_count": 23,
   "id": "3fcc1e43-0d19-44cb-a20b-d5429bbb24ac",
   "metadata": {},
   "outputs": [
    {
     "ename": "ZeroDivisionError",
     "evalue": "float division by zero",
     "output_type": "error",
     "traceback": [
      "\u001b[1;31m---------------------------------------------------------------------------\u001b[0m",
      "\u001b[1;31mZeroDivisionError\u001b[0m                         Traceback (most recent call last)",
      "Cell \u001b[1;32mIn[23], line 2\u001b[0m\n\u001b[0;32m      1\u001b[0m \u001b[38;5;28;01mimport\u001b[39;00m \u001b[38;5;21;01mmath\u001b[39;00m\n\u001b[1;32m----> 2\u001b[0m sine_0 \u001b[38;5;241m=\u001b[39m \u001b[38;5;241m1\u001b[39m \u001b[38;5;241m/\u001b[39m \u001b[38;5;28mround\u001b[39m(math\u001b[38;5;241m.\u001b[39mtan(math\u001b[38;5;241m.\u001b[39mradians(\u001b[38;5;241m0\u001b[39m)), \u001b[38;5;241m2\u001b[39m)\n\u001b[0;32m      3\u001b[0m sine_30 \u001b[38;5;241m=\u001b[39m \u001b[38;5;28mround\u001b[39m(math\u001b[38;5;241m.\u001b[39msin(math\u001b[38;5;241m.\u001b[39mradians(\u001b[38;5;241m30\u001b[39m)),\u001b[38;5;241m2\u001b[39m)\n\u001b[0;32m      4\u001b[0m sine_45 \u001b[38;5;241m=\u001b[39m \u001b[38;5;28mround\u001b[39m(math\u001b[38;5;241m.\u001b[39msin(math\u001b[38;5;241m.\u001b[39mradians(\u001b[38;5;241m45\u001b[39m)),\u001b[38;5;241m2\u001b[39m)\n",
      "\u001b[1;31mZeroDivisionError\u001b[0m: float division by zero"
     ]
    }
   ],
   "source": [
    "import math\n"
   ]
  },
  {
   "cell_type": "code",
   "execution_count": null,
   "id": "ba0fea09-dbac-4618-867d-37a7c57414a5",
   "metadata": {},
   "outputs": [],
   "source": []
  }
 ],
 "metadata": {
  "kernelspec": {
   "display_name": "Python 3 (ipykernel)",
   "language": "python",
   "name": "python3"
  },
  "language_info": {
   "codemirror_mode": {
    "name": "ipython",
    "version": 3
   },
   "file_extension": ".py",
   "mimetype": "text/x-python",
   "name": "python",
   "nbconvert_exporter": "python",
   "pygments_lexer": "ipython3",
   "version": "3.11.7"
  }
 },
 "nbformat": 4,
 "nbformat_minor": 5
}
