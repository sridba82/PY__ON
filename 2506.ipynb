{
 "cells": [
  {
   "cell_type": "markdown",
   "id": "8150d210-b5fd-4f91-aa6e-0c0908b89d29",
   "metadata": {},
   "source": [
    "**Time Package**"
   ]
  },
  {
   "cell_type": "code",
   "execution_count": null,
   "id": "b8d0ff56-50c4-477f-81df-0c0a80a40d4b",
   "metadata": {},
   "outputs": [],
   "source": [
    "import time\n",
    "print(\"Hello Eva!!\")\n",
    "time.sleep(4)\n",
    "print('Hello Walle!!!!')"
   ]
  },
  {
   "cell_type": "code",
   "execution_count": null,
   "id": "394058c5-2076-464c-a5c9-e6f82c902860",
   "metadata": {},
   "outputs": [],
   "source": [
    "import cv2"
   ]
  },
  {
   "cell_type": "code",
   "execution_count": null,
   "id": "65db4007-2982-4c95-8e1c-2ddd009dd933",
   "metadata": {},
   "outputs": [],
   "source": [
    "import streamlit"
   ]
  },
  {
   "cell_type": "code",
   "execution_count": null,
   "id": "07859b67-7138-4777-943f-3a602d878894",
   "metadata": {},
   "outputs": [],
   "source": [
    "pip install opencv-python\n"
   ]
  },
  {
   "cell_type": "code",
   "execution_count": null,
   "id": "5440b153-0d45-4d33-b5f2-b5a695151550",
   "metadata": {},
   "outputs": [],
   "source": [
    "pip freeze"
   ]
  },
  {
   "cell_type": "code",
   "execution_count": null,
   "id": "6ac27574-c4bf-44f5-8851-32e9f4a07318",
   "metadata": {},
   "outputs": [],
   "source": [
    "pip install opencv-python"
   ]
  },
  {
   "cell_type": "code",
   "execution_count": null,
   "id": "7275f2ed-a3e0-4c3a-8d26-d17db7b76fdc",
   "metadata": {},
   "outputs": [],
   "source": [
    "import time\n",
    "import random\n",
    "time.sleep(2)\n",
    "print('Father: Hey Baby!')\n",
    "time.sleep(2)\n",
    "print('Daughter: Hello Dady')\n",
    "time.sleep(2)\n",
    "print('Father: I heard your exams are over, what about result')\n",
    "time.sleep(2)\n",
    "print('Daughter: Yes dad! Results are out.')\n",
    "time.sleep(2)\n",
    "print('Father: What is the percentage?')\n",
    "time.sleep(2)\n",
    "print('Daughter: I will give my subject wise marks, you tell me the percentage')\n",
    "time.sleep(2)\n",
    "print('Father: Okay!')\n",
    "sub1=random.randint(50,100)\n",
    "print(f'First Language: {sub1}')\n",
    "sub2=random.randint(50,100) \n",
    "print(f'Second language: {sub2}')\n",
    "sub3=random.randint(50,100)   \n",
    "print(f'Third language: {sub3}')\n",
    "sub4=random.randint(50,100)      \n",
    "print(f'Science: {sub4}')\n",
    "sub5=random.randint(50,100)\n",
    "print(f'Maths: {sub5}')\n",
    "time.sleep(2)\n",
    "print('Daughter: Dad Now tell me how much percentage I got')\n",
    "time.sleep(2)\n",
    "print('Father: Tell me the max marks of each subject')\n",
    "time.sleep(2)\n",
    "print('Daughter: 100')\n",
    "max_marks = 5 * 100\n",
    "total_marks = sub1 + sub2 + sub3 + sub4 + sub5\n",
    "percentage = round((total_marks / max_marks * 100), 2)\n",
    "time.sleep(2)\n",
    "print(f'Total Percentage is: {percentage}')"
   ]
  },
  {
   "cell_type": "markdown",
   "id": "f5d9c7c4-b938-456f-a20f-da687d29435b",
   "metadata": {},
   "source": [
    "<img src=\"https://www.shutterstock.com/image-photo/rich-male-worker-gives-payment-260nw-443901859.jpg\" jsaction=\"VQAsE\" class=\"sFlh5c pT0Scc iPVvYb\" style=\"max-width: 389px; height: 280px; margin: 0px; width: 389px;\" alt=\"656 Waiter Giving Bill Images, Stock Photos, 3D objects, &amp; Vectors ...\" jsname=\"kn3ccd\" data-iml=\"1797.6000000089407\">"
   ]
  },
  {
   "cell_type": "code",
   "execution_count": null,
   "id": "92b7df60-ef76-4f89-bf7f-1ed696b46aba",
   "metadata": {},
   "outputs": [],
   "source": [
    "import time\n",
    "import random\n",
    "time.sleep(2)\n",
    "print('Father: Hey Baby!')\n",
    "time.sleep(2)\n",
    "print('Daughter: Hello Dady')\n",
    "time.sleep(2)\n",
    "![Waterfall](https://images.unsplash.com/photo-1593322962878-a4b73deb1e39?\n",
    "print('Father: I heard your exams are over, what about result')\n",
    "time.sleep(2)\n",
    "print('Daughter: Yes dad! Results are out.')\n",
    "time.sleep(2)\n",
    "print('Father: What is the percentage?')\n",
    "time.sleep(2)\n",
    "print('Daughter: I will give my subject wise marks, you tell me the percentage')\n",
    "time.sleep(2)\n",
    "print('Father: Okay!')"
   ]
  },
  {
   "cell_type": "code",
   "execution_count": null,
   "id": "4ecd4eb4-8de7-41d4-81c1-78a5b0688ae0",
   "metadata": {},
   "outputs": [],
   "source": [
    "from IPython.display import Image\n",
    "\n",
    "Image(url=\"https://img.freepik.com/free-photo/happy-man-using-smart-phone-paying-bill-waiter-while-being-with-his-girlfriend-restaurant_637285-663.jpg\", width=626, height=417)\n"
   ]
  },
  {
   "cell_type": "code",
   "execution_count": null,
   "id": "373d823a-dcd3-4fe2-8895-cc9285559ac5",
   "metadata": {},
   "outputs": [],
   "source": [
    "import time\n",
    "import random\n",
    "#from IPython.display import Image\n",
    "from IPython import display\n",
    "# meal_amt = random.randint(800,1500)\n",
    "display.Image(url=\"https://img.freepik.com/free-photo/happy-man-using-smart-phone-paying-bill-waiter-while-being-with-his-girlfriend-restaurant_637285-663.jpg\", width=626, height=417)\n",
    "# print(f\"Waiter: Hello Sir!, your bill amount on the meal:{meal_amt}\")\n",
    "display.Image(url=\"C:\\\\Users\\\\Srinivas Rao\\\\1.jpg\",  width=450, height=300)\n",
    "# print(f\"Waiter: Hello Sir!, your bill amount on the meal:{meal_amt}\")\n",
    "# print('Customer: Thank You !!, can you please add your tip')\n",
    "# print(\"Waiter: Sure sir\")\n",
    "# print(\"Waiter: Adding tip % on the meal amount\")\n",
    "#Image(url=\"https://img.freepik.com/free-photo/happy-man-using-smart-phone-paying-bill-waiter-while-being-with-his-girlfriend-restaurant_637285-663.jpg\", width=626, height=417)"
   ]
  },
  {
   "cell_type": "code",
   "execution_count": 34,
   "id": "0fb048ab-2f80-426b-9ac0-e1d72f476755",
   "metadata": {},
   "outputs": [
    {
     "name": "stdout",
     "output_type": "stream",
     "text": [
      "Customer: Hey!! How much is the bill ?\n",
      "Waiter: Sir, Total Meal amount is: 1164\n",
      "Customer: What is your name?\n",
      "Waiter: Sir, Iam \"WALL.E\"\n",
      "Customer: WALL.E, can you add your TIP amount please...\n",
      "Waiter: Ok Sir\n",
      "Tip is 7% on Meal amount: 1164 is: 81.48\n",
      "========================================\n",
      "Total Bill\n",
      "========================================\n",
      "Meal amount is: 1164\n",
      "Tip amount is: 81.48\n",
      "Total Pay: 1245.48 rupees\n"
     ]
    }
   ],
   "source": [
    "# import matplotlib.pyplot as plt\n",
    "import time\n",
    "import random\n",
    "time.sleep(2)\n",
    "# waiter = plt.imread('C:\\\\Users\\\\Srinivas Rao\\\\1.jpg')  # storing 1.jpg Image in waiter variable\n",
    "# plt.imshow(waiter)\n",
    "# plt.axis('off')                                        # By default Image will show X and Y axis, to switch off we have to use.\n",
    "# plt.title('Waiter: Hello Sir!! Bill')                  # To show Image title\n",
    "# plt.show()\n",
    "time.sleep(4)\n",
    "print('Customer: Hey!! How much is the bill ?')\n",
    "time.sleep(4)\n",
    "meal_amt = random.randint(800,1500)\n",
    "print(f'Waiter: Sir, Total Meal amount is: {meal_amt}')\n",
    "time.sleep(4)\n",
    "print('Customer: What is your name?')\n",
    "time.sleep(4)\n",
    "print('Waiter: Sir, Iam \"WALL.E\"')\n",
    "time.sleep(4)\n",
    "print('Customer: WALL.E, can you add your TIP amount please...')\n",
    "time.sleep(4)\n",
    "print('Waiter: Ok Sir')\n",
    "tipper = random.randint(5,8)\n",
    "tipamt = (tipper*meal_amt) / 100\n",
    "time.sleep(2)\n",
    "print(f'Tip is {tipper}% on Meal amount: {meal_amt} is: {tipamt}')\n",
    "time.sleep(4)\n",
    "total_bill = tipamt + meal_amt\n",
    "print('========================================\\nTotal Bill\\n========================================')\n",
    "print(f'Meal amount is: {meal_amt}\\nTip amount is: {tipamt}\\nTotal Pay: {total_bill} rupees')\n",
    "time.sleep(4)\n",
    "# waiter2 = plt.imread('C:\\\\Users\\\\Srinivas Rao\\\\2.jpg')\n",
    "# plt.imshow(waiter2)\n",
    "# plt.axis('off')\n",
    "# plt.title('Waiter is Happy') \n",
    "# plt.show()"
   ]
  },
  {
   "cell_type": "code",
   "execution_count": null,
   "id": "252f478e-e528-4f79-b81c-8ccdaf369043",
   "metadata": {},
   "outputs": [],
   "source": []
  }
 ],
 "metadata": {
  "kernelspec": {
   "display_name": "Python 3 (ipykernel)",
   "language": "python",
   "name": "python3"
  },
  "language_info": {
   "codemirror_mode": {
    "name": "ipython",
    "version": 3
   },
   "file_extension": ".py",
   "mimetype": "text/x-python",
   "name": "python",
   "nbconvert_exporter": "python",
   "pygments_lexer": "ipython3",
   "version": "3.11.7"
  }
 },
 "nbformat": 4,
 "nbformat_minor": 5
}
