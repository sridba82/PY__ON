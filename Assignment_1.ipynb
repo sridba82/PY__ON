{
 "cells": [
  {
   "cell_type": "code",
   "execution_count": 1,
   "id": "cffb7214-6c0f-41af-b40c-80686d9d4af6",
   "metadata": {},
   "outputs": [
    {
     "name": "stdin",
     "output_type": "stream",
     "text": [
      "Enter any number to square of it:  9\n"
     ]
    },
    {
     "name": "stdout",
     "output_type": "stream",
     "text": [
      "The square of 9 is 81\n"
     ]
    }
   ],
   "source": [
    "# Question 1, Ask user to enter any number to print square of it.\n",
    "\n",
    "num = eval((input('Enter any number to square of it: ')))\n",
    "sqnum = num * num\n",
    "print(f'The square of {num} is {sqnum}')"
   ]
  },
  {
   "cell_type": "code",
   "execution_count": 2,
   "id": "83c82592-b3e7-4da6-a7b2-877dfacc2af6",
   "metadata": {},
   "outputs": [
    {
     "name": "stdin",
     "output_type": "stream",
     "text": [
      "Enter any number to print multiplication of it:  8\n"
     ]
    },
    {
     "name": "stdout",
     "output_type": "stream",
     "text": [
      "8---16---24---32---40\n"
     ]
    }
   ],
   "source": [
    "# Question 2, Ask user to enter any number to print multiplication of it.\n",
    "\n",
    "num = eval((input('Enter any number to print multiplication of it: ')))\n",
    "one = num * 1\n",
    "two = num * 2\n",
    "three = num * 3\n",
    "four = num * 4\n",
    "five = num * 5\n",
    "print(one, two, three, four, five, sep='---')"
   ]
  },
  {
   "cell_type": "code",
   "execution_count": 3,
   "id": "7c5aa659-bbef-49e3-b92f-bb0c6532e14e",
   "metadata": {},
   "outputs": [
    {
     "name": "stdin",
     "output_type": "stream",
     "text": [
      "Enter your weight in kilograms to convert into pounds:  10\n"
     ]
    },
    {
     "name": "stdout",
     "output_type": "stream",
     "text": [
      "You entered 10 kilograms and in pounds is: 22.0\n"
     ]
    }
   ],
   "source": [
    "# Question 3, Ask user to enter weight in kilograms to convert into pounds.\n",
    "\n",
    "weight = eval((input('Enter your weight in kilograms to convert into pounds: ')))\n",
    "onepound = 2.2\n",
    "totalponds = weight * onepound\n",
    "print(f'You entered {weight} kilograms and in pounds is: {totalponds}')"
   ]
  },
  {
   "cell_type": "code",
   "execution_count": 4,
   "id": "72713983-d2b4-4d50-8d85-487b0582ac30",
   "metadata": {},
   "outputs": [
    {
     "name": "stdin",
     "output_type": "stream",
     "text": [
      "Enter 1st number to print total and average:  1\n",
      "Enter 2nd number to print total and average:  2\n",
      "Enter 3rd number to print total and average:  3\n"
     ]
    },
    {
     "name": "stdout",
     "output_type": "stream",
     "text": [
      "===============================================\n",
      "The total and average of 1, 2, 3 is: 6 and 2.0\n"
     ]
    }
   ],
   "source": [
    "# Question 4, Ask user to enter any 3 numbers to print total and average of it.\n",
    "\n",
    "num1 = eval((input('Enter 1st number to print total and average: ')))\n",
    "num2 = eval((input('Enter 2nd number to print total and average: ')))\n",
    "num3 = eval((input('Enter 3rd number to print total and average: ')))\n",
    "total = num1 + num2 + num3\n",
    "average = total / 3\n",
    "print('===============================================')\n",
    "print(f'The total and average of {num1}, {num2}, {num3} is: {total} and {average}');"
   ]
  },
  {
   "cell_type": "code",
   "execution_count": 5,
   "id": "dd6908d8-fe30-4e69-b0e2-f62647490570",
   "metadata": {},
   "outputs": [
    {
     "name": "stdin",
     "output_type": "stream",
     "text": [
      "Enter price of the Meal: 350\n",
      "Enter Tip (percentage on the Meal amount): 5\n"
     ]
    },
    {
     "name": "stdout",
     "output_type": "stream",
     "text": [
      "=============================================\n",
      "Tip:5 % on Meal amount\n",
      "Meal amount: 350\n",
      "Tip amount:17.5 \n",
      "=======================\n",
      "Total Bill is: 367.5\n",
      "=======================\n"
     ]
    }
   ],
   "source": [
    "# Question 5, program to calculate total hotel bill including Tip (percentage) on bill amount. \n",
    "\n",
    "meal_amt = eval((input('Enter price of the Meal:')))\n",
    "tip = eval((input('Enter Tip (percentage on the Meal amount):')))\n",
    "tipamount = (meal_amt*tip) / 100\n",
    "total_bill = tipamount + meal_amt\n",
    "print('=============================================')\n",
    "print(f'Tip:{tip} % on Meal amount\\nMeal amount: {meal_amt}\\nTip amount:{tipamount} \\n=======================\\nTotal Bill is: {total_bill}\\n=======================');"
   ]
  },
  {
   "cell_type": "code",
   "execution_count": 6,
   "id": "c5fa1e96-6674-49b3-840d-67dc6de94b5f",
   "metadata": {},
   "outputs": [
    {
     "name": "stdout",
     "output_type": "stream",
     "text": [
      "Enter 2 numbers to calculte addition, subtraction, multiplication and division:\n"
     ]
    },
    {
     "name": "stdin",
     "output_type": "stream",
     "text": [
      "1st Number: 20\n",
      "2nd Number: 10\n"
     ]
    },
    {
     "name": "stdout",
     "output_type": "stream",
     "text": [
      "=======================\n",
      "Addition is: 30 \n",
      "Subtraction is: 10 \n",
      "Multiplication is: 200 \n",
      "Division is: 2.0\n"
     ]
    }
   ],
   "source": [
    "# Question 6, Program to calculte addition, subtraction, multiplication and division of 2 numbers.\n",
    "\n",
    "print('Enter 2 numbers to calculte addition, subtraction, multiplication and division:')\n",
    "num1 = eval((input('1st Number:')))\n",
    "num2 = eval((input('2nd Number:')))\n",
    "add = num1 + num2\n",
    "sub = num1 - num2\n",
    "mul = num1 * num2\n",
    "div = num1/num2\n",
    "print('=======================')\n",
    "print(f'Addition is: {add} \\nSubtraction is: {sub} \\nMultiplication is: {mul} \\nDivision is: {div}')"
   ]
  },
  {
   "cell_type": "code",
   "execution_count": 7,
   "id": "b9878986-45af-4e89-9a9b-ef2b49fb1cc3",
   "metadata": {},
   "outputs": [
    {
     "name": "stdout",
     "output_type": "stream",
     "text": [
      "Program to find area of a circle\n"
     ]
    },
    {
     "name": "stdin",
     "output_type": "stream",
     "text": [
      "Enter Radius of a circle: 3\n",
      "Enter PI value: 3.14\n"
     ]
    },
    {
     "name": "stdout",
     "output_type": "stream",
     "text": [
      "============================\n",
      "Radius of a circle is: 3 \n",
      "PI value is: 3.14\n",
      "Area of a circle is: 28.259999999999998\n"
     ]
    }
   ],
   "source": [
    "# Question 7, Program to calculte area of circle based on the radius and PI value passing to variables at run time.\n",
    "\n",
    "print('Program to find area of a circle')\n",
    "r= eval((input('Enter Radius of a circle:')))\n",
    "pi = eval((input('Enter PI value:')))\n",
    "area = pi*r*r\n",
    "print('============================')\n",
    "print(f'Radius of a circle is: {r} \\nPI value is: {pi}\\nArea of a circle is: {area}')"
   ]
  },
  {
   "cell_type": "code",
   "execution_count": 8,
   "id": "d828dbab-2a01-4070-b9b8-f2309bccb67c",
   "metadata": {},
   "outputs": [
    {
     "name": "stdin",
     "output_type": "stream",
     "text": [
      "Enter Bill amount in Dollers: 5\n",
      "Enter each doller price in India: 83.5\n"
     ]
    },
    {
     "name": "stdout",
     "output_type": "stream",
     "text": [
      "=====================================\n",
      "Total Bill amount in rupees: 417.5\n"
     ]
    }
   ],
   "source": [
    "# Question 8, Program to calculate bill amount from Dollers to rupees.\n",
    "\n",
    "doller_amt= eval((input('Enter Bill amount in Dollers:')))\n",
    "each_doller_in_rupee = eval((input('Enter each doller price in India:')))\n",
    "doller_in_rupees = doller_amt * each_doller_in_rupee\n",
    "print('=====================================')\n",
    "print(f'Total Bill amount in rupees: {doller_in_rupees}')"
   ]
  },
  {
   "cell_type": "code",
   "execution_count": 10,
   "id": "e5a3bb82-af2d-468e-a686-11b51f643d54",
   "metadata": {},
   "outputs": [
    {
     "name": "stdout",
     "output_type": "stream",
     "text": [
      "Program to find area of a triangle\n"
     ]
    },
    {
     "name": "stdin",
     "output_type": "stream",
     "text": [
      "Enter height of a triangle: 6\n",
      "Enter breadth of a triangle: 8\n"
     ]
    },
    {
     "name": "stdout",
     "output_type": "stream",
     "text": [
      "Area of a Triangle is:24.0\n"
     ]
    }
   ],
   "source": [
    "# Question 9, Program to calculte area of triangle based on height and breadth value passing to variables at run time.\n",
    "\n",
    "print('Program to find area of a triangle')\n",
    "_h= eval((input('Enter height of a triangle:')))\n",
    "_b= eval((input('Enter breadth of a triangle:')))\n",
    "area = 0.5 * _h * _b\n",
    "print(f'Area of a Triangle is:{area}')"
   ]
  },
  {
   "cell_type": "code",
   "execution_count": 11,
   "id": "5467e379-343b-4289-9689-9e43e6f8cd9f",
   "metadata": {},
   "outputs": [
    {
     "name": "stdout",
     "output_type": "stream",
     "text": [
      "Program to find area of a rectangle\n"
     ]
    },
    {
     "name": "stdin",
     "output_type": "stream",
     "text": [
      "Enter length of a triangle: 6\n",
      "Enter breadth of a triangle: 9\n"
     ]
    },
    {
     "name": "stdout",
     "output_type": "stream",
     "text": [
      "Area of a Rriangle is:54\n"
     ]
    }
   ],
   "source": [
    "# Question 10, Program to calculte area of a rectangle based on length and breadth value passing to variables at run time.\n",
    "\n",
    "print('Program to find area of a rectangle')\n",
    "_l= eval((input('Enter length of a triangle:')))\n",
    "_b= eval((input('Enter breadth of a triangle:')))\n",
    "area = _l * _b\n",
    "print(f'Area of a Rriangle is:{area}')"
   ]
  },
  {
   "cell_type": "code",
   "execution_count": 12,
   "id": "03de2757-3144-43c7-b8c4-543f1cd90742",
   "metadata": {},
   "outputs": [
    {
     "name": "stdin",
     "output_type": "stream",
     "text": [
      "Father: Hey Baby!\n",
      "Daughter: Hello Dady\n",
      "Father: I heard your exams are over, what about result\n",
      "Daughter: Yes dad! Results are out.\n",
      "Father: What is the percentage?\n",
      "Daughter: I will give my subject wise marks, you tell me the percentage\n",
      "Father: Okay!\n",
      "First Language: 80\n",
      "Second language: 80\n",
      "Third language: 90\n",
      "Science: 100\n",
      "Maths: 100\n",
      "Daughter: Dad Now tell me how much percentage I got\n",
      "Father: Tell me the max marks of each subject\n",
      "Daughter: 100\n"
     ]
    },
    {
     "name": "stdout",
     "output_type": "stream",
     "text": [
      "Total Percentage is: 90.0\n"
     ]
    }
   ],
   "source": [
    "# Question 11a, Program conversation between Father and Daughter and to calculate percentage of marks.\n",
    "\n",
    "input('Father:')\n",
    "input('Daughter:')\n",
    "input('Father:')\n",
    "input('Daughter:')\n",
    "input('Father:')\n",
    "input('Daughter:')\n",
    "input('Father:')\n",
    "sub1=eval(input('First Language:'))       \n",
    "sub2=eval(input('Second language:'))\n",
    "sub3=eval(input('Third language:'))\n",
    "sub4=eval(input('Science:'))\n",
    "sub5=eval(input('Maths:'))\n",
    "input('Daughter:')\n",
    "input('Father:')\n",
    "max_marks = 5 * eval(input('Daughter:'))\n",
    "total_marks = sub1 + sub2 + sub3 + sub4 + sub5\n",
    "percentage = total_marks / max_marks * 100\n",
    "print(f'Total Percentage is: {percentage}')"
   ]
  },
  {
   "cell_type": "code",
   "execution_count": 13,
   "id": "511c0f6a-f3af-4ca1-abac-f14ed7a5c07e",
   "metadata": {},
   "outputs": [
    {
     "name": "stdin",
     "output_type": "stream",
     "text": [
      "Father: Hey Baby! \n",
      "Daughter: Hello Dady \n",
      "Father: I heard your exams are over, what about result \n",
      "Daughter: Yes dad! Results are out. \n",
      "Father: What is the percentage? \n",
      "Daughter: I will give my subject wise marks, you tell me the percentage \n",
      "Father: Okay! \n",
      "First Language: 90\n",
      "Second language: 90\n",
      "Third language: 100\n",
      "Science: 100\n",
      "Maths: 100\n",
      "Daughter: Dad Now tell me how much percentage I got \n",
      "Father: Tell me the max marks of each subject \n",
      "Daughter: 100\n"
     ]
    },
    {
     "name": "stdout",
     "output_type": "stream",
     "text": [
      "Total Percentage is: 96.0\n"
     ]
    }
   ],
   "source": [
    "# Question 11b, Program conversation between Father and Daughter and to calculate percentage of marks.\n",
    "\n",
    "input('Father: Hey Baby!')\n",
    "input('Daughter: Hello Dady')\n",
    "input('Father: I heard your exams are over, what about result')\n",
    "input('Daughter: Yes dad! Results are out.')\n",
    "input('Father: What is the percentage?')\n",
    "input('Daughter: I will give my subject wise marks, you tell me the percentage')\n",
    "input('Father: Okay!')\n",
    "sub1=eval(input('First Language:'))       \n",
    "sub2=eval(input('Second language:'))\n",
    "sub3=eval(input('Third language:'))\n",
    "sub4=eval(input('Science:'))\n",
    "sub5=eval(input('Maths:'))\n",
    "input('Daughter: Dad Now tell me how much percentage I got')\n",
    "input('Father: Tell me the max marks of each subject')\n",
    "max_marks = 5 * eval(input('Daughter:'))\n",
    "total_marks = sub1 + sub2 + sub3 + sub4 + sub5\n",
    "percentage = total_marks / max_marks * 100\n",
    "print(f'Total Percentage is: {percentage}')"
   ]
  },
  {
   "cell_type": "code",
   "execution_count": null,
   "id": "d0095a1c-f7c7-4764-9dd9-c071b51fd6ab",
   "metadata": {},
   "outputs": [],
   "source": []
  }
 ],
 "metadata": {
  "kernelspec": {
   "display_name": "Python 3 (ipykernel)",
   "language": "python",
   "name": "python3"
  },
  "language_info": {
   "codemirror_mode": {
    "name": "ipython",
    "version": 3
   },
   "file_extension": ".py",
   "mimetype": "text/x-python",
   "name": "python",
   "nbconvert_exporter": "python",
   "pygments_lexer": "ipython3",
   "version": "3.11.7"
  }
 },
 "nbformat": 4,
 "nbformat_minor": 5
}
