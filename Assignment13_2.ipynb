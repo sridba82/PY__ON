{
 "cells": [
  {
   "cell_type": "code",
   "execution_count": 1,
   "id": "22133680-697a-4bae-892f-232dcd0026fc",
   "metadata": {},
   "outputs": [
    {
     "name": "stdout",
     "output_type": "stream",
     "text": [
      "================\n",
      "Displaying Food\n",
      "================\n",
      "\n",
      "Froots\n",
      "1. Apple\n",
      "2. Banana\n",
      "3. Cherry\n",
      "4. Orange\n",
      "\n",
      "Vegetables\n",
      "1. Tomato\n",
      "2. Cabbage\n",
      "3. Potato\n",
      "4. Brinjal\n",
      "\n",
      "Non-Veg\n",
      "1. Fish\n",
      "2. Chicken\n",
      "3. Mutton\n",
      "4. Prawns\n"
     ]
    }
   ],
   "source": [
    "# Type of foody and displaying\n",
    "food = \"apple#banana#cherry#orange tomato~cabbage~potato~brinjal fish*chicken*mutton*prawns\"\n",
    "\n",
    "# Indexing\n",
    "froot_sep = food.index(' ')\n",
    "veg_sep = food.index(' ', froot_sep+1)\n",
    "\n",
    "# Separating type of food based on index\n",
    "froot = food[:froot_sep]\n",
    "vege=food[froot_sep+1:veg_sep]\n",
    "nvege=food[veg_sep+1:]\n",
    "\n",
    "# Preparing food list from above food string\n",
    "f_list=froot.split('#')\n",
    "v_list=vege.split('~')\n",
    "nv_list=nvege.split('*')\n",
    "\n",
    "# Preparing food list of List\n",
    "food_list=[f_list, v_list, nv_list]\n",
    "print('================\\nDisplaying Food\\n================\\n')\n",
    "\n",
    "for f in range(len(food_list)):\n",
    "    if food_list[f] == f_list:\n",
    "        print('Froots')\n",
    "        for fo in range(len(f_list)):\n",
    "            print(f'{fo+1}. {f_list[fo].capitalize()}')\n",
    "    elif food_list[f] == v_list:\n",
    "        print('\\nVegetables')\n",
    "        for vo in range(len(v_list)):\n",
    "            print(f'{vo+1}. {v_list[vo].capitalize()}')\n",
    "    else:\n",
    "        print('\\nNon-Veg')\n",
    "        for nv in range(len(nv_list)):\n",
    "            print(f'{nv+1}. {nv_list[nv].capitalize()}')"
   ]
  },
  {
   "cell_type": "code",
   "execution_count": null,
   "id": "14624e8f-4d53-4867-9de4-bc472c64f87d",
   "metadata": {},
   "outputs": [],
   "source": []
  }
 ],
 "metadata": {
  "kernelspec": {
   "display_name": "Python 3 (ipykernel)",
   "language": "python",
   "name": "python3"
  },
  "language_info": {
   "codemirror_mode": {
    "name": "ipython",
    "version": 3
   },
   "file_extension": ".py",
   "mimetype": "text/x-python",
   "name": "python",
   "nbconvert_exporter": "python",
   "pygments_lexer": "ipython3",
   "version": "3.11.7"
  }
 },
 "nbformat": 4,
 "nbformat_minor": 5
}
