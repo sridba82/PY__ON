{
 "cells": [
  {
   "cell_type": "code",
   "execution_count": null,
   "id": "8cdc5c3f-d8d0-476c-8a48-f5ce82d39274",
   "metadata": {},
   "outputs": [],
   "source": [
    "# Q14) string1='ola ola ola'\n",
    "# Number of ola  = 3\n",
    "\n",
    "# Q15) string1='hello hello hello how how how how are you'\n",
    "# What is the most repeated word : how\n",
    "\n",
    "# Q16) string1='hellooooo how aree u'\n",
    "# what is the maximum length of word: helloooo\n",
    "# what is the minimum length of word: u\n",
    "\n",
    "# Q17) with out using sorted then sort the letters"
   ]
  },
  {
   "cell_type": "code",
   "execution_count": 34,
   "id": "030f78dd-01ea-4751-a71e-c43d74babdc7",
   "metadata": {},
   "outputs": [
    {
     "name": "stdout",
     "output_type": "stream",
     "text": [
      "1. Number of ola = 3\n",
      "2. Number of ola = 3\n"
     ]
    }
   ],
   "source": [
    "# Q14) string1='ola ola ola'\n",
    "# Number of ola  = 3\n",
    "# Part - 1\n",
    "string1='ola ola ola sathi pandu' + ' '\n",
    "count, min, space=0,0,0\n",
    "word=''\n",
    "for i in range(len(string1)):\n",
    "    if ord(string1[i]) == 32:\n",
    "        space=i\n",
    "        word=string1[min:space]\n",
    "        if word=='ola':                  # checking 'ola' word in string (words)\n",
    "            count=count+1\n",
    "        min=space+1\n",
    "        word=''\n",
    "print(f'1. Number of ola = {count}')\n",
    "\n",
    "\n",
    "# Part-2 \n",
    "string1='ola ola ola' + ' '\n",
    "sp_count=string1.count(' ')\n",
    "print('2. Number of ola =',sp_count)"
   ]
  },
  {
   "cell_type": "code",
   "execution_count": 26,
   "id": "08bdb3dc-c99b-4cf3-9907-aca15a94d32b",
   "metadata": {},
   "outputs": [
    {
     "name": "stdout",
     "output_type": "stream",
     "text": [
      "4\n"
     ]
    }
   ],
   "source": [
    "# Q15) string1='hello hello hello how how how how are you'\n",
    "# What is the most repeated word : how\n",
    "string2='hello hello hello how how how how are you'+' '\n",
    "str_len=len(string2)\n",
    "min, count, sp_count=0, 0, 0\n",
    "word=''\n",
    "for i in range(str_len):\n",
    "    if ord(string2[i])==32:\n",
    "        sp_loc=i\n",
    "        for j in range(min, sp_loc):\n",
    "            word=word+string2[j]     # word=string2[min:sp_loc], we can use this one also\n",
    "        if word=='how':\n",
    "            count=count+1\n",
    "        min=sp_loc+1\n",
    "        word=''\n",
    "print(count)"
   ]
  },
  {
   "cell_type": "code",
   "execution_count": 27,
   "id": "f75ce468-55d6-49a0-bd1d-c39ace837009",
   "metadata": {},
   "outputs": [
    {
     "name": "stdout",
     "output_type": "stream",
     "text": [
      "Maximum length of word hellooooo is: 9\n",
      "Maximum length of word u is: 1\n"
     ]
    }
   ],
   "source": [
    "# Q16) string1='hellooooo how aree u'\n",
    "# what is the maximum length of word: helloooo\n",
    "# what is the minimum length of word: u\n",
    "string3='hellooooo how aree u'+' '\n",
    "sp_loc, min=0, 0\n",
    "wc1=0\n",
    "wd1=''\n",
    "for i in range(len(string3)):\n",
    "    if ord(string3[i])==32:\n",
    "        sp_loc=i\n",
    "        # for j in range(min, sp_loc):\n",
    "        wc1=sp_loc-min\n",
    "        wd1=string3[min:sp_loc]\n",
    "        # print(wc1, wd1)\n",
    "        if wd1=='hellooooo':\n",
    "            print(f'Maximum length of word {wd1} is: {wc1}')\n",
    "        elif wd1=='u':\n",
    "            print(f'Maximum length of word {wd1} is: {wc1}')\n",
    "        min=sp_loc+1\n",
    "        wd1=''\n",
    "        wc1=0"
   ]
  },
  {
   "cell_type": "code",
   "execution_count": 28,
   "id": "4df52f60-4941-4078-b654-bc4f5b092478",
   "metadata": {},
   "outputs": [
    {
     "name": "stdin",
     "output_type": "stream",
     "text": [
      "Enter text for sorting: hello kaka\n"
     ]
    },
    {
     "name": "stdout",
     "output_type": "stream",
     "text": [
      "Each character in a string as list: ['h', 'e', 'l', 'l', 'o', ' ', 'k', 'a', 'k', 'a']\n",
      "Sorted:  aaehkkllo\n"
     ]
    }
   ],
   "source": [
    "# Q17) with out using sorted then sort the letters\n",
    "\n",
    "string=[]          # Empty list to store each character in a string as list, using bubble sort concept in 'C' language\n",
    "text = input('Enter text for sorting:').lower()   # if capitals entered changing it to smaller \n",
    "\n",
    "for i in range(len(text)):\n",
    "    string.append(text[i])\n",
    "print('Each character in a string as list:', string)\n",
    "max = len(string)\n",
    "\n",
    "for j in range(max - 1):\n",
    "    for k in range(max - j - 1):\n",
    "        if string[k] > string[k + 1]:         # If 1st element is greater than second then swap \n",
    "            string[k], string[k + 1] = string[k + 1], string[k]\n",
    "sorting = ''.join(string)                    # back to string\n",
    "\n",
    "print('Sorted:', sorting)"
   ]
  },
  {
   "cell_type": "code",
   "execution_count": null,
   "id": "05f77705-134c-4e30-9cff-37b6c5288bef",
   "metadata": {},
   "outputs": [],
   "source": [
    "string2='hello hello hello how how how how are you'+' '\n",
    "str_len=len(string2)\n",
    "min, count, sp_count=0, 0, 0\n",
    "word=''\n",
    "for i in range(str_len):\n",
    "    if ord(string2[i])==32:\n",
    "        sp_loc=i\n",
    "        for j in range(min, sp_loc):\n",
    "            word=string2[min:sp_loc]\n",
    "        if word=='how':\n",
    "            count=count+1\n",
    "        min=sp_loc+1\n",
    "        word=''\n",
    "print(count)"
   ]
  },
  {
   "cell_type": "code",
   "execution_count": null,
   "id": "3b2fee49-b4e4-41e3-bd7e-d78451e42568",
   "metadata": {},
   "outputs": [],
   "source": []
  },
  {
   "cell_type": "code",
   "execution_count": null,
   "id": "86deba7a-bbb1-4de5-bb29-a05e96b75321",
   "metadata": {},
   "outputs": [],
   "source": [
    "# Q17) with out using sorted then sort the letters\n",
    "string='hel'\n",
    "stringd='hel'\n",
    "strlen=len(string)\n",
    "high_str=''\n",
    "low_str=''\n",
    "tmp=''\n",
    "buffer=''\n",
    "for i in range(strlen):\n",
    "    for j in range(strlen):\n",
    "        # print('i->',string[i], i,'j->', stringd[j], j)\n",
    "        if string[i] < stringd[j]:\n",
    "            print('i', string[i], i, j)\n",
    "            print('j', stringd[j], i, j)\n",
    "print(low_str)"
   ]
  },
  {
   "cell_type": "code",
   "execution_count": null,
   "id": "481499a2-fbd7-4ec9-bfc2-7ead9f2fda1e",
   "metadata": {},
   "outputs": [],
   "source": [
    "string = 'hello kaka'\n",
    "characters = string.strip()\n",
    "print(characters)\n",
    "n = len(characters)\n",
    "for i in range(n - 1):\n",
    "    for j in range(n - i - 1):\n",
    "        if characters[j] > characters[j + 1]:\n",
    "            characters[j], characters[j + 1] = characters[j + 1], characters[j]\n",
    "sorted_string = ''.join(characters)\n",
    "print(sorted_string)"
   ]
  },
  {
   "cell_type": "code",
   "execution_count": null,
   "id": "d46a2fd9-fc0a-4710-aa20-c0f628d6ab2a",
   "metadata": {},
   "outputs": [],
   "source": [
    "characters2 = list('hello kaka')\n",
    "print(characters2)\n",
    "print(str_list)\n",
    "n = len(characters2)\n",
    "for i in range(n - 1):\n",
    "    for j in range(n - i - 1):\n",
    "        if characters2[j] > characters2[j + 1]:\n",
    "            characters2[j], characters2[j + 1] = characters2[j + 1], characters2[j]\n",
    "sorted_string = ''.join(characters2)\n",
    "print(sorted_string)"
   ]
  },
  {
   "cell_type": "code",
   "execution_count": null,
   "id": "4feb8fef-cb44-4e4e-8b3b-49f3eb2c63c0",
   "metadata": {},
   "outputs": [],
   "source": [
    "str = 'hello'\n",
    "str_list=str.split()\n",
    "print(str_list)"
   ]
  },
  {
   "cell_type": "code",
   "execution_count": null,
   "id": "c941b00a-dc1b-4000-b484-bc6fe6bf1e10",
   "metadata": {},
   "outputs": [],
   "source": [
    "string = list('hello kaka')\n",
    "n = len(string)\n",
    "for i in range(n - 1):\n",
    "    for j in range(n - i - 1):\n",
    "        if string[j] > string[j + 1]:\n",
    "            string[j], string[j + 1] = string[j + 1], string[j]\n",
    "sorted_string = ''.join(string)\n",
    "print(sorted_string)"
   ]
  },
  {
   "cell_type": "code",
   "execution_count": 10,
   "id": "0f6c50b7-acdc-4b36-a07d-be7045de4b0b",
   "metadata": {},
   "outputs": [
    {
     "name": "stdin",
     "output_type": "stream",
     "text": [
      "Enter text for sorting: hello kaka\n"
     ]
    },
    {
     "name": "stdout",
     "output_type": "stream",
     "text": [
      "Each character in a string as list: ['h', 'e', 'l', 'l', 'o', ' ', 'k', 'a', 'k', 'a']\n",
      "Sorted:  aaehkkllo\n"
     ]
    }
   ],
   "source": []
  },
  {
   "cell_type": "code",
   "execution_count": null,
   "id": "b27d3192-cef5-4515-9006-614588736fb2",
   "metadata": {},
   "outputs": [],
   "source": []
  }
 ],
 "metadata": {
  "kernelspec": {
   "display_name": "Python 3 (ipykernel)",
   "language": "python",
   "name": "python3"
  },
  "language_info": {
   "codemirror_mode": {
    "name": "ipython",
    "version": 3
   },
   "file_extension": ".py",
   "mimetype": "text/x-python",
   "name": "python",
   "nbconvert_exporter": "python",
   "pygments_lexer": "ipython3",
   "version": "3.11.7"
  }
 },
 "nbformat": 4,
 "nbformat_minor": 5
}
