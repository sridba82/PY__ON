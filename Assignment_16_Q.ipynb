{
 "cells": [
  {
   "cell_type": "markdown",
   "id": "70b7ef5e-c9a6-43ad-bf3f-c32b97d02a9c",
   "metadata": {},
   "source": [
    "1. Write a program that asks the user to enter a string. The program should then print the following:\n",
    "    (a) The total number of characters in the string\n",
    "    (b) The string repeated 10 times\n",
    "    (c) The first character of the string (remember that string indices start at 0) (d) The first three\n",
    "    characters of the string\n",
    "    (e) The last three characters of the string\n",
    "    (f) The string backwards\n",
    "    (g) The seventh character of the string if the string is long enough and a message otherwise\n",
    "    (h) The string with its first and last characters removed\n",
    "    (i) The string in all caps\n",
    "    (j) The string with every a replaced with an e\n",
    "\n",
    "2. A simple way to estimate the number of words in a string is to count the number of spaces in the\n",
    "    string. Write a program that asks the user for a string and returns an estimate of how many words\n",
    "    are in the string.\n",
    "    Tip: You need to count the number of words using spaces\n",
    "\n",
    "3. Write a program that asks the user to enter a word and prints out whether that word contains any\n",
    "    vowels.\n",
    "\n",
    "4. Improvise above code by providing unique vowels\n",
    "\n",
    "5. Write a program that asks the user to enter a string. The program should create a new string\n",
    "    called new_string from the user’s string such that the second character is changed to an asterisk and\n",
    "    three exclamation points are attached to the end of the string. Finally, print new_string.\n",
    "    Typical output is shown below:\n",
    "    Enter your string: Qbert\n",
    "    Output: Q*ert!!!\n",
    "\n",
    "6. Write a program that asks the user to enter a word and determines whether the word is a\n",
    "    palindrome or not. A palindrome is a word that reads the same backwards as forwards\n",
    "\n",
    "7. At a certain school, student email addresses end with @student.college.edu, while professor\n",
    "    email addresses end with @prof.college.edu. Write a program that first asks the user how many\n",
    "    email addresses they will be entering, and then has the user enter those addresses. After all the\n",
    "    email addresses are entered, the program should print out a message indicating either that all the\n",
    "    addresses are student addresses or that there were some professor addresses entered.\n",
    "\n",
    "8. Write a program that asks the user to enter a string, then prints out each letter of the string\n",
    "    doubled and on a separate line. For instance,\n",
    "    if the user entered HEY,\n",
    "    the output would be\n",
    "    HH\n",
    "    EE\n",
    "    YY\n",
    "\n",
    "9. Write a program that asks the user to enter a word that contains the letter a. The program should\n",
    "    then print the following two lines: On the first line should be the part of the string up to and\n",
    "    including the the first a, and on the second line should be the rest of the string.\n",
    "    Sample output is shown below:\n",
    "    Enter a word: buffalo\n",
    "    buffa\n",
    "    lo\n",
    "10. Write a program that asks the user to enter a word and then capitalizes every other letter of that\n",
    "    word.\n",
    "    So if the user enters rhinoceros,\n",
    "    the program should print rHiNoCeRoS.\n",
    "\n",
    "11. Write a program that asks the user to enter two strings of the same length. The program should\n",
    "    then check to see if the strings are of the same length. If they are not, the program should print an\n",
    "    appropriate message and exit. If they are of the same length, the program should alternate the\n",
    "    characters of the two strings. For example,\n",
    "    if the user enters abcde and ABCDE\n",
    "    the program should print out AaBbCcDdEe.\n",
    "\n",
    "12. Write a program that asks the user to enter their name in lowercase and then capitalizes the first\n",
    "    letter of each word of their name.\n",
    "\n",
    "13. The goal of this exercise is to see if you can mimic the behavior of the in operator and the count\n",
    "    and index methods using only variables, for loops, and if statements.\n",
    "    (a) Without using the in operator, write a program that asks the user for a string and a letter\n",
    "    and prints out whether or not the letter appears in the string.\n",
    "    (b) Without using the count method, write a program that asks the user for a string and a\n",
    "    letter and counts how many occurrences there are of the letter in the string.\n",
    "    (c) Without using the index method, write a program that asks the user for a string and a\n",
    "    letter and prints out the index of the first occurrence of the letter in the string. If the letter is\n",
    "    not in the string, the program should say so.\n",
    "\n",
    "14. Finding a substring within a string\n",
    "    For example, if we were presented a series of lines formatted as follows:\n",
    "    From stephen.marquard@uct.ac.za Sat Jan 5 09:14:16 2008\n",
    "    and we wanted to pull out only the second half of the address (i.e., uct.ac.za)\n",
    "\n",
    "15. Write a Python program to add &#39;ing&#39; at the end of a given string (length should be at least 3). If the\n",
    "    given string already ends with &#39;ing&#39; then add &#39;ly&#39; instead.\n",
    "    If the string length of the given string is less than 3, leave it unchanged.\n",
    "    Go to the editor\n",
    "    Sample String : &#39;abc&#39;\n",
    "    Expected Result : &#39;abcing&#39;\n",
    "    Sample String : &#39;string&#39;\n",
    "    Expected Result : &#39;stringly&#39;\n",
    "\n",
    "16. Take the following Python code that stores a string:‘\n",
    "    string = &#39;X-DSPAM-Confidence: 0.8475&#39;\n",
    "    Extract the portion of the string after the colon character and then use the float function to convert\n",
    "    the extracted string into a floating point number."
   ]
  },
  {
   "cell_type": "code",
   "execution_count": 8,
   "id": "1b955dad-5c7e-470b-899d-55e2732975de",
   "metadata": {},
   "outputs": [
    {
     "name": "stdin",
     "output_type": "stream",
     "text": [
      "Enter string to count words:     hello hi how are you     \n"
     ]
    },
    {
     "name": "stdout",
     "output_type": "stream",
     "text": [
      "5\n"
     ]
    }
   ],
   "source": [
    "# 2. A simple way to estimate the number of words in a string is to count the number of spaces in the\n",
    "#     string. Write a program that asks the user for a string and returns an estimate of how many words\n",
    "#     are in the string.\n",
    "#     Tip: You need to count the number of words using spaces\n",
    "string=input('Enter string to count words:')\n",
    "word_cnt=(string.strip()).count(' ')\n",
    "print(word_cnt+1)"
   ]
  },
  {
   "cell_type": "code",
   "execution_count": 31,
   "id": "f0ee9158-3546-48e8-be1f-d34e2889fec2",
   "metadata": {},
   "outputs": [
    {
     "name": "stdin",
     "output_type": "stream",
     "text": [
      "Enter word to find vovels in it: hello world\n"
     ]
    },
    {
     "name": "stdout",
     "output_type": "stream",
     "text": [
      "Vovels are:  e\n",
      "Vovels are:  o\n",
      "Vovels are:  o\n"
     ]
    }
   ],
   "source": [
    "# 3. Write a program that asks the user to enter a word and prints out whether that word contains any vowels.\n",
    "string2=input('Enter word to find vovels in it:')\n",
    "vovels='aeiou'\n",
    "for i in range(len(string2)):\n",
    "    if string2[i] in vovels:\n",
    "        print('Vovels are: ', string2[i])"
   ]
  },
  {
   "cell_type": "code",
   "execution_count": 32,
   "id": "5017bc42-ca83-4c45-af8f-46dcec49edd8",
   "metadata": {},
   "outputs": [
    {
     "name": "stdin",
     "output_type": "stream",
     "text": [
      "Enter word to find vovels in it: hello world\n"
     ]
    },
    {
     "name": "stdout",
     "output_type": "stream",
     "text": [
      "Vovel is: e\n",
      "Vovel is: o\n",
      "The count of unique vovels in word hello world is 2\n"
     ]
    }
   ],
   "source": [
    "# 4. Improvise above code by providing unique vowels\n",
    "string3=input('Enter word to find vovels in it:')\n",
    "vovels='aeiou'\n",
    "count=0\n",
    "for i in range(len(vovels)):\n",
    "    if vovels[i] in string3:\n",
    "        count=count+1\n",
    "        print('Vovel is:', vovels[i])\n",
    "if count > 0:\n",
    "    print(f'The count of unique vovels in word {string3} is {count}')"
   ]
  },
  {
   "cell_type": "code",
   "execution_count": 53,
   "id": "fd9b3747-49f3-4f8f-b349-ac5cbeaa4352",
   "metadata": {},
   "outputs": [
    {
     "ename": "IndexError",
     "evalue": "list index out of range",
     "output_type": "error",
     "traceback": [
      "\u001b[1;31m---------------------------------------------------------------------------\u001b[0m",
      "\u001b[1;31mIndexError\u001b[0m                                Traceback (most recent call last)",
      "Cell \u001b[1;32mIn[53], line 8\u001b[0m\n\u001b[0;32m      6\u001b[0m \u001b[38;5;66;03m# input('Enter a string to modify O/P: ')\u001b[39;00m\n\u001b[0;32m      7\u001b[0m ok \u001b[38;5;241m=\u001b[39mstring4\u001b[38;5;241m.\u001b[39msplit()\n\u001b[1;32m----> 8\u001b[0m \u001b[38;5;28mprint\u001b[39m(ok[\u001b[38;5;241m1\u001b[39m])\n",
      "\u001b[1;31mIndexError\u001b[0m: list index out of range"
     ]
    }
   ],
   "source": [
    "# Q 5. Write a program that asks the user to enter a string. The program should create a new string called \n",
    "# new_string from the user’s string such that the second character is changed to an asterisk and three \n",
    "# exclamation points are attached to the end of the string. Finally, print new_string. Typical output is shown below: \n",
    "# Enter your string: Qbert Output: Q*ert!!!\n",
    "string4='Qbert'\n",
    "# input('Enter a string to modify O/P: ')\n",
    "ok =string4.split()"
   ]
  },
  {
   "cell_type": "code",
   "execution_count": 89,
   "id": "3b41c73f-0395-4c33-9f7f-25ddcf064797",
   "metadata": {},
   "outputs": [
    {
     "name": "stdin",
     "output_type": "stream",
     "text": [
      "Enter any string to add suffix: ing / ly: su\n"
     ]
    },
    {
     "name": "stdout",
     "output_type": "stream",
     "text": [
      "su\n"
     ]
    }
   ],
   "source": [
    "# 15.\tWrite a Python program to add 'ing' at the end of a given string (length should be at least 3). If the given string already ends with 'ing' then add 'ly' instead. \n",
    "# If the string length of the given string is less than 3, leave it unchanged. \n",
    "# Go to the editor \n",
    "# Sample String : 'abc' \n",
    "# Expected Result : 'abcing' \n",
    "# Sample String : 'string' \n",
    "# Expected Result : 'stringly'\n",
    "\n",
    "stringly=input('Enter any string to add suffix: ing / ly:')\n",
    "ls=len(stringly)\n",
    "if ls > 2 and stringly[len(stringly)-3:] == 'ing':\n",
    "    ing_ly=stringly+'ly'\n",
    "elif ls > 2 and ingly!='ing':\n",
    "    ing_ly=stringly+'ing'\n",
    "else:\n",
    "    ing_ly=stringly\n",
    "print(ing_ly)"
   ]
  },
  {
   "cell_type": "code",
   "execution_count": null,
   "id": "bf0ae6a6-8196-4bd8-bb0c-0f43600cccac",
   "metadata": {},
   "outputs": [],
   "source": []
  }
 ],
 "metadata": {
  "kernelspec": {
   "display_name": "Python 3 (ipykernel)",
   "language": "python",
   "name": "python3"
  },
  "language_info": {
   "codemirror_mode": {
    "name": "ipython",
    "version": 3
   },
   "file_extension": ".py",
   "mimetype": "text/x-python",
   "name": "python",
   "nbconvert_exporter": "python",
   "pygments_lexer": "ipython3",
   "version": "3.11.7"
  }
 },
 "nbformat": 4,
 "nbformat_minor": 5
}
