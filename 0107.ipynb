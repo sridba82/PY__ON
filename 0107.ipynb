{
 "cells": [
  {
   "cell_type": "code",
   "execution_count": 7,
   "id": "2e7ff473-9793-4059-908d-a23a3fae0344",
   "metadata": {},
   "outputs": [
    {
     "name": "stdin",
     "output_type": "stream",
     "text": [
      "Enter 1st Number to average 10\n",
      "Enter 2nd Number to average 20\n",
      "Enter 3rd Number to average 30\n"
     ]
    },
    {
     "name": "stdout",
     "output_type": "stream",
     "text": [
      "Average of 10, 20 and 30 is: 20.0\n"
     ]
    }
   ],
   "source": [
    "def average():\n",
    "    num1 = eval(input('Enter 1st Number to average'))\n",
    "    num2 = eval(input('Enter 2nd Number to average'))\n",
    "    num3 = eval(input('Enter 3rd Number to average'))\n",
    "    ave = (num1 + num2 + num3) / 3\n",
    "    print(f'Average of {num1}, {num2} and {num3} is: {ave}')\n",
    "average()"
   ]
  },
  {
   "cell_type": "code",
   "execution_count": 9,
   "id": "0bea6450-0650-4b17-954b-1f6a16fbea77",
   "metadata": {},
   "outputs": [
    {
     "name": "stdin",
     "output_type": "stream",
     "text": [
      "Enter radius to find Area of Circle 2\n"
     ]
    },
    {
     "name": "stdout",
     "output_type": "stream",
     "text": [
      "Area of Circle is: 12.57\n"
     ]
    }
   ],
   "source": [
    "import math\n",
    "def radius():\n",
    "    r = eval(input('Enter radius to find Area of Circle'))\n",
    "    area = round(math.pi*r*r, 2)\n",
    "    print(f'Area of Circle is: {area}')\n",
    "radius()"
   ]
  },
  {
   "cell_type": "code",
   "execution_count": 12,
   "id": "ab0887e4-d2a4-4a58-929f-b641faae3817",
   "metadata": {},
   "outputs": [
    {
     "name": "stdin",
     "output_type": "stream",
     "text": [
      "Enter Meal Bill:  10\n",
      "Enter Tip Amount on Meal in %:  1\n"
     ]
    },
    {
     "name": "stdout",
     "output_type": "stream",
     "text": [
      "Meal amount is: 10 \n",
      "Tip 1 % and Amount: 0.1\n",
      "Total Bill: 11\n"
     ]
    }
   ],
   "source": [
    "import math\n",
    "def bill():\n",
    "    m_bill = eval(input('Enter Meal Bill: '))\n",
    "    tip = eval(input('Enter Tip Amount on Meal in %: '))\n",
    "    tip_amt = (m_bill * tip) / 100\n",
    "    t_bill = m_bill + tip\n",
    "    print(f'Meal amount is: {m_bill} \\nTip {tip} % and Amount: {tip_amt}\\nTotal Bill: {t_bill}')\n",
    "bill()"
   ]
  },
  {
   "cell_type": "markdown",
   "id": "e5d11678-c9b3-4b53-83e3-ff5a4dd9ae2a",
   "metadata": {},
   "source": [
    "**Functions with Arguments**"
   ]
  },
  {
   "cell_type": "code",
   "execution_count": 14,
   "id": "04374eaa-a6b9-4a95-b7b4-fd83a80ef1a6",
   "metadata": {},
   "outputs": [
    {
     "name": "stdout",
     "output_type": "stream",
     "text": [
      "Addition of 10 and 20 is: 30\n"
     ]
    }
   ],
   "source": [
    "def addition2(num1, num2):\n",
    "    add = num1 + num2\n",
    "    print(f'Addition of {num1} and {num2} is: {add}')\n",
    "addition2(10, 20)"
   ]
  },
  {
   "cell_type": "code",
   "execution_count": 15,
   "id": "f2b26a02-2e12-4c3e-bff6-8ddf36fac8fd",
   "metadata": {},
   "outputs": [
    {
     "name": "stdout",
     "output_type": "stream",
     "text": [
      "Average of 10, 20 and 30 is: 20.0\n"
     ]
    }
   ],
   "source": [
    "def average1(num1, num2, num3):\n",
    "    ave = (num1 + num2 + num3) / 3\n",
    "    print(f'Average of {num1}, {num2} and {num3} is: {ave}')\n",
    "average1(10, 20, 30)"
   ]
  },
  {
   "cell_type": "code",
   "execution_count": 16,
   "id": "3c57c42f-d94e-4eb2-8d63-e550db39a33a",
   "metadata": {},
   "outputs": [
    {
     "name": "stdout",
     "output_type": "stream",
     "text": [
      "Area of Circle is: 12.57\n"
     ]
    }
   ],
   "source": [
    "import math\n",
    "def radius1(r):\n",
    "    area = round(math.pi*r*r, 2)\n",
    "    print(f'Area of Circle is: {area}')\n",
    "radius1(2)"
   ]
  },
  {
   "cell_type": "code",
   "execution_count": 19,
   "id": "0f46b55e-74c7-4c8a-a00a-04d169344afa",
   "metadata": {},
   "outputs": [
    {
     "name": "stdout",
     "output_type": "stream",
     "text": [
      "Meal amount is: 1000 \n",
      "Tip 5 % on meal amount and Tip amount is: 50.0\n",
      "Total Bill: 1005\n"
     ]
    }
   ],
   "source": [
    "def bill1(m_bill, tip):\n",
    "    tip_amt = (m_bill * tip) / 100\n",
    "    t_bill = m_bill + tip\n",
    "    print(f'Meal amount is: {m_bill} \\nTip {tip} % on meal amount and Tip amount is: {tip_amt}\\nTotal Bill: {t_bill}')\n",
    "bill1(1000, 5)"
   ]
  },
  {
   "cell_type": "code",
   "execution_count": 21,
   "id": "12efba6c-9f28-47d9-b53b-8de503e452d0",
   "metadata": {},
   "outputs": [
    {
     "name": "stdout",
     "output_type": "stream",
     "text": [
      "Length of rectangle: 2 and Breadth of rectangle: 4Area of rectangle is: 8\n"
     ]
    }
   ],
   "source": [
    "def a_rectangle(l, b):\n",
    "    area = l * b\n",
    "    print(f'Length of rectangle: {l} and Breadth of rectangle: {b}Area of rectangle is: {area}')\n",
    "a_rectangle(2, 4)"
   ]
  },
  {
   "cell_type": "code",
   "execution_count": 23,
   "id": "f0126624-ed52-475a-bab7-0ea25399d023",
   "metadata": {},
   "outputs": [
    {
     "name": "stdout",
     "output_type": "stream",
     "text": [
      "of all fruits banana is my favorite\n"
     ]
    }
   ],
   "source": [
    "txt = \"       banana \"\n",
    "\n",
    "x = txt.strip()\n",
    "\n",
    "print(\"of all fruits\", x, \"is my favorite\")"
   ]
  },
  {
   "cell_type": "code",
   "execution_count": 138,
   "id": "d5e787ad-fcac-4ecf-9d58-852a07e61e61",
   "metadata": {},
   "outputs": [
    {
     "name": "stdin",
     "output_type": "stream",
     "text": [
      " 1\n"
     ]
    },
    {
     "name": "stdout",
     "output_type": "stream",
     "text": [
      "Weird\n"
     ]
    }
   ],
   "source": [
    "\n",
    "import math\n",
    "import os\n",
    "import random\n",
    "import re\n",
    "import sys\n",
    "\n",
    "if __name__ == '__main__':\n",
    "    n = int(input().strip())\n",
    "    if n%2==0:\n",
    "        if n >= 2 and n <=5:\n",
    "            print(\"Not Weird\")\n",
    "        elif n >= 6 and n <=20:\n",
    "            print(\"Weird\")\n",
    "        else:\n",
    "            print(\"Not Weird\")\n",
    "    else:\n",
    "        print(\"Weird\")"
   ]
  },
  {
   "cell_type": "code",
   "execution_count": 44,
   "id": "e2e39772-79e3-4dd9-8141-ad3f2905cd61",
   "metadata": {},
   "outputs": [
    {
     "name": "stdin",
     "output_type": "stream",
     "text": [
      " 3\n"
     ]
    },
    {
     "name": "stdout",
     "output_type": "stream",
     "text": [
      "0\n",
      "1\n",
      "4\n"
     ]
    }
   ],
   "source": [
    "if __name__ == '__main__':\n",
    "    n = int(input())\n",
    "    for i in range(0, n):\n",
    "        sq = i*i\n",
    "        print(sq)"
   ]
  },
  {
   "cell_type": "code",
   "execution_count": 46,
   "id": "093703f2-0fbb-43b2-97a1-539151410f6e",
   "metadata": {},
   "outputs": [
    {
     "name": "stdin",
     "output_type": "stream",
     "text": [
      "Enter Start No:  1\n",
      "Enter End No:  10\n"
     ]
    },
    {
     "name": "stdout",
     "output_type": "stream",
     "text": [
      "Enven\n"
     ]
    }
   ],
   "source": [
    "import random\n",
    "\n",
    "def even_odd1():\n",
    "    start = eval(input('Enter Start No: '))\n",
    "    end = eval(input('Enter End No: '))\n",
    "    num = random.randint(start, end)\n",
    "    if num%2==0:\n",
    "        print('Enven')\n",
    "    else:\n",
    "        print('Odd')\n",
    "even_odd1()"
   ]
  },
  {
   "cell_type": "code",
   "execution_count": 75,
   "id": "e05caf38-cc4f-47ac-8690-2d7cd2be065d",
   "metadata": {},
   "outputs": [
    {
     "data": {
      "text/plain": [
       "['__add__',\n",
       " '__class__',\n",
       " '__delattr__',\n",
       " '__dir__',\n",
       " '__doc__',\n",
       " '__eq__',\n",
       " '__format__',\n",
       " '__ge__',\n",
       " '__getattribute__',\n",
       " '__getstate__',\n",
       " '__gt__',\n",
       " '__hash__',\n",
       " '__init__',\n",
       " '__init_subclass__',\n",
       " '__le__',\n",
       " '__lt__',\n",
       " '__ne__',\n",
       " '__new__',\n",
       " '__radd__',\n",
       " '__reduce__',\n",
       " '__reduce_ex__',\n",
       " '__repr__',\n",
       " '__rsub__',\n",
       " '__setattr__',\n",
       " '__sizeof__',\n",
       " '__str__',\n",
       " '__sub__',\n",
       " '__subclasshook__',\n",
       " 'astimezone',\n",
       " 'combine',\n",
       " 'ctime',\n",
       " 'date',\n",
       " 'day',\n",
       " 'dst',\n",
       " 'fold',\n",
       " 'fromisocalendar',\n",
       " 'fromisoformat',\n",
       " 'fromordinal',\n",
       " 'fromtimestamp',\n",
       " 'hour',\n",
       " 'isocalendar',\n",
       " 'isoformat',\n",
       " 'isoweekday',\n",
       " 'max',\n",
       " 'microsecond',\n",
       " 'min',\n",
       " 'minute',\n",
       " 'month',\n",
       " 'now',\n",
       " 'replace',\n",
       " 'resolution',\n",
       " 'second',\n",
       " 'strftime',\n",
       " 'strptime',\n",
       " 'time',\n",
       " 'timestamp',\n",
       " 'timetuple',\n",
       " 'timetz',\n",
       " 'today',\n",
       " 'toordinal',\n",
       " 'tzinfo',\n",
       " 'tzname',\n",
       " 'utcfromtimestamp',\n",
       " 'utcnow',\n",
       " 'utcoffset',\n",
       " 'utctimetuple',\n",
       " 'weekday',\n",
       " 'year']"
      ]
     },
     "execution_count": 75,
     "metadata": {},
     "output_type": "execute_result"
    }
   ],
   "source": [
    "dir(datetime.datetime)"
   ]
  },
  {
   "cell_type": "code",
   "execution_count": 73,
   "id": "24c3b675-2619-4389-bb3b-7a44616e42ba",
   "metadata": {},
   "outputs": [
    {
     "name": "stdout",
     "output_type": "stream",
     "text": [
      "2024-02-29 00:00:00\n"
     ]
    }
   ],
   "source": [
    "import datetime\n",
    "\n",
    "# x = datetime.datetime(2023, 2, 29)\n",
    "year = eval(input())\n",
    "month = 2\n",
    "y = datetime.datetime\n",
    "# print(x)\n",
    "print(y)"
   ]
  },
  {
   "cell_type": "code",
   "execution_count": 80,
   "id": "3ac74ea7-bc07-43c4-b7df-b8eb2ef48e14",
   "metadata": {},
   "outputs": [
    {
     "name": "stdout",
     "output_type": "stream",
     "text": [
      "1\n",
      "9999-12-31 23:59:59.999999\n"
     ]
    }
   ],
   "source": [
    "import datetime\n",
    "x = datetime.datetime.now()\n",
    "print(x.day)\n",
    "print(x.max)"
   ]
  },
  {
   "cell_type": "code",
   "execution_count": 118,
   "id": "37fee914-65d7-4c18-a2a1-05065c41f30e",
   "metadata": {},
   "outputs": [
    {
     "ename": "AttributeError",
     "evalue": "module 'calendar' has no attribute 'FEBRUARY'",
     "output_type": "error",
     "traceback": [
      "\u001b[1;31m---------------------------------------------------------------------------\u001b[0m",
      "\u001b[1;31mAttributeError\u001b[0m                            Traceback (most recent call last)",
      "Cell \u001b[1;32mIn[118], line 10\u001b[0m\n\u001b[0;32m      7\u001b[0m x \u001b[38;5;241m=\u001b[39m calendar\u001b[38;5;241m.\u001b[39mmonth(yy, mm)\n\u001b[0;32m      8\u001b[0m \u001b[38;5;66;03m# display the calendar\u001b[39;00m\n\u001b[0;32m      9\u001b[0m \u001b[38;5;66;03m# print(calendar.month(yy, mm, w=0, l=0))\u001b[39;00m\n\u001b[1;32m---> 10\u001b[0m y \u001b[38;5;241m=\u001b[39m calendar\u001b[38;5;241m.\u001b[39mFEBRUARY\n\u001b[0;32m     11\u001b[0m \u001b[38;5;28mprint\u001b[39m(y)\n",
      "\u001b[1;31mAttributeError\u001b[0m: module 'calendar' has no attribute 'FEBRUARY'"
     ]
    }
   ],
   "source": [
    "# import module\n",
    "import calendar\n",
    "import datetime\n",
    "\n",
    "yy = 2023\n",
    "mm = 2\n",
    "x = calendar.month(yy, mm)\n",
    "# display the calendar\n",
    "# print(calendar.month(yy, mm, w=0, l=0))\n",
    "y = calendar.FEBRUARY\n",
    "print(y)\n",
    "# dir(calendar.month)\n",
    "# dir(datetime.datetime)\n",
    "# calendar.month()"
   ]
  },
  {
   "cell_type": "code",
   "execution_count": 123,
   "id": "f0ee979d-6df7-441d-a07e-94a9b16700e4",
   "metadata": {},
   "outputs": [
    {
     "name": "stdout",
     "output_type": "stream",
     "text": [
      "29\n"
     ]
    }
   ],
   "source": [
    "from datetime import datetime, date\n",
    "\n",
    "# using date()\n",
    "t1 = date(year = 2024, month = 2, day = 29)\n",
    "print(t1.day)"
   ]
  },
  {
   "cell_type": "code",
   "execution_count": 137,
   "id": "f6153d1c-69b2-46dd-b10e-80f3ce7a6523",
   "metadata": {},
   "outputs": [
    {
     "name": "stdin",
     "output_type": "stream",
     "text": [
      " 2023\n"
     ]
    },
    {
     "data": {
      "text/plain": [
       "False"
      ]
     },
     "execution_count": 137,
     "metadata": {},
     "output_type": "execute_result"
    }
   ],
   "source": [
    "def is_leap(year):\n",
    "    leap = False\n",
    "    date1 = date(year, 1, 1)\n",
    "    date2 = date(year, 12, 31)\n",
    "    x = (date2 - date1).days\n",
    "    if x == 365:\n",
    "        leap = True\n",
    "    return leap\n",
    "\n",
    "year = int(input())\n",
    "is_leap(year)"
   ]
  },
  {
   "cell_type": "code",
   "execution_count": 131,
   "id": "0c4e0b3e-5cd6-4e83-8954-e9ef045b8544",
   "metadata": {},
   "outputs": [
    {
     "name": "stdout",
     "output_type": "stream",
     "text": [
      "364\n"
     ]
    }
   ],
   "source": [
    "from datetime import date\n",
    "def is_leap(year):\n",
    "    leap = False\n",
    "    \n",
    "    date1 = date(year, 1, 1)\n",
    "    date2 = date(year, 12, 31)\n",
    "    x = (date2 - date1).days\n",
    "    if x == 365:\n",
    "        leap = True\n",
    "    \n",
    "    return leap\n",
    "\n",
    "year = int(input())\n",
    "print(is_leap(year))"
   ]
  },
  {
   "cell_type": "code",
   "execution_count": null,
   "id": "e3f13b35-3542-40ab-91d5-9e31f910c698",
   "metadata": {},
   "outputs": [],
   "source": []
  }
 ],
 "metadata": {
  "kernelspec": {
   "display_name": "Python 3 (ipykernel)",
   "language": "python",
   "name": "python3"
  },
  "language_info": {
   "codemirror_mode": {
    "name": "ipython",
    "version": 3
   },
   "file_extension": ".py",
   "mimetype": "text/x-python",
   "name": "python",
   "nbconvert_exporter": "python",
   "pygments_lexer": "ipython3",
   "version": "3.11.7"
  }
 },
 "nbformat": 4,
 "nbformat_minor": 5
}
