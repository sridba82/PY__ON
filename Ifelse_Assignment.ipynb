{
 "cells": [
  {
   "cell_type": "code",
   "execution_count": null,
   "id": "c011e309-8f85-46a1-b66c-686b43180326",
   "metadata": {},
   "outputs": [],
   "source": [
    "#### Problem-1(Use conditional statements) \n",
    "# Write a program that asks the user to enter a length in centimetres. If the user enters \n",
    "# a negative length, the program should tell the user that the entry is invalid. Otherwise, \n",
    "# the program should convert the length to inches and print out the result. There are \n",
    "# 2.54 centimetres in an inch.\n",
    "len_centi = eval(input('Enter Length in cm\\'s to convert into Inches: '))\n",
    "if len_centi < 0:\n",
    "    print('Entry is invalid')\n",
    "else:\n",
    "    print(f'The {len_centi} cms in Inches is: ',round(len_centi / 2.54, 2), ' Inches')"
   ]
  },
  {
   "cell_type": "code",
   "execution_count": null,
   "id": "8036b5ee-e851-44de-8dcf-6d8c3a54374e",
   "metadata": {},
   "outputs": [],
   "source": [
    "# Ask the user for a temperature. Then ask them what units, Celsius or Fahrenheit, the \n",
    "# temperature is in. Your program should convert the temperature to the other unit. The \n",
    "# conversions are F = 9 5 C +32 and C = 5 9 (F − 32).\n",
    "print('==================================================================================')\n",
    "print('Choose any one option to convert \"Celsius to Fahrenheit\" or \"Fahrenheit to Celsius\"')\n",
    "print('==================================================================================\\n')\n",
    "choice = eval(input('1. \"Celsius to Fahrenheit\"\\n2. \"Fahrenheit to Celsius\"\\nOption: '))\n",
    "if choice == 1:\n",
    "    cunits = eval(input('Enter Celsius units to convert into Fahrenheit: '))\n",
    "    # F = 9/5 C +32\n",
    "    fahrenheit = ((9/5) * cunits) + 32\n",
    "    print(f'Celsius: {cunits} units in Fahrenheit is: {fahrenheit} units')\n",
    "elif choice == 2:\n",
    "    funits = eval(input('Enter Fahrenheit units to convert into Celsius: '))\n",
    "    # C = 5/9 (F − 32)\n",
    "    celsius = (5/9) * (funits - 32)\n",
    "    print(f'Fahrenheit: {funits} units in Celsius is: {celsius} units')\n",
    "else:\n",
    "    print('Wrong Option')"
   ]
  },
  {
   "cell_type": "code",
   "execution_count": null,
   "id": "f821e2dd-212a-4ec1-9075-4cca640d55a6",
   "metadata": {},
   "outputs": [],
   "source": [
    "# Ask the user to enter a temperature in Celsius. The program should print a \n",
    "# message based on the temperature: \n",
    "#  • If the temperature is less than -273.15, print that the temperature is invalid because it is \n",
    "# below absolute zero. \n",
    "# • If it is exactly -273.15, print that the temperature is absolute 0. \n",
    "# • If the temperature is between -273.15 and 0, print that the temperature is below \n",
    "# freezing. • If it is 0, print that the temperature is at the freezing point. \n",
    "# • If it is between 0 and 100, print that the temperature is in the normal \n",
    "# range. • If it is 100, print that the temperature is at the boiling point. \n",
    "# • If it is above 100, print that the temperature is above the boiling point\n",
    "print('==========================================================')\n",
    "temp = eval(input('Enter temperature in Celsius, to know its level: '))\n",
    "print('==========================================================\\n')\n",
    "if temp == -273.15:\n",
    "    print('==> The temperature is absolute 0.')\n",
    "elif temp > -273.15 and temp < 0:\n",
    "    print('==> The temperature is below freezing.')\n",
    "elif temp == 0:\n",
    "    print('==> The temperature is at the freezing point.')\n",
    "elif temp > 0 and temp < 100:\n",
    "    print('==> The temperature is in the normal range.')\n",
    "elif temp == 100:\n",
    "    print('==> The temperature is at the boiling point.')\n",
    "elif temp > 100:\n",
    "    print('==> The temperature is above the boiling point.')\n",
    "else:\n",
    "    print('==> The temperature is invalid, because it is below absolute 0.')\n",
    "print('\\n')\n"
   ]
  },
  {
   "cell_type": "code",
   "execution_count": null,
   "id": "3a417069-a3cf-4e85-9a57-0d525759a085",
   "metadata": {},
   "outputs": [],
   "source": [
    "# Write a program that asks the user how many credits they have taken. If they have taken 23 or \n",
    "# less, print that the student is a freshman. If they have taken between 24 and 53, print that they \n",
    "# are asophomore. The range for juniors is 54 to 83, and for seniors it is 84 and over. \n",
    "\n",
    "credits = eval(input('Enter how many credits taken by student:'))\n",
    "if credits >= 24 and credits <=53:\n",
    "    print('The Student is asophomore')\n",
    "elif credits <=83:\n",
    "    print('The Student is junior')\n",
    "elif credits >= 84:\n",
    "    print('The Student is senior')\n",
    "else:\n",
    "    print('The Student is freshman')\n",
    "    "
   ]
  },
  {
   "cell_type": "code",
   "execution_count": null,
   "id": "3332aa0e-0f14-4fd9-af4c-92ad60350b87",
   "metadata": {},
   "outputs": [],
   "source": [
    "# Generate a random number between 1 and 10. Ask the user to guess the number and print a \n",
    "# message based on whether they get it right or not. \n",
    "import random\n",
    "if random.randint(1, 10) == eval(input('Guess the number in 1-10 to check auto toss:')):\n",
    "    print('Guess is correct')\n",
    "else:\n",
    "    print('Wrong guess')\n",
    "\n"
   ]
  },
  {
   "cell_type": "code",
   "execution_count": null,
   "id": "2c8baf5e-2645-4718-abd0-026c29489488",
   "metadata": {},
   "outputs": [],
   "source": [
    "# A store charges $12 per item if you buy less than 10 items. If you buy between 10 \n",
    "# and 99 items, the cost is $10 per item. If you buy 100 or more items, the cost is $7 \n",
    "# per item. Write a program that asks the user how many items they are buying and \n",
    "# prints the total cost. \n",
    "items = eval(input('Enter how many items they you buying'))\n",
    "if items >= 10 and items <= 99:\n",
    "    price = items*10\n",
    "    print(f'Total cost for {items} items is: {price} $')\n",
    "elif items >= 100:\n",
    "    price = items*7\n",
    "    print(f'Total cost for {items} items is: {price} $')\n",
    "else:\n",
    "    price = items*12\n",
    "    print(f'Total cost for {items} items is: {price} $')\n"
   ]
  },
  {
   "cell_type": "code",
   "execution_count": null,
   "id": "218ce488-0f6c-430f-a02a-207be46c94a9",
   "metadata": {},
   "outputs": [],
   "source": [
    "year=eval(input('Enter year: '))\n",
    "if year%2 == 0:\n",
    "    print('Leap')\n",
    "else:\n",
    "    print('Not Leap')"
   ]
  },
  {
   "cell_type": "code",
   "execution_count": 9,
   "id": "a75eb15a-7dab-474b-96bf-5eb1bd827010",
   "metadata": {},
   "outputs": [
    {
     "name": "stdin",
     "output_type": "stream",
     "text": [
      "Enter year:  1000\n"
     ]
    },
    {
     "name": "stdout",
     "output_type": "stream",
     "text": [
      "Leap Year\n"
     ]
    }
   ],
   "source": [
    "year=eval(input('Enter year: '))\n",
    "if year%4==0 or year%100==0 or year%400==0:\n",
    "    print('Leap Year')\n",
    "else:\n",
    "    print('Not Leap Year')"
   ]
  },
  {
   "cell_type": "code",
   "execution_count": null,
   "id": "4566e7fb-63ad-4ab4-9b44-de587d5a02bd",
   "metadata": {},
   "outputs": [],
   "source": []
  }
 ],
 "metadata": {
  "kernelspec": {
   "display_name": "Python 3 (ipykernel)",
   "language": "python",
   "name": "python3"
  },
  "language_info": {
   "codemirror_mode": {
    "name": "ipython",
    "version": 3
   },
   "file_extension": ".py",
   "mimetype": "text/x-python",
   "name": "python",
   "nbconvert_exporter": "python",
   "pygments_lexer": "ipython3",
   "version": "3.11.7"
  }
 },
 "nbformat": 4,
 "nbformat_minor": 5
}
